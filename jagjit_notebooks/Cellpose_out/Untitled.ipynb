{
 "cells": [
  {
   "cell_type": "code",
   "execution_count": null,
   "metadata": {},
   "outputs": [
    {
     "name": "stderr",
     "output_type": "stream",
     "text": [
      "/gpfs/commons/home/jsingh/PySeq2500/pyseq/image_analysis.py:955: RuntimeWarning: Failed to open Zarr store with consolidated metadata, falling back to try reading non-consolidated metadata. This is typically much slower for opening a dataset. To silence this warning, consider:\n",
      "1. Consolidating metadata in this existing store with zarr.consolidate_metadata().\n",
      "2. Explicitly setting consolidated=False, to avoid trying to read consolidate metadata, or\n",
      "3. Explicitly setting consolidated=True, to raise an error in this case instead of falling back to try reading non-consolidated metadata.\n",
      "  im = xr.open_zarr(fn).to_array()\n"
     ]
    },
    {
     "name": "stdout",
     "output_type": "stream",
     "text": [
      "ImageAnalysis::Opened m387ntga2 \n",
      "True\n",
      "0 one_z_plane_558_1_8028\n",
      "1 one_z_plane_558_2_8028\n"
     ]
    }
   ],
   "source": [
    "\n",
    "import zarr\n",
    "import numpy as np\n",
    "import anndata\n",
    "import scipy as sp\n",
    "import dask \n",
    "from dask.distributed import Client\n",
    "import xarray as xr\n",
    "import pyseq\n",
    "import skimage\n",
    "from pyseq import image_analysis as ia\n",
    "import torch\n",
    "import pickle\n",
    "\n",
    "\n",
    "\n",
    "\n",
    "labels = skimage.io.imread('m387ntga2_labels.tiff')\n",
    "im = ia.get_HiSeqImages(image_path = '/gpfs/commons/home/jsingh/zarrs/m387ntga2.zarr')\n",
    "\n",
    "print(torch.cuda.is_available())\n",
    "\n",
    "\n",
    "#format = one_z_plane_obj_step_channel_cycle\n",
    "array_object_list = []\n",
    "name_list = []\n",
    "for i in im.im['channel'].values:\n",
    "    for j in im.im['cycle'].values:\n",
    "        #for k #in im.im['obj_step'].values[1]:\n",
    "            k = 8028\n",
    "            nme = \"one_z_plane_\"+str(i)+\"_\"+str(j)+\"_\"+str(k)\n",
    "            name_list.append(nme)\n",
    "            nme = im.im.sel(obj_step = k, cycle=j, channel = i)\n",
    "            array_object_list.append(nme)\n",
    "\n",
    "\n",
    "\n",
    "\n",
    "\n",
    "\n",
    "\n",
    "mx = labels.max()\n",
    "\n",
    "\n",
    "\n",
    "\n",
    "def get_mean_intensity(pl):\n",
    "    result_ar = np.zeros(mx)\n",
    "    tr = torch.from_numpy(pl)\n",
    "    for r in range(mx):\n",
    "        result_ar[r] = (tr[lab == r+1]).float().mean()\n",
    "    return result_ar\n",
    "\n",
    "\n",
    "\n",
    "\n",
    "lab = torch.from_numpy(labels.astype('int'))\n",
    "plane_mean_dict = {}\n",
    "for i,nm in zip(range(len(array_object_list)),name_list):\n",
    "    print(i,nm)\n",
    "    pl = array_object_list[i].values\n",
    "    mean_int = get_mean_intensity(pl)\n",
    "    plane_mean_dict.update({nm:mean_int})\n",
    "    with open('intensities_m387ntga2_labels.pkl', 'wb') as f:\n",
    "        pickle.dump(plane_mean_dict, f)\n",
    "        \n"
   ]
  },
  {
   "cell_type": "code",
   "execution_count": null,
   "metadata": {},
   "outputs": [],
   "source": [
    "ls"
   ]
  },
  {
   "cell_type": "code",
   "execution_count": null,
   "metadata": {},
   "outputs": [],
   "source": [
    "ls"
   ]
  },
  {
   "cell_type": "code",
   "execution_count": null,
   "metadata": {},
   "outputs": [],
   "source": []
  }
 ],
 "metadata": {
  "kernelspec": {
   "display_name": "spatial",
   "language": "python",
   "name": "spatial"
  },
  "language_info": {
   "codemirror_mode": {
    "name": "ipython",
    "version": 3
   },
   "file_extension": ".py",
   "mimetype": "text/x-python",
   "name": "python",
   "nbconvert_exporter": "python",
   "pygments_lexer": "ipython3",
   "version": "3.9.12"
  }
 },
 "nbformat": 4,
 "nbformat_minor": 2
}
