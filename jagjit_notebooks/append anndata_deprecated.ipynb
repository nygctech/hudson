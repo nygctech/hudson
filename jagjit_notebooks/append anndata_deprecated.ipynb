{
 "cells": [
  {
   "cell_type": "code",
   "execution_count": 1,
   "metadata": {},
   "outputs": [],
   "source": [
    "#get anndata object from util file \n",
    "import dask.dataframe as dd\n",
    "import dask.array as da\n",
    "import dask.bag as db\n",
    "import squidpy as sq\n",
    "import numpy as np\n",
    "import matplotlib.pyplot as plt\n",
    "import skimage\n",
    "import anndata as ad\n",
    "import pandas as pd\n"
   ]
  },
  {
   "cell_type": "code",
   "execution_count": 3,
   "metadata": {},
   "outputs": [],
   "source": [
    "def return_anndata(path):\n",
    "    \n",
    "    img = skimage.io.imread(path)\n",
    "    ski_img = skimage.measure.regionprops(img)\n",
    "    df = pd.DataFrame(ski_img)\n",
    "    var_array = df.head(1).values\n",
    "    list_var = list(var_array.flatten())\n",
    "    lables = len(ski_img)\n",
    "    df = pd.DataFrame(index = list_var, columns = np.arange(1,lables,1))\n",
    "    \n",
    "    for ind in df.index:\n",
    "        for val in df.columns:\n",
    "            df.loc[ind,val] = getattr(ski_img[val],ind)\n",
    "            \n",
    "    for val in df.columns:\n",
    "        df.loc['bbox',val] = np.asarray(df.loc['bbox',val]).reshape(1,4)\n",
    "        \n",
    "        \n",
    "    for val in df.columns:\n",
    "        df.loc['centroid',val] = np.asarray(df.loc['centroid',val]).reshape(1,2)\n",
    "        \n",
    "        \n",
    "    for ind in df.index:\n",
    "        for val in df.columns:\n",
    "            if type(df.loc[ind,val]) == np.ndarray:\n",
    "                df.loc[ind,val] = df.loc[ind,val][~np.isnan(df.loc[ind,val])].flatten()\n",
    "                \n",
    "                \n",
    "                \n",
    "    scalar_list = ['area','area_bbox','area_convex','area_filled','axis_major_length','axis_minor_length',\n",
    "            'eccentricity', 'equivalent_diameter_area','euler_number','extent','feret_diameter_max',\n",
    "              'label','orientation','perimeter','perimeter_crofton','solidity'] \n",
    "    scalar_df = df.loc[['area','area_bbox','area_convex','area_filled','axis_major_length','axis_minor_length',\n",
    "            'eccentricity', 'equivalent_diameter_area','euler_number','extent','feret_diameter_max',\n",
    "              'label','orientation','perimeter','perimeter_crofton','solidity']]\n",
    "                   \n",
    "    multidim_list = ['bbox','centroid','centroid_local', 'coords', 'image', 'image_convex', 'image_filled',\n",
    "                'inertia_tensor', 'inertia_tensor_eigvals', 'moments', 'moments_central' ,'moments_hu',\n",
    "                'moments_normalized']\n",
    "    multidim_df = df.loc[['bbox','centroid','centroid_local', 'coords', 'image', 'image_convex', 'image_filled',\n",
    "                'inertia_tensor', 'inertia_tensor_eigvals', 'moments', 'moments_central' ,'moments_hu',\n",
    "                'moments_normalized']]\n",
    "    \n",
    "    \n",
    "    mt = multidim_df.transpose()\n",
    "    \n",
    "    X = scalar_df.T.values\n",
    "    adata = ad.AnnData(X)\n",
    "    adata.var_names = scalar_df.index\n",
    "    adata.obs_names = scalar_df.columns\n",
    "    adata.var = pd.DataFrame(index = scalar_list, columns = scalar_list)\n",
    "    adata.obs = pd.DataFrame(index = scalar_df.columns, columns = scalar_df.columns)\n",
    "    for col in mt.columns:\n",
    "        adata.obsm[col] = mt[col].values\n",
    "        \n",
    "    i = 0\n",
    "    for row in multidim_list:\n",
    "        adata.uns[row] = multidim_df.iloc[[i]].values.flatten()\n",
    "        i = i+1\n",
    "        \n",
    "    return adata\n",
    "    "
   ]
  },
  {
   "cell_type": "code",
   "execution_count": 4,
   "metadata": {},
   "outputs": [],
   "source": [
    "#loading dictionary \n",
    "import pickle \n",
    "with open('mean_intensities.pkl', 'rb') as f:\n",
    "    loaded_dict = pickle.load(f)"
   ]
  },
  {
   "cell_type": "code",
   "execution_count": 5,
   "metadata": {},
   "outputs": [],
   "source": [
    "def del_nan(arr):\n",
    "    del_list = []\n",
    "    mask = np.isnan(arr)\n",
    "    for m,v in zip(mask, range(len(mask))):\n",
    "        if m == True:\n",
    "            del_list.append(v)\n",
    "        \n",
    "    arr = np.delete(arr,del_list)\n",
    "    return(arr)\n",
    "    \n",
    "    \n",
    "    \n",
    "    "
   ]
  },
  {
   "cell_type": "code",
   "execution_count": 6,
   "metadata": {},
   "outputs": [
    {
     "ename": "NameError",
     "evalue": "name 'ar' is not defined",
     "output_type": "error",
     "traceback": [
      "\u001b[0;31m---------------------------------------------------------------------------\u001b[0m",
      "\u001b[0;31mNameError\u001b[0m                                 Traceback (most recent call last)",
      "Input \u001b[0;32mIn [6]\u001b[0m, in \u001b[0;36m<cell line: 1>\u001b[0;34m()\u001b[0m\n\u001b[0;32m----> 1\u001b[0m ar \u001b[38;5;241m=\u001b[39m del_nan(\u001b[43mar\u001b[49m)\n",
      "\u001b[0;31mNameError\u001b[0m: name 'ar' is not defined"
     ]
    }
   ],
   "source": [
    "ar = del_nan(ar)"
   ]
  },
  {
   "cell_type": "code",
   "execution_count": 76,
   "metadata": {},
   "outputs": [
    {
     "data": {
      "text/plain": [
       "dict_keys(['one_z_plane_558_1_8028', 'one_z_plane_558_2_8028', 'one_z_plane_558_3_8028', 'one_z_plane_558_4_8028', 'one_z_plane_610_1_8028', 'one_z_plane_610_2_8028', 'one_z_plane_610_3_8028', 'one_z_plane_610_4_8028', 'one_z_plane_687_1_8028', 'one_z_plane_687_2_8028', 'one_z_plane_687_3_8028', 'one_z_plane_687_4_8028', 'one_z_plane_740_1_8028', 'one_z_plane_740_2_8028', 'one_z_plane_740_3_8028', 'one_z_plane_740_4_8028'])"
      ]
     },
     "execution_count": 76,
     "metadata": {},
     "output_type": "execute_result"
    }
   ],
   "source": [
    "loaded_dict.keys()"
   ]
  },
  {
   "cell_type": "code",
   "execution_count": 77,
   "metadata": {},
   "outputs": [],
   "source": [
    "for key in loaded_dict.keys():\n",
    "    val = loaded_dict[key]\n",
    "    val = del_nan(val)\n",
    "    loaded_dict.update({key:val})\n",
    "        \n",
    "            "
   ]
  },
  {
   "cell_type": "code",
   "execution_count": 67,
   "metadata": {},
   "outputs": [],
   "source": [
    "ar = loaded_dict['one_z_plane_558_1_8028']"
   ]
  },
  {
   "cell_type": "code",
   "execution_count": 79,
   "metadata": {
    "scrolled": true
   },
   "outputs": [
    {
     "data": {
      "text/plain": [
       "11170"
      ]
     },
     "execution_count": 79,
     "metadata": {},
     "output_type": "execute_result"
    }
   ],
   "source": [
    "len(loaded_dict[key])"
   ]
  },
  {
   "cell_type": "code",
   "execution_count": 38,
   "metadata": {},
   "outputs": [],
   "source": [
    "del_list = []"
   ]
  },
  {
   "cell_type": "code",
   "execution_count": 42,
   "metadata": {},
   "outputs": [],
   "source": [
    "count = 0\n",
    "for m,v in zip(mask, range(len(mask))):\n",
    "    if m == True:\n",
    "        count += 1\n",
    "        del_list.append(v)\n",
    "                \n",
    "               "
   ]
  },
  {
   "cell_type": "code",
   "execution_count": 40,
   "metadata": {},
   "outputs": [],
   "source": [
    "mask = np.delete(mask, del_list)"
   ]
  },
  {
   "cell_type": "code",
   "execution_count": 54,
   "metadata": {},
   "outputs": [
    {
     "data": {
      "text/plain": [
       "11170"
      ]
     },
     "execution_count": 54,
     "metadata": {},
     "output_type": "execute_result"
    }
   ],
   "source": [
    "len(mask)"
   ]
  },
  {
   "cell_type": "markdown",
   "metadata": {},
   "source": [
    "df = pd.DataFrame(index = list_var, columns = np.arange(1,lables,1))\n",
    "df"
   ]
  },
  {
   "cell_type": "code",
   "execution_count": 46,
   "metadata": {},
   "outputs": [],
   "source": [
    "img = skimage.io.imread('/gpfs/commons/groups/nygcfaculty/PySeq/20210428_mouse_genotype_2/segmented_sections/m387ntga2_labels.tiff')\n",
    "ski_img = skimage.measure.regionprops(img)\n",
    "df = pd.DataFrame(ski_img)\n",
    "var_array = df.head(1).values\n",
    "list_var = list(var_array.flatten())\n",
    "lables = len(ski_img)"
   ]
  },
  {
   "cell_type": "code",
   "execution_count": 50,
   "metadata": {},
   "outputs": [
    {
     "data": {
      "text/plain": [
       "array([    1,     2,     3, ..., 11167, 11168, 11169])"
      ]
     },
     "execution_count": 50,
     "metadata": {},
     "output_type": "execute_result"
    }
   ],
   "source": [
    "np.arange(1,lables,1)"
   ]
  },
  {
   "cell_type": "code",
   "execution_count": 32,
   "metadata": {},
   "outputs": [
    {
     "data": {
      "text/html": [
       "<div>\n",
       "<style scoped>\n",
       "    .dataframe tbody tr th:only-of-type {\n",
       "        vertical-align: middle;\n",
       "    }\n",
       "\n",
       "    .dataframe tbody tr th {\n",
       "        vertical-align: top;\n",
       "    }\n",
       "\n",
       "    .dataframe thead th {\n",
       "        text-align: right;\n",
       "    }\n",
       "</style>\n",
       "<table border=\"1\" class=\"dataframe\">\n",
       "  <thead>\n",
       "    <tr style=\"text-align: right;\">\n",
       "      <th></th>\n",
       "      <th>0</th>\n",
       "      <th>1</th>\n",
       "      <th>2</th>\n",
       "      <th>3</th>\n",
       "      <th>4</th>\n",
       "      <th>5</th>\n",
       "      <th>6</th>\n",
       "      <th>7</th>\n",
       "      <th>8</th>\n",
       "      <th>9</th>\n",
       "      <th>...</th>\n",
       "      <th>20</th>\n",
       "      <th>21</th>\n",
       "      <th>22</th>\n",
       "      <th>23</th>\n",
       "      <th>24</th>\n",
       "      <th>25</th>\n",
       "      <th>26</th>\n",
       "      <th>27</th>\n",
       "      <th>28</th>\n",
       "      <th>29</th>\n",
       "    </tr>\n",
       "  </thead>\n",
       "  <tbody>\n",
       "    <tr>\n",
       "      <th>0</th>\n",
       "      <td>area</td>\n",
       "      <td>area_bbox</td>\n",
       "      <td>area_convex</td>\n",
       "      <td>area_filled</td>\n",
       "      <td>axis_major_length</td>\n",
       "      <td>axis_minor_length</td>\n",
       "      <td>bbox</td>\n",
       "      <td>centroid</td>\n",
       "      <td>centroid_local</td>\n",
       "      <td>coords</td>\n",
       "      <td>...</td>\n",
       "      <td>label</td>\n",
       "      <td>moments</td>\n",
       "      <td>moments_central</td>\n",
       "      <td>moments_hu</td>\n",
       "      <td>moments_normalized</td>\n",
       "      <td>orientation</td>\n",
       "      <td>perimeter</td>\n",
       "      <td>perimeter_crofton</td>\n",
       "      <td>slice</td>\n",
       "      <td>solidity</td>\n",
       "    </tr>\n",
       "    <tr>\n",
       "      <th>1</th>\n",
       "      <td>area</td>\n",
       "      <td>area_bbox</td>\n",
       "      <td>area_convex</td>\n",
       "      <td>area_filled</td>\n",
       "      <td>axis_major_length</td>\n",
       "      <td>axis_minor_length</td>\n",
       "      <td>bbox</td>\n",
       "      <td>centroid</td>\n",
       "      <td>centroid_local</td>\n",
       "      <td>coords</td>\n",
       "      <td>...</td>\n",
       "      <td>label</td>\n",
       "      <td>moments</td>\n",
       "      <td>moments_central</td>\n",
       "      <td>moments_hu</td>\n",
       "      <td>moments_normalized</td>\n",
       "      <td>orientation</td>\n",
       "      <td>perimeter</td>\n",
       "      <td>perimeter_crofton</td>\n",
       "      <td>slice</td>\n",
       "      <td>solidity</td>\n",
       "    </tr>\n",
       "    <tr>\n",
       "      <th>2</th>\n",
       "      <td>area</td>\n",
       "      <td>area_bbox</td>\n",
       "      <td>area_convex</td>\n",
       "      <td>area_filled</td>\n",
       "      <td>axis_major_length</td>\n",
       "      <td>axis_minor_length</td>\n",
       "      <td>bbox</td>\n",
       "      <td>centroid</td>\n",
       "      <td>centroid_local</td>\n",
       "      <td>coords</td>\n",
       "      <td>...</td>\n",
       "      <td>label</td>\n",
       "      <td>moments</td>\n",
       "      <td>moments_central</td>\n",
       "      <td>moments_hu</td>\n",
       "      <td>moments_normalized</td>\n",
       "      <td>orientation</td>\n",
       "      <td>perimeter</td>\n",
       "      <td>perimeter_crofton</td>\n",
       "      <td>slice</td>\n",
       "      <td>solidity</td>\n",
       "    </tr>\n",
       "    <tr>\n",
       "      <th>3</th>\n",
       "      <td>area</td>\n",
       "      <td>area_bbox</td>\n",
       "      <td>area_convex</td>\n",
       "      <td>area_filled</td>\n",
       "      <td>axis_major_length</td>\n",
       "      <td>axis_minor_length</td>\n",
       "      <td>bbox</td>\n",
       "      <td>centroid</td>\n",
       "      <td>centroid_local</td>\n",
       "      <td>coords</td>\n",
       "      <td>...</td>\n",
       "      <td>label</td>\n",
       "      <td>moments</td>\n",
       "      <td>moments_central</td>\n",
       "      <td>moments_hu</td>\n",
       "      <td>moments_normalized</td>\n",
       "      <td>orientation</td>\n",
       "      <td>perimeter</td>\n",
       "      <td>perimeter_crofton</td>\n",
       "      <td>slice</td>\n",
       "      <td>solidity</td>\n",
       "    </tr>\n",
       "    <tr>\n",
       "      <th>4</th>\n",
       "      <td>area</td>\n",
       "      <td>area_bbox</td>\n",
       "      <td>area_convex</td>\n",
       "      <td>area_filled</td>\n",
       "      <td>axis_major_length</td>\n",
       "      <td>axis_minor_length</td>\n",
       "      <td>bbox</td>\n",
       "      <td>centroid</td>\n",
       "      <td>centroid_local</td>\n",
       "      <td>coords</td>\n",
       "      <td>...</td>\n",
       "      <td>label</td>\n",
       "      <td>moments</td>\n",
       "      <td>moments_central</td>\n",
       "      <td>moments_hu</td>\n",
       "      <td>moments_normalized</td>\n",
       "      <td>orientation</td>\n",
       "      <td>perimeter</td>\n",
       "      <td>perimeter_crofton</td>\n",
       "      <td>slice</td>\n",
       "      <td>solidity</td>\n",
       "    </tr>\n",
       "    <tr>\n",
       "      <th>...</th>\n",
       "      <td>...</td>\n",
       "      <td>...</td>\n",
       "      <td>...</td>\n",
       "      <td>...</td>\n",
       "      <td>...</td>\n",
       "      <td>...</td>\n",
       "      <td>...</td>\n",
       "      <td>...</td>\n",
       "      <td>...</td>\n",
       "      <td>...</td>\n",
       "      <td>...</td>\n",
       "      <td>...</td>\n",
       "      <td>...</td>\n",
       "      <td>...</td>\n",
       "      <td>...</td>\n",
       "      <td>...</td>\n",
       "      <td>...</td>\n",
       "      <td>...</td>\n",
       "      <td>...</td>\n",
       "      <td>...</td>\n",
       "      <td>...</td>\n",
       "    </tr>\n",
       "    <tr>\n",
       "      <th>11165</th>\n",
       "      <td>area</td>\n",
       "      <td>area_bbox</td>\n",
       "      <td>area_convex</td>\n",
       "      <td>area_filled</td>\n",
       "      <td>axis_major_length</td>\n",
       "      <td>axis_minor_length</td>\n",
       "      <td>bbox</td>\n",
       "      <td>centroid</td>\n",
       "      <td>centroid_local</td>\n",
       "      <td>coords</td>\n",
       "      <td>...</td>\n",
       "      <td>label</td>\n",
       "      <td>moments</td>\n",
       "      <td>moments_central</td>\n",
       "      <td>moments_hu</td>\n",
       "      <td>moments_normalized</td>\n",
       "      <td>orientation</td>\n",
       "      <td>perimeter</td>\n",
       "      <td>perimeter_crofton</td>\n",
       "      <td>slice</td>\n",
       "      <td>solidity</td>\n",
       "    </tr>\n",
       "    <tr>\n",
       "      <th>11166</th>\n",
       "      <td>area</td>\n",
       "      <td>area_bbox</td>\n",
       "      <td>area_convex</td>\n",
       "      <td>area_filled</td>\n",
       "      <td>axis_major_length</td>\n",
       "      <td>axis_minor_length</td>\n",
       "      <td>bbox</td>\n",
       "      <td>centroid</td>\n",
       "      <td>centroid_local</td>\n",
       "      <td>coords</td>\n",
       "      <td>...</td>\n",
       "      <td>label</td>\n",
       "      <td>moments</td>\n",
       "      <td>moments_central</td>\n",
       "      <td>moments_hu</td>\n",
       "      <td>moments_normalized</td>\n",
       "      <td>orientation</td>\n",
       "      <td>perimeter</td>\n",
       "      <td>perimeter_crofton</td>\n",
       "      <td>slice</td>\n",
       "      <td>solidity</td>\n",
       "    </tr>\n",
       "    <tr>\n",
       "      <th>11167</th>\n",
       "      <td>area</td>\n",
       "      <td>area_bbox</td>\n",
       "      <td>area_convex</td>\n",
       "      <td>area_filled</td>\n",
       "      <td>axis_major_length</td>\n",
       "      <td>axis_minor_length</td>\n",
       "      <td>bbox</td>\n",
       "      <td>centroid</td>\n",
       "      <td>centroid_local</td>\n",
       "      <td>coords</td>\n",
       "      <td>...</td>\n",
       "      <td>label</td>\n",
       "      <td>moments</td>\n",
       "      <td>moments_central</td>\n",
       "      <td>moments_hu</td>\n",
       "      <td>moments_normalized</td>\n",
       "      <td>orientation</td>\n",
       "      <td>perimeter</td>\n",
       "      <td>perimeter_crofton</td>\n",
       "      <td>slice</td>\n",
       "      <td>solidity</td>\n",
       "    </tr>\n",
       "    <tr>\n",
       "      <th>11168</th>\n",
       "      <td>area</td>\n",
       "      <td>area_bbox</td>\n",
       "      <td>area_convex</td>\n",
       "      <td>area_filled</td>\n",
       "      <td>axis_major_length</td>\n",
       "      <td>axis_minor_length</td>\n",
       "      <td>bbox</td>\n",
       "      <td>centroid</td>\n",
       "      <td>centroid_local</td>\n",
       "      <td>coords</td>\n",
       "      <td>...</td>\n",
       "      <td>label</td>\n",
       "      <td>moments</td>\n",
       "      <td>moments_central</td>\n",
       "      <td>moments_hu</td>\n",
       "      <td>moments_normalized</td>\n",
       "      <td>orientation</td>\n",
       "      <td>perimeter</td>\n",
       "      <td>perimeter_crofton</td>\n",
       "      <td>slice</td>\n",
       "      <td>solidity</td>\n",
       "    </tr>\n",
       "    <tr>\n",
       "      <th>11169</th>\n",
       "      <td>area</td>\n",
       "      <td>area_bbox</td>\n",
       "      <td>area_convex</td>\n",
       "      <td>area_filled</td>\n",
       "      <td>axis_major_length</td>\n",
       "      <td>axis_minor_length</td>\n",
       "      <td>bbox</td>\n",
       "      <td>centroid</td>\n",
       "      <td>centroid_local</td>\n",
       "      <td>coords</td>\n",
       "      <td>...</td>\n",
       "      <td>label</td>\n",
       "      <td>moments</td>\n",
       "      <td>moments_central</td>\n",
       "      <td>moments_hu</td>\n",
       "      <td>moments_normalized</td>\n",
       "      <td>orientation</td>\n",
       "      <td>perimeter</td>\n",
       "      <td>perimeter_crofton</td>\n",
       "      <td>slice</td>\n",
       "      <td>solidity</td>\n",
       "    </tr>\n",
       "  </tbody>\n",
       "</table>\n",
       "<p>11170 rows × 30 columns</p>\n",
       "</div>"
      ],
      "text/plain": [
       "         0          1            2            3                  4   \\\n",
       "0      area  area_bbox  area_convex  area_filled  axis_major_length   \n",
       "1      area  area_bbox  area_convex  area_filled  axis_major_length   \n",
       "2      area  area_bbox  area_convex  area_filled  axis_major_length   \n",
       "3      area  area_bbox  area_convex  area_filled  axis_major_length   \n",
       "4      area  area_bbox  area_convex  area_filled  axis_major_length   \n",
       "...     ...        ...          ...          ...                ...   \n",
       "11165  area  area_bbox  area_convex  area_filled  axis_major_length   \n",
       "11166  area  area_bbox  area_convex  area_filled  axis_major_length   \n",
       "11167  area  area_bbox  area_convex  area_filled  axis_major_length   \n",
       "11168  area  area_bbox  area_convex  area_filled  axis_major_length   \n",
       "11169  area  area_bbox  area_convex  area_filled  axis_major_length   \n",
       "\n",
       "                      5     6         7               8       9   ...     20  \\\n",
       "0      axis_minor_length  bbox  centroid  centroid_local  coords  ...  label   \n",
       "1      axis_minor_length  bbox  centroid  centroid_local  coords  ...  label   \n",
       "2      axis_minor_length  bbox  centroid  centroid_local  coords  ...  label   \n",
       "3      axis_minor_length  bbox  centroid  centroid_local  coords  ...  label   \n",
       "4      axis_minor_length  bbox  centroid  centroid_local  coords  ...  label   \n",
       "...                  ...   ...       ...             ...     ...  ...    ...   \n",
       "11165  axis_minor_length  bbox  centroid  centroid_local  coords  ...  label   \n",
       "11166  axis_minor_length  bbox  centroid  centroid_local  coords  ...  label   \n",
       "11167  axis_minor_length  bbox  centroid  centroid_local  coords  ...  label   \n",
       "11168  axis_minor_length  bbox  centroid  centroid_local  coords  ...  label   \n",
       "11169  axis_minor_length  bbox  centroid  centroid_local  coords  ...  label   \n",
       "\n",
       "            21               22          23                  24           25  \\\n",
       "0      moments  moments_central  moments_hu  moments_normalized  orientation   \n",
       "1      moments  moments_central  moments_hu  moments_normalized  orientation   \n",
       "2      moments  moments_central  moments_hu  moments_normalized  orientation   \n",
       "3      moments  moments_central  moments_hu  moments_normalized  orientation   \n",
       "4      moments  moments_central  moments_hu  moments_normalized  orientation   \n",
       "...        ...              ...         ...                 ...          ...   \n",
       "11165  moments  moments_central  moments_hu  moments_normalized  orientation   \n",
       "11166  moments  moments_central  moments_hu  moments_normalized  orientation   \n",
       "11167  moments  moments_central  moments_hu  moments_normalized  orientation   \n",
       "11168  moments  moments_central  moments_hu  moments_normalized  orientation   \n",
       "11169  moments  moments_central  moments_hu  moments_normalized  orientation   \n",
       "\n",
       "              26                 27     28        29  \n",
       "0      perimeter  perimeter_crofton  slice  solidity  \n",
       "1      perimeter  perimeter_crofton  slice  solidity  \n",
       "2      perimeter  perimeter_crofton  slice  solidity  \n",
       "3      perimeter  perimeter_crofton  slice  solidity  \n",
       "4      perimeter  perimeter_crofton  slice  solidity  \n",
       "...          ...                ...    ...       ...  \n",
       "11165  perimeter  perimeter_crofton  slice  solidity  \n",
       "11166  perimeter  perimeter_crofton  slice  solidity  \n",
       "11167  perimeter  perimeter_crofton  slice  solidity  \n",
       "11168  perimeter  perimeter_crofton  slice  solidity  \n",
       "11169  perimeter  perimeter_crofton  slice  solidity  \n",
       "\n",
       "[11170 rows x 30 columns]"
      ]
     },
     "execution_count": 32,
     "metadata": {},
     "output_type": "execute_result"
    }
   ],
   "source": [
    "df"
   ]
  },
  {
   "cell_type": "code",
   "execution_count": 52,
   "metadata": {},
   "outputs": [
    {
     "data": {
      "text/plain": [
       "11170"
      ]
     },
     "execution_count": 52,
     "metadata": {},
     "output_type": "execute_result"
    }
   ],
   "source": [
    "lables"
   ]
  },
  {
   "cell_type": "code",
   "execution_count": 7,
   "metadata": {},
   "outputs": [
    {
     "name": "stderr",
     "output_type": "stream",
     "text": [
      "/gpfs/commons/home/jsingh/.conda/envs/spatial/lib/python3.9/site-packages/anndata/_core/anndata.py:875: UserWarning: \n",
      "AnnData expects .obs.index to contain strings, but got values like:\n",
      "    [1, 2, 3, 4, 5]\n",
      "\n",
      "    Inferred to be: integer\n",
      "\n",
      "  names = self._prep_dim_index(names, \"obs\")\n",
      "/gpfs/commons/home/jsingh/.conda/envs/spatial/lib/python3.9/site-packages/anndata/_core/anndata.py:801: UserWarning: \n",
      "AnnData expects .obs.index to contain strings, but got values like:\n",
      "    [1, 2, 3, 4, 5]\n",
      "\n",
      "    Inferred to be: integer\n",
      "\n",
      "  value_idx = self._prep_dim_index(value.index, attr)\n"
     ]
    }
   ],
   "source": [
    "ad_object = return_anndata('/gpfs/commons/groups/nygcfaculty/PySeq/20210428_mouse_genotype_2/segmented_sections/m387ntga2_labels.tiff')"
   ]
  },
  {
   "cell_type": "code",
   "execution_count": null,
   "metadata": {},
   "outputs": [],
   "source": [
    "ad_object.var_names"
   ]
  },
  {
   "cell_type": "code",
   "execution_count": null,
   "metadata": {},
   "outputs": [],
   "source": [
    "ad_object.obs_names"
   ]
  },
  {
   "cell_type": "code",
   "execution_count": null,
   "metadata": {},
   "outputs": [],
   "source": [
    "loaded_dict.keys()"
   ]
  },
  {
   "cell_type": "code",
   "execution_count": 12,
   "metadata": {},
   "outputs": [],
   "source": [
    "ad_object.uns[\"mean_label_intensity\"] = loaded_dict #Add intensity dict as unstructured metadata"
   ]
  },
  {
   "cell_type": "code",
   "execution_count": 12,
   "metadata": {},
   "outputs": [
    {
     "ename": "TypeError",
     "evalue": "expected unicode string, found nan\n\nAbove error raised while writing key '1' of <class 'zarr.hierarchy.Group'> from <zarr.storage.DirectoryStore object at 0x7f0bbed1a640>.\n\nAbove error raised while writing key 'obs' of <class 'zarr.hierarchy.Group'> from <zarr.storage.DirectoryStore object at 0x7f0bbed1a640>.",
     "output_type": "error",
     "traceback": [
      "\u001b[0;31m---------------------------------------------------------------------------\u001b[0m",
      "\u001b[0;31mTypeError\u001b[0m                                 Traceback (most recent call last)",
      "File \u001b[0;32m~/.conda/envs/spatial/lib/python3.9/site-packages/anndata/_io/utils.py:209\u001b[0m, in \u001b[0;36mreport_write_key_on_error.<locals>.func_wrapper\u001b[0;34m(elem, key, val, *args, **kwargs)\u001b[0m\n\u001b[1;32m    208\u001b[0m \u001b[38;5;28;01mtry\u001b[39;00m:\n\u001b[0;32m--> 209\u001b[0m     \u001b[38;5;28;01mreturn\u001b[39;00m \u001b[43mfunc\u001b[49m\u001b[43m(\u001b[49m\u001b[43melem\u001b[49m\u001b[43m,\u001b[49m\u001b[43m \u001b[49m\u001b[43mkey\u001b[49m\u001b[43m,\u001b[49m\u001b[43m \u001b[49m\u001b[43mval\u001b[49m\u001b[43m,\u001b[49m\u001b[43m \u001b[49m\u001b[38;5;241;43m*\u001b[39;49m\u001b[43margs\u001b[49m\u001b[43m,\u001b[49m\u001b[43m \u001b[49m\u001b[38;5;241;43m*\u001b[39;49m\u001b[38;5;241;43m*\u001b[39;49m\u001b[43mkwargs\u001b[49m\u001b[43m)\u001b[49m\n\u001b[1;32m    210\u001b[0m \u001b[38;5;28;01mexcept\u001b[39;00m \u001b[38;5;167;01mException\u001b[39;00m \u001b[38;5;28;01mas\u001b[39;00m e:\n",
      "File \u001b[0;32m~/.conda/envs/spatial/lib/python3.9/site-packages/anndata/_io/zarr.py:121\u001b[0m, in \u001b[0;36mwrite_series\u001b[0;34m(group, key, series, dataset_kwargs)\u001b[0m\n\u001b[1;32m    114\u001b[0m     group\u001b[38;5;241m.\u001b[39mcreate_dataset(\n\u001b[1;32m    115\u001b[0m         key,\n\u001b[1;32m    116\u001b[0m         shape\u001b[38;5;241m=\u001b[39mseries\u001b[38;5;241m.\u001b[39mshape,\n\u001b[0;32m   (...)\u001b[0m\n\u001b[1;32m    119\u001b[0m         \u001b[38;5;241m*\u001b[39m\u001b[38;5;241m*\u001b[39mdataset_kwargs,\n\u001b[1;32m    120\u001b[0m     )\n\u001b[0;32m--> 121\u001b[0m     group[key][:] \u001b[38;5;241m=\u001b[39m series\u001b[38;5;241m.\u001b[39mvalues\n\u001b[1;32m    122\u001b[0m \u001b[38;5;28;01melif\u001b[39;00m is_categorical_dtype(series):\n\u001b[1;32m    123\u001b[0m     \u001b[38;5;66;03m# This should work for categorical Index and Series\u001b[39;00m\n",
      "File \u001b[0;32m~/.conda/envs/spatial/lib/python3.9/site-packages/zarr/core.py:1224\u001b[0m, in \u001b[0;36mArray.__setitem__\u001b[0;34m(self, selection, value)\u001b[0m\n\u001b[1;32m   1223\u001b[0m fields, selection \u001b[38;5;241m=\u001b[39m pop_fields(selection)\n\u001b[0;32m-> 1224\u001b[0m \u001b[38;5;28;43mself\u001b[39;49m\u001b[38;5;241;43m.\u001b[39;49m\u001b[43mset_basic_selection\u001b[49m\u001b[43m(\u001b[49m\u001b[43mselection\u001b[49m\u001b[43m,\u001b[49m\u001b[43m \u001b[49m\u001b[43mvalue\u001b[49m\u001b[43m,\u001b[49m\u001b[43m \u001b[49m\u001b[43mfields\u001b[49m\u001b[38;5;241;43m=\u001b[39;49m\u001b[43mfields\u001b[49m\u001b[43m)\u001b[49m\n",
      "File \u001b[0;32m~/.conda/envs/spatial/lib/python3.9/site-packages/zarr/core.py:1319\u001b[0m, in \u001b[0;36mArray.set_basic_selection\u001b[0;34m(self, selection, value, fields)\u001b[0m\n\u001b[1;32m   1318\u001b[0m \u001b[38;5;28;01melse\u001b[39;00m:\n\u001b[0;32m-> 1319\u001b[0m     \u001b[38;5;28;01mreturn\u001b[39;00m \u001b[38;5;28;43mself\u001b[39;49m\u001b[38;5;241;43m.\u001b[39;49m\u001b[43m_set_basic_selection_nd\u001b[49m\u001b[43m(\u001b[49m\u001b[43mselection\u001b[49m\u001b[43m,\u001b[49m\u001b[43m \u001b[49m\u001b[43mvalue\u001b[49m\u001b[43m,\u001b[49m\u001b[43m \u001b[49m\u001b[43mfields\u001b[49m\u001b[38;5;241;43m=\u001b[39;49m\u001b[43mfields\u001b[49m\u001b[43m)\u001b[49m\n",
      "File \u001b[0;32m~/.conda/envs/spatial/lib/python3.9/site-packages/zarr/core.py:1610\u001b[0m, in \u001b[0;36mArray._set_basic_selection_nd\u001b[0;34m(self, selection, value, fields)\u001b[0m\n\u001b[1;32m   1608\u001b[0m indexer \u001b[38;5;241m=\u001b[39m BasicIndexer(selection, \u001b[38;5;28mself\u001b[39m)\n\u001b[0;32m-> 1610\u001b[0m \u001b[38;5;28;43mself\u001b[39;49m\u001b[38;5;241;43m.\u001b[39;49m\u001b[43m_set_selection\u001b[49m\u001b[43m(\u001b[49m\u001b[43mindexer\u001b[49m\u001b[43m,\u001b[49m\u001b[43m \u001b[49m\u001b[43mvalue\u001b[49m\u001b[43m,\u001b[49m\u001b[43m \u001b[49m\u001b[43mfields\u001b[49m\u001b[38;5;241;43m=\u001b[39;49m\u001b[43mfields\u001b[49m\u001b[43m)\u001b[49m\n",
      "File \u001b[0;32m~/.conda/envs/spatial/lib/python3.9/site-packages/zarr/core.py:1662\u001b[0m, in \u001b[0;36mArray._set_selection\u001b[0;34m(self, indexer, value, fields)\u001b[0m\n\u001b[1;32m   1661\u001b[0m         \u001b[38;5;66;03m# put data\u001b[39;00m\n\u001b[0;32m-> 1662\u001b[0m         \u001b[38;5;28;43mself\u001b[39;49m\u001b[38;5;241;43m.\u001b[39;49m\u001b[43m_chunk_setitem\u001b[49m\u001b[43m(\u001b[49m\u001b[43mchunk_coords\u001b[49m\u001b[43m,\u001b[49m\u001b[43m \u001b[49m\u001b[43mchunk_selection\u001b[49m\u001b[43m,\u001b[49m\u001b[43m \u001b[49m\u001b[43mchunk_value\u001b[49m\u001b[43m,\u001b[49m\u001b[43m \u001b[49m\u001b[43mfields\u001b[49m\u001b[38;5;241;43m=\u001b[39;49m\u001b[43mfields\u001b[49m\u001b[43m)\u001b[49m\n\u001b[1;32m   1663\u001b[0m \u001b[38;5;28;01melse\u001b[39;00m:\n",
      "File \u001b[0;32m~/.conda/envs/spatial/lib/python3.9/site-packages/zarr/core.py:1899\u001b[0m, in \u001b[0;36mArray._chunk_setitem\u001b[0;34m(self, chunk_coords, chunk_selection, value, fields)\u001b[0m\n\u001b[1;32m   1898\u001b[0m \u001b[38;5;28;01mwith\u001b[39;00m lock:\n\u001b[0;32m-> 1899\u001b[0m     \u001b[38;5;28;43mself\u001b[39;49m\u001b[38;5;241;43m.\u001b[39;49m\u001b[43m_chunk_setitem_nosync\u001b[49m\u001b[43m(\u001b[49m\u001b[43mchunk_coords\u001b[49m\u001b[43m,\u001b[49m\u001b[43m \u001b[49m\u001b[43mchunk_selection\u001b[49m\u001b[43m,\u001b[49m\u001b[43m \u001b[49m\u001b[43mvalue\u001b[49m\u001b[43m,\u001b[49m\n\u001b[1;32m   1900\u001b[0m \u001b[43m                               \u001b[49m\u001b[43mfields\u001b[49m\u001b[38;5;241;43m=\u001b[39;49m\u001b[43mfields\u001b[49m\u001b[43m)\u001b[49m\n",
      "File \u001b[0;32m~/.conda/envs/spatial/lib/python3.9/site-packages/zarr/core.py:1904\u001b[0m, in \u001b[0;36mArray._chunk_setitem_nosync\u001b[0;34m(self, chunk_coords, chunk_selection, value, fields)\u001b[0m\n\u001b[1;32m   1903\u001b[0m ckey \u001b[38;5;241m=\u001b[39m \u001b[38;5;28mself\u001b[39m\u001b[38;5;241m.\u001b[39m_chunk_key(chunk_coords)\n\u001b[0;32m-> 1904\u001b[0m cdata \u001b[38;5;241m=\u001b[39m \u001b[38;5;28;43mself\u001b[39;49m\u001b[38;5;241;43m.\u001b[39;49m\u001b[43m_process_for_setitem\u001b[49m\u001b[43m(\u001b[49m\u001b[43mckey\u001b[49m\u001b[43m,\u001b[49m\u001b[43m \u001b[49m\u001b[43mchunk_selection\u001b[49m\u001b[43m,\u001b[49m\u001b[43m \u001b[49m\u001b[43mvalue\u001b[49m\u001b[43m,\u001b[49m\u001b[43m \u001b[49m\u001b[43mfields\u001b[49m\u001b[38;5;241;43m=\u001b[39;49m\u001b[43mfields\u001b[49m\u001b[43m)\u001b[49m\n\u001b[1;32m   1905\u001b[0m \u001b[38;5;66;03m# store\u001b[39;00m\n",
      "File \u001b[0;32m~/.conda/envs/spatial/lib/python3.9/site-packages/zarr/core.py:1963\u001b[0m, in \u001b[0;36mArray._process_for_setitem\u001b[0;34m(self, ckey, chunk_selection, value, fields)\u001b[0m\n\u001b[1;32m   1962\u001b[0m \u001b[38;5;66;03m# encode chunk\u001b[39;00m\n\u001b[0;32m-> 1963\u001b[0m \u001b[38;5;28;01mreturn\u001b[39;00m \u001b[38;5;28;43mself\u001b[39;49m\u001b[38;5;241;43m.\u001b[39;49m\u001b[43m_encode_chunk\u001b[49m\u001b[43m(\u001b[49m\u001b[43mchunk\u001b[49m\u001b[43m)\u001b[49m\n",
      "File \u001b[0;32m~/.conda/envs/spatial/lib/python3.9/site-packages/zarr/core.py:2012\u001b[0m, in \u001b[0;36mArray._encode_chunk\u001b[0;34m(self, chunk)\u001b[0m\n\u001b[1;32m   2011\u001b[0m     \u001b[38;5;28;01mfor\u001b[39;00m f \u001b[38;5;129;01min\u001b[39;00m \u001b[38;5;28mself\u001b[39m\u001b[38;5;241m.\u001b[39m_filters:\n\u001b[0;32m-> 2012\u001b[0m         chunk \u001b[38;5;241m=\u001b[39m \u001b[43mf\u001b[49m\u001b[38;5;241;43m.\u001b[39;49m\u001b[43mencode\u001b[49m\u001b[43m(\u001b[49m\u001b[43mchunk\u001b[49m\u001b[43m)\u001b[49m\n\u001b[1;32m   2014\u001b[0m \u001b[38;5;66;03m# check object encoding\u001b[39;00m\n",
      "File \u001b[0;32mnumcodecs/vlen.pyx:106\u001b[0m, in \u001b[0;36mnumcodecs.vlen.VLenUTF8.encode\u001b[0;34m()\u001b[0m\n",
      "\u001b[0;31mTypeError\u001b[0m: expected unicode string, found nan",
      "\nThe above exception was the direct cause of the following exception:\n",
      "\u001b[0;31mTypeError\u001b[0m                                 Traceback (most recent call last)",
      "File \u001b[0;32m~/.conda/envs/spatial/lib/python3.9/site-packages/anndata/_io/utils.py:209\u001b[0m, in \u001b[0;36mreport_write_key_on_error.<locals>.func_wrapper\u001b[0;34m(elem, key, val, *args, **kwargs)\u001b[0m\n\u001b[1;32m    208\u001b[0m \u001b[38;5;28;01mtry\u001b[39;00m:\n\u001b[0;32m--> 209\u001b[0m     \u001b[38;5;28;01mreturn\u001b[39;00m \u001b[43mfunc\u001b[49m\u001b[43m(\u001b[49m\u001b[43melem\u001b[49m\u001b[43m,\u001b[49m\u001b[43m \u001b[49m\u001b[43mkey\u001b[49m\u001b[43m,\u001b[49m\u001b[43m \u001b[49m\u001b[43mval\u001b[49m\u001b[43m,\u001b[49m\u001b[43m \u001b[49m\u001b[38;5;241;43m*\u001b[39;49m\u001b[43margs\u001b[49m\u001b[43m,\u001b[49m\u001b[43m \u001b[49m\u001b[38;5;241;43m*\u001b[39;49m\u001b[38;5;241;43m*\u001b[39;49m\u001b[43mkwargs\u001b[49m\u001b[43m)\u001b[49m\n\u001b[1;32m    210\u001b[0m \u001b[38;5;28;01mexcept\u001b[39;00m \u001b[38;5;167;01mException\u001b[39;00m \u001b[38;5;28;01mas\u001b[39;00m e:\n",
      "File \u001b[0;32m~/.conda/envs/spatial/lib/python3.9/site-packages/anndata/_io/zarr.py:108\u001b[0m, in \u001b[0;36mwrite_dataframe\u001b[0;34m(z, key, df, dataset_kwargs)\u001b[0m\n\u001b[1;32m    107\u001b[0m \u001b[38;5;28;01mfor\u001b[39;00m col_name, (_, series) \u001b[38;5;129;01min\u001b[39;00m \u001b[38;5;28mzip\u001b[39m(col_names, df\u001b[38;5;241m.\u001b[39mitems()):\n\u001b[0;32m--> 108\u001b[0m     \u001b[43mwrite_series\u001b[49m\u001b[43m(\u001b[49m\u001b[43mgroup\u001b[49m\u001b[43m,\u001b[49m\u001b[43m \u001b[49m\u001b[43mcol_name\u001b[49m\u001b[43m,\u001b[49m\u001b[43m \u001b[49m\u001b[43mseries\u001b[49m\u001b[43m,\u001b[49m\u001b[43m \u001b[49m\u001b[43mdataset_kwargs\u001b[49m\u001b[43m)\u001b[49m\n",
      "File \u001b[0;32m~/.conda/envs/spatial/lib/python3.9/site-packages/anndata/_io/utils.py:212\u001b[0m, in \u001b[0;36mreport_write_key_on_error.<locals>.func_wrapper\u001b[0;34m(elem, key, val, *args, **kwargs)\u001b[0m\n\u001b[1;32m    211\u001b[0m parent \u001b[38;5;241m=\u001b[39m _get_parent(elem)\n\u001b[0;32m--> 212\u001b[0m \u001b[38;5;28;01mraise\u001b[39;00m \u001b[38;5;28mtype\u001b[39m(e)(\n\u001b[1;32m    213\u001b[0m     \u001b[38;5;124mf\u001b[39m\u001b[38;5;124m\"\u001b[39m\u001b[38;5;132;01m{\u001b[39;00me\u001b[38;5;132;01m}\u001b[39;00m\u001b[38;5;130;01m\\n\u001b[39;00m\u001b[38;5;130;01m\\n\u001b[39;00m\u001b[38;5;124m\"\u001b[39m\n\u001b[1;32m    214\u001b[0m     \u001b[38;5;124mf\u001b[39m\u001b[38;5;124m\"\u001b[39m\u001b[38;5;124mAbove error raised while writing key \u001b[39m\u001b[38;5;132;01m{\u001b[39;00mkey\u001b[38;5;132;01m!r}\u001b[39;00m\u001b[38;5;124m of \u001b[39m\u001b[38;5;132;01m{\u001b[39;00m\u001b[38;5;28mtype\u001b[39m(elem)\u001b[38;5;132;01m}\u001b[39;00m\u001b[38;5;124m\"\u001b[39m\n\u001b[1;32m    215\u001b[0m     \u001b[38;5;124mf\u001b[39m\u001b[38;5;124m\"\u001b[39m\u001b[38;5;124m from \u001b[39m\u001b[38;5;132;01m{\u001b[39;00mparent\u001b[38;5;132;01m}\u001b[39;00m\u001b[38;5;124m.\u001b[39m\u001b[38;5;124m\"\u001b[39m\n\u001b[1;32m    216\u001b[0m ) \u001b[38;5;28;01mfrom\u001b[39;00m \u001b[38;5;21;01me\u001b[39;00m\n",
      "\u001b[0;31mTypeError\u001b[0m: expected unicode string, found nan\n\nAbove error raised while writing key '1' of <class 'zarr.hierarchy.Group'> from <zarr.storage.DirectoryStore object at 0x7f0bbed1a640>.",
      "\nThe above exception was the direct cause of the following exception:\n",
      "\u001b[0;31mTypeError\u001b[0m                                 Traceback (most recent call last)",
      "Input \u001b[0;32mIn [12]\u001b[0m, in \u001b[0;36m<cell line: 1>\u001b[0;34m()\u001b[0m\n\u001b[0;32m----> 1\u001b[0m \u001b[43mad_object\u001b[49m\u001b[38;5;241;43m.\u001b[39;49m\u001b[43mwrite_zarr\u001b[49m\u001b[43m(\u001b[49m\u001b[38;5;124;43m'\u001b[39;49m\u001b[38;5;124;43mtest.zarr\u001b[39;49m\u001b[38;5;124;43m'\u001b[39;49m\u001b[43m)\u001b[49m\n",
      "File \u001b[0;32m~/.conda/envs/spatial/lib/python3.9/site-packages/anndata/_core/anndata.py:1976\u001b[0m, in \u001b[0;36mAnnData.write_zarr\u001b[0;34m(self, store, chunks)\u001b[0m\n\u001b[1;32m   1964\u001b[0m \u001b[38;5;124;03m\"\"\"\\\u001b[39;00m\n\u001b[1;32m   1965\u001b[0m \u001b[38;5;124;03mWrite a hierarchical Zarr array store.\u001b[39;00m\n\u001b[1;32m   1966\u001b[0m \n\u001b[0;32m   (...)\u001b[0m\n\u001b[1;32m   1972\u001b[0m \u001b[38;5;124;03m    Chunk shape.\u001b[39;00m\n\u001b[1;32m   1973\u001b[0m \u001b[38;5;124;03m\"\"\"\u001b[39;00m\n\u001b[1;32m   1974\u001b[0m \u001b[38;5;28;01mfrom\u001b[39;00m \u001b[38;5;21;01m.\u001b[39;00m\u001b[38;5;21;01m.\u001b[39;00m\u001b[38;5;21;01m_io\u001b[39;00m\u001b[38;5;21;01m.\u001b[39;00m\u001b[38;5;21;01mwrite\u001b[39;00m \u001b[38;5;28;01mimport\u001b[39;00m write_zarr\n\u001b[0;32m-> 1976\u001b[0m \u001b[43mwrite_zarr\u001b[49m\u001b[43m(\u001b[49m\u001b[43mstore\u001b[49m\u001b[43m,\u001b[49m\u001b[43m \u001b[49m\u001b[38;5;28;43mself\u001b[39;49m\u001b[43m,\u001b[49m\u001b[43m \u001b[49m\u001b[43mchunks\u001b[49m\u001b[38;5;241;43m=\u001b[39;49m\u001b[43mchunks\u001b[49m\u001b[43m)\u001b[49m\n",
      "File \u001b[0;32m~/.conda/envs/spatial/lib/python3.9/site-packages/anndata/_io/zarr.py:52\u001b[0m, in \u001b[0;36mwrite_zarr\u001b[0;34m(store, adata, chunks, **dataset_kwargs)\u001b[0m\n\u001b[1;32m     50\u001b[0m \u001b[38;5;28;01melse\u001b[39;00m:\n\u001b[1;32m     51\u001b[0m     write_attribute(f, \u001b[38;5;124m\"\u001b[39m\u001b[38;5;124mX\u001b[39m\u001b[38;5;124m\"\u001b[39m, adata\u001b[38;5;241m.\u001b[39mX, dataset_kwargs)\n\u001b[0;32m---> 52\u001b[0m \u001b[43mwrite_attribute\u001b[49m\u001b[43m(\u001b[49m\u001b[43mf\u001b[49m\u001b[43m,\u001b[49m\u001b[43m \u001b[49m\u001b[38;5;124;43m\"\u001b[39;49m\u001b[38;5;124;43mobs\u001b[39;49m\u001b[38;5;124;43m\"\u001b[39;49m\u001b[43m,\u001b[49m\u001b[43m \u001b[49m\u001b[43madata\u001b[49m\u001b[38;5;241;43m.\u001b[39;49m\u001b[43mobs\u001b[49m\u001b[43m,\u001b[49m\u001b[43m \u001b[49m\u001b[43mdataset_kwargs\u001b[49m\u001b[43m)\u001b[49m\n\u001b[1;32m     53\u001b[0m write_attribute(f, \u001b[38;5;124m\"\u001b[39m\u001b[38;5;124mvar\u001b[39m\u001b[38;5;124m\"\u001b[39m, adata\u001b[38;5;241m.\u001b[39mvar, dataset_kwargs)\n\u001b[1;32m     54\u001b[0m write_attribute(f, \u001b[38;5;124m\"\u001b[39m\u001b[38;5;124mobsm\u001b[39m\u001b[38;5;124m\"\u001b[39m, adata\u001b[38;5;241m.\u001b[39mobsm, dataset_kwargs)\n",
      "File \u001b[0;32m~/.conda/envs/spatial/lib/python3.9/functools.py:888\u001b[0m, in \u001b[0;36msingledispatch.<locals>.wrapper\u001b[0;34m(*args, **kw)\u001b[0m\n\u001b[1;32m    884\u001b[0m \u001b[38;5;28;01mif\u001b[39;00m \u001b[38;5;129;01mnot\u001b[39;00m args:\n\u001b[1;32m    885\u001b[0m     \u001b[38;5;28;01mraise\u001b[39;00m \u001b[38;5;167;01mTypeError\u001b[39;00m(\u001b[38;5;124mf\u001b[39m\u001b[38;5;124m'\u001b[39m\u001b[38;5;132;01m{\u001b[39;00mfuncname\u001b[38;5;132;01m}\u001b[39;00m\u001b[38;5;124m requires at least \u001b[39m\u001b[38;5;124m'\u001b[39m\n\u001b[1;32m    886\u001b[0m                     \u001b[38;5;124m'\u001b[39m\u001b[38;5;124m1 positional argument\u001b[39m\u001b[38;5;124m'\u001b[39m)\n\u001b[0;32m--> 888\u001b[0m \u001b[38;5;28;01mreturn\u001b[39;00m \u001b[43mdispatch\u001b[49m\u001b[43m(\u001b[49m\u001b[43margs\u001b[49m\u001b[43m[\u001b[49m\u001b[38;5;241;43m0\u001b[39;49m\u001b[43m]\u001b[49m\u001b[38;5;241;43m.\u001b[39;49m\u001b[38;5;18;43m__class__\u001b[39;49m\u001b[43m)\u001b[49m\u001b[43m(\u001b[49m\u001b[38;5;241;43m*\u001b[39;49m\u001b[43margs\u001b[49m\u001b[43m,\u001b[49m\u001b[43m \u001b[49m\u001b[38;5;241;43m*\u001b[39;49m\u001b[38;5;241;43m*\u001b[39;49m\u001b[43mkw\u001b[49m\u001b[43m)\u001b[49m\n",
      "File \u001b[0;32m~/.conda/envs/spatial/lib/python3.9/site-packages/anndata/_io/zarr.py:71\u001b[0m, in \u001b[0;36mwrite_attribute_zarr\u001b[0;34m(f, key, value, dataset_kwargs)\u001b[0m\n\u001b[1;32m     69\u001b[0m \u001b[38;5;28;01mif\u001b[39;00m key \u001b[38;5;129;01min\u001b[39;00m f:\n\u001b[1;32m     70\u001b[0m     \u001b[38;5;28;01mdel\u001b[39;00m f[key]\n\u001b[0;32m---> 71\u001b[0m \u001b[43m_write_method\u001b[49m\u001b[43m(\u001b[49m\u001b[38;5;28;43mtype\u001b[39;49m\u001b[43m(\u001b[49m\u001b[43mvalue\u001b[49m\u001b[43m)\u001b[49m\u001b[43m)\u001b[49m\u001b[43m(\u001b[49m\u001b[43mf\u001b[49m\u001b[43m,\u001b[49m\u001b[43m \u001b[49m\u001b[43mkey\u001b[49m\u001b[43m,\u001b[49m\u001b[43m \u001b[49m\u001b[43mvalue\u001b[49m\u001b[43m,\u001b[49m\u001b[43m \u001b[49m\u001b[43mdataset_kwargs\u001b[49m\u001b[43m)\u001b[49m\n",
      "File \u001b[0;32m~/.conda/envs/spatial/lib/python3.9/site-packages/anndata/_io/utils.py:212\u001b[0m, in \u001b[0;36mreport_write_key_on_error.<locals>.func_wrapper\u001b[0;34m(elem, key, val, *args, **kwargs)\u001b[0m\n\u001b[1;32m    210\u001b[0m \u001b[38;5;28;01mexcept\u001b[39;00m \u001b[38;5;167;01mException\u001b[39;00m \u001b[38;5;28;01mas\u001b[39;00m e:\n\u001b[1;32m    211\u001b[0m     parent \u001b[38;5;241m=\u001b[39m _get_parent(elem)\n\u001b[0;32m--> 212\u001b[0m     \u001b[38;5;28;01mraise\u001b[39;00m \u001b[38;5;28mtype\u001b[39m(e)(\n\u001b[1;32m    213\u001b[0m         \u001b[38;5;124mf\u001b[39m\u001b[38;5;124m\"\u001b[39m\u001b[38;5;132;01m{\u001b[39;00me\u001b[38;5;132;01m}\u001b[39;00m\u001b[38;5;130;01m\\n\u001b[39;00m\u001b[38;5;130;01m\\n\u001b[39;00m\u001b[38;5;124m\"\u001b[39m\n\u001b[1;32m    214\u001b[0m         \u001b[38;5;124mf\u001b[39m\u001b[38;5;124m\"\u001b[39m\u001b[38;5;124mAbove error raised while writing key \u001b[39m\u001b[38;5;132;01m{\u001b[39;00mkey\u001b[38;5;132;01m!r}\u001b[39;00m\u001b[38;5;124m of \u001b[39m\u001b[38;5;132;01m{\u001b[39;00m\u001b[38;5;28mtype\u001b[39m(elem)\u001b[38;5;132;01m}\u001b[39;00m\u001b[38;5;124m\"\u001b[39m\n\u001b[1;32m    215\u001b[0m         \u001b[38;5;124mf\u001b[39m\u001b[38;5;124m\"\u001b[39m\u001b[38;5;124m from \u001b[39m\u001b[38;5;132;01m{\u001b[39;00mparent\u001b[38;5;132;01m}\u001b[39;00m\u001b[38;5;124m.\u001b[39m\u001b[38;5;124m\"\u001b[39m\n\u001b[1;32m    216\u001b[0m     ) \u001b[38;5;28;01mfrom\u001b[39;00m \u001b[38;5;21;01me\u001b[39;00m\n",
      "\u001b[0;31mTypeError\u001b[0m: expected unicode string, found nan\n\nAbove error raised while writing key '1' of <class 'zarr.hierarchy.Group'> from <zarr.storage.DirectoryStore object at 0x7f0bbed1a640>.\n\nAbove error raised while writing key 'obs' of <class 'zarr.hierarchy.Group'> from <zarr.storage.DirectoryStore object at 0x7f0bbed1a640>."
     ]
    }
   ],
   "source": [
    "ad_object.write_zarr('test.zarr')"
   ]
  },
  {
   "cell_type": "code",
   "execution_count": null,
   "metadata": {},
   "outputs": [],
   "source": []
  },
  {
   "cell_type": "code",
   "execution_count": 10,
   "metadata": {},
   "outputs": [
    {
     "ename": "RuntimeError",
     "evalue": "Unable to create attribute (object header message is too large)\n\nAbove error raised while writing key 'obs' of <class 'h5py._hl.files.File'> from /.",
     "output_type": "error",
     "traceback": [
      "\u001b[0;31m---------------------------------------------------------------------------\u001b[0m",
      "\u001b[0;31mRuntimeError\u001b[0m                              Traceback (most recent call last)",
      "File \u001b[0;32m~/.conda/envs/spatial/lib/python3.9/site-packages/anndata/_io/utils.py:209\u001b[0m, in \u001b[0;36mreport_write_key_on_error.<locals>.func_wrapper\u001b[0;34m(elem, key, val, *args, **kwargs)\u001b[0m\n\u001b[1;32m    208\u001b[0m \u001b[38;5;28;01mtry\u001b[39;00m:\n\u001b[0;32m--> 209\u001b[0m     \u001b[38;5;28;01mreturn\u001b[39;00m \u001b[43mfunc\u001b[49m\u001b[43m(\u001b[49m\u001b[43melem\u001b[49m\u001b[43m,\u001b[49m\u001b[43m \u001b[49m\u001b[43mkey\u001b[49m\u001b[43m,\u001b[49m\u001b[43m \u001b[49m\u001b[43mval\u001b[49m\u001b[43m,\u001b[49m\u001b[43m \u001b[49m\u001b[38;5;241;43m*\u001b[39;49m\u001b[43margs\u001b[49m\u001b[43m,\u001b[49m\u001b[43m \u001b[49m\u001b[38;5;241;43m*\u001b[39;49m\u001b[38;5;241;43m*\u001b[39;49m\u001b[43mkwargs\u001b[49m\u001b[43m)\u001b[49m\n\u001b[1;32m    210\u001b[0m \u001b[38;5;28;01mexcept\u001b[39;00m \u001b[38;5;167;01mException\u001b[39;00m \u001b[38;5;28;01mas\u001b[39;00m e:\n",
      "File \u001b[0;32m~/.conda/envs/spatial/lib/python3.9/site-packages/anndata/_io/h5ad.py:258\u001b[0m, in \u001b[0;36mwrite_dataframe\u001b[0;34m(f, key, df, dataset_kwargs)\u001b[0m\n\u001b[1;32m    257\u001b[0m group\u001b[38;5;241m.\u001b[39mattrs[\u001b[38;5;124m\"\u001b[39m\u001b[38;5;124mencoding-version\u001b[39m\u001b[38;5;124m\"\u001b[39m] \u001b[38;5;241m=\u001b[39m EncodingVersions\u001b[38;5;241m.\u001b[39mdataframe\u001b[38;5;241m.\u001b[39mvalue\n\u001b[0;32m--> 258\u001b[0m group\u001b[38;5;241m.\u001b[39mattrs[\u001b[38;5;124m\"\u001b[39m\u001b[38;5;124mcolumn-order\u001b[39m\u001b[38;5;124m\"\u001b[39m] \u001b[38;5;241m=\u001b[39m col_names\n\u001b[1;32m    259\u001b[0m group\u001b[38;5;241m.\u001b[39mattrs[\u001b[38;5;124m\"\u001b[39m\u001b[38;5;124m_index\u001b[39m\u001b[38;5;124m\"\u001b[39m] \u001b[38;5;241m=\u001b[39m index_name\n",
      "File \u001b[0;32mh5py/_objects.pyx:54\u001b[0m, in \u001b[0;36mh5py._objects.with_phil.wrapper\u001b[0;34m()\u001b[0m\n",
      "File \u001b[0;32mh5py/_objects.pyx:55\u001b[0m, in \u001b[0;36mh5py._objects.with_phil.wrapper\u001b[0;34m()\u001b[0m\n",
      "File \u001b[0;32m~/.conda/envs/spatial/lib/python3.9/site-packages/h5py/_hl/attrs.py:103\u001b[0m, in \u001b[0;36mAttributeManager.__setitem__\u001b[0;34m(self, name, value)\u001b[0m\n\u001b[1;32m     97\u001b[0m \u001b[38;5;124;03m\"\"\" Set a new attribute, overwriting any existing attribute.\u001b[39;00m\n\u001b[1;32m     98\u001b[0m \n\u001b[1;32m     99\u001b[0m \u001b[38;5;124;03mThe type and shape of the attribute are determined from the data.  To\u001b[39;00m\n\u001b[1;32m    100\u001b[0m \u001b[38;5;124;03muse a specific type or shape, or to preserve the type of an attribute,\u001b[39;00m\n\u001b[1;32m    101\u001b[0m \u001b[38;5;124;03muse the methods create() and modify().\u001b[39;00m\n\u001b[1;32m    102\u001b[0m \u001b[38;5;124;03m\"\"\"\u001b[39;00m\n\u001b[0;32m--> 103\u001b[0m \u001b[38;5;28;43mself\u001b[39;49m\u001b[38;5;241;43m.\u001b[39;49m\u001b[43mcreate\u001b[49m\u001b[43m(\u001b[49m\u001b[43mname\u001b[49m\u001b[43m,\u001b[49m\u001b[43m \u001b[49m\u001b[43mdata\u001b[49m\u001b[38;5;241;43m=\u001b[39;49m\u001b[43mvalue\u001b[49m\u001b[43m)\u001b[49m\n",
      "File \u001b[0;32m~/.conda/envs/spatial/lib/python3.9/site-packages/h5py/_hl/attrs.py:196\u001b[0m, in \u001b[0;36mAttributeManager.create\u001b[0;34m(self, name, data, shape, dtype)\u001b[0m\n\u001b[1;32m    194\u001b[0m tempname \u001b[38;5;241m=\u001b[39m uuid\u001b[38;5;241m.\u001b[39muuid4()\u001b[38;5;241m.\u001b[39mhex\n\u001b[0;32m--> 196\u001b[0m attr \u001b[38;5;241m=\u001b[39m \u001b[43mh5a\u001b[49m\u001b[38;5;241;43m.\u001b[39;49m\u001b[43mcreate\u001b[49m\u001b[43m(\u001b[49m\u001b[38;5;28;43mself\u001b[39;49m\u001b[38;5;241;43m.\u001b[39;49m\u001b[43m_id\u001b[49m\u001b[43m,\u001b[49m\u001b[43m \u001b[49m\u001b[38;5;28;43mself\u001b[39;49m\u001b[38;5;241;43m.\u001b[39;49m\u001b[43m_e\u001b[49m\u001b[43m(\u001b[49m\u001b[43mtempname\u001b[49m\u001b[43m)\u001b[49m\u001b[43m,\u001b[49m\u001b[43m \u001b[49m\u001b[43mhtype\u001b[49m\u001b[43m,\u001b[49m\u001b[43m \u001b[49m\u001b[43mspace\u001b[49m\u001b[43m)\u001b[49m\n\u001b[1;32m    197\u001b[0m \u001b[38;5;28;01mtry\u001b[39;00m:\n",
      "File \u001b[0;32mh5py/_objects.pyx:54\u001b[0m, in \u001b[0;36mh5py._objects.with_phil.wrapper\u001b[0;34m()\u001b[0m\n",
      "File \u001b[0;32mh5py/_objects.pyx:55\u001b[0m, in \u001b[0;36mh5py._objects.with_phil.wrapper\u001b[0;34m()\u001b[0m\n",
      "File \u001b[0;32mh5py/h5a.pyx:50\u001b[0m, in \u001b[0;36mh5py.h5a.create\u001b[0;34m()\u001b[0m\n",
      "\u001b[0;31mRuntimeError\u001b[0m: Unable to create attribute (object header message is too large)",
      "\nThe above exception was the direct cause of the following exception:\n",
      "\u001b[0;31mRuntimeError\u001b[0m                              Traceback (most recent call last)",
      "Input \u001b[0;32mIn [10]\u001b[0m, in \u001b[0;36m<cell line: 3>\u001b[0;34m()\u001b[0m\n\u001b[1;32m      1\u001b[0m ad_object\u001b[38;5;241m.\u001b[39mobs\u001b[38;5;241m.\u001b[39mcolumns \u001b[38;5;241m=\u001b[39m ad_object\u001b[38;5;241m.\u001b[39mobs\u001b[38;5;241m.\u001b[39mcolumns\u001b[38;5;241m.\u001b[39mastype(\u001b[38;5;28mstr\u001b[39m)\n\u001b[1;32m      2\u001b[0m ad_object\u001b[38;5;241m.\u001b[39mvar\u001b[38;5;241m.\u001b[39mcolumns \u001b[38;5;241m=\u001b[39m ad_object\u001b[38;5;241m.\u001b[39mvar\u001b[38;5;241m.\u001b[39mcolumns\u001b[38;5;241m.\u001b[39mastype(\u001b[38;5;28mstr\u001b[39m)\n\u001b[0;32m----> 3\u001b[0m \u001b[43mad_object\u001b[49m\u001b[38;5;241;43m.\u001b[39;49m\u001b[43mwrite\u001b[49m\u001b[43m(\u001b[49m\u001b[38;5;124;43m'\u001b[39;49m\u001b[38;5;124;43manndata_m387ntga2.h5ad\u001b[39;49m\u001b[38;5;124;43m'\u001b[39;49m\u001b[43m)\u001b[49m\n",
      "File \u001b[0;32m~/.conda/envs/spatial/lib/python3.9/site-packages/anndata/_core/anndata.py:1912\u001b[0m, in \u001b[0;36mAnnData.write_h5ad\u001b[0;34m(self, filename, compression, compression_opts, force_dense, as_dense)\u001b[0m\n\u001b[1;32m   1909\u001b[0m \u001b[38;5;28;01mif\u001b[39;00m filename \u001b[38;5;129;01mis\u001b[39;00m \u001b[38;5;28;01mNone\u001b[39;00m:\n\u001b[1;32m   1910\u001b[0m     filename \u001b[38;5;241m=\u001b[39m \u001b[38;5;28mself\u001b[39m\u001b[38;5;241m.\u001b[39mfilename\n\u001b[0;32m-> 1912\u001b[0m \u001b[43m_write_h5ad\u001b[49m\u001b[43m(\u001b[49m\n\u001b[1;32m   1913\u001b[0m \u001b[43m    \u001b[49m\u001b[43mPath\u001b[49m\u001b[43m(\u001b[49m\u001b[43mfilename\u001b[49m\u001b[43m)\u001b[49m\u001b[43m,\u001b[49m\n\u001b[1;32m   1914\u001b[0m \u001b[43m    \u001b[49m\u001b[38;5;28;43mself\u001b[39;49m\u001b[43m,\u001b[49m\n\u001b[1;32m   1915\u001b[0m \u001b[43m    \u001b[49m\u001b[43mcompression\u001b[49m\u001b[38;5;241;43m=\u001b[39;49m\u001b[43mcompression\u001b[49m\u001b[43m,\u001b[49m\n\u001b[1;32m   1916\u001b[0m \u001b[43m    \u001b[49m\u001b[43mcompression_opts\u001b[49m\u001b[38;5;241;43m=\u001b[39;49m\u001b[43mcompression_opts\u001b[49m\u001b[43m,\u001b[49m\n\u001b[1;32m   1917\u001b[0m \u001b[43m    \u001b[49m\u001b[43mforce_dense\u001b[49m\u001b[38;5;241;43m=\u001b[39;49m\u001b[43mforce_dense\u001b[49m\u001b[43m,\u001b[49m\n\u001b[1;32m   1918\u001b[0m \u001b[43m    \u001b[49m\u001b[43mas_dense\u001b[49m\u001b[38;5;241;43m=\u001b[39;49m\u001b[43mas_dense\u001b[49m\u001b[43m,\u001b[49m\n\u001b[1;32m   1919\u001b[0m \u001b[43m\u001b[49m\u001b[43m)\u001b[49m\n\u001b[1;32m   1921\u001b[0m \u001b[38;5;28;01mif\u001b[39;00m \u001b[38;5;28mself\u001b[39m\u001b[38;5;241m.\u001b[39misbacked:\n\u001b[1;32m   1922\u001b[0m     \u001b[38;5;28mself\u001b[39m\u001b[38;5;241m.\u001b[39mfile\u001b[38;5;241m.\u001b[39mfilename \u001b[38;5;241m=\u001b[39m filename\n",
      "File \u001b[0;32m~/.conda/envs/spatial/lib/python3.9/site-packages/anndata/_io/h5ad.py:111\u001b[0m, in \u001b[0;36mwrite_h5ad\u001b[0;34m(filepath, adata, force_dense, as_dense, dataset_kwargs, **kwargs)\u001b[0m\n\u001b[1;32m    109\u001b[0m \u001b[38;5;28;01melse\u001b[39;00m:\n\u001b[1;32m    110\u001b[0m     write_attribute(f, \u001b[38;5;124m\"\u001b[39m\u001b[38;5;124mraw\u001b[39m\u001b[38;5;124m\"\u001b[39m, adata\u001b[38;5;241m.\u001b[39mraw, dataset_kwargs\u001b[38;5;241m=\u001b[39mdataset_kwargs)\n\u001b[0;32m--> 111\u001b[0m \u001b[43mwrite_attribute\u001b[49m\u001b[43m(\u001b[49m\u001b[43mf\u001b[49m\u001b[43m,\u001b[49m\u001b[43m \u001b[49m\u001b[38;5;124;43m\"\u001b[39;49m\u001b[38;5;124;43mobs\u001b[39;49m\u001b[38;5;124;43m\"\u001b[39;49m\u001b[43m,\u001b[49m\u001b[43m \u001b[49m\u001b[43madata\u001b[49m\u001b[38;5;241;43m.\u001b[39;49m\u001b[43mobs\u001b[49m\u001b[43m,\u001b[49m\u001b[43m \u001b[49m\u001b[43mdataset_kwargs\u001b[49m\u001b[38;5;241;43m=\u001b[39;49m\u001b[43mdataset_kwargs\u001b[49m\u001b[43m)\u001b[49m\n\u001b[1;32m    112\u001b[0m write_attribute(f, \u001b[38;5;124m\"\u001b[39m\u001b[38;5;124mvar\u001b[39m\u001b[38;5;124m\"\u001b[39m, adata\u001b[38;5;241m.\u001b[39mvar, dataset_kwargs\u001b[38;5;241m=\u001b[39mdataset_kwargs)\n\u001b[1;32m    113\u001b[0m write_attribute(f, \u001b[38;5;124m\"\u001b[39m\u001b[38;5;124mobsm\u001b[39m\u001b[38;5;124m\"\u001b[39m, adata\u001b[38;5;241m.\u001b[39mobsm, dataset_kwargs\u001b[38;5;241m=\u001b[39mdataset_kwargs)\n",
      "File \u001b[0;32m~/.conda/envs/spatial/lib/python3.9/functools.py:888\u001b[0m, in \u001b[0;36msingledispatch.<locals>.wrapper\u001b[0;34m(*args, **kw)\u001b[0m\n\u001b[1;32m    884\u001b[0m \u001b[38;5;28;01mif\u001b[39;00m \u001b[38;5;129;01mnot\u001b[39;00m args:\n\u001b[1;32m    885\u001b[0m     \u001b[38;5;28;01mraise\u001b[39;00m \u001b[38;5;167;01mTypeError\u001b[39;00m(\u001b[38;5;124mf\u001b[39m\u001b[38;5;124m'\u001b[39m\u001b[38;5;132;01m{\u001b[39;00mfuncname\u001b[38;5;132;01m}\u001b[39;00m\u001b[38;5;124m requires at least \u001b[39m\u001b[38;5;124m'\u001b[39m\n\u001b[1;32m    886\u001b[0m                     \u001b[38;5;124m'\u001b[39m\u001b[38;5;124m1 positional argument\u001b[39m\u001b[38;5;124m'\u001b[39m)\n\u001b[0;32m--> 888\u001b[0m \u001b[38;5;28;01mreturn\u001b[39;00m \u001b[43mdispatch\u001b[49m\u001b[43m(\u001b[49m\u001b[43margs\u001b[49m\u001b[43m[\u001b[49m\u001b[38;5;241;43m0\u001b[39;49m\u001b[43m]\u001b[49m\u001b[38;5;241;43m.\u001b[39;49m\u001b[38;5;18;43m__class__\u001b[39;49m\u001b[43m)\u001b[49m\u001b[43m(\u001b[49m\u001b[38;5;241;43m*\u001b[39;49m\u001b[43margs\u001b[49m\u001b[43m,\u001b[49m\u001b[43m \u001b[49m\u001b[38;5;241;43m*\u001b[39;49m\u001b[38;5;241;43m*\u001b[39;49m\u001b[43mkw\u001b[49m\u001b[43m)\u001b[49m\n",
      "File \u001b[0;32m~/.conda/envs/spatial/lib/python3.9/site-packages/anndata/_io/h5ad.py:130\u001b[0m, in \u001b[0;36mwrite_attribute_h5ad\u001b[0;34m(f, key, value, *args, **kwargs)\u001b[0m\n\u001b[1;32m    128\u001b[0m \u001b[38;5;28;01mif\u001b[39;00m key \u001b[38;5;129;01min\u001b[39;00m f:\n\u001b[1;32m    129\u001b[0m     \u001b[38;5;28;01mdel\u001b[39;00m f[key]\n\u001b[0;32m--> 130\u001b[0m \u001b[43m_write_method\u001b[49m\u001b[43m(\u001b[49m\u001b[38;5;28;43mtype\u001b[39;49m\u001b[43m(\u001b[49m\u001b[43mvalue\u001b[49m\u001b[43m)\u001b[49m\u001b[43m)\u001b[49m\u001b[43m(\u001b[49m\u001b[43mf\u001b[49m\u001b[43m,\u001b[49m\u001b[43m \u001b[49m\u001b[43mkey\u001b[49m\u001b[43m,\u001b[49m\u001b[43m \u001b[49m\u001b[43mvalue\u001b[49m\u001b[43m,\u001b[49m\u001b[43m \u001b[49m\u001b[38;5;241;43m*\u001b[39;49m\u001b[43margs\u001b[49m\u001b[43m,\u001b[49m\u001b[43m \u001b[49m\u001b[38;5;241;43m*\u001b[39;49m\u001b[38;5;241;43m*\u001b[39;49m\u001b[43mkwargs\u001b[49m\u001b[43m)\u001b[49m\n",
      "File \u001b[0;32m~/.conda/envs/spatial/lib/python3.9/site-packages/anndata/_io/utils.py:212\u001b[0m, in \u001b[0;36mreport_write_key_on_error.<locals>.func_wrapper\u001b[0;34m(elem, key, val, *args, **kwargs)\u001b[0m\n\u001b[1;32m    210\u001b[0m \u001b[38;5;28;01mexcept\u001b[39;00m \u001b[38;5;167;01mException\u001b[39;00m \u001b[38;5;28;01mas\u001b[39;00m e:\n\u001b[1;32m    211\u001b[0m     parent \u001b[38;5;241m=\u001b[39m _get_parent(elem)\n\u001b[0;32m--> 212\u001b[0m     \u001b[38;5;28;01mraise\u001b[39;00m \u001b[38;5;28mtype\u001b[39m(e)(\n\u001b[1;32m    213\u001b[0m         \u001b[38;5;124mf\u001b[39m\u001b[38;5;124m\"\u001b[39m\u001b[38;5;132;01m{\u001b[39;00me\u001b[38;5;132;01m}\u001b[39;00m\u001b[38;5;130;01m\\n\u001b[39;00m\u001b[38;5;130;01m\\n\u001b[39;00m\u001b[38;5;124m\"\u001b[39m\n\u001b[1;32m    214\u001b[0m         \u001b[38;5;124mf\u001b[39m\u001b[38;5;124m\"\u001b[39m\u001b[38;5;124mAbove error raised while writing key \u001b[39m\u001b[38;5;132;01m{\u001b[39;00mkey\u001b[38;5;132;01m!r}\u001b[39;00m\u001b[38;5;124m of \u001b[39m\u001b[38;5;132;01m{\u001b[39;00m\u001b[38;5;28mtype\u001b[39m(elem)\u001b[38;5;132;01m}\u001b[39;00m\u001b[38;5;124m\"\u001b[39m\n\u001b[1;32m    215\u001b[0m         \u001b[38;5;124mf\u001b[39m\u001b[38;5;124m\"\u001b[39m\u001b[38;5;124m from \u001b[39m\u001b[38;5;132;01m{\u001b[39;00mparent\u001b[38;5;132;01m}\u001b[39;00m\u001b[38;5;124m.\u001b[39m\u001b[38;5;124m\"\u001b[39m\n\u001b[1;32m    216\u001b[0m     ) \u001b[38;5;28;01mfrom\u001b[39;00m \u001b[38;5;21;01me\u001b[39;00m\n",
      "\u001b[0;31mRuntimeError\u001b[0m: Unable to create attribute (object header message is too large)\n\nAbove error raised while writing key 'obs' of <class 'h5py._hl.files.File'> from /."
     ]
    }
   ],
   "source": [
    "ad_object.obs.columns = ad_object.obs.columns.astype(str)\n",
    "ad_object.var.columns = ad_object.var.columns.astype(str)\n",
    "ad_object.write('anndata_m387ntga2.h5ad')"
   ]
  },
  {
   "cell_type": "code",
   "execution_count": 9,
   "metadata": {},
   "outputs": [
    {
     "data": {
      "text/plain": [
       "array([[1.1000000e+02, 1.7100000e+02, 1.3400000e+02, ..., 4.9349243e+01,\n",
       "        4.9663883e+01, 8.2089549e-01],\n",
       "       [8.2000000e+01, 1.2600000e+02, 1.0000000e+02, ..., 3.6106602e+01,\n",
       "        4.0183289e+01, 8.1999999e-01],\n",
       "       [1.5400000e+02, 2.1000000e+02, 1.6600000e+02, ..., 4.6041630e+01,\n",
       "        4.6331718e+01, 9.2771083e-01],\n",
       "       ...,\n",
       "       [2.7800000e+02, 8.6400000e+02, 4.6500000e+02, ..., 1.3215433e+02,\n",
       "        1.5929710e+02, 5.9784949e-01],\n",
       "       [2.2400000e+02, 4.5000000e+02, 2.7500000e+02, ..., 6.9769554e+01,\n",
       "        7.3797539e+01, 8.1454545e-01],\n",
       "       [7.9000000e+01, 1.1000000e+02, 9.4000000e+01, ..., 3.7384777e+01,\n",
       "        3.8517208e+01, 8.4042555e-01]], dtype=float32)"
      ]
     },
     "execution_count": 9,
     "metadata": {},
     "output_type": "execute_result"
    }
   ],
   "source": [
    "ad_object.X"
   ]
  },
  {
   "cell_type": "code",
   "execution_count": null,
   "metadata": {},
   "outputs": [],
   "source": []
  },
  {
   "cell_type": "code",
   "execution_count": null,
   "metadata": {},
   "outputs": [],
   "source": []
  },
  {
   "cell_type": "code",
   "execution_count": null,
   "metadata": {},
   "outputs": [],
   "source": []
  }
 ],
 "metadata": {
  "kernelspec": {
   "display_name": "spatial",
   "language": "python",
   "name": "spatial"
  },
  "language_info": {
   "codemirror_mode": {
    "name": "ipython",
    "version": 3
   },
   "file_extension": ".py",
   "mimetype": "text/x-python",
   "name": "python",
   "nbconvert_exporter": "python",
   "pygments_lexer": "ipython3",
   "version": "3.9.12"
  }
 },
 "nbformat": 4,
 "nbformat_minor": 2
}
