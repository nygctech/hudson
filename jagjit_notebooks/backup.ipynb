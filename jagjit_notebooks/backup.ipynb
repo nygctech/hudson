{
 "cells": [
  {
   "cell_type": "code",
   "execution_count": null,
   "metadata": {},
   "outputs": [],
   "source": [
    "import time\n",
    "import os\n",
    "\n",
    "start = time.time()\n",
    "\n",
    "os.system(\"tar -czvf backupjsingh.tar.gz /gpfs/commons/home/jsingh --exclude='zarrs'\")\n",
    "\n",
    "end = time.time()\n",
    "print(\"Elapsed time: %s\"%(end - start,))"
   ]
  },
  {
   "cell_type": "code",
   "execution_count": 1,
   "metadata": {},
   "outputs": [
    {
     "data": {
      "text/plain": [
       "'/gpfs/commons/home/jsingh'"
      ]
     },
     "execution_count": 1,
     "metadata": {},
     "output_type": "execute_result"
    }
   ],
   "source": [
    "tar --exclude= zarrs -cvf jsinghbackup.tar /gpfs/commons/home/jsingh"
   ]
  },
  {
   "cell_type": "code",
   "execution_count": null,
   "metadata": {},
   "outputs": [],
   "source": [
    "tar -czvf backupjsingh.tar.gz /gpfs/commons/home/jsingh --exclude='zarrs'"
   ]
  }
 ],
 "metadata": {
  "kernelspec": {
   "display_name": "Python 3",
   "language": "python",
   "name": "python3"
  },
  "language_info": {
   "codemirror_mode": {
    "name": "ipython",
    "version": 3
   },
   "file_extension": ".py",
   "mimetype": "text/x-python",
   "name": "python",
   "nbconvert_exporter": "python",
   "pygments_lexer": "ipython3",
   "version": "3.7.4"
  }
 },
 "nbformat": 4,
 "nbformat_minor": 2
}
