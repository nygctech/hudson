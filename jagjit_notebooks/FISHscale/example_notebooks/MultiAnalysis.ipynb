{
 "cells": [
  {
   "cell_type": "code",
   "execution_count": 2,
   "metadata": {},
   "outputs": [
    {
     "name": "stderr",
     "output_type": "stream",
     "text": [
      "INFO - 2021-06-11 18:11:44,360 - utils - Note: NumExpr detected 12 cores but \"NUMEXPR_MAX_THREADS\" not set, so enforcing safe limit of 8.\n",
      "INFO - 2021-06-11 18:11:44,361 - utils - NumExpr defaulting to 8 threads.\n"
     ]
    }
   ],
   "source": [
    "import sys\n",
    "import pandas as pd\n",
    "import os\n",
    "sys.path.append('/Users/admin/OneDrive - KI.SE/Projects')\n",
    "\n",
    "from FISHscale.utils import Dataset, MultiDataset\n",
    "\n",
    "%load_ext autoreload\n",
    "%autoreload 2"
   ]
  },
  {
   "cell_type": "markdown",
   "metadata": {},
   "source": [
    "# Single Dataset"
   ]
  },
  {
   "cell_type": "code",
   "execution_count": 4,
   "metadata": {},
   "outputs": [],
   "source": [
    "SL006 = Dataset('../../EEL/Cancer/AMEXP20210320_EEL_SL006/210413_17_10_56_AMEXP20210320_EEL_SL006_data_summary_simple_plotting.parquet',gene_label='decoded_genes',reparse=True)\n",
    "#SL006.visualize()\n"
   ]
  },
  {
   "cell_type": "code",
   "execution_count": 5,
   "metadata": {},
   "outputs": [
    {
     "name": "stdout",
     "output_type": "stream",
     "text": [
      "QApplication instance already exists: <PyQt5.QtWidgets.QApplication object at 0x7fe611b4f5e0>\n",
      "Single Dataset\n",
      "../../EEL/Cancer/AMEXP20210320_EEL_SL006/210413_17_10_56_AMEXP20210320_EEL_SL006_data_summary_simple_plotting.parquet\n",
      "Data Loaded\n"
     ]
    }
   ],
   "source": [
    "SL006.visualize()"
   ]
  },
  {
   "cell_type": "markdown",
   "metadata": {},
   "source": [
    "# Load Directly from folder"
   ]
  },
  {
   "cell_type": "code",
   "execution_count": 3,
   "metadata": {},
   "outputs": [
    {
     "name": "stdout",
     "output_type": "stream",
     "text": [
      "making unique\n"
     ]
    }
   ],
   "source": [
    "# Include other_columns if you want your Dataset object to have .fov_num attrs or any other column\n",
    "MD = MultiDataset('../../EEL/Cancer/processed_data/',gene_label='decoded_genes')\n"
   ]
  },
  {
   "cell_type": "code",
   "execution_count": 4,
   "metadata": {},
   "outputs": [
    {
     "name": "stdout",
     "output_type": "stream",
     "text": [
      "MultiDataset\n",
      "../../EEL/Cancer/processed_data/210413_17_10_56_AMEXP20210320_EEL_SL006_data_summary_simple_plotting.parquet\n",
      "../../EEL/Cancer/processed_data/210413_19_25_19_JJEXP20210323_EEL_SL005_data_summary_simple_plotting.parquet\n",
      "Data Loaded\n"
     ]
    }
   ],
   "source": [
    "#Include a list of attrs from each Dataset object that you will like to be plotted as different categories\n",
    "# at them moment all datasets will be loaded in memory and that will make plotting slower\n",
    "MD.visualize()"
   ]
  },
  {
   "cell_type": "markdown",
   "metadata": {},
   "source": [
    "# Load From individual PandasDataset objects"
   ]
  },
  {
   "cell_type": "code",
   "execution_count": 7,
   "metadata": {},
   "outputs": [],
   "source": [
    "# In case you have preloaded Dataset objects\n",
    "SL005 = Dataset('../../EEL/Cancer/processed_data/210413_19_25_19_JJEXP20210323_EEL_SL005_data_summary_simple_plotting.parquet',gene_label='decoded_genes',x_offset=50000)\n",
    "SL006 = Dataset('../../EEL/Cancer/processed_data/210413_17_10_56_AMEXP20210320_EEL_SL006_data_summary_simple_plotting.parquet',gene_label='decoded_genes',x_offset=100000,unique_genes=SL005.unique_genes)\n",
    "\n",
    "MD = MultiDataset([SL006,SL005])\n"
   ]
  },
  {
   "cell_type": "code",
   "execution_count": 8,
   "metadata": {},
   "outputs": [
    {
     "name": "stdout",
     "output_type": "stream",
     "text": [
      "MultiDataset\n",
      "../../EEL/Cancer/processed_data/210413_17_10_56_AMEXP20210320_EEL_SL006_data_summary_simple_plotting.parquet\n",
      "../../EEL/Cancer/processed_data/210413_19_25_19_JJEXP20210323_EEL_SL005_data_summary_simple_plotting.parquet\n",
      "Data Loaded\n"
     ]
    }
   ],
   "source": [
    "MD.visualize()"
   ]
  },
  {
   "cell_type": "code",
   "execution_count": null,
   "metadata": {},
   "outputs": [],
   "source": []
  }
 ],
 "metadata": {
  "kernelspec": {
   "display_name": "Python 3 (ipykernel)",
   "language": "python",
   "name": "python3"
  },
  "language_info": {
   "codemirror_mode": {
    "name": "ipython",
    "version": 3
   },
   "file_extension": ".py",
   "mimetype": "text/x-python",
   "name": "python",
   "nbconvert_exporter": "python",
   "pygments_lexer": "ipython3",
   "version": "3.8.0"
  }
 },
 "nbformat": 4,
 "nbformat_minor": 4
}
