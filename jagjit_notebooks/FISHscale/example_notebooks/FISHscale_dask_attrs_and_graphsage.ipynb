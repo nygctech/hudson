{
 "cells": [
  {
   "cell_type": "markdown",
   "id": "f0d18688-c1d7-4ae3-abac-ca09eabdd640",
   "metadata": {},
   "source": [
    "# Imports"
   ]
  },
  {
   "cell_type": "code",
   "execution_count": 2,
   "id": "cb8c5d39-d375-42a3-9f9d-ef52a1984898",
   "metadata": {},
   "outputs": [],
   "source": [
    "#Import FISHscale\n",
    "import sys\n",
    "sys.path.insert(0, \"/Users/admin/OneDrive - KI.SE/Projects\")#FISHscale/\")\n",
    "from FISHscale.utils import dataset\n",
    "from FISHscale.graphNN.graph_utils import GraphData\n",
    "\n",
    "#Import other libraries\n",
    "import matplotlib.pyplot as plt\n",
    "from mpl_toolkits.axes_grid1 import make_axes_locatable\n",
    "from matplotlib.collections import LineCollection\n",
    "import numpy as np\n",
    "import pickle\n",
    "import os\n",
    "\n",
    "#Get data path\n",
    "cur_path = os.path.dirname(os.getcwd())\n",
    "data_path = os.path.join(cur_path, 'Example_data')"
   ]
  },
  {
   "cell_type": "markdown",
   "id": "d5d6f99f-0e26-45cd-82be-b3de88212a9d",
   "metadata": {},
   "source": [
    "# Load data\n",
    "Data can be loaded from .csv or .parquet files, where .parquet files are the most efficient. These files should at least have a column for the X and Y coordinates of the points and a colum with gene names. The names of these columns can be passed to the loading function with the parameters: `x_label`, `y_label` & `gene_label`. Other colums can be loaded using the `other_columns` parameter.  \n",
    "\n",
    "  \n",
    "The unit is also handled explicitly by giving the unit scale using the `pixel_size` parameter. For our data the XY coordinates are in pixel units which are 0.18 micrometer. Change it according to the settings of your system. If your data is already in a specific unit you can just pass this, like `1 micrometer` or `1 meter`.\n",
    "\n",
    "The color of the genes can be predefined by giving a dictionary with colors as input. If not defined, FISHscale will generate a new color dictionary and save it fot later use.\n",
    "  \n",
    "The first time you load a dataset the data will be parsed which can take some time. However, the next time you load it, it will be fast."
   ]
  },
  {
   "cell_type": "code",
   "execution_count": 5,
   "id": "f900b6bb-3776-48db-9582-ed69b8bfe444",
   "metadata": {},
   "outputs": [
    {
     "name": "stdout",
     "output_type": "stream",
     "text": [
      "adding to metadata\n"
     ]
    },
    {
     "name": "stderr",
     "output_type": "stream",
     "text": [
      "100%|█████████████████████████████████████████| 440/440 [00:07<00:00, 61.68it/s]\n"
     ]
    },
    {
     "name": "stdout",
     "output_type": "stream",
     "text": [
      "    Loaded: Mouse_448_example_data\n"
     ]
    }
   ],
   "source": [
    "file_name = os.path.join(data_path, 'Mouse_448_example_data.parquet')\n",
    "color_dictionary = pickle.load(open(os.path.join(data_path, 'Mouse_448_color_dict.pkl'), 'rb'))\n",
    "tissue_polygon = np.genfromtxt(os.path.join(data_path, 'Outside_polygon_Mouse_448.csv'), delimiter=',')[1:, 1:]\n",
    "\n",
    "d0 = dataset.Dataset(file_name,\n",
    "                     x_label = 'c_px_global_stitched',\n",
    "                     y_label = 'r_px_global_stitched',                \n",
    "                     gene_label = 'decoded_genes',\n",
    "                     pixel_size = '0.18 micrometer',\n",
    "                     color_input = color_dictionary,\n",
    "                     exclude_genes = ['Control1', 'Control2', 'Control3', 'Control4', 'Control5', 'Control6', 'Control7', 'Control8', 'Cre'],\n",
    "                     polygon = tissue_polygon,\n",
    "                     verbose = True,\n",
    "                     reparse=True)"
   ]
  },
  {
   "cell_type": "markdown",
   "id": "d97f0b1d-927f-4bb4-b4b5-9fd8c0e11b58",
   "metadata": {},
   "source": [
    "You can inspect your data by quickly plotting a few genes."
   ]
  },
  {
   "cell_type": "markdown",
   "id": "26eb6c7b-ef75-4ab5-92a0-b29880a41f16",
   "metadata": {},
   "source": [
    "# GraphSAGE"
   ]
  },
  {
   "cell_type": "markdown",
   "id": "b580d29e-4ee8-4bb3-bbe7-b34dc76c9cbd",
   "metadata": {},
   "source": [
    "GraphData class will transform the Dataset into a graph that will be used to train the GraphData.model (GraphSAGE)"
   ]
  },
  {
   "cell_type": "code",
   "execution_count": null,
   "id": "3f7bf51a-9f4e-4d5a-88af-99b4fc2923c2",
   "metadata": {},
   "outputs": [
    {
     "name": "stdout",
     "output_type": "stream",
     "text": [
      "model is in:  cpu\n",
      "Chosen dist: 12.594856092869993\n"
     ]
    },
    {
     "name": "stderr",
     "output_type": "stream",
     "text": [
      "/Users/admin/anaconda3/envs/py38/lib/python3.8/site-packages/pytorch_lightning/callbacks/model_checkpoint.py:446: UserWarning: Checkpoint directory Unsupervised_GraphSAGE_2021-12-15-153116 exists and is not empty.\n",
      "  rank_zero_warn(f\"Checkpoint directory {dirpath} exists and is not empty.\")\n",
      "100%|█████████████████████████████████████████| 440/440 [00:59<00:00,  7.38it/s]\n"
     ]
    },
    {
     "name": "stdout",
     "output_type": "stream",
     "text": [
      "Building graph...\n"
     ]
    },
    {
     "name": "stderr",
     "output_type": "stream",
     "text": [
      "100%|████████████████████████████| 8871209/8871209 [00:06<00:00, 1363493.10it/s]\n"
     ]
    },
    {
     "name": "stdout",
     "output_type": "stream",
     "text": [
      "Find neighbors below distance: 12.594856092869993\n"
     ]
    },
    {
     "name": "stderr",
     "output_type": "stream",
     "text": [
      "100%|███████████████████████████████| 8871209/8871209 [47:10<00:00, 3133.68it/s]\n"
     ]
    }
   ],
   "source": [
    "GD = GraphData(d0,\n",
    "               analysis_name='Unsupervised_GraphSAGE',\n",
    "               train_p=0.1,\n",
    "               num_workers=6,\n",
    "               aggregator='pool',\n",
    "              )"
   ]
  },
  {
   "cell_type": "markdown",
   "id": "2f8cf3f2-7761-420e-87d6-7a3691995343",
   "metadata": {},
   "source": [
    "Train GraphSAGE network for 10 epochs. If GPU is available, GraphData will use it."
   ]
  },
  {
   "cell_type": "code",
   "execution_count": null,
   "id": "6044b0a1-3d3f-45c8-b8fa-cfa376a2698c",
   "metadata": {},
   "outputs": [],
   "source": [
    "GD.train(max_epochs=10)"
   ]
  },
  {
   "cell_type": "markdown",
   "id": "7d27047a-a10c-40d2-ad45-3e9f04e7e11b",
   "metadata": {},
   "source": [
    "Generate molecule embeddings that will be saved in a folder with analysis_name defined in GraphData. Visualize the embedding using umap."
   ]
  },
  {
   "cell_type": "code",
   "execution_count": null,
   "id": "1e52f3bb-e4ee-43d2-92f4-f878b33e49c1",
   "metadata": {},
   "outputs": [],
   "source": [
    "GD.get_latents()\n",
    "GD.get_umap()"
   ]
  },
  {
   "cell_type": "markdown",
   "id": "0b1b81f0-ebf6-4289-b825-6e6b46c283f8",
   "metadata": {},
   "source": [
    "# Adding Dask Attributes for visualization"
   ]
  },
  {
   "cell_type": "markdown",
   "id": "4535ace5-d344-4937-9e05-2201080b676c",
   "metadata": {},
   "source": [
    "Clustering of generated molecule embeddings"
   ]
  },
  {
   "cell_type": "code",
   "execution_count": null,
   "id": "40b93f0c-e388-483f-9520-147cfc18dc02",
   "metadata": {},
   "outputs": [],
   "source": [
    "from sklearn.cluster import MiniBatchKMeans\n",
    "embedding = np.load('Unsupservised_GraphSAGE/latent_unlabelled.npy')\n",
    "km = MiniBatchKMeans(n_clusters=150).fit_predict(embedding)"
   ]
  },
  {
   "cell_type": "markdown",
   "id": "ff09500d-f0ad-4974-8db1-7f92d411e1ab",
   "metadata": {},
   "source": [
    "To generate a fast visualization of large points we sacrifica disk space, data is written again organized by the new column introduced to the dataset."
   ]
  },
  {
   "cell_type": "code",
   "execution_count": null,
   "id": "ee694da7-c747-4848-9e14-bc236db3af09",
   "metadata": {},
   "outputs": [],
   "source": [
    "d0.add_dask_attribute('KMeans',km.astype('str'),include_genes=True)\n"
   ]
  },
  {
   "cell_type": "markdown",
   "id": "55db476d-5685-4687-b395-da6cf03c840b",
   "metadata": {},
   "source": [
    "Then we can plot by new attribute very fast for millions of points"
   ]
  },
  {
   "cell_type": "code",
   "execution_count": null,
   "id": "eb2d8e21-f828-45e0-8d92-85c73c68d42b",
   "metadata": {},
   "outputs": [],
   "source": [
    "d0.visualize(['KMeans'])"
   ]
  }
 ],
 "metadata": {
  "kernelspec": {
   "display_name": "Python 3 (ipykernel)",
   "language": "python",
   "name": "python3"
  },
  "language_info": {
   "codemirror_mode": {
    "name": "ipython",
    "version": 3
   },
   "file_extension": ".py",
   "mimetype": "text/x-python",
   "name": "python",
   "nbconvert_exporter": "python",
   "pygments_lexer": "ipython3",
   "version": "3.8.2"
  }
 },
 "nbformat": 4,
 "nbformat_minor": 5
}
