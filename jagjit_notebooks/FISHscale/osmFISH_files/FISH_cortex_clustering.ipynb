{
 "cells": [
  {
   "cell_type": "markdown",
   "metadata": {
    "deletable": true,
    "editable": true
   },
   "source": [
    "Analysis on segmented smFISH dataset May 2017"
   ]
  },
  {
   "cell_type": "markdown",
   "metadata": {
    "deletable": true,
    "editable": true
   },
   "source": [
    "TODO  \n",
    "\n",
    "* Look into cutoffs. Do they make sense, do they need to be different? then run everything again\n",
    "* Repeat all the plots with the clusters (cell size, count etc)\n",
    "* For each cell find a way to see how good it fits to its cluster. (similarity to the mean cell?)\n",
    "* For each cell find the similarity with the other clusters (find doublets)\n",
    "* Is there an relationship between doublets and cell size?\n",
    "* Size correction of cells\n",
    "* If clusterd on the fold change data, the clusters are very clear, but a third of the cells cluster together because they have low gene expression\n",
    "    - If we want to say something about gene expression per cluster, maybe we should do that on this clustering and discard the 'bad cells'\n",
    "    - Look at how uniform expression is, are there expression level differences. etc.\n",
    "* Look into functions Cell Profiler. that is in python "
   ]
  },
  {
   "cell_type": "code",
   "execution_count": 1,
   "metadata": {
    "ExecuteTime": {
     "end_time": "2017-10-23T15:35:54.408994Z",
     "start_time": "2017-10-23T15:35:53.672741Z"
    },
    "collapsed": false,
    "deletable": true,
    "editable": true
   },
   "outputs": [],
   "source": [
    "import loompy\n",
    "import pandas as pd\n",
    "import numpy as np\n",
    "import matplotlib\n",
    "import matplotlib.pyplot as plt\n",
    "from matplotlib.ticker import FuncFormatter\n",
    "plt.rcParams.update({'figure.max_open_warning': 150})\n",
    "from sklearn.decomposition import PCA\n",
    "from sklearn.manifold import TSNE\n",
    "from sklearn.cluster import AgglomerativeClustering\n",
    "import pickle\n",
    "import scipy.stats as stats\n",
    "from mpl_toolkits.axes_grid1 import make_axes_locatable\n",
    "\n",
    "from fastcluster import linkage\n",
    "import polo # \n",
    "from polo import optimal_leaf_ordering #from polo import polo\n",
    "#Paper: http://bioinformatics.oxfordjournals.org/content/17/suppl_1/S22.long\n",
    "\n",
    "from scipy.spatial.distance import pdist\n",
    "\n",
    "from scipy.cluster import hierarchy\n",
    "from collections import Counter\n",
    "\n",
    "#import cytograph\n",
    "%matplotlib notebook"
   ]
  },
  {
   "cell_type": "markdown",
   "metadata": {
    "deletable": true,
    "editable": true
   },
   "source": [
    "# Open, clean and transform file"
   ]
  },
  {
   "cell_type": "code",
   "execution_count": 2,
   "metadata": {
    "ExecuteTime": {
     "end_time": "2017-10-23T15:35:54.423626Z",
     "start_time": "2017-10-23T15:35:54.410566Z"
    },
    "collapsed": false,
    "deletable": true,
    "editable": true
   },
   "outputs": [
    {
     "data": {
      "text/html": [
       "<p>(39 genes, 6471 cells, 1 layers)<br/>/home/lars/storage/Documents/Cortex_FISH/CountsV1-1.loom<br/><table><tr><td>&nbsp;</td><td><strong>CellID</strong></td><td>1124</td><td>2325</td><td>2400</td><td>241</td><td>6248</td><td>5992</td><td>275</td><td>2573</td><td>330</td><td>1149</td><td>...</td></tr><tr><td>&nbsp;</td><td><strong>CellArea</strong></td><td>23939.0</td><td>13532.0</td><td>28819.0</td><td>40777.0</td><td>16303.0</td><td>9065.0</td><td>23155.0</td><td>44564.0</td><td>18963.0</td><td>19373.0</td><td>...</td></tr><tr><td><strong>genes</strong></td><td>&nbsp;</td><td>&nbsp;</td><td>&nbsp;</td><td>&nbsp;</td><td>&nbsp;</td><td>&nbsp;</td><td>&nbsp;</td><td>&nbsp;</td><td>&nbsp;</td><td>&nbsp;</td><td>&nbsp;</td><td>...</td></tr><tr><td>Hybridization1_Tbr1</td><td>&nbsp;</td><td>13.0</td><td>11.0</td><td>28.0</td><td>12.0</td><td>7.0</td><td>6.0</td><td>14.0</td><td>24.0</td><td>5.0</td><td>3.0</td><td>...</td></tr><tr><td>Hybridization1_Aldoc</td><td>&nbsp;</td><td>38.0</td><td>0.0</td><td>9.0</td><td>5.0</td><td>38.0</td><td>2.0</td><td>4.0</td><td>3.0</td><td>7.0</td><td>10.0</td><td>...</td></tr><tr><td>Hybridization1_Foxj1</td><td>&nbsp;</td><td>0.0</td><td>0.0</td><td>0.0</td><td>1.0</td><td>5.0</td><td>0.0</td><td>3.0</td><td>1.0</td><td>1.0</td><td>1.0</td><td>...</td></tr><tr><td>Hybridization6_Bmp4</td><td>&nbsp;</td><td>1.0</td><td>0.0</td><td>0.0</td><td>0.0</td><td>0.0</td><td>0.0</td><td>0.0</td><td>0.0</td><td>1.0</td><td>0.0</td><td>...</td></tr><tr><td>Hybridization6_Itpr2</td><td>&nbsp;</td><td>4.0</td><td>0.0</td><td>0.0</td><td>1.0</td><td>0.0</td><td>0.0</td><td>1.0</td><td>0.0</td><td>2.0</td><td>1.0</td><td>...</td></tr><tr><td>Hybridization6_Vip</td><td>&nbsp;</td><td>13.0</td><td>1.0</td><td>2.0</td><td>4.0</td><td>30.0</td><td>1.0</td><td>3.0</td><td>2.0</td><td>1.0</td><td>4.0</td><td>...</td></tr><tr><td>Hybridization4_Cnr1</td><td>&nbsp;</td><td>0.0</td><td>0.0</td><td>0.0</td><td>0.0</td><td>65.0</td><td>5.0</td><td>0.0</td><td>0.0</td><td>0.0</td><td>0.0</td><td>...</td></tr><tr><td>Hybridization4_Plp1</td><td>&nbsp;</td><td>16.0</td><td>0.0</td><td>0.0</td><td>0.0</td><td>8.0</td><td>0.0</td><td>0.0</td><td>6.0</td><td>0.0</td><td>0.0</td><td>...</td></tr><tr><td>Hybridization4_Vtn</td><td>&nbsp;</td><td>0.0</td><td>0.0</td><td>0.0</td><td>2.0</td><td>4.0</td><td>0.0</td><td>2.0</td><td>1.0</td><td>1.0</td><td>0.0</td><td>...</td></tr><tr><td>Hybridization7_Rorb</td><td>&nbsp;</td><td>4.0</td><td>0.0</td><td>0.0</td><td>1.0</td><td>0.0</td><td>4.0</td><td>0.0</td><td>0.0</td><td>2.0</td><td>3.0</td><td>...</td></tr><tr><td>...</td><td>...</td><td>...</td><td>...</td><td>...</td><td>...</td><td>...</td><td>...</td><td>...</td><td>...</td><td>...</td><td>...</td><td>...</td></tr></table>"
      ],
      "text/plain": [
       "<loompy.loompy.LoomConnection at 0x7f30cc311278>"
      ]
     },
     "execution_count": 2,
     "metadata": {},
     "output_type": "execute_result"
    }
   ],
   "source": [
    "file_name = '/home/lars/storage/Documents/Cortex_FISH/CountsV1-1.loom'\n",
    "ds = loompy.connect(file_name)\n",
    "ds"
   ]
  },
  {
   "cell_type": "code",
   "execution_count": 3,
   "metadata": {
    "ExecuteTime": {
     "end_time": "2017-10-23T15:35:54.444689Z",
     "start_time": "2017-10-23T15:35:54.424639Z"
    },
    "collapsed": true,
    "deletable": true,
    "editable": true
   },
   "outputs": [],
   "source": [
    "cell_size = dict(zip(ds.CellID, ds.CellArea))"
   ]
  },
  {
   "cell_type": "code",
   "execution_count": 4,
   "metadata": {
    "ExecuteTime": {
     "end_time": "2017-10-23T15:35:54.458049Z",
     "start_time": "2017-10-23T15:35:54.445831Z"
    },
    "collapsed": false,
    "deletable": true,
    "editable": true
   },
   "outputs": [
    {
     "name": "stdout",
     "output_type": "stream",
     "text": [
      "Low cutoff:  8.45  square um\n",
      "High cutoff:  253.5  square um\n",
      "A 10um diameter is an area of 78.5um2\n"
     ]
    }
   ],
   "source": [
    "#Cell area to square um\n",
    "(np.sqrt(ds.CellArea)*0.065)**2\n",
    "print('Low cutoff: ',(np.sqrt(2000)*0.065)**2, ' square um')\n",
    "print('High cutoff: ',(np.sqrt(60000)*0.065)**2, ' square um')\n",
    "print('A 10um diameter is an area of {}um2'.format(round(np.pi*5**2,1)))"
   ]
  },
  {
   "cell_type": "code",
   "execution_count": 5,
   "metadata": {
    "ExecuteTime": {
     "end_time": "2017-10-23T15:35:54.690314Z",
     "start_time": "2017-10-23T15:35:54.459193Z"
    },
    "collapsed": false,
    "deletable": true,
    "editable": true
   },
   "outputs": [
    {
     "data": {
      "application/javascript": [
       "/* Put everything inside the global mpl namespace */\n",
       "window.mpl = {};\n",
       "\n",
       "mpl.get_websocket_type = function() {\n",
       "    if (typeof(WebSocket) !== 'undefined') {\n",
       "        return WebSocket;\n",
       "    } else if (typeof(MozWebSocket) !== 'undefined') {\n",
       "        return MozWebSocket;\n",
       "    } else {\n",
       "        alert('Your browser does not have WebSocket support.' +\n",
       "              'Please try Chrome, Safari or Firefox ≥ 6. ' +\n",
       "              'Firefox 4 and 5 are also supported but you ' +\n",
       "              'have to enable WebSockets in about:config.');\n",
       "    };\n",
       "}\n",
       "\n",
       "mpl.figure = function(figure_id, websocket, ondownload, parent_element) {\n",
       "    this.id = figure_id;\n",
       "\n",
       "    this.ws = websocket;\n",
       "\n",
       "    this.supports_binary = (this.ws.binaryType != undefined);\n",
       "\n",
       "    if (!this.supports_binary) {\n",
       "        var warnings = document.getElementById(\"mpl-warnings\");\n",
       "        if (warnings) {\n",
       "            warnings.style.display = 'block';\n",
       "            warnings.textContent = (\n",
       "                \"This browser does not support binary websocket messages. \" +\n",
       "                    \"Performance may be slow.\");\n",
       "        }\n",
       "    }\n",
       "\n",
       "    this.imageObj = new Image();\n",
       "\n",
       "    this.context = undefined;\n",
       "    this.message = undefined;\n",
       "    this.canvas = undefined;\n",
       "    this.rubberband_canvas = undefined;\n",
       "    this.rubberband_context = undefined;\n",
       "    this.format_dropdown = undefined;\n",
       "\n",
       "    this.image_mode = 'full';\n",
       "\n",
       "    this.root = $('<div/>');\n",
       "    this._root_extra_style(this.root)\n",
       "    this.root.attr('style', 'display: inline-block');\n",
       "\n",
       "    $(parent_element).append(this.root);\n",
       "\n",
       "    this._init_header(this);\n",
       "    this._init_canvas(this);\n",
       "    this._init_toolbar(this);\n",
       "\n",
       "    var fig = this;\n",
       "\n",
       "    this.waiting = false;\n",
       "\n",
       "    this.ws.onopen =  function () {\n",
       "            fig.send_message(\"supports_binary\", {value: fig.supports_binary});\n",
       "            fig.send_message(\"send_image_mode\", {});\n",
       "            fig.send_message(\"refresh\", {});\n",
       "        }\n",
       "\n",
       "    this.imageObj.onload = function() {\n",
       "            if (fig.image_mode == 'full') {\n",
       "                // Full images could contain transparency (where diff images\n",
       "                // almost always do), so we need to clear the canvas so that\n",
       "                // there is no ghosting.\n",
       "                fig.context.clearRect(0, 0, fig.canvas.width, fig.canvas.height);\n",
       "            }\n",
       "            fig.context.drawImage(fig.imageObj, 0, 0);\n",
       "        };\n",
       "\n",
       "    this.imageObj.onunload = function() {\n",
       "        this.ws.close();\n",
       "    }\n",
       "\n",
       "    this.ws.onmessage = this._make_on_message_function(this);\n",
       "\n",
       "    this.ondownload = ondownload;\n",
       "}\n",
       "\n",
       "mpl.figure.prototype._init_header = function() {\n",
       "    var titlebar = $(\n",
       "        '<div class=\"ui-dialog-titlebar ui-widget-header ui-corner-all ' +\n",
       "        'ui-helper-clearfix\"/>');\n",
       "    var titletext = $(\n",
       "        '<div class=\"ui-dialog-title\" style=\"width: 100%; ' +\n",
       "        'text-align: center; padding: 3px;\"/>');\n",
       "    titlebar.append(titletext)\n",
       "    this.root.append(titlebar);\n",
       "    this.header = titletext[0];\n",
       "}\n",
       "\n",
       "\n",
       "\n",
       "mpl.figure.prototype._canvas_extra_style = function(canvas_div) {\n",
       "\n",
       "}\n",
       "\n",
       "\n",
       "mpl.figure.prototype._root_extra_style = function(canvas_div) {\n",
       "\n",
       "}\n",
       "\n",
       "mpl.figure.prototype._init_canvas = function() {\n",
       "    var fig = this;\n",
       "\n",
       "    var canvas_div = $('<div/>');\n",
       "\n",
       "    canvas_div.attr('style', 'position: relative; clear: both; outline: 0');\n",
       "\n",
       "    function canvas_keyboard_event(event) {\n",
       "        return fig.key_event(event, event['data']);\n",
       "    }\n",
       "\n",
       "    canvas_div.keydown('key_press', canvas_keyboard_event);\n",
       "    canvas_div.keyup('key_release', canvas_keyboard_event);\n",
       "    this.canvas_div = canvas_div\n",
       "    this._canvas_extra_style(canvas_div)\n",
       "    this.root.append(canvas_div);\n",
       "\n",
       "    var canvas = $('<canvas/>');\n",
       "    canvas.addClass('mpl-canvas');\n",
       "    canvas.attr('style', \"left: 0; top: 0; z-index: 0; outline: 0\")\n",
       "\n",
       "    this.canvas = canvas[0];\n",
       "    this.context = canvas[0].getContext(\"2d\");\n",
       "\n",
       "    var rubberband = $('<canvas/>');\n",
       "    rubberband.attr('style', \"position: absolute; left: 0; top: 0; z-index: 1;\")\n",
       "\n",
       "    var pass_mouse_events = true;\n",
       "\n",
       "    canvas_div.resizable({\n",
       "        start: function(event, ui) {\n",
       "            pass_mouse_events = false;\n",
       "        },\n",
       "        resize: function(event, ui) {\n",
       "            fig.request_resize(ui.size.width, ui.size.height);\n",
       "        },\n",
       "        stop: function(event, ui) {\n",
       "            pass_mouse_events = true;\n",
       "            fig.request_resize(ui.size.width, ui.size.height);\n",
       "        },\n",
       "    });\n",
       "\n",
       "    function mouse_event_fn(event) {\n",
       "        if (pass_mouse_events)\n",
       "            return fig.mouse_event(event, event['data']);\n",
       "    }\n",
       "\n",
       "    rubberband.mousedown('button_press', mouse_event_fn);\n",
       "    rubberband.mouseup('button_release', mouse_event_fn);\n",
       "    // Throttle sequential mouse events to 1 every 20ms.\n",
       "    rubberband.mousemove('motion_notify', mouse_event_fn);\n",
       "\n",
       "    rubberband.mouseenter('figure_enter', mouse_event_fn);\n",
       "    rubberband.mouseleave('figure_leave', mouse_event_fn);\n",
       "\n",
       "    canvas_div.on(\"wheel\", function (event) {\n",
       "        event = event.originalEvent;\n",
       "        event['data'] = 'scroll'\n",
       "        if (event.deltaY < 0) {\n",
       "            event.step = 1;\n",
       "        } else {\n",
       "            event.step = -1;\n",
       "        }\n",
       "        mouse_event_fn(event);\n",
       "    });\n",
       "\n",
       "    canvas_div.append(canvas);\n",
       "    canvas_div.append(rubberband);\n",
       "\n",
       "    this.rubberband = rubberband;\n",
       "    this.rubberband_canvas = rubberband[0];\n",
       "    this.rubberband_context = rubberband[0].getContext(\"2d\");\n",
       "    this.rubberband_context.strokeStyle = \"#000000\";\n",
       "\n",
       "    this._resize_canvas = function(width, height) {\n",
       "        // Keep the size of the canvas, canvas container, and rubber band\n",
       "        // canvas in synch.\n",
       "        canvas_div.css('width', width)\n",
       "        canvas_div.css('height', height)\n",
       "\n",
       "        canvas.attr('width', width);\n",
       "        canvas.attr('height', height);\n",
       "\n",
       "        rubberband.attr('width', width);\n",
       "        rubberband.attr('height', height);\n",
       "    }\n",
       "\n",
       "    // Set the figure to an initial 600x600px, this will subsequently be updated\n",
       "    // upon first draw.\n",
       "    this._resize_canvas(600, 600);\n",
       "\n",
       "    // Disable right mouse context menu.\n",
       "    $(this.rubberband_canvas).bind(\"contextmenu\",function(e){\n",
       "        return false;\n",
       "    });\n",
       "\n",
       "    function set_focus () {\n",
       "        canvas.focus();\n",
       "        canvas_div.focus();\n",
       "    }\n",
       "\n",
       "    window.setTimeout(set_focus, 100);\n",
       "}\n",
       "\n",
       "mpl.figure.prototype._init_toolbar = function() {\n",
       "    var fig = this;\n",
       "\n",
       "    var nav_element = $('<div/>')\n",
       "    nav_element.attr('style', 'width: 100%');\n",
       "    this.root.append(nav_element);\n",
       "\n",
       "    // Define a callback function for later on.\n",
       "    function toolbar_event(event) {\n",
       "        return fig.toolbar_button_onclick(event['data']);\n",
       "    }\n",
       "    function toolbar_mouse_event(event) {\n",
       "        return fig.toolbar_button_onmouseover(event['data']);\n",
       "    }\n",
       "\n",
       "    for(var toolbar_ind in mpl.toolbar_items) {\n",
       "        var name = mpl.toolbar_items[toolbar_ind][0];\n",
       "        var tooltip = mpl.toolbar_items[toolbar_ind][1];\n",
       "        var image = mpl.toolbar_items[toolbar_ind][2];\n",
       "        var method_name = mpl.toolbar_items[toolbar_ind][3];\n",
       "\n",
       "        if (!name) {\n",
       "            // put a spacer in here.\n",
       "            continue;\n",
       "        }\n",
       "        var button = $('<button/>');\n",
       "        button.addClass('ui-button ui-widget ui-state-default ui-corner-all ' +\n",
       "                        'ui-button-icon-only');\n",
       "        button.attr('role', 'button');\n",
       "        button.attr('aria-disabled', 'false');\n",
       "        button.click(method_name, toolbar_event);\n",
       "        button.mouseover(tooltip, toolbar_mouse_event);\n",
       "\n",
       "        var icon_img = $('<span/>');\n",
       "        icon_img.addClass('ui-button-icon-primary ui-icon');\n",
       "        icon_img.addClass(image);\n",
       "        icon_img.addClass('ui-corner-all');\n",
       "\n",
       "        var tooltip_span = $('<span/>');\n",
       "        tooltip_span.addClass('ui-button-text');\n",
       "        tooltip_span.html(tooltip);\n",
       "\n",
       "        button.append(icon_img);\n",
       "        button.append(tooltip_span);\n",
       "\n",
       "        nav_element.append(button);\n",
       "    }\n",
       "\n",
       "    var fmt_picker_span = $('<span/>');\n",
       "\n",
       "    var fmt_picker = $('<select/>');\n",
       "    fmt_picker.addClass('mpl-toolbar-option ui-widget ui-widget-content');\n",
       "    fmt_picker_span.append(fmt_picker);\n",
       "    nav_element.append(fmt_picker_span);\n",
       "    this.format_dropdown = fmt_picker[0];\n",
       "\n",
       "    for (var ind in mpl.extensions) {\n",
       "        var fmt = mpl.extensions[ind];\n",
       "        var option = $(\n",
       "            '<option/>', {selected: fmt === mpl.default_extension}).html(fmt);\n",
       "        fmt_picker.append(option)\n",
       "    }\n",
       "\n",
       "    // Add hover states to the ui-buttons\n",
       "    $( \".ui-button\" ).hover(\n",
       "        function() { $(this).addClass(\"ui-state-hover\");},\n",
       "        function() { $(this).removeClass(\"ui-state-hover\");}\n",
       "    );\n",
       "\n",
       "    var status_bar = $('<span class=\"mpl-message\"/>');\n",
       "    nav_element.append(status_bar);\n",
       "    this.message = status_bar[0];\n",
       "}\n",
       "\n",
       "mpl.figure.prototype.request_resize = function(x_pixels, y_pixels) {\n",
       "    // Request matplotlib to resize the figure. Matplotlib will then trigger a resize in the client,\n",
       "    // which will in turn request a refresh of the image.\n",
       "    this.send_message('resize', {'width': x_pixels, 'height': y_pixels});\n",
       "}\n",
       "\n",
       "mpl.figure.prototype.send_message = function(type, properties) {\n",
       "    properties['type'] = type;\n",
       "    properties['figure_id'] = this.id;\n",
       "    this.ws.send(JSON.stringify(properties));\n",
       "}\n",
       "\n",
       "mpl.figure.prototype.send_draw_message = function() {\n",
       "    if (!this.waiting) {\n",
       "        this.waiting = true;\n",
       "        this.ws.send(JSON.stringify({type: \"draw\", figure_id: this.id}));\n",
       "    }\n",
       "}\n",
       "\n",
       "\n",
       "mpl.figure.prototype.handle_save = function(fig, msg) {\n",
       "    var format_dropdown = fig.format_dropdown;\n",
       "    var format = format_dropdown.options[format_dropdown.selectedIndex].value;\n",
       "    fig.ondownload(fig, format);\n",
       "}\n",
       "\n",
       "\n",
       "mpl.figure.prototype.handle_resize = function(fig, msg) {\n",
       "    var size = msg['size'];\n",
       "    if (size[0] != fig.canvas.width || size[1] != fig.canvas.height) {\n",
       "        fig._resize_canvas(size[0], size[1]);\n",
       "        fig.send_message(\"refresh\", {});\n",
       "    };\n",
       "}\n",
       "\n",
       "mpl.figure.prototype.handle_rubberband = function(fig, msg) {\n",
       "    var x0 = msg['x0'];\n",
       "    var y0 = fig.canvas.height - msg['y0'];\n",
       "    var x1 = msg['x1'];\n",
       "    var y1 = fig.canvas.height - msg['y1'];\n",
       "    x0 = Math.floor(x0) + 0.5;\n",
       "    y0 = Math.floor(y0) + 0.5;\n",
       "    x1 = Math.floor(x1) + 0.5;\n",
       "    y1 = Math.floor(y1) + 0.5;\n",
       "    var min_x = Math.min(x0, x1);\n",
       "    var min_y = Math.min(y0, y1);\n",
       "    var width = Math.abs(x1 - x0);\n",
       "    var height = Math.abs(y1 - y0);\n",
       "\n",
       "    fig.rubberband_context.clearRect(\n",
       "        0, 0, fig.canvas.width, fig.canvas.height);\n",
       "\n",
       "    fig.rubberband_context.strokeRect(min_x, min_y, width, height);\n",
       "}\n",
       "\n",
       "mpl.figure.prototype.handle_figure_label = function(fig, msg) {\n",
       "    // Updates the figure title.\n",
       "    fig.header.textContent = msg['label'];\n",
       "}\n",
       "\n",
       "mpl.figure.prototype.handle_cursor = function(fig, msg) {\n",
       "    var cursor = msg['cursor'];\n",
       "    switch(cursor)\n",
       "    {\n",
       "    case 0:\n",
       "        cursor = 'pointer';\n",
       "        break;\n",
       "    case 1:\n",
       "        cursor = 'default';\n",
       "        break;\n",
       "    case 2:\n",
       "        cursor = 'crosshair';\n",
       "        break;\n",
       "    case 3:\n",
       "        cursor = 'move';\n",
       "        break;\n",
       "    }\n",
       "    fig.rubberband_canvas.style.cursor = cursor;\n",
       "}\n",
       "\n",
       "mpl.figure.prototype.handle_message = function(fig, msg) {\n",
       "    fig.message.textContent = msg['message'];\n",
       "}\n",
       "\n",
       "mpl.figure.prototype.handle_draw = function(fig, msg) {\n",
       "    // Request the server to send over a new figure.\n",
       "    fig.send_draw_message();\n",
       "}\n",
       "\n",
       "mpl.figure.prototype.handle_image_mode = function(fig, msg) {\n",
       "    fig.image_mode = msg['mode'];\n",
       "}\n",
       "\n",
       "mpl.figure.prototype.updated_canvas_event = function() {\n",
       "    // Called whenever the canvas gets updated.\n",
       "    this.send_message(\"ack\", {});\n",
       "}\n",
       "\n",
       "// A function to construct a web socket function for onmessage handling.\n",
       "// Called in the figure constructor.\n",
       "mpl.figure.prototype._make_on_message_function = function(fig) {\n",
       "    return function socket_on_message(evt) {\n",
       "        if (evt.data instanceof Blob) {\n",
       "            /* FIXME: We get \"Resource interpreted as Image but\n",
       "             * transferred with MIME type text/plain:\" errors on\n",
       "             * Chrome.  But how to set the MIME type?  It doesn't seem\n",
       "             * to be part of the websocket stream */\n",
       "            evt.data.type = \"image/png\";\n",
       "\n",
       "            /* Free the memory for the previous frames */\n",
       "            if (fig.imageObj.src) {\n",
       "                (window.URL || window.webkitURL).revokeObjectURL(\n",
       "                    fig.imageObj.src);\n",
       "            }\n",
       "\n",
       "            fig.imageObj.src = (window.URL || window.webkitURL).createObjectURL(\n",
       "                evt.data);\n",
       "            fig.updated_canvas_event();\n",
       "            fig.waiting = false;\n",
       "            return;\n",
       "        }\n",
       "        else if (typeof evt.data === 'string' && evt.data.slice(0, 21) == \"data:image/png;base64\") {\n",
       "            fig.imageObj.src = evt.data;\n",
       "            fig.updated_canvas_event();\n",
       "            fig.waiting = false;\n",
       "            return;\n",
       "        }\n",
       "\n",
       "        var msg = JSON.parse(evt.data);\n",
       "        var msg_type = msg['type'];\n",
       "\n",
       "        // Call the  \"handle_{type}\" callback, which takes\n",
       "        // the figure and JSON message as its only arguments.\n",
       "        try {\n",
       "            var callback = fig[\"handle_\" + msg_type];\n",
       "        } catch (e) {\n",
       "            console.log(\"No handler for the '\" + msg_type + \"' message type: \", msg);\n",
       "            return;\n",
       "        }\n",
       "\n",
       "        if (callback) {\n",
       "            try {\n",
       "                // console.log(\"Handling '\" + msg_type + \"' message: \", msg);\n",
       "                callback(fig, msg);\n",
       "            } catch (e) {\n",
       "                console.log(\"Exception inside the 'handler_\" + msg_type + \"' callback:\", e, e.stack, msg);\n",
       "            }\n",
       "        }\n",
       "    };\n",
       "}\n",
       "\n",
       "// from http://stackoverflow.com/questions/1114465/getting-mouse-location-in-canvas\n",
       "mpl.findpos = function(e) {\n",
       "    //this section is from http://www.quirksmode.org/js/events_properties.html\n",
       "    var targ;\n",
       "    if (!e)\n",
       "        e = window.event;\n",
       "    if (e.target)\n",
       "        targ = e.target;\n",
       "    else if (e.srcElement)\n",
       "        targ = e.srcElement;\n",
       "    if (targ.nodeType == 3) // defeat Safari bug\n",
       "        targ = targ.parentNode;\n",
       "\n",
       "    // jQuery normalizes the pageX and pageY\n",
       "    // pageX,Y are the mouse positions relative to the document\n",
       "    // offset() returns the position of the element relative to the document\n",
       "    var x = e.pageX - $(targ).offset().left;\n",
       "    var y = e.pageY - $(targ).offset().top;\n",
       "\n",
       "    return {\"x\": x, \"y\": y};\n",
       "};\n",
       "\n",
       "/*\n",
       " * return a copy of an object with only non-object keys\n",
       " * we need this to avoid circular references\n",
       " * http://stackoverflow.com/a/24161582/3208463\n",
       " */\n",
       "function simpleKeys (original) {\n",
       "  return Object.keys(original).reduce(function (obj, key) {\n",
       "    if (typeof original[key] !== 'object')\n",
       "        obj[key] = original[key]\n",
       "    return obj;\n",
       "  }, {});\n",
       "}\n",
       "\n",
       "mpl.figure.prototype.mouse_event = function(event, name) {\n",
       "    var canvas_pos = mpl.findpos(event)\n",
       "\n",
       "    if (name === 'button_press')\n",
       "    {\n",
       "        this.canvas.focus();\n",
       "        this.canvas_div.focus();\n",
       "    }\n",
       "\n",
       "    var x = canvas_pos.x;\n",
       "    var y = canvas_pos.y;\n",
       "\n",
       "    this.send_message(name, {x: x, y: y, button: event.button,\n",
       "                             step: event.step,\n",
       "                             guiEvent: simpleKeys(event)});\n",
       "\n",
       "    /* This prevents the web browser from automatically changing to\n",
       "     * the text insertion cursor when the button is pressed.  We want\n",
       "     * to control all of the cursor setting manually through the\n",
       "     * 'cursor' event from matplotlib */\n",
       "    event.preventDefault();\n",
       "    return false;\n",
       "}\n",
       "\n",
       "mpl.figure.prototype._key_event_extra = function(event, name) {\n",
       "    // Handle any extra behaviour associated with a key event\n",
       "}\n",
       "\n",
       "mpl.figure.prototype.key_event = function(event, name) {\n",
       "\n",
       "    // Prevent repeat events\n",
       "    if (name == 'key_press')\n",
       "    {\n",
       "        if (event.which === this._key)\n",
       "            return;\n",
       "        else\n",
       "            this._key = event.which;\n",
       "    }\n",
       "    if (name == 'key_release')\n",
       "        this._key = null;\n",
       "\n",
       "    var value = '';\n",
       "    if (event.ctrlKey && event.which != 17)\n",
       "        value += \"ctrl+\";\n",
       "    if (event.altKey && event.which != 18)\n",
       "        value += \"alt+\";\n",
       "    if (event.shiftKey && event.which != 16)\n",
       "        value += \"shift+\";\n",
       "\n",
       "    value += 'k';\n",
       "    value += event.which.toString();\n",
       "\n",
       "    this._key_event_extra(event, name);\n",
       "\n",
       "    this.send_message(name, {key: value,\n",
       "                             guiEvent: simpleKeys(event)});\n",
       "    return false;\n",
       "}\n",
       "\n",
       "mpl.figure.prototype.toolbar_button_onclick = function(name) {\n",
       "    if (name == 'download') {\n",
       "        this.handle_save(this, null);\n",
       "    } else {\n",
       "        this.send_message(\"toolbar_button\", {name: name});\n",
       "    }\n",
       "};\n",
       "\n",
       "mpl.figure.prototype.toolbar_button_onmouseover = function(tooltip) {\n",
       "    this.message.textContent = tooltip;\n",
       "};\n",
       "mpl.toolbar_items = [[\"Home\", \"Reset original view\", \"fa fa-home icon-home\", \"home\"], [\"Back\", \"Back to  previous view\", \"fa fa-arrow-left icon-arrow-left\", \"back\"], [\"Forward\", \"Forward to next view\", \"fa fa-arrow-right icon-arrow-right\", \"forward\"], [\"\", \"\", \"\", \"\"], [\"Pan\", \"Pan axes with left mouse, zoom with right\", \"fa fa-arrows icon-move\", \"pan\"], [\"Zoom\", \"Zoom to rectangle\", \"fa fa-square-o icon-check-empty\", \"zoom\"], [\"\", \"\", \"\", \"\"], [\"Download\", \"Download plot\", \"fa fa-floppy-o icon-save\", \"download\"]];\n",
       "\n",
       "mpl.extensions = [\"eps\", \"jpeg\", \"pdf\", \"png\", \"ps\", \"raw\", \"svg\", \"tif\"];\n",
       "\n",
       "mpl.default_extension = \"png\";var comm_websocket_adapter = function(comm) {\n",
       "    // Create a \"websocket\"-like object which calls the given IPython comm\n",
       "    // object with the appropriate methods. Currently this is a non binary\n",
       "    // socket, so there is still some room for performance tuning.\n",
       "    var ws = {};\n",
       "\n",
       "    ws.close = function() {\n",
       "        comm.close()\n",
       "    };\n",
       "    ws.send = function(m) {\n",
       "        //console.log('sending', m);\n",
       "        comm.send(m);\n",
       "    };\n",
       "    // Register the callback with on_msg.\n",
       "    comm.on_msg(function(msg) {\n",
       "        //console.log('receiving', msg['content']['data'], msg);\n",
       "        // Pass the mpl event to the overriden (by mpl) onmessage function.\n",
       "        ws.onmessage(msg['content']['data'])\n",
       "    });\n",
       "    return ws;\n",
       "}\n",
       "\n",
       "mpl.mpl_figure_comm = function(comm, msg) {\n",
       "    // This is the function which gets called when the mpl process\n",
       "    // starts-up an IPython Comm through the \"matplotlib\" channel.\n",
       "\n",
       "    var id = msg.content.data.id;\n",
       "    // Get hold of the div created by the display call when the Comm\n",
       "    // socket was opened in Python.\n",
       "    var element = $(\"#\" + id);\n",
       "    var ws_proxy = comm_websocket_adapter(comm)\n",
       "\n",
       "    function ondownload(figure, format) {\n",
       "        window.open(figure.imageObj.src);\n",
       "    }\n",
       "\n",
       "    var fig = new mpl.figure(id, ws_proxy,\n",
       "                           ondownload,\n",
       "                           element.get(0));\n",
       "\n",
       "    // Call onopen now - mpl needs it, as it is assuming we've passed it a real\n",
       "    // web socket which is closed, not our websocket->open comm proxy.\n",
       "    ws_proxy.onopen();\n",
       "\n",
       "    fig.parent_element = element.get(0);\n",
       "    fig.cell_info = mpl.find_output_cell(\"<div id='\" + id + \"'></div>\");\n",
       "    if (!fig.cell_info) {\n",
       "        console.error(\"Failed to find cell for figure\", id, fig);\n",
       "        return;\n",
       "    }\n",
       "\n",
       "    var output_index = fig.cell_info[2]\n",
       "    var cell = fig.cell_info[0];\n",
       "\n",
       "};\n",
       "\n",
       "mpl.figure.prototype.handle_close = function(fig, msg) {\n",
       "    fig.root.unbind('remove')\n",
       "\n",
       "    // Update the output cell to use the data from the current canvas.\n",
       "    fig.push_to_output();\n",
       "    var dataURL = fig.canvas.toDataURL();\n",
       "    // Re-enable the keyboard manager in IPython - without this line, in FF,\n",
       "    // the notebook keyboard shortcuts fail.\n",
       "    IPython.keyboard_manager.enable()\n",
       "    $(fig.parent_element).html('<img src=\"' + dataURL + '\">');\n",
       "    fig.close_ws(fig, msg);\n",
       "}\n",
       "\n",
       "mpl.figure.prototype.close_ws = function(fig, msg){\n",
       "    fig.send_message('closing', msg);\n",
       "    // fig.ws.close()\n",
       "}\n",
       "\n",
       "mpl.figure.prototype.push_to_output = function(remove_interactive) {\n",
       "    // Turn the data on the canvas into data in the output cell.\n",
       "    var dataURL = this.canvas.toDataURL();\n",
       "    this.cell_info[1]['text/html'] = '<img src=\"' + dataURL + '\">';\n",
       "}\n",
       "\n",
       "mpl.figure.prototype.updated_canvas_event = function() {\n",
       "    // Tell IPython that the notebook contents must change.\n",
       "    IPython.notebook.set_dirty(true);\n",
       "    this.send_message(\"ack\", {});\n",
       "    var fig = this;\n",
       "    // Wait a second, then push the new image to the DOM so\n",
       "    // that it is saved nicely (might be nice to debounce this).\n",
       "    setTimeout(function () { fig.push_to_output() }, 1000);\n",
       "}\n",
       "\n",
       "mpl.figure.prototype._init_toolbar = function() {\n",
       "    var fig = this;\n",
       "\n",
       "    var nav_element = $('<div/>')\n",
       "    nav_element.attr('style', 'width: 100%');\n",
       "    this.root.append(nav_element);\n",
       "\n",
       "    // Define a callback function for later on.\n",
       "    function toolbar_event(event) {\n",
       "        return fig.toolbar_button_onclick(event['data']);\n",
       "    }\n",
       "    function toolbar_mouse_event(event) {\n",
       "        return fig.toolbar_button_onmouseover(event['data']);\n",
       "    }\n",
       "\n",
       "    for(var toolbar_ind in mpl.toolbar_items){\n",
       "        var name = mpl.toolbar_items[toolbar_ind][0];\n",
       "        var tooltip = mpl.toolbar_items[toolbar_ind][1];\n",
       "        var image = mpl.toolbar_items[toolbar_ind][2];\n",
       "        var method_name = mpl.toolbar_items[toolbar_ind][3];\n",
       "\n",
       "        if (!name) { continue; };\n",
       "\n",
       "        var button = $('<button class=\"btn btn-default\" href=\"#\" title=\"' + name + '\"><i class=\"fa ' + image + ' fa-lg\"></i></button>');\n",
       "        button.click(method_name, toolbar_event);\n",
       "        button.mouseover(tooltip, toolbar_mouse_event);\n",
       "        nav_element.append(button);\n",
       "    }\n",
       "\n",
       "    // Add the status bar.\n",
       "    var status_bar = $('<span class=\"mpl-message\" style=\"text-align:right; float: right;\"/>');\n",
       "    nav_element.append(status_bar);\n",
       "    this.message = status_bar[0];\n",
       "\n",
       "    // Add the close button to the window.\n",
       "    var buttongrp = $('<div class=\"btn-group inline pull-right\"></div>');\n",
       "    var button = $('<button class=\"btn btn-mini btn-primary\" href=\"#\" title=\"Stop Interaction\"><i class=\"fa fa-power-off icon-remove icon-large\"></i></button>');\n",
       "    button.click(function (evt) { fig.handle_close(fig, {}); } );\n",
       "    button.mouseover('Stop Interaction', toolbar_mouse_event);\n",
       "    buttongrp.append(button);\n",
       "    var titlebar = this.root.find($('.ui-dialog-titlebar'));\n",
       "    titlebar.prepend(buttongrp);\n",
       "}\n",
       "\n",
       "mpl.figure.prototype._root_extra_style = function(el){\n",
       "    var fig = this\n",
       "    el.on(\"remove\", function(){\n",
       "\tfig.close_ws(fig, {});\n",
       "    });\n",
       "}\n",
       "\n",
       "mpl.figure.prototype._canvas_extra_style = function(el){\n",
       "    // this is important to make the div 'focusable\n",
       "    el.attr('tabindex', 0)\n",
       "    // reach out to IPython and tell the keyboard manager to turn it's self\n",
       "    // off when our div gets focus\n",
       "\n",
       "    // location in version 3\n",
       "    if (IPython.notebook.keyboard_manager) {\n",
       "        IPython.notebook.keyboard_manager.register_events(el);\n",
       "    }\n",
       "    else {\n",
       "        // location in version 2\n",
       "        IPython.keyboard_manager.register_events(el);\n",
       "    }\n",
       "\n",
       "}\n",
       "\n",
       "mpl.figure.prototype._key_event_extra = function(event, name) {\n",
       "    var manager = IPython.notebook.keyboard_manager;\n",
       "    if (!manager)\n",
       "        manager = IPython.keyboard_manager;\n",
       "\n",
       "    // Check for shift+enter\n",
       "    if (event.shiftKey && event.which == 13) {\n",
       "        this.canvas_div.blur();\n",
       "        event.shiftKey = false;\n",
       "        // Send a \"J\" for go to next cell\n",
       "        event.which = 74;\n",
       "        event.keyCode = 74;\n",
       "        manager.command_mode();\n",
       "        manager.handle_keydown(event);\n",
       "    }\n",
       "}\n",
       "\n",
       "mpl.figure.prototype.handle_save = function(fig, msg) {\n",
       "    fig.ondownload(fig, null);\n",
       "}\n",
       "\n",
       "\n",
       "mpl.find_output_cell = function(html_output) {\n",
       "    // Return the cell and output element which can be found *uniquely* in the notebook.\n",
       "    // Note - this is a bit hacky, but it is done because the \"notebook_saving.Notebook\"\n",
       "    // IPython event is triggered only after the cells have been serialised, which for\n",
       "    // our purposes (turning an active figure into a static one), is too late.\n",
       "    var cells = IPython.notebook.get_cells();\n",
       "    var ncells = cells.length;\n",
       "    for (var i=0; i<ncells; i++) {\n",
       "        var cell = cells[i];\n",
       "        if (cell.cell_type === 'code'){\n",
       "            for (var j=0; j<cell.output_area.outputs.length; j++) {\n",
       "                var data = cell.output_area.outputs[j];\n",
       "                if (data.data) {\n",
       "                    // IPython >= 3 moved mimebundle to data attribute of output\n",
       "                    data = data.data;\n",
       "                }\n",
       "                if (data['text/html'] == html_output) {\n",
       "                    return [cell, data, j];\n",
       "                }\n",
       "            }\n",
       "        }\n",
       "    }\n",
       "}\n",
       "\n",
       "// Register the function which deals with the matplotlib target/channel.\n",
       "// The kernel may be null if the page has been refreshed.\n",
       "if (IPython.notebook.kernel != null) {\n",
       "    IPython.notebook.kernel.comm_manager.register_target('matplotlib', mpl.mpl_figure_comm);\n",
       "}\n"
      ],
      "text/plain": [
       "<IPython.core.display.Javascript object>"
      ]
     },
     "metadata": {},
     "output_type": "display_data"
    },
    {
     "data": {
      "text/html": [
       "<div id='251f2cea-fe52-45f3-990a-b94b228176c6'></div>"
      ],
      "text/plain": [
       "<IPython.core.display.HTML object>"
      ]
     },
     "metadata": {},
     "output_type": "display_data"
    }
   ],
   "source": [
    "#Plot cell size\n",
    "plt.figure()\n",
    "    #In number  of pixels\n",
    "#plt.hist(ds.CellArea, bins=100, range=[2000,80000])\n",
    "    #In Square um\n",
    "plt.hist((np.sqrt(ds.CellArea)*0.065)**2, bins=100, range=[8,254])\n",
    "\n",
    "plt.xlabel('square um')\n",
    "plt.title('Cell size histogram');"
   ]
  },
  {
   "cell_type": "code",
   "execution_count": 6,
   "metadata": {
    "ExecuteTime": {
     "end_time": "2017-10-23T15:35:54.850166Z",
     "start_time": "2017-10-23T15:35:54.691366Z"
    },
    "collapsed": false,
    "deletable": true,
    "editable": true
   },
   "outputs": [
    {
     "data": {
      "application/javascript": [
       "/* Put everything inside the global mpl namespace */\n",
       "window.mpl = {};\n",
       "\n",
       "mpl.get_websocket_type = function() {\n",
       "    if (typeof(WebSocket) !== 'undefined') {\n",
       "        return WebSocket;\n",
       "    } else if (typeof(MozWebSocket) !== 'undefined') {\n",
       "        return MozWebSocket;\n",
       "    } else {\n",
       "        alert('Your browser does not have WebSocket support.' +\n",
       "              'Please try Chrome, Safari or Firefox ≥ 6. ' +\n",
       "              'Firefox 4 and 5 are also supported but you ' +\n",
       "              'have to enable WebSockets in about:config.');\n",
       "    };\n",
       "}\n",
       "\n",
       "mpl.figure = function(figure_id, websocket, ondownload, parent_element) {\n",
       "    this.id = figure_id;\n",
       "\n",
       "    this.ws = websocket;\n",
       "\n",
       "    this.supports_binary = (this.ws.binaryType != undefined);\n",
       "\n",
       "    if (!this.supports_binary) {\n",
       "        var warnings = document.getElementById(\"mpl-warnings\");\n",
       "        if (warnings) {\n",
       "            warnings.style.display = 'block';\n",
       "            warnings.textContent = (\n",
       "                \"This browser does not support binary websocket messages. \" +\n",
       "                    \"Performance may be slow.\");\n",
       "        }\n",
       "    }\n",
       "\n",
       "    this.imageObj = new Image();\n",
       "\n",
       "    this.context = undefined;\n",
       "    this.message = undefined;\n",
       "    this.canvas = undefined;\n",
       "    this.rubberband_canvas = undefined;\n",
       "    this.rubberband_context = undefined;\n",
       "    this.format_dropdown = undefined;\n",
       "\n",
       "    this.image_mode = 'full';\n",
       "\n",
       "    this.root = $('<div/>');\n",
       "    this._root_extra_style(this.root)\n",
       "    this.root.attr('style', 'display: inline-block');\n",
       "\n",
       "    $(parent_element).append(this.root);\n",
       "\n",
       "    this._init_header(this);\n",
       "    this._init_canvas(this);\n",
       "    this._init_toolbar(this);\n",
       "\n",
       "    var fig = this;\n",
       "\n",
       "    this.waiting = false;\n",
       "\n",
       "    this.ws.onopen =  function () {\n",
       "            fig.send_message(\"supports_binary\", {value: fig.supports_binary});\n",
       "            fig.send_message(\"send_image_mode\", {});\n",
       "            fig.send_message(\"refresh\", {});\n",
       "        }\n",
       "\n",
       "    this.imageObj.onload = function() {\n",
       "            if (fig.image_mode == 'full') {\n",
       "                // Full images could contain transparency (where diff images\n",
       "                // almost always do), so we need to clear the canvas so that\n",
       "                // there is no ghosting.\n",
       "                fig.context.clearRect(0, 0, fig.canvas.width, fig.canvas.height);\n",
       "            }\n",
       "            fig.context.drawImage(fig.imageObj, 0, 0);\n",
       "        };\n",
       "\n",
       "    this.imageObj.onunload = function() {\n",
       "        this.ws.close();\n",
       "    }\n",
       "\n",
       "    this.ws.onmessage = this._make_on_message_function(this);\n",
       "\n",
       "    this.ondownload = ondownload;\n",
       "}\n",
       "\n",
       "mpl.figure.prototype._init_header = function() {\n",
       "    var titlebar = $(\n",
       "        '<div class=\"ui-dialog-titlebar ui-widget-header ui-corner-all ' +\n",
       "        'ui-helper-clearfix\"/>');\n",
       "    var titletext = $(\n",
       "        '<div class=\"ui-dialog-title\" style=\"width: 100%; ' +\n",
       "        'text-align: center; padding: 3px;\"/>');\n",
       "    titlebar.append(titletext)\n",
       "    this.root.append(titlebar);\n",
       "    this.header = titletext[0];\n",
       "}\n",
       "\n",
       "\n",
       "\n",
       "mpl.figure.prototype._canvas_extra_style = function(canvas_div) {\n",
       "\n",
       "}\n",
       "\n",
       "\n",
       "mpl.figure.prototype._root_extra_style = function(canvas_div) {\n",
       "\n",
       "}\n",
       "\n",
       "mpl.figure.prototype._init_canvas = function() {\n",
       "    var fig = this;\n",
       "\n",
       "    var canvas_div = $('<div/>');\n",
       "\n",
       "    canvas_div.attr('style', 'position: relative; clear: both; outline: 0');\n",
       "\n",
       "    function canvas_keyboard_event(event) {\n",
       "        return fig.key_event(event, event['data']);\n",
       "    }\n",
       "\n",
       "    canvas_div.keydown('key_press', canvas_keyboard_event);\n",
       "    canvas_div.keyup('key_release', canvas_keyboard_event);\n",
       "    this.canvas_div = canvas_div\n",
       "    this._canvas_extra_style(canvas_div)\n",
       "    this.root.append(canvas_div);\n",
       "\n",
       "    var canvas = $('<canvas/>');\n",
       "    canvas.addClass('mpl-canvas');\n",
       "    canvas.attr('style', \"left: 0; top: 0; z-index: 0; outline: 0\")\n",
       "\n",
       "    this.canvas = canvas[0];\n",
       "    this.context = canvas[0].getContext(\"2d\");\n",
       "\n",
       "    var rubberband = $('<canvas/>');\n",
       "    rubberband.attr('style', \"position: absolute; left: 0; top: 0; z-index: 1;\")\n",
       "\n",
       "    var pass_mouse_events = true;\n",
       "\n",
       "    canvas_div.resizable({\n",
       "        start: function(event, ui) {\n",
       "            pass_mouse_events = false;\n",
       "        },\n",
       "        resize: function(event, ui) {\n",
       "            fig.request_resize(ui.size.width, ui.size.height);\n",
       "        },\n",
       "        stop: function(event, ui) {\n",
       "            pass_mouse_events = true;\n",
       "            fig.request_resize(ui.size.width, ui.size.height);\n",
       "        },\n",
       "    });\n",
       "\n",
       "    function mouse_event_fn(event) {\n",
       "        if (pass_mouse_events)\n",
       "            return fig.mouse_event(event, event['data']);\n",
       "    }\n",
       "\n",
       "    rubberband.mousedown('button_press', mouse_event_fn);\n",
       "    rubberband.mouseup('button_release', mouse_event_fn);\n",
       "    // Throttle sequential mouse events to 1 every 20ms.\n",
       "    rubberband.mousemove('motion_notify', mouse_event_fn);\n",
       "\n",
       "    rubberband.mouseenter('figure_enter', mouse_event_fn);\n",
       "    rubberband.mouseleave('figure_leave', mouse_event_fn);\n",
       "\n",
       "    canvas_div.on(\"wheel\", function (event) {\n",
       "        event = event.originalEvent;\n",
       "        event['data'] = 'scroll'\n",
       "        if (event.deltaY < 0) {\n",
       "            event.step = 1;\n",
       "        } else {\n",
       "            event.step = -1;\n",
       "        }\n",
       "        mouse_event_fn(event);\n",
       "    });\n",
       "\n",
       "    canvas_div.append(canvas);\n",
       "    canvas_div.append(rubberband);\n",
       "\n",
       "    this.rubberband = rubberband;\n",
       "    this.rubberband_canvas = rubberband[0];\n",
       "    this.rubberband_context = rubberband[0].getContext(\"2d\");\n",
       "    this.rubberband_context.strokeStyle = \"#000000\";\n",
       "\n",
       "    this._resize_canvas = function(width, height) {\n",
       "        // Keep the size of the canvas, canvas container, and rubber band\n",
       "        // canvas in synch.\n",
       "        canvas_div.css('width', width)\n",
       "        canvas_div.css('height', height)\n",
       "\n",
       "        canvas.attr('width', width);\n",
       "        canvas.attr('height', height);\n",
       "\n",
       "        rubberband.attr('width', width);\n",
       "        rubberband.attr('height', height);\n",
       "    }\n",
       "\n",
       "    // Set the figure to an initial 600x600px, this will subsequently be updated\n",
       "    // upon first draw.\n",
       "    this._resize_canvas(600, 600);\n",
       "\n",
       "    // Disable right mouse context menu.\n",
       "    $(this.rubberband_canvas).bind(\"contextmenu\",function(e){\n",
       "        return false;\n",
       "    });\n",
       "\n",
       "    function set_focus () {\n",
       "        canvas.focus();\n",
       "        canvas_div.focus();\n",
       "    }\n",
       "\n",
       "    window.setTimeout(set_focus, 100);\n",
       "}\n",
       "\n",
       "mpl.figure.prototype._init_toolbar = function() {\n",
       "    var fig = this;\n",
       "\n",
       "    var nav_element = $('<div/>')\n",
       "    nav_element.attr('style', 'width: 100%');\n",
       "    this.root.append(nav_element);\n",
       "\n",
       "    // Define a callback function for later on.\n",
       "    function toolbar_event(event) {\n",
       "        return fig.toolbar_button_onclick(event['data']);\n",
       "    }\n",
       "    function toolbar_mouse_event(event) {\n",
       "        return fig.toolbar_button_onmouseover(event['data']);\n",
       "    }\n",
       "\n",
       "    for(var toolbar_ind in mpl.toolbar_items) {\n",
       "        var name = mpl.toolbar_items[toolbar_ind][0];\n",
       "        var tooltip = mpl.toolbar_items[toolbar_ind][1];\n",
       "        var image = mpl.toolbar_items[toolbar_ind][2];\n",
       "        var method_name = mpl.toolbar_items[toolbar_ind][3];\n",
       "\n",
       "        if (!name) {\n",
       "            // put a spacer in here.\n",
       "            continue;\n",
       "        }\n",
       "        var button = $('<button/>');\n",
       "        button.addClass('ui-button ui-widget ui-state-default ui-corner-all ' +\n",
       "                        'ui-button-icon-only');\n",
       "        button.attr('role', 'button');\n",
       "        button.attr('aria-disabled', 'false');\n",
       "        button.click(method_name, toolbar_event);\n",
       "        button.mouseover(tooltip, toolbar_mouse_event);\n",
       "\n",
       "        var icon_img = $('<span/>');\n",
       "        icon_img.addClass('ui-button-icon-primary ui-icon');\n",
       "        icon_img.addClass(image);\n",
       "        icon_img.addClass('ui-corner-all');\n",
       "\n",
       "        var tooltip_span = $('<span/>');\n",
       "        tooltip_span.addClass('ui-button-text');\n",
       "        tooltip_span.html(tooltip);\n",
       "\n",
       "        button.append(icon_img);\n",
       "        button.append(tooltip_span);\n",
       "\n",
       "        nav_element.append(button);\n",
       "    }\n",
       "\n",
       "    var fmt_picker_span = $('<span/>');\n",
       "\n",
       "    var fmt_picker = $('<select/>');\n",
       "    fmt_picker.addClass('mpl-toolbar-option ui-widget ui-widget-content');\n",
       "    fmt_picker_span.append(fmt_picker);\n",
       "    nav_element.append(fmt_picker_span);\n",
       "    this.format_dropdown = fmt_picker[0];\n",
       "\n",
       "    for (var ind in mpl.extensions) {\n",
       "        var fmt = mpl.extensions[ind];\n",
       "        var option = $(\n",
       "            '<option/>', {selected: fmt === mpl.default_extension}).html(fmt);\n",
       "        fmt_picker.append(option)\n",
       "    }\n",
       "\n",
       "    // Add hover states to the ui-buttons\n",
       "    $( \".ui-button\" ).hover(\n",
       "        function() { $(this).addClass(\"ui-state-hover\");},\n",
       "        function() { $(this).removeClass(\"ui-state-hover\");}\n",
       "    );\n",
       "\n",
       "    var status_bar = $('<span class=\"mpl-message\"/>');\n",
       "    nav_element.append(status_bar);\n",
       "    this.message = status_bar[0];\n",
       "}\n",
       "\n",
       "mpl.figure.prototype.request_resize = function(x_pixels, y_pixels) {\n",
       "    // Request matplotlib to resize the figure. Matplotlib will then trigger a resize in the client,\n",
       "    // which will in turn request a refresh of the image.\n",
       "    this.send_message('resize', {'width': x_pixels, 'height': y_pixels});\n",
       "}\n",
       "\n",
       "mpl.figure.prototype.send_message = function(type, properties) {\n",
       "    properties['type'] = type;\n",
       "    properties['figure_id'] = this.id;\n",
       "    this.ws.send(JSON.stringify(properties));\n",
       "}\n",
       "\n",
       "mpl.figure.prototype.send_draw_message = function() {\n",
       "    if (!this.waiting) {\n",
       "        this.waiting = true;\n",
       "        this.ws.send(JSON.stringify({type: \"draw\", figure_id: this.id}));\n",
       "    }\n",
       "}\n",
       "\n",
       "\n",
       "mpl.figure.prototype.handle_save = function(fig, msg) {\n",
       "    var format_dropdown = fig.format_dropdown;\n",
       "    var format = format_dropdown.options[format_dropdown.selectedIndex].value;\n",
       "    fig.ondownload(fig, format);\n",
       "}\n",
       "\n",
       "\n",
       "mpl.figure.prototype.handle_resize = function(fig, msg) {\n",
       "    var size = msg['size'];\n",
       "    if (size[0] != fig.canvas.width || size[1] != fig.canvas.height) {\n",
       "        fig._resize_canvas(size[0], size[1]);\n",
       "        fig.send_message(\"refresh\", {});\n",
       "    };\n",
       "}\n",
       "\n",
       "mpl.figure.prototype.handle_rubberband = function(fig, msg) {\n",
       "    var x0 = msg['x0'];\n",
       "    var y0 = fig.canvas.height - msg['y0'];\n",
       "    var x1 = msg['x1'];\n",
       "    var y1 = fig.canvas.height - msg['y1'];\n",
       "    x0 = Math.floor(x0) + 0.5;\n",
       "    y0 = Math.floor(y0) + 0.5;\n",
       "    x1 = Math.floor(x1) + 0.5;\n",
       "    y1 = Math.floor(y1) + 0.5;\n",
       "    var min_x = Math.min(x0, x1);\n",
       "    var min_y = Math.min(y0, y1);\n",
       "    var width = Math.abs(x1 - x0);\n",
       "    var height = Math.abs(y1 - y0);\n",
       "\n",
       "    fig.rubberband_context.clearRect(\n",
       "        0, 0, fig.canvas.width, fig.canvas.height);\n",
       "\n",
       "    fig.rubberband_context.strokeRect(min_x, min_y, width, height);\n",
       "}\n",
       "\n",
       "mpl.figure.prototype.handle_figure_label = function(fig, msg) {\n",
       "    // Updates the figure title.\n",
       "    fig.header.textContent = msg['label'];\n",
       "}\n",
       "\n",
       "mpl.figure.prototype.handle_cursor = function(fig, msg) {\n",
       "    var cursor = msg['cursor'];\n",
       "    switch(cursor)\n",
       "    {\n",
       "    case 0:\n",
       "        cursor = 'pointer';\n",
       "        break;\n",
       "    case 1:\n",
       "        cursor = 'default';\n",
       "        break;\n",
       "    case 2:\n",
       "        cursor = 'crosshair';\n",
       "        break;\n",
       "    case 3:\n",
       "        cursor = 'move';\n",
       "        break;\n",
       "    }\n",
       "    fig.rubberband_canvas.style.cursor = cursor;\n",
       "}\n",
       "\n",
       "mpl.figure.prototype.handle_message = function(fig, msg) {\n",
       "    fig.message.textContent = msg['message'];\n",
       "}\n",
       "\n",
       "mpl.figure.prototype.handle_draw = function(fig, msg) {\n",
       "    // Request the server to send over a new figure.\n",
       "    fig.send_draw_message();\n",
       "}\n",
       "\n",
       "mpl.figure.prototype.handle_image_mode = function(fig, msg) {\n",
       "    fig.image_mode = msg['mode'];\n",
       "}\n",
       "\n",
       "mpl.figure.prototype.updated_canvas_event = function() {\n",
       "    // Called whenever the canvas gets updated.\n",
       "    this.send_message(\"ack\", {});\n",
       "}\n",
       "\n",
       "// A function to construct a web socket function for onmessage handling.\n",
       "// Called in the figure constructor.\n",
       "mpl.figure.prototype._make_on_message_function = function(fig) {\n",
       "    return function socket_on_message(evt) {\n",
       "        if (evt.data instanceof Blob) {\n",
       "            /* FIXME: We get \"Resource interpreted as Image but\n",
       "             * transferred with MIME type text/plain:\" errors on\n",
       "             * Chrome.  But how to set the MIME type?  It doesn't seem\n",
       "             * to be part of the websocket stream */\n",
       "            evt.data.type = \"image/png\";\n",
       "\n",
       "            /* Free the memory for the previous frames */\n",
       "            if (fig.imageObj.src) {\n",
       "                (window.URL || window.webkitURL).revokeObjectURL(\n",
       "                    fig.imageObj.src);\n",
       "            }\n",
       "\n",
       "            fig.imageObj.src = (window.URL || window.webkitURL).createObjectURL(\n",
       "                evt.data);\n",
       "            fig.updated_canvas_event();\n",
       "            fig.waiting = false;\n",
       "            return;\n",
       "        }\n",
       "        else if (typeof evt.data === 'string' && evt.data.slice(0, 21) == \"data:image/png;base64\") {\n",
       "            fig.imageObj.src = evt.data;\n",
       "            fig.updated_canvas_event();\n",
       "            fig.waiting = false;\n",
       "            return;\n",
       "        }\n",
       "\n",
       "        var msg = JSON.parse(evt.data);\n",
       "        var msg_type = msg['type'];\n",
       "\n",
       "        // Call the  \"handle_{type}\" callback, which takes\n",
       "        // the figure and JSON message as its only arguments.\n",
       "        try {\n",
       "            var callback = fig[\"handle_\" + msg_type];\n",
       "        } catch (e) {\n",
       "            console.log(\"No handler for the '\" + msg_type + \"' message type: \", msg);\n",
       "            return;\n",
       "        }\n",
       "\n",
       "        if (callback) {\n",
       "            try {\n",
       "                // console.log(\"Handling '\" + msg_type + \"' message: \", msg);\n",
       "                callback(fig, msg);\n",
       "            } catch (e) {\n",
       "                console.log(\"Exception inside the 'handler_\" + msg_type + \"' callback:\", e, e.stack, msg);\n",
       "            }\n",
       "        }\n",
       "    };\n",
       "}\n",
       "\n",
       "// from http://stackoverflow.com/questions/1114465/getting-mouse-location-in-canvas\n",
       "mpl.findpos = function(e) {\n",
       "    //this section is from http://www.quirksmode.org/js/events_properties.html\n",
       "    var targ;\n",
       "    if (!e)\n",
       "        e = window.event;\n",
       "    if (e.target)\n",
       "        targ = e.target;\n",
       "    else if (e.srcElement)\n",
       "        targ = e.srcElement;\n",
       "    if (targ.nodeType == 3) // defeat Safari bug\n",
       "        targ = targ.parentNode;\n",
       "\n",
       "    // jQuery normalizes the pageX and pageY\n",
       "    // pageX,Y are the mouse positions relative to the document\n",
       "    // offset() returns the position of the element relative to the document\n",
       "    var x = e.pageX - $(targ).offset().left;\n",
       "    var y = e.pageY - $(targ).offset().top;\n",
       "\n",
       "    return {\"x\": x, \"y\": y};\n",
       "};\n",
       "\n",
       "/*\n",
       " * return a copy of an object with only non-object keys\n",
       " * we need this to avoid circular references\n",
       " * http://stackoverflow.com/a/24161582/3208463\n",
       " */\n",
       "function simpleKeys (original) {\n",
       "  return Object.keys(original).reduce(function (obj, key) {\n",
       "    if (typeof original[key] !== 'object')\n",
       "        obj[key] = original[key]\n",
       "    return obj;\n",
       "  }, {});\n",
       "}\n",
       "\n",
       "mpl.figure.prototype.mouse_event = function(event, name) {\n",
       "    var canvas_pos = mpl.findpos(event)\n",
       "\n",
       "    if (name === 'button_press')\n",
       "    {\n",
       "        this.canvas.focus();\n",
       "        this.canvas_div.focus();\n",
       "    }\n",
       "\n",
       "    var x = canvas_pos.x;\n",
       "    var y = canvas_pos.y;\n",
       "\n",
       "    this.send_message(name, {x: x, y: y, button: event.button,\n",
       "                             step: event.step,\n",
       "                             guiEvent: simpleKeys(event)});\n",
       "\n",
       "    /* This prevents the web browser from automatically changing to\n",
       "     * the text insertion cursor when the button is pressed.  We want\n",
       "     * to control all of the cursor setting manually through the\n",
       "     * 'cursor' event from matplotlib */\n",
       "    event.preventDefault();\n",
       "    return false;\n",
       "}\n",
       "\n",
       "mpl.figure.prototype._key_event_extra = function(event, name) {\n",
       "    // Handle any extra behaviour associated with a key event\n",
       "}\n",
       "\n",
       "mpl.figure.prototype.key_event = function(event, name) {\n",
       "\n",
       "    // Prevent repeat events\n",
       "    if (name == 'key_press')\n",
       "    {\n",
       "        if (event.which === this._key)\n",
       "            return;\n",
       "        else\n",
       "            this._key = event.which;\n",
       "    }\n",
       "    if (name == 'key_release')\n",
       "        this._key = null;\n",
       "\n",
       "    var value = '';\n",
       "    if (event.ctrlKey && event.which != 17)\n",
       "        value += \"ctrl+\";\n",
       "    if (event.altKey && event.which != 18)\n",
       "        value += \"alt+\";\n",
       "    if (event.shiftKey && event.which != 16)\n",
       "        value += \"shift+\";\n",
       "\n",
       "    value += 'k';\n",
       "    value += event.which.toString();\n",
       "\n",
       "    this._key_event_extra(event, name);\n",
       "\n",
       "    this.send_message(name, {key: value,\n",
       "                             guiEvent: simpleKeys(event)});\n",
       "    return false;\n",
       "}\n",
       "\n",
       "mpl.figure.prototype.toolbar_button_onclick = function(name) {\n",
       "    if (name == 'download') {\n",
       "        this.handle_save(this, null);\n",
       "    } else {\n",
       "        this.send_message(\"toolbar_button\", {name: name});\n",
       "    }\n",
       "};\n",
       "\n",
       "mpl.figure.prototype.toolbar_button_onmouseover = function(tooltip) {\n",
       "    this.message.textContent = tooltip;\n",
       "};\n",
       "mpl.toolbar_items = [[\"Home\", \"Reset original view\", \"fa fa-home icon-home\", \"home\"], [\"Back\", \"Back to  previous view\", \"fa fa-arrow-left icon-arrow-left\", \"back\"], [\"Forward\", \"Forward to next view\", \"fa fa-arrow-right icon-arrow-right\", \"forward\"], [\"\", \"\", \"\", \"\"], [\"Pan\", \"Pan axes with left mouse, zoom with right\", \"fa fa-arrows icon-move\", \"pan\"], [\"Zoom\", \"Zoom to rectangle\", \"fa fa-square-o icon-check-empty\", \"zoom\"], [\"\", \"\", \"\", \"\"], [\"Download\", \"Download plot\", \"fa fa-floppy-o icon-save\", \"download\"]];\n",
       "\n",
       "mpl.extensions = [\"eps\", \"jpeg\", \"pdf\", \"png\", \"ps\", \"raw\", \"svg\", \"tif\"];\n",
       "\n",
       "mpl.default_extension = \"png\";var comm_websocket_adapter = function(comm) {\n",
       "    // Create a \"websocket\"-like object which calls the given IPython comm\n",
       "    // object with the appropriate methods. Currently this is a non binary\n",
       "    // socket, so there is still some room for performance tuning.\n",
       "    var ws = {};\n",
       "\n",
       "    ws.close = function() {\n",
       "        comm.close()\n",
       "    };\n",
       "    ws.send = function(m) {\n",
       "        //console.log('sending', m);\n",
       "        comm.send(m);\n",
       "    };\n",
       "    // Register the callback with on_msg.\n",
       "    comm.on_msg(function(msg) {\n",
       "        //console.log('receiving', msg['content']['data'], msg);\n",
       "        // Pass the mpl event to the overriden (by mpl) onmessage function.\n",
       "        ws.onmessage(msg['content']['data'])\n",
       "    });\n",
       "    return ws;\n",
       "}\n",
       "\n",
       "mpl.mpl_figure_comm = function(comm, msg) {\n",
       "    // This is the function which gets called when the mpl process\n",
       "    // starts-up an IPython Comm through the \"matplotlib\" channel.\n",
       "\n",
       "    var id = msg.content.data.id;\n",
       "    // Get hold of the div created by the display call when the Comm\n",
       "    // socket was opened in Python.\n",
       "    var element = $(\"#\" + id);\n",
       "    var ws_proxy = comm_websocket_adapter(comm)\n",
       "\n",
       "    function ondownload(figure, format) {\n",
       "        window.open(figure.imageObj.src);\n",
       "    }\n",
       "\n",
       "    var fig = new mpl.figure(id, ws_proxy,\n",
       "                           ondownload,\n",
       "                           element.get(0));\n",
       "\n",
       "    // Call onopen now - mpl needs it, as it is assuming we've passed it a real\n",
       "    // web socket which is closed, not our websocket->open comm proxy.\n",
       "    ws_proxy.onopen();\n",
       "\n",
       "    fig.parent_element = element.get(0);\n",
       "    fig.cell_info = mpl.find_output_cell(\"<div id='\" + id + \"'></div>\");\n",
       "    if (!fig.cell_info) {\n",
       "        console.error(\"Failed to find cell for figure\", id, fig);\n",
       "        return;\n",
       "    }\n",
       "\n",
       "    var output_index = fig.cell_info[2]\n",
       "    var cell = fig.cell_info[0];\n",
       "\n",
       "};\n",
       "\n",
       "mpl.figure.prototype.handle_close = function(fig, msg) {\n",
       "    fig.root.unbind('remove')\n",
       "\n",
       "    // Update the output cell to use the data from the current canvas.\n",
       "    fig.push_to_output();\n",
       "    var dataURL = fig.canvas.toDataURL();\n",
       "    // Re-enable the keyboard manager in IPython - without this line, in FF,\n",
       "    // the notebook keyboard shortcuts fail.\n",
       "    IPython.keyboard_manager.enable()\n",
       "    $(fig.parent_element).html('<img src=\"' + dataURL + '\">');\n",
       "    fig.close_ws(fig, msg);\n",
       "}\n",
       "\n",
       "mpl.figure.prototype.close_ws = function(fig, msg){\n",
       "    fig.send_message('closing', msg);\n",
       "    // fig.ws.close()\n",
       "}\n",
       "\n",
       "mpl.figure.prototype.push_to_output = function(remove_interactive) {\n",
       "    // Turn the data on the canvas into data in the output cell.\n",
       "    var dataURL = this.canvas.toDataURL();\n",
       "    this.cell_info[1]['text/html'] = '<img src=\"' + dataURL + '\">';\n",
       "}\n",
       "\n",
       "mpl.figure.prototype.updated_canvas_event = function() {\n",
       "    // Tell IPython that the notebook contents must change.\n",
       "    IPython.notebook.set_dirty(true);\n",
       "    this.send_message(\"ack\", {});\n",
       "    var fig = this;\n",
       "    // Wait a second, then push the new image to the DOM so\n",
       "    // that it is saved nicely (might be nice to debounce this).\n",
       "    setTimeout(function () { fig.push_to_output() }, 1000);\n",
       "}\n",
       "\n",
       "mpl.figure.prototype._init_toolbar = function() {\n",
       "    var fig = this;\n",
       "\n",
       "    var nav_element = $('<div/>')\n",
       "    nav_element.attr('style', 'width: 100%');\n",
       "    this.root.append(nav_element);\n",
       "\n",
       "    // Define a callback function for later on.\n",
       "    function toolbar_event(event) {\n",
       "        return fig.toolbar_button_onclick(event['data']);\n",
       "    }\n",
       "    function toolbar_mouse_event(event) {\n",
       "        return fig.toolbar_button_onmouseover(event['data']);\n",
       "    }\n",
       "\n",
       "    for(var toolbar_ind in mpl.toolbar_items){\n",
       "        var name = mpl.toolbar_items[toolbar_ind][0];\n",
       "        var tooltip = mpl.toolbar_items[toolbar_ind][1];\n",
       "        var image = mpl.toolbar_items[toolbar_ind][2];\n",
       "        var method_name = mpl.toolbar_items[toolbar_ind][3];\n",
       "\n",
       "        if (!name) { continue; };\n",
       "\n",
       "        var button = $('<button class=\"btn btn-default\" href=\"#\" title=\"' + name + '\"><i class=\"fa ' + image + ' fa-lg\"></i></button>');\n",
       "        button.click(method_name, toolbar_event);\n",
       "        button.mouseover(tooltip, toolbar_mouse_event);\n",
       "        nav_element.append(button);\n",
       "    }\n",
       "\n",
       "    // Add the status bar.\n",
       "    var status_bar = $('<span class=\"mpl-message\" style=\"text-align:right; float: right;\"/>');\n",
       "    nav_element.append(status_bar);\n",
       "    this.message = status_bar[0];\n",
       "\n",
       "    // Add the close button to the window.\n",
       "    var buttongrp = $('<div class=\"btn-group inline pull-right\"></div>');\n",
       "    var button = $('<button class=\"btn btn-mini btn-primary\" href=\"#\" title=\"Stop Interaction\"><i class=\"fa fa-power-off icon-remove icon-large\"></i></button>');\n",
       "    button.click(function (evt) { fig.handle_close(fig, {}); } );\n",
       "    button.mouseover('Stop Interaction', toolbar_mouse_event);\n",
       "    buttongrp.append(button);\n",
       "    var titlebar = this.root.find($('.ui-dialog-titlebar'));\n",
       "    titlebar.prepend(buttongrp);\n",
       "}\n",
       "\n",
       "mpl.figure.prototype._root_extra_style = function(el){\n",
       "    var fig = this\n",
       "    el.on(\"remove\", function(){\n",
       "\tfig.close_ws(fig, {});\n",
       "    });\n",
       "}\n",
       "\n",
       "mpl.figure.prototype._canvas_extra_style = function(el){\n",
       "    // this is important to make the div 'focusable\n",
       "    el.attr('tabindex', 0)\n",
       "    // reach out to IPython and tell the keyboard manager to turn it's self\n",
       "    // off when our div gets focus\n",
       "\n",
       "    // location in version 3\n",
       "    if (IPython.notebook.keyboard_manager) {\n",
       "        IPython.notebook.keyboard_manager.register_events(el);\n",
       "    }\n",
       "    else {\n",
       "        // location in version 2\n",
       "        IPython.keyboard_manager.register_events(el);\n",
       "    }\n",
       "\n",
       "}\n",
       "\n",
       "mpl.figure.prototype._key_event_extra = function(event, name) {\n",
       "    var manager = IPython.notebook.keyboard_manager;\n",
       "    if (!manager)\n",
       "        manager = IPython.keyboard_manager;\n",
       "\n",
       "    // Check for shift+enter\n",
       "    if (event.shiftKey && event.which == 13) {\n",
       "        this.canvas_div.blur();\n",
       "        event.shiftKey = false;\n",
       "        // Send a \"J\" for go to next cell\n",
       "        event.which = 74;\n",
       "        event.keyCode = 74;\n",
       "        manager.command_mode();\n",
       "        manager.handle_keydown(event);\n",
       "    }\n",
       "}\n",
       "\n",
       "mpl.figure.prototype.handle_save = function(fig, msg) {\n",
       "    fig.ondownload(fig, null);\n",
       "}\n",
       "\n",
       "\n",
       "mpl.find_output_cell = function(html_output) {\n",
       "    // Return the cell and output element which can be found *uniquely* in the notebook.\n",
       "    // Note - this is a bit hacky, but it is done because the \"notebook_saving.Notebook\"\n",
       "    // IPython event is triggered only after the cells have been serialised, which for\n",
       "    // our purposes (turning an active figure into a static one), is too late.\n",
       "    var cells = IPython.notebook.get_cells();\n",
       "    var ncells = cells.length;\n",
       "    for (var i=0; i<ncells; i++) {\n",
       "        var cell = cells[i];\n",
       "        if (cell.cell_type === 'code'){\n",
       "            for (var j=0; j<cell.output_area.outputs.length; j++) {\n",
       "                var data = cell.output_area.outputs[j];\n",
       "                if (data.data) {\n",
       "                    // IPython >= 3 moved mimebundle to data attribute of output\n",
       "                    data = data.data;\n",
       "                }\n",
       "                if (data['text/html'] == html_output) {\n",
       "                    return [cell, data, j];\n",
       "                }\n",
       "            }\n",
       "        }\n",
       "    }\n",
       "}\n",
       "\n",
       "// Register the function which deals with the matplotlib target/channel.\n",
       "// The kernel may be null if the page has been refreshed.\n",
       "if (IPython.notebook.kernel != null) {\n",
       "    IPython.notebook.kernel.comm_manager.register_target('matplotlib', mpl.mpl_figure_comm);\n",
       "}\n"
      ],
      "text/plain": [
       "<IPython.core.display.Javascript object>"
      ]
     },
     "metadata": {},
     "output_type": "display_data"
    },
    {
     "data": {
      "text/html": [
       "<div id='2951f040-dfaa-420b-ad28-535054645171'></div>"
      ],
      "text/plain": [
       "<IPython.core.display.HTML object>"
      ]
     },
     "metadata": {},
     "output_type": "display_data"
    },
    {
     "data": {
      "text/plain": [
       "<matplotlib.text.Text at 0x7f3076db5e10>"
      ]
     },
     "execution_count": 6,
     "metadata": {},
     "output_type": "execute_result"
    }
   ],
   "source": [
    "#Plot molecule count\n",
    "plt.figure()\n",
    "df_mol_count=pd.DataFrame(data=ds[:,:], columns=ds.col_attrs['CellID'], index=ds.row_attrs['genes']).astype(int)\n",
    "plt.hist(df_mol_count.sum(axis=0), bins=100, range=[0,2000])\n",
    "plt.xlabel('molecules')\n",
    "plt.title('Molecule count')"
   ]
  },
  {
   "cell_type": "code",
   "execution_count": 7,
   "metadata": {
    "ExecuteTime": {
     "end_time": "2017-10-23T15:35:54.947931Z",
     "start_time": "2017-10-23T15:35:54.852205Z"
    },
    "collapsed": false,
    "deletable": true,
    "editable": true,
    "scrolled": false
   },
   "outputs": [
    {
     "data": {
      "application/javascript": [
       "/* Put everything inside the global mpl namespace */\n",
       "window.mpl = {};\n",
       "\n",
       "mpl.get_websocket_type = function() {\n",
       "    if (typeof(WebSocket) !== 'undefined') {\n",
       "        return WebSocket;\n",
       "    } else if (typeof(MozWebSocket) !== 'undefined') {\n",
       "        return MozWebSocket;\n",
       "    } else {\n",
       "        alert('Your browser does not have WebSocket support.' +\n",
       "              'Please try Chrome, Safari or Firefox ≥ 6. ' +\n",
       "              'Firefox 4 and 5 are also supported but you ' +\n",
       "              'have to enable WebSockets in about:config.');\n",
       "    };\n",
       "}\n",
       "\n",
       "mpl.figure = function(figure_id, websocket, ondownload, parent_element) {\n",
       "    this.id = figure_id;\n",
       "\n",
       "    this.ws = websocket;\n",
       "\n",
       "    this.supports_binary = (this.ws.binaryType != undefined);\n",
       "\n",
       "    if (!this.supports_binary) {\n",
       "        var warnings = document.getElementById(\"mpl-warnings\");\n",
       "        if (warnings) {\n",
       "            warnings.style.display = 'block';\n",
       "            warnings.textContent = (\n",
       "                \"This browser does not support binary websocket messages. \" +\n",
       "                    \"Performance may be slow.\");\n",
       "        }\n",
       "    }\n",
       "\n",
       "    this.imageObj = new Image();\n",
       "\n",
       "    this.context = undefined;\n",
       "    this.message = undefined;\n",
       "    this.canvas = undefined;\n",
       "    this.rubberband_canvas = undefined;\n",
       "    this.rubberband_context = undefined;\n",
       "    this.format_dropdown = undefined;\n",
       "\n",
       "    this.image_mode = 'full';\n",
       "\n",
       "    this.root = $('<div/>');\n",
       "    this._root_extra_style(this.root)\n",
       "    this.root.attr('style', 'display: inline-block');\n",
       "\n",
       "    $(parent_element).append(this.root);\n",
       "\n",
       "    this._init_header(this);\n",
       "    this._init_canvas(this);\n",
       "    this._init_toolbar(this);\n",
       "\n",
       "    var fig = this;\n",
       "\n",
       "    this.waiting = false;\n",
       "\n",
       "    this.ws.onopen =  function () {\n",
       "            fig.send_message(\"supports_binary\", {value: fig.supports_binary});\n",
       "            fig.send_message(\"send_image_mode\", {});\n",
       "            fig.send_message(\"refresh\", {});\n",
       "        }\n",
       "\n",
       "    this.imageObj.onload = function() {\n",
       "            if (fig.image_mode == 'full') {\n",
       "                // Full images could contain transparency (where diff images\n",
       "                // almost always do), so we need to clear the canvas so that\n",
       "                // there is no ghosting.\n",
       "                fig.context.clearRect(0, 0, fig.canvas.width, fig.canvas.height);\n",
       "            }\n",
       "            fig.context.drawImage(fig.imageObj, 0, 0);\n",
       "        };\n",
       "\n",
       "    this.imageObj.onunload = function() {\n",
       "        this.ws.close();\n",
       "    }\n",
       "\n",
       "    this.ws.onmessage = this._make_on_message_function(this);\n",
       "\n",
       "    this.ondownload = ondownload;\n",
       "}\n",
       "\n",
       "mpl.figure.prototype._init_header = function() {\n",
       "    var titlebar = $(\n",
       "        '<div class=\"ui-dialog-titlebar ui-widget-header ui-corner-all ' +\n",
       "        'ui-helper-clearfix\"/>');\n",
       "    var titletext = $(\n",
       "        '<div class=\"ui-dialog-title\" style=\"width: 100%; ' +\n",
       "        'text-align: center; padding: 3px;\"/>');\n",
       "    titlebar.append(titletext)\n",
       "    this.root.append(titlebar);\n",
       "    this.header = titletext[0];\n",
       "}\n",
       "\n",
       "\n",
       "\n",
       "mpl.figure.prototype._canvas_extra_style = function(canvas_div) {\n",
       "\n",
       "}\n",
       "\n",
       "\n",
       "mpl.figure.prototype._root_extra_style = function(canvas_div) {\n",
       "\n",
       "}\n",
       "\n",
       "mpl.figure.prototype._init_canvas = function() {\n",
       "    var fig = this;\n",
       "\n",
       "    var canvas_div = $('<div/>');\n",
       "\n",
       "    canvas_div.attr('style', 'position: relative; clear: both; outline: 0');\n",
       "\n",
       "    function canvas_keyboard_event(event) {\n",
       "        return fig.key_event(event, event['data']);\n",
       "    }\n",
       "\n",
       "    canvas_div.keydown('key_press', canvas_keyboard_event);\n",
       "    canvas_div.keyup('key_release', canvas_keyboard_event);\n",
       "    this.canvas_div = canvas_div\n",
       "    this._canvas_extra_style(canvas_div)\n",
       "    this.root.append(canvas_div);\n",
       "\n",
       "    var canvas = $('<canvas/>');\n",
       "    canvas.addClass('mpl-canvas');\n",
       "    canvas.attr('style', \"left: 0; top: 0; z-index: 0; outline: 0\")\n",
       "\n",
       "    this.canvas = canvas[0];\n",
       "    this.context = canvas[0].getContext(\"2d\");\n",
       "\n",
       "    var rubberband = $('<canvas/>');\n",
       "    rubberband.attr('style', \"position: absolute; left: 0; top: 0; z-index: 1;\")\n",
       "\n",
       "    var pass_mouse_events = true;\n",
       "\n",
       "    canvas_div.resizable({\n",
       "        start: function(event, ui) {\n",
       "            pass_mouse_events = false;\n",
       "        },\n",
       "        resize: function(event, ui) {\n",
       "            fig.request_resize(ui.size.width, ui.size.height);\n",
       "        },\n",
       "        stop: function(event, ui) {\n",
       "            pass_mouse_events = true;\n",
       "            fig.request_resize(ui.size.width, ui.size.height);\n",
       "        },\n",
       "    });\n",
       "\n",
       "    function mouse_event_fn(event) {\n",
       "        if (pass_mouse_events)\n",
       "            return fig.mouse_event(event, event['data']);\n",
       "    }\n",
       "\n",
       "    rubberband.mousedown('button_press', mouse_event_fn);\n",
       "    rubberband.mouseup('button_release', mouse_event_fn);\n",
       "    // Throttle sequential mouse events to 1 every 20ms.\n",
       "    rubberband.mousemove('motion_notify', mouse_event_fn);\n",
       "\n",
       "    rubberband.mouseenter('figure_enter', mouse_event_fn);\n",
       "    rubberband.mouseleave('figure_leave', mouse_event_fn);\n",
       "\n",
       "    canvas_div.on(\"wheel\", function (event) {\n",
       "        event = event.originalEvent;\n",
       "        event['data'] = 'scroll'\n",
       "        if (event.deltaY < 0) {\n",
       "            event.step = 1;\n",
       "        } else {\n",
       "            event.step = -1;\n",
       "        }\n",
       "        mouse_event_fn(event);\n",
       "    });\n",
       "\n",
       "    canvas_div.append(canvas);\n",
       "    canvas_div.append(rubberband);\n",
       "\n",
       "    this.rubberband = rubberband;\n",
       "    this.rubberband_canvas = rubberband[0];\n",
       "    this.rubberband_context = rubberband[0].getContext(\"2d\");\n",
       "    this.rubberband_context.strokeStyle = \"#000000\";\n",
       "\n",
       "    this._resize_canvas = function(width, height) {\n",
       "        // Keep the size of the canvas, canvas container, and rubber band\n",
       "        // canvas in synch.\n",
       "        canvas_div.css('width', width)\n",
       "        canvas_div.css('height', height)\n",
       "\n",
       "        canvas.attr('width', width);\n",
       "        canvas.attr('height', height);\n",
       "\n",
       "        rubberband.attr('width', width);\n",
       "        rubberband.attr('height', height);\n",
       "    }\n",
       "\n",
       "    // Set the figure to an initial 600x600px, this will subsequently be updated\n",
       "    // upon first draw.\n",
       "    this._resize_canvas(600, 600);\n",
       "\n",
       "    // Disable right mouse context menu.\n",
       "    $(this.rubberband_canvas).bind(\"contextmenu\",function(e){\n",
       "        return false;\n",
       "    });\n",
       "\n",
       "    function set_focus () {\n",
       "        canvas.focus();\n",
       "        canvas_div.focus();\n",
       "    }\n",
       "\n",
       "    window.setTimeout(set_focus, 100);\n",
       "}\n",
       "\n",
       "mpl.figure.prototype._init_toolbar = function() {\n",
       "    var fig = this;\n",
       "\n",
       "    var nav_element = $('<div/>')\n",
       "    nav_element.attr('style', 'width: 100%');\n",
       "    this.root.append(nav_element);\n",
       "\n",
       "    // Define a callback function for later on.\n",
       "    function toolbar_event(event) {\n",
       "        return fig.toolbar_button_onclick(event['data']);\n",
       "    }\n",
       "    function toolbar_mouse_event(event) {\n",
       "        return fig.toolbar_button_onmouseover(event['data']);\n",
       "    }\n",
       "\n",
       "    for(var toolbar_ind in mpl.toolbar_items) {\n",
       "        var name = mpl.toolbar_items[toolbar_ind][0];\n",
       "        var tooltip = mpl.toolbar_items[toolbar_ind][1];\n",
       "        var image = mpl.toolbar_items[toolbar_ind][2];\n",
       "        var method_name = mpl.toolbar_items[toolbar_ind][3];\n",
       "\n",
       "        if (!name) {\n",
       "            // put a spacer in here.\n",
       "            continue;\n",
       "        }\n",
       "        var button = $('<button/>');\n",
       "        button.addClass('ui-button ui-widget ui-state-default ui-corner-all ' +\n",
       "                        'ui-button-icon-only');\n",
       "        button.attr('role', 'button');\n",
       "        button.attr('aria-disabled', 'false');\n",
       "        button.click(method_name, toolbar_event);\n",
       "        button.mouseover(tooltip, toolbar_mouse_event);\n",
       "\n",
       "        var icon_img = $('<span/>');\n",
       "        icon_img.addClass('ui-button-icon-primary ui-icon');\n",
       "        icon_img.addClass(image);\n",
       "        icon_img.addClass('ui-corner-all');\n",
       "\n",
       "        var tooltip_span = $('<span/>');\n",
       "        tooltip_span.addClass('ui-button-text');\n",
       "        tooltip_span.html(tooltip);\n",
       "\n",
       "        button.append(icon_img);\n",
       "        button.append(tooltip_span);\n",
       "\n",
       "        nav_element.append(button);\n",
       "    }\n",
       "\n",
       "    var fmt_picker_span = $('<span/>');\n",
       "\n",
       "    var fmt_picker = $('<select/>');\n",
       "    fmt_picker.addClass('mpl-toolbar-option ui-widget ui-widget-content');\n",
       "    fmt_picker_span.append(fmt_picker);\n",
       "    nav_element.append(fmt_picker_span);\n",
       "    this.format_dropdown = fmt_picker[0];\n",
       "\n",
       "    for (var ind in mpl.extensions) {\n",
       "        var fmt = mpl.extensions[ind];\n",
       "        var option = $(\n",
       "            '<option/>', {selected: fmt === mpl.default_extension}).html(fmt);\n",
       "        fmt_picker.append(option)\n",
       "    }\n",
       "\n",
       "    // Add hover states to the ui-buttons\n",
       "    $( \".ui-button\" ).hover(\n",
       "        function() { $(this).addClass(\"ui-state-hover\");},\n",
       "        function() { $(this).removeClass(\"ui-state-hover\");}\n",
       "    );\n",
       "\n",
       "    var status_bar = $('<span class=\"mpl-message\"/>');\n",
       "    nav_element.append(status_bar);\n",
       "    this.message = status_bar[0];\n",
       "}\n",
       "\n",
       "mpl.figure.prototype.request_resize = function(x_pixels, y_pixels) {\n",
       "    // Request matplotlib to resize the figure. Matplotlib will then trigger a resize in the client,\n",
       "    // which will in turn request a refresh of the image.\n",
       "    this.send_message('resize', {'width': x_pixels, 'height': y_pixels});\n",
       "}\n",
       "\n",
       "mpl.figure.prototype.send_message = function(type, properties) {\n",
       "    properties['type'] = type;\n",
       "    properties['figure_id'] = this.id;\n",
       "    this.ws.send(JSON.stringify(properties));\n",
       "}\n",
       "\n",
       "mpl.figure.prototype.send_draw_message = function() {\n",
       "    if (!this.waiting) {\n",
       "        this.waiting = true;\n",
       "        this.ws.send(JSON.stringify({type: \"draw\", figure_id: this.id}));\n",
       "    }\n",
       "}\n",
       "\n",
       "\n",
       "mpl.figure.prototype.handle_save = function(fig, msg) {\n",
       "    var format_dropdown = fig.format_dropdown;\n",
       "    var format = format_dropdown.options[format_dropdown.selectedIndex].value;\n",
       "    fig.ondownload(fig, format);\n",
       "}\n",
       "\n",
       "\n",
       "mpl.figure.prototype.handle_resize = function(fig, msg) {\n",
       "    var size = msg['size'];\n",
       "    if (size[0] != fig.canvas.width || size[1] != fig.canvas.height) {\n",
       "        fig._resize_canvas(size[0], size[1]);\n",
       "        fig.send_message(\"refresh\", {});\n",
       "    };\n",
       "}\n",
       "\n",
       "mpl.figure.prototype.handle_rubberband = function(fig, msg) {\n",
       "    var x0 = msg['x0'];\n",
       "    var y0 = fig.canvas.height - msg['y0'];\n",
       "    var x1 = msg['x1'];\n",
       "    var y1 = fig.canvas.height - msg['y1'];\n",
       "    x0 = Math.floor(x0) + 0.5;\n",
       "    y0 = Math.floor(y0) + 0.5;\n",
       "    x1 = Math.floor(x1) + 0.5;\n",
       "    y1 = Math.floor(y1) + 0.5;\n",
       "    var min_x = Math.min(x0, x1);\n",
       "    var min_y = Math.min(y0, y1);\n",
       "    var width = Math.abs(x1 - x0);\n",
       "    var height = Math.abs(y1 - y0);\n",
       "\n",
       "    fig.rubberband_context.clearRect(\n",
       "        0, 0, fig.canvas.width, fig.canvas.height);\n",
       "\n",
       "    fig.rubberband_context.strokeRect(min_x, min_y, width, height);\n",
       "}\n",
       "\n",
       "mpl.figure.prototype.handle_figure_label = function(fig, msg) {\n",
       "    // Updates the figure title.\n",
       "    fig.header.textContent = msg['label'];\n",
       "}\n",
       "\n",
       "mpl.figure.prototype.handle_cursor = function(fig, msg) {\n",
       "    var cursor = msg['cursor'];\n",
       "    switch(cursor)\n",
       "    {\n",
       "    case 0:\n",
       "        cursor = 'pointer';\n",
       "        break;\n",
       "    case 1:\n",
       "        cursor = 'default';\n",
       "        break;\n",
       "    case 2:\n",
       "        cursor = 'crosshair';\n",
       "        break;\n",
       "    case 3:\n",
       "        cursor = 'move';\n",
       "        break;\n",
       "    }\n",
       "    fig.rubberband_canvas.style.cursor = cursor;\n",
       "}\n",
       "\n",
       "mpl.figure.prototype.handle_message = function(fig, msg) {\n",
       "    fig.message.textContent = msg['message'];\n",
       "}\n",
       "\n",
       "mpl.figure.prototype.handle_draw = function(fig, msg) {\n",
       "    // Request the server to send over a new figure.\n",
       "    fig.send_draw_message();\n",
       "}\n",
       "\n",
       "mpl.figure.prototype.handle_image_mode = function(fig, msg) {\n",
       "    fig.image_mode = msg['mode'];\n",
       "}\n",
       "\n",
       "mpl.figure.prototype.updated_canvas_event = function() {\n",
       "    // Called whenever the canvas gets updated.\n",
       "    this.send_message(\"ack\", {});\n",
       "}\n",
       "\n",
       "// A function to construct a web socket function for onmessage handling.\n",
       "// Called in the figure constructor.\n",
       "mpl.figure.prototype._make_on_message_function = function(fig) {\n",
       "    return function socket_on_message(evt) {\n",
       "        if (evt.data instanceof Blob) {\n",
       "            /* FIXME: We get \"Resource interpreted as Image but\n",
       "             * transferred with MIME type text/plain:\" errors on\n",
       "             * Chrome.  But how to set the MIME type?  It doesn't seem\n",
       "             * to be part of the websocket stream */\n",
       "            evt.data.type = \"image/png\";\n",
       "\n",
       "            /* Free the memory for the previous frames */\n",
       "            if (fig.imageObj.src) {\n",
       "                (window.URL || window.webkitURL).revokeObjectURL(\n",
       "                    fig.imageObj.src);\n",
       "            }\n",
       "\n",
       "            fig.imageObj.src = (window.URL || window.webkitURL).createObjectURL(\n",
       "                evt.data);\n",
       "            fig.updated_canvas_event();\n",
       "            fig.waiting = false;\n",
       "            return;\n",
       "        }\n",
       "        else if (typeof evt.data === 'string' && evt.data.slice(0, 21) == \"data:image/png;base64\") {\n",
       "            fig.imageObj.src = evt.data;\n",
       "            fig.updated_canvas_event();\n",
       "            fig.waiting = false;\n",
       "            return;\n",
       "        }\n",
       "\n",
       "        var msg = JSON.parse(evt.data);\n",
       "        var msg_type = msg['type'];\n",
       "\n",
       "        // Call the  \"handle_{type}\" callback, which takes\n",
       "        // the figure and JSON message as its only arguments.\n",
       "        try {\n",
       "            var callback = fig[\"handle_\" + msg_type];\n",
       "        } catch (e) {\n",
       "            console.log(\"No handler for the '\" + msg_type + \"' message type: \", msg);\n",
       "            return;\n",
       "        }\n",
       "\n",
       "        if (callback) {\n",
       "            try {\n",
       "                // console.log(\"Handling '\" + msg_type + \"' message: \", msg);\n",
       "                callback(fig, msg);\n",
       "            } catch (e) {\n",
       "                console.log(\"Exception inside the 'handler_\" + msg_type + \"' callback:\", e, e.stack, msg);\n",
       "            }\n",
       "        }\n",
       "    };\n",
       "}\n",
       "\n",
       "// from http://stackoverflow.com/questions/1114465/getting-mouse-location-in-canvas\n",
       "mpl.findpos = function(e) {\n",
       "    //this section is from http://www.quirksmode.org/js/events_properties.html\n",
       "    var targ;\n",
       "    if (!e)\n",
       "        e = window.event;\n",
       "    if (e.target)\n",
       "        targ = e.target;\n",
       "    else if (e.srcElement)\n",
       "        targ = e.srcElement;\n",
       "    if (targ.nodeType == 3) // defeat Safari bug\n",
       "        targ = targ.parentNode;\n",
       "\n",
       "    // jQuery normalizes the pageX and pageY\n",
       "    // pageX,Y are the mouse positions relative to the document\n",
       "    // offset() returns the position of the element relative to the document\n",
       "    var x = e.pageX - $(targ).offset().left;\n",
       "    var y = e.pageY - $(targ).offset().top;\n",
       "\n",
       "    return {\"x\": x, \"y\": y};\n",
       "};\n",
       "\n",
       "/*\n",
       " * return a copy of an object with only non-object keys\n",
       " * we need this to avoid circular references\n",
       " * http://stackoverflow.com/a/24161582/3208463\n",
       " */\n",
       "function simpleKeys (original) {\n",
       "  return Object.keys(original).reduce(function (obj, key) {\n",
       "    if (typeof original[key] !== 'object')\n",
       "        obj[key] = original[key]\n",
       "    return obj;\n",
       "  }, {});\n",
       "}\n",
       "\n",
       "mpl.figure.prototype.mouse_event = function(event, name) {\n",
       "    var canvas_pos = mpl.findpos(event)\n",
       "\n",
       "    if (name === 'button_press')\n",
       "    {\n",
       "        this.canvas.focus();\n",
       "        this.canvas_div.focus();\n",
       "    }\n",
       "\n",
       "    var x = canvas_pos.x;\n",
       "    var y = canvas_pos.y;\n",
       "\n",
       "    this.send_message(name, {x: x, y: y, button: event.button,\n",
       "                             step: event.step,\n",
       "                             guiEvent: simpleKeys(event)});\n",
       "\n",
       "    /* This prevents the web browser from automatically changing to\n",
       "     * the text insertion cursor when the button is pressed.  We want\n",
       "     * to control all of the cursor setting manually through the\n",
       "     * 'cursor' event from matplotlib */\n",
       "    event.preventDefault();\n",
       "    return false;\n",
       "}\n",
       "\n",
       "mpl.figure.prototype._key_event_extra = function(event, name) {\n",
       "    // Handle any extra behaviour associated with a key event\n",
       "}\n",
       "\n",
       "mpl.figure.prototype.key_event = function(event, name) {\n",
       "\n",
       "    // Prevent repeat events\n",
       "    if (name == 'key_press')\n",
       "    {\n",
       "        if (event.which === this._key)\n",
       "            return;\n",
       "        else\n",
       "            this._key = event.which;\n",
       "    }\n",
       "    if (name == 'key_release')\n",
       "        this._key = null;\n",
       "\n",
       "    var value = '';\n",
       "    if (event.ctrlKey && event.which != 17)\n",
       "        value += \"ctrl+\";\n",
       "    if (event.altKey && event.which != 18)\n",
       "        value += \"alt+\";\n",
       "    if (event.shiftKey && event.which != 16)\n",
       "        value += \"shift+\";\n",
       "\n",
       "    value += 'k';\n",
       "    value += event.which.toString();\n",
       "\n",
       "    this._key_event_extra(event, name);\n",
       "\n",
       "    this.send_message(name, {key: value,\n",
       "                             guiEvent: simpleKeys(event)});\n",
       "    return false;\n",
       "}\n",
       "\n",
       "mpl.figure.prototype.toolbar_button_onclick = function(name) {\n",
       "    if (name == 'download') {\n",
       "        this.handle_save(this, null);\n",
       "    } else {\n",
       "        this.send_message(\"toolbar_button\", {name: name});\n",
       "    }\n",
       "};\n",
       "\n",
       "mpl.figure.prototype.toolbar_button_onmouseover = function(tooltip) {\n",
       "    this.message.textContent = tooltip;\n",
       "};\n",
       "mpl.toolbar_items = [[\"Home\", \"Reset original view\", \"fa fa-home icon-home\", \"home\"], [\"Back\", \"Back to  previous view\", \"fa fa-arrow-left icon-arrow-left\", \"back\"], [\"Forward\", \"Forward to next view\", \"fa fa-arrow-right icon-arrow-right\", \"forward\"], [\"\", \"\", \"\", \"\"], [\"Pan\", \"Pan axes with left mouse, zoom with right\", \"fa fa-arrows icon-move\", \"pan\"], [\"Zoom\", \"Zoom to rectangle\", \"fa fa-square-o icon-check-empty\", \"zoom\"], [\"\", \"\", \"\", \"\"], [\"Download\", \"Download plot\", \"fa fa-floppy-o icon-save\", \"download\"]];\n",
       "\n",
       "mpl.extensions = [\"eps\", \"jpeg\", \"pdf\", \"png\", \"ps\", \"raw\", \"svg\", \"tif\"];\n",
       "\n",
       "mpl.default_extension = \"png\";var comm_websocket_adapter = function(comm) {\n",
       "    // Create a \"websocket\"-like object which calls the given IPython comm\n",
       "    // object with the appropriate methods. Currently this is a non binary\n",
       "    // socket, so there is still some room for performance tuning.\n",
       "    var ws = {};\n",
       "\n",
       "    ws.close = function() {\n",
       "        comm.close()\n",
       "    };\n",
       "    ws.send = function(m) {\n",
       "        //console.log('sending', m);\n",
       "        comm.send(m);\n",
       "    };\n",
       "    // Register the callback with on_msg.\n",
       "    comm.on_msg(function(msg) {\n",
       "        //console.log('receiving', msg['content']['data'], msg);\n",
       "        // Pass the mpl event to the overriden (by mpl) onmessage function.\n",
       "        ws.onmessage(msg['content']['data'])\n",
       "    });\n",
       "    return ws;\n",
       "}\n",
       "\n",
       "mpl.mpl_figure_comm = function(comm, msg) {\n",
       "    // This is the function which gets called when the mpl process\n",
       "    // starts-up an IPython Comm through the \"matplotlib\" channel.\n",
       "\n",
       "    var id = msg.content.data.id;\n",
       "    // Get hold of the div created by the display call when the Comm\n",
       "    // socket was opened in Python.\n",
       "    var element = $(\"#\" + id);\n",
       "    var ws_proxy = comm_websocket_adapter(comm)\n",
       "\n",
       "    function ondownload(figure, format) {\n",
       "        window.open(figure.imageObj.src);\n",
       "    }\n",
       "\n",
       "    var fig = new mpl.figure(id, ws_proxy,\n",
       "                           ondownload,\n",
       "                           element.get(0));\n",
       "\n",
       "    // Call onopen now - mpl needs it, as it is assuming we've passed it a real\n",
       "    // web socket which is closed, not our websocket->open comm proxy.\n",
       "    ws_proxy.onopen();\n",
       "\n",
       "    fig.parent_element = element.get(0);\n",
       "    fig.cell_info = mpl.find_output_cell(\"<div id='\" + id + \"'></div>\");\n",
       "    if (!fig.cell_info) {\n",
       "        console.error(\"Failed to find cell for figure\", id, fig);\n",
       "        return;\n",
       "    }\n",
       "\n",
       "    var output_index = fig.cell_info[2]\n",
       "    var cell = fig.cell_info[0];\n",
       "\n",
       "};\n",
       "\n",
       "mpl.figure.prototype.handle_close = function(fig, msg) {\n",
       "    fig.root.unbind('remove')\n",
       "\n",
       "    // Update the output cell to use the data from the current canvas.\n",
       "    fig.push_to_output();\n",
       "    var dataURL = fig.canvas.toDataURL();\n",
       "    // Re-enable the keyboard manager in IPython - without this line, in FF,\n",
       "    // the notebook keyboard shortcuts fail.\n",
       "    IPython.keyboard_manager.enable()\n",
       "    $(fig.parent_element).html('<img src=\"' + dataURL + '\">');\n",
       "    fig.close_ws(fig, msg);\n",
       "}\n",
       "\n",
       "mpl.figure.prototype.close_ws = function(fig, msg){\n",
       "    fig.send_message('closing', msg);\n",
       "    // fig.ws.close()\n",
       "}\n",
       "\n",
       "mpl.figure.prototype.push_to_output = function(remove_interactive) {\n",
       "    // Turn the data on the canvas into data in the output cell.\n",
       "    var dataURL = this.canvas.toDataURL();\n",
       "    this.cell_info[1]['text/html'] = '<img src=\"' + dataURL + '\">';\n",
       "}\n",
       "\n",
       "mpl.figure.prototype.updated_canvas_event = function() {\n",
       "    // Tell IPython that the notebook contents must change.\n",
       "    IPython.notebook.set_dirty(true);\n",
       "    this.send_message(\"ack\", {});\n",
       "    var fig = this;\n",
       "    // Wait a second, then push the new image to the DOM so\n",
       "    // that it is saved nicely (might be nice to debounce this).\n",
       "    setTimeout(function () { fig.push_to_output() }, 1000);\n",
       "}\n",
       "\n",
       "mpl.figure.prototype._init_toolbar = function() {\n",
       "    var fig = this;\n",
       "\n",
       "    var nav_element = $('<div/>')\n",
       "    nav_element.attr('style', 'width: 100%');\n",
       "    this.root.append(nav_element);\n",
       "\n",
       "    // Define a callback function for later on.\n",
       "    function toolbar_event(event) {\n",
       "        return fig.toolbar_button_onclick(event['data']);\n",
       "    }\n",
       "    function toolbar_mouse_event(event) {\n",
       "        return fig.toolbar_button_onmouseover(event['data']);\n",
       "    }\n",
       "\n",
       "    for(var toolbar_ind in mpl.toolbar_items){\n",
       "        var name = mpl.toolbar_items[toolbar_ind][0];\n",
       "        var tooltip = mpl.toolbar_items[toolbar_ind][1];\n",
       "        var image = mpl.toolbar_items[toolbar_ind][2];\n",
       "        var method_name = mpl.toolbar_items[toolbar_ind][3];\n",
       "\n",
       "        if (!name) { continue; };\n",
       "\n",
       "        var button = $('<button class=\"btn btn-default\" href=\"#\" title=\"' + name + '\"><i class=\"fa ' + image + ' fa-lg\"></i></button>');\n",
       "        button.click(method_name, toolbar_event);\n",
       "        button.mouseover(tooltip, toolbar_mouse_event);\n",
       "        nav_element.append(button);\n",
       "    }\n",
       "\n",
       "    // Add the status bar.\n",
       "    var status_bar = $('<span class=\"mpl-message\" style=\"text-align:right; float: right;\"/>');\n",
       "    nav_element.append(status_bar);\n",
       "    this.message = status_bar[0];\n",
       "\n",
       "    // Add the close button to the window.\n",
       "    var buttongrp = $('<div class=\"btn-group inline pull-right\"></div>');\n",
       "    var button = $('<button class=\"btn btn-mini btn-primary\" href=\"#\" title=\"Stop Interaction\"><i class=\"fa fa-power-off icon-remove icon-large\"></i></button>');\n",
       "    button.click(function (evt) { fig.handle_close(fig, {}); } );\n",
       "    button.mouseover('Stop Interaction', toolbar_mouse_event);\n",
       "    buttongrp.append(button);\n",
       "    var titlebar = this.root.find($('.ui-dialog-titlebar'));\n",
       "    titlebar.prepend(buttongrp);\n",
       "}\n",
       "\n",
       "mpl.figure.prototype._root_extra_style = function(el){\n",
       "    var fig = this\n",
       "    el.on(\"remove\", function(){\n",
       "\tfig.close_ws(fig, {});\n",
       "    });\n",
       "}\n",
       "\n",
       "mpl.figure.prototype._canvas_extra_style = function(el){\n",
       "    // this is important to make the div 'focusable\n",
       "    el.attr('tabindex', 0)\n",
       "    // reach out to IPython and tell the keyboard manager to turn it's self\n",
       "    // off when our div gets focus\n",
       "\n",
       "    // location in version 3\n",
       "    if (IPython.notebook.keyboard_manager) {\n",
       "        IPython.notebook.keyboard_manager.register_events(el);\n",
       "    }\n",
       "    else {\n",
       "        // location in version 2\n",
       "        IPython.keyboard_manager.register_events(el);\n",
       "    }\n",
       "\n",
       "}\n",
       "\n",
       "mpl.figure.prototype._key_event_extra = function(event, name) {\n",
       "    var manager = IPython.notebook.keyboard_manager;\n",
       "    if (!manager)\n",
       "        manager = IPython.keyboard_manager;\n",
       "\n",
       "    // Check for shift+enter\n",
       "    if (event.shiftKey && event.which == 13) {\n",
       "        this.canvas_div.blur();\n",
       "        event.shiftKey = false;\n",
       "        // Send a \"J\" for go to next cell\n",
       "        event.which = 74;\n",
       "        event.keyCode = 74;\n",
       "        manager.command_mode();\n",
       "        manager.handle_keydown(event);\n",
       "    }\n",
       "}\n",
       "\n",
       "mpl.figure.prototype.handle_save = function(fig, msg) {\n",
       "    fig.ondownload(fig, null);\n",
       "}\n",
       "\n",
       "\n",
       "mpl.find_output_cell = function(html_output) {\n",
       "    // Return the cell and output element which can be found *uniquely* in the notebook.\n",
       "    // Note - this is a bit hacky, but it is done because the \"notebook_saving.Notebook\"\n",
       "    // IPython event is triggered only after the cells have been serialised, which for\n",
       "    // our purposes (turning an active figure into a static one), is too late.\n",
       "    var cells = IPython.notebook.get_cells();\n",
       "    var ncells = cells.length;\n",
       "    for (var i=0; i<ncells; i++) {\n",
       "        var cell = cells[i];\n",
       "        if (cell.cell_type === 'code'){\n",
       "            for (var j=0; j<cell.output_area.outputs.length; j++) {\n",
       "                var data = cell.output_area.outputs[j];\n",
       "                if (data.data) {\n",
       "                    // IPython >= 3 moved mimebundle to data attribute of output\n",
       "                    data = data.data;\n",
       "                }\n",
       "                if (data['text/html'] == html_output) {\n",
       "                    return [cell, data, j];\n",
       "                }\n",
       "            }\n",
       "        }\n",
       "    }\n",
       "}\n",
       "\n",
       "// Register the function which deals with the matplotlib target/channel.\n",
       "// The kernel may be null if the page has been refreshed.\n",
       "if (IPython.notebook.kernel != null) {\n",
       "    IPython.notebook.kernel.comm_manager.register_target('matplotlib', mpl.mpl_figure_comm);\n",
       "}\n"
      ],
      "text/plain": [
       "<IPython.core.display.Javascript object>"
      ]
     },
     "metadata": {},
     "output_type": "display_data"
    },
    {
     "data": {
      "text/html": [
       "<div id='ff6320fd-5acf-4439-83dc-abb1992ee84e'></div>"
      ],
      "text/plain": [
       "<IPython.core.display.HTML object>"
      ]
     },
     "metadata": {},
     "output_type": "display_data"
    },
    {
     "name": "stdout",
     "output_type": "stream",
     "text": [
      "Formula:  \n",
      "0.4395 x + 20.98\n"
     ]
    }
   ],
   "source": [
    "plt.figure()\n",
    "mol_count = df_mol_count.sum(axis=0)\n",
    "area = (np.sqrt(ds.CellArea)*0.065)**2\n",
    "\n",
    "count_area = list(zip(mol_count, area))\n",
    "#Select only cells with count<600 and area<400\n",
    "count_area = [x for x in count_area if x[0]<600 and x[1]<400]\n",
    "\n",
    "mol_count = [item[0] for item in count_area]\n",
    "area = [item[1] for item in count_area]\n",
    "\n",
    "fit = np.polyfit(mol_count, area, 1)\n",
    "fit_fn = np.poly1d(fit)\n",
    "\n",
    "plt.plot(mol_count, area, 'k+', mol_count, fit_fn(mol_count), '--k')\n",
    "\n",
    "plt.xlabel('Molecule count')\n",
    "plt.xlim(xmin=0, xmax=600)\n",
    "plt.ylabel('Area um2')\n",
    "plt.ylim(ymin=0, ymax=400)\n",
    "plt.title('Count Area')\n",
    "\n",
    "print('Formula: {}'.format(fit_fn))"
   ]
  },
  {
   "cell_type": "code",
   "execution_count": 8,
   "metadata": {
    "ExecuteTime": {
     "end_time": "2017-10-23T15:35:55.093650Z",
     "start_time": "2017-10-23T15:35:54.949713Z"
    },
    "collapsed": false,
    "deletable": true,
    "editable": true
   },
   "outputs": [
    {
     "data": {
      "application/javascript": [
       "/* Put everything inside the global mpl namespace */\n",
       "window.mpl = {};\n",
       "\n",
       "mpl.get_websocket_type = function() {\n",
       "    if (typeof(WebSocket) !== 'undefined') {\n",
       "        return WebSocket;\n",
       "    } else if (typeof(MozWebSocket) !== 'undefined') {\n",
       "        return MozWebSocket;\n",
       "    } else {\n",
       "        alert('Your browser does not have WebSocket support.' +\n",
       "              'Please try Chrome, Safari or Firefox ≥ 6. ' +\n",
       "              'Firefox 4 and 5 are also supported but you ' +\n",
       "              'have to enable WebSockets in about:config.');\n",
       "    };\n",
       "}\n",
       "\n",
       "mpl.figure = function(figure_id, websocket, ondownload, parent_element) {\n",
       "    this.id = figure_id;\n",
       "\n",
       "    this.ws = websocket;\n",
       "\n",
       "    this.supports_binary = (this.ws.binaryType != undefined);\n",
       "\n",
       "    if (!this.supports_binary) {\n",
       "        var warnings = document.getElementById(\"mpl-warnings\");\n",
       "        if (warnings) {\n",
       "            warnings.style.display = 'block';\n",
       "            warnings.textContent = (\n",
       "                \"This browser does not support binary websocket messages. \" +\n",
       "                    \"Performance may be slow.\");\n",
       "        }\n",
       "    }\n",
       "\n",
       "    this.imageObj = new Image();\n",
       "\n",
       "    this.context = undefined;\n",
       "    this.message = undefined;\n",
       "    this.canvas = undefined;\n",
       "    this.rubberband_canvas = undefined;\n",
       "    this.rubberband_context = undefined;\n",
       "    this.format_dropdown = undefined;\n",
       "\n",
       "    this.image_mode = 'full';\n",
       "\n",
       "    this.root = $('<div/>');\n",
       "    this._root_extra_style(this.root)\n",
       "    this.root.attr('style', 'display: inline-block');\n",
       "\n",
       "    $(parent_element).append(this.root);\n",
       "\n",
       "    this._init_header(this);\n",
       "    this._init_canvas(this);\n",
       "    this._init_toolbar(this);\n",
       "\n",
       "    var fig = this;\n",
       "\n",
       "    this.waiting = false;\n",
       "\n",
       "    this.ws.onopen =  function () {\n",
       "            fig.send_message(\"supports_binary\", {value: fig.supports_binary});\n",
       "            fig.send_message(\"send_image_mode\", {});\n",
       "            fig.send_message(\"refresh\", {});\n",
       "        }\n",
       "\n",
       "    this.imageObj.onload = function() {\n",
       "            if (fig.image_mode == 'full') {\n",
       "                // Full images could contain transparency (where diff images\n",
       "                // almost always do), so we need to clear the canvas so that\n",
       "                // there is no ghosting.\n",
       "                fig.context.clearRect(0, 0, fig.canvas.width, fig.canvas.height);\n",
       "            }\n",
       "            fig.context.drawImage(fig.imageObj, 0, 0);\n",
       "        };\n",
       "\n",
       "    this.imageObj.onunload = function() {\n",
       "        this.ws.close();\n",
       "    }\n",
       "\n",
       "    this.ws.onmessage = this._make_on_message_function(this);\n",
       "\n",
       "    this.ondownload = ondownload;\n",
       "}\n",
       "\n",
       "mpl.figure.prototype._init_header = function() {\n",
       "    var titlebar = $(\n",
       "        '<div class=\"ui-dialog-titlebar ui-widget-header ui-corner-all ' +\n",
       "        'ui-helper-clearfix\"/>');\n",
       "    var titletext = $(\n",
       "        '<div class=\"ui-dialog-title\" style=\"width: 100%; ' +\n",
       "        'text-align: center; padding: 3px;\"/>');\n",
       "    titlebar.append(titletext)\n",
       "    this.root.append(titlebar);\n",
       "    this.header = titletext[0];\n",
       "}\n",
       "\n",
       "\n",
       "\n",
       "mpl.figure.prototype._canvas_extra_style = function(canvas_div) {\n",
       "\n",
       "}\n",
       "\n",
       "\n",
       "mpl.figure.prototype._root_extra_style = function(canvas_div) {\n",
       "\n",
       "}\n",
       "\n",
       "mpl.figure.prototype._init_canvas = function() {\n",
       "    var fig = this;\n",
       "\n",
       "    var canvas_div = $('<div/>');\n",
       "\n",
       "    canvas_div.attr('style', 'position: relative; clear: both; outline: 0');\n",
       "\n",
       "    function canvas_keyboard_event(event) {\n",
       "        return fig.key_event(event, event['data']);\n",
       "    }\n",
       "\n",
       "    canvas_div.keydown('key_press', canvas_keyboard_event);\n",
       "    canvas_div.keyup('key_release', canvas_keyboard_event);\n",
       "    this.canvas_div = canvas_div\n",
       "    this._canvas_extra_style(canvas_div)\n",
       "    this.root.append(canvas_div);\n",
       "\n",
       "    var canvas = $('<canvas/>');\n",
       "    canvas.addClass('mpl-canvas');\n",
       "    canvas.attr('style', \"left: 0; top: 0; z-index: 0; outline: 0\")\n",
       "\n",
       "    this.canvas = canvas[0];\n",
       "    this.context = canvas[0].getContext(\"2d\");\n",
       "\n",
       "    var rubberband = $('<canvas/>');\n",
       "    rubberband.attr('style', \"position: absolute; left: 0; top: 0; z-index: 1;\")\n",
       "\n",
       "    var pass_mouse_events = true;\n",
       "\n",
       "    canvas_div.resizable({\n",
       "        start: function(event, ui) {\n",
       "            pass_mouse_events = false;\n",
       "        },\n",
       "        resize: function(event, ui) {\n",
       "            fig.request_resize(ui.size.width, ui.size.height);\n",
       "        },\n",
       "        stop: function(event, ui) {\n",
       "            pass_mouse_events = true;\n",
       "            fig.request_resize(ui.size.width, ui.size.height);\n",
       "        },\n",
       "    });\n",
       "\n",
       "    function mouse_event_fn(event) {\n",
       "        if (pass_mouse_events)\n",
       "            return fig.mouse_event(event, event['data']);\n",
       "    }\n",
       "\n",
       "    rubberband.mousedown('button_press', mouse_event_fn);\n",
       "    rubberband.mouseup('button_release', mouse_event_fn);\n",
       "    // Throttle sequential mouse events to 1 every 20ms.\n",
       "    rubberband.mousemove('motion_notify', mouse_event_fn);\n",
       "\n",
       "    rubberband.mouseenter('figure_enter', mouse_event_fn);\n",
       "    rubberband.mouseleave('figure_leave', mouse_event_fn);\n",
       "\n",
       "    canvas_div.on(\"wheel\", function (event) {\n",
       "        event = event.originalEvent;\n",
       "        event['data'] = 'scroll'\n",
       "        if (event.deltaY < 0) {\n",
       "            event.step = 1;\n",
       "        } else {\n",
       "            event.step = -1;\n",
       "        }\n",
       "        mouse_event_fn(event);\n",
       "    });\n",
       "\n",
       "    canvas_div.append(canvas);\n",
       "    canvas_div.append(rubberband);\n",
       "\n",
       "    this.rubberband = rubberband;\n",
       "    this.rubberband_canvas = rubberband[0];\n",
       "    this.rubberband_context = rubberband[0].getContext(\"2d\");\n",
       "    this.rubberband_context.strokeStyle = \"#000000\";\n",
       "\n",
       "    this._resize_canvas = function(width, height) {\n",
       "        // Keep the size of the canvas, canvas container, and rubber band\n",
       "        // canvas in synch.\n",
       "        canvas_div.css('width', width)\n",
       "        canvas_div.css('height', height)\n",
       "\n",
       "        canvas.attr('width', width);\n",
       "        canvas.attr('height', height);\n",
       "\n",
       "        rubberband.attr('width', width);\n",
       "        rubberband.attr('height', height);\n",
       "    }\n",
       "\n",
       "    // Set the figure to an initial 600x600px, this will subsequently be updated\n",
       "    // upon first draw.\n",
       "    this._resize_canvas(600, 600);\n",
       "\n",
       "    // Disable right mouse context menu.\n",
       "    $(this.rubberband_canvas).bind(\"contextmenu\",function(e){\n",
       "        return false;\n",
       "    });\n",
       "\n",
       "    function set_focus () {\n",
       "        canvas.focus();\n",
       "        canvas_div.focus();\n",
       "    }\n",
       "\n",
       "    window.setTimeout(set_focus, 100);\n",
       "}\n",
       "\n",
       "mpl.figure.prototype._init_toolbar = function() {\n",
       "    var fig = this;\n",
       "\n",
       "    var nav_element = $('<div/>')\n",
       "    nav_element.attr('style', 'width: 100%');\n",
       "    this.root.append(nav_element);\n",
       "\n",
       "    // Define a callback function for later on.\n",
       "    function toolbar_event(event) {\n",
       "        return fig.toolbar_button_onclick(event['data']);\n",
       "    }\n",
       "    function toolbar_mouse_event(event) {\n",
       "        return fig.toolbar_button_onmouseover(event['data']);\n",
       "    }\n",
       "\n",
       "    for(var toolbar_ind in mpl.toolbar_items) {\n",
       "        var name = mpl.toolbar_items[toolbar_ind][0];\n",
       "        var tooltip = mpl.toolbar_items[toolbar_ind][1];\n",
       "        var image = mpl.toolbar_items[toolbar_ind][2];\n",
       "        var method_name = mpl.toolbar_items[toolbar_ind][3];\n",
       "\n",
       "        if (!name) {\n",
       "            // put a spacer in here.\n",
       "            continue;\n",
       "        }\n",
       "        var button = $('<button/>');\n",
       "        button.addClass('ui-button ui-widget ui-state-default ui-corner-all ' +\n",
       "                        'ui-button-icon-only');\n",
       "        button.attr('role', 'button');\n",
       "        button.attr('aria-disabled', 'false');\n",
       "        button.click(method_name, toolbar_event);\n",
       "        button.mouseover(tooltip, toolbar_mouse_event);\n",
       "\n",
       "        var icon_img = $('<span/>');\n",
       "        icon_img.addClass('ui-button-icon-primary ui-icon');\n",
       "        icon_img.addClass(image);\n",
       "        icon_img.addClass('ui-corner-all');\n",
       "\n",
       "        var tooltip_span = $('<span/>');\n",
       "        tooltip_span.addClass('ui-button-text');\n",
       "        tooltip_span.html(tooltip);\n",
       "\n",
       "        button.append(icon_img);\n",
       "        button.append(tooltip_span);\n",
       "\n",
       "        nav_element.append(button);\n",
       "    }\n",
       "\n",
       "    var fmt_picker_span = $('<span/>');\n",
       "\n",
       "    var fmt_picker = $('<select/>');\n",
       "    fmt_picker.addClass('mpl-toolbar-option ui-widget ui-widget-content');\n",
       "    fmt_picker_span.append(fmt_picker);\n",
       "    nav_element.append(fmt_picker_span);\n",
       "    this.format_dropdown = fmt_picker[0];\n",
       "\n",
       "    for (var ind in mpl.extensions) {\n",
       "        var fmt = mpl.extensions[ind];\n",
       "        var option = $(\n",
       "            '<option/>', {selected: fmt === mpl.default_extension}).html(fmt);\n",
       "        fmt_picker.append(option)\n",
       "    }\n",
       "\n",
       "    // Add hover states to the ui-buttons\n",
       "    $( \".ui-button\" ).hover(\n",
       "        function() { $(this).addClass(\"ui-state-hover\");},\n",
       "        function() { $(this).removeClass(\"ui-state-hover\");}\n",
       "    );\n",
       "\n",
       "    var status_bar = $('<span class=\"mpl-message\"/>');\n",
       "    nav_element.append(status_bar);\n",
       "    this.message = status_bar[0];\n",
       "}\n",
       "\n",
       "mpl.figure.prototype.request_resize = function(x_pixels, y_pixels) {\n",
       "    // Request matplotlib to resize the figure. Matplotlib will then trigger a resize in the client,\n",
       "    // which will in turn request a refresh of the image.\n",
       "    this.send_message('resize', {'width': x_pixels, 'height': y_pixels});\n",
       "}\n",
       "\n",
       "mpl.figure.prototype.send_message = function(type, properties) {\n",
       "    properties['type'] = type;\n",
       "    properties['figure_id'] = this.id;\n",
       "    this.ws.send(JSON.stringify(properties));\n",
       "}\n",
       "\n",
       "mpl.figure.prototype.send_draw_message = function() {\n",
       "    if (!this.waiting) {\n",
       "        this.waiting = true;\n",
       "        this.ws.send(JSON.stringify({type: \"draw\", figure_id: this.id}));\n",
       "    }\n",
       "}\n",
       "\n",
       "\n",
       "mpl.figure.prototype.handle_save = function(fig, msg) {\n",
       "    var format_dropdown = fig.format_dropdown;\n",
       "    var format = format_dropdown.options[format_dropdown.selectedIndex].value;\n",
       "    fig.ondownload(fig, format);\n",
       "}\n",
       "\n",
       "\n",
       "mpl.figure.prototype.handle_resize = function(fig, msg) {\n",
       "    var size = msg['size'];\n",
       "    if (size[0] != fig.canvas.width || size[1] != fig.canvas.height) {\n",
       "        fig._resize_canvas(size[0], size[1]);\n",
       "        fig.send_message(\"refresh\", {});\n",
       "    };\n",
       "}\n",
       "\n",
       "mpl.figure.prototype.handle_rubberband = function(fig, msg) {\n",
       "    var x0 = msg['x0'];\n",
       "    var y0 = fig.canvas.height - msg['y0'];\n",
       "    var x1 = msg['x1'];\n",
       "    var y1 = fig.canvas.height - msg['y1'];\n",
       "    x0 = Math.floor(x0) + 0.5;\n",
       "    y0 = Math.floor(y0) + 0.5;\n",
       "    x1 = Math.floor(x1) + 0.5;\n",
       "    y1 = Math.floor(y1) + 0.5;\n",
       "    var min_x = Math.min(x0, x1);\n",
       "    var min_y = Math.min(y0, y1);\n",
       "    var width = Math.abs(x1 - x0);\n",
       "    var height = Math.abs(y1 - y0);\n",
       "\n",
       "    fig.rubberband_context.clearRect(\n",
       "        0, 0, fig.canvas.width, fig.canvas.height);\n",
       "\n",
       "    fig.rubberband_context.strokeRect(min_x, min_y, width, height);\n",
       "}\n",
       "\n",
       "mpl.figure.prototype.handle_figure_label = function(fig, msg) {\n",
       "    // Updates the figure title.\n",
       "    fig.header.textContent = msg['label'];\n",
       "}\n",
       "\n",
       "mpl.figure.prototype.handle_cursor = function(fig, msg) {\n",
       "    var cursor = msg['cursor'];\n",
       "    switch(cursor)\n",
       "    {\n",
       "    case 0:\n",
       "        cursor = 'pointer';\n",
       "        break;\n",
       "    case 1:\n",
       "        cursor = 'default';\n",
       "        break;\n",
       "    case 2:\n",
       "        cursor = 'crosshair';\n",
       "        break;\n",
       "    case 3:\n",
       "        cursor = 'move';\n",
       "        break;\n",
       "    }\n",
       "    fig.rubberband_canvas.style.cursor = cursor;\n",
       "}\n",
       "\n",
       "mpl.figure.prototype.handle_message = function(fig, msg) {\n",
       "    fig.message.textContent = msg['message'];\n",
       "}\n",
       "\n",
       "mpl.figure.prototype.handle_draw = function(fig, msg) {\n",
       "    // Request the server to send over a new figure.\n",
       "    fig.send_draw_message();\n",
       "}\n",
       "\n",
       "mpl.figure.prototype.handle_image_mode = function(fig, msg) {\n",
       "    fig.image_mode = msg['mode'];\n",
       "}\n",
       "\n",
       "mpl.figure.prototype.updated_canvas_event = function() {\n",
       "    // Called whenever the canvas gets updated.\n",
       "    this.send_message(\"ack\", {});\n",
       "}\n",
       "\n",
       "// A function to construct a web socket function for onmessage handling.\n",
       "// Called in the figure constructor.\n",
       "mpl.figure.prototype._make_on_message_function = function(fig) {\n",
       "    return function socket_on_message(evt) {\n",
       "        if (evt.data instanceof Blob) {\n",
       "            /* FIXME: We get \"Resource interpreted as Image but\n",
       "             * transferred with MIME type text/plain:\" errors on\n",
       "             * Chrome.  But how to set the MIME type?  It doesn't seem\n",
       "             * to be part of the websocket stream */\n",
       "            evt.data.type = \"image/png\";\n",
       "\n",
       "            /* Free the memory for the previous frames */\n",
       "            if (fig.imageObj.src) {\n",
       "                (window.URL || window.webkitURL).revokeObjectURL(\n",
       "                    fig.imageObj.src);\n",
       "            }\n",
       "\n",
       "            fig.imageObj.src = (window.URL || window.webkitURL).createObjectURL(\n",
       "                evt.data);\n",
       "            fig.updated_canvas_event();\n",
       "            fig.waiting = false;\n",
       "            return;\n",
       "        }\n",
       "        else if (typeof evt.data === 'string' && evt.data.slice(0, 21) == \"data:image/png;base64\") {\n",
       "            fig.imageObj.src = evt.data;\n",
       "            fig.updated_canvas_event();\n",
       "            fig.waiting = false;\n",
       "            return;\n",
       "        }\n",
       "\n",
       "        var msg = JSON.parse(evt.data);\n",
       "        var msg_type = msg['type'];\n",
       "\n",
       "        // Call the  \"handle_{type}\" callback, which takes\n",
       "        // the figure and JSON message as its only arguments.\n",
       "        try {\n",
       "            var callback = fig[\"handle_\" + msg_type];\n",
       "        } catch (e) {\n",
       "            console.log(\"No handler for the '\" + msg_type + \"' message type: \", msg);\n",
       "            return;\n",
       "        }\n",
       "\n",
       "        if (callback) {\n",
       "            try {\n",
       "                // console.log(\"Handling '\" + msg_type + \"' message: \", msg);\n",
       "                callback(fig, msg);\n",
       "            } catch (e) {\n",
       "                console.log(\"Exception inside the 'handler_\" + msg_type + \"' callback:\", e, e.stack, msg);\n",
       "            }\n",
       "        }\n",
       "    };\n",
       "}\n",
       "\n",
       "// from http://stackoverflow.com/questions/1114465/getting-mouse-location-in-canvas\n",
       "mpl.findpos = function(e) {\n",
       "    //this section is from http://www.quirksmode.org/js/events_properties.html\n",
       "    var targ;\n",
       "    if (!e)\n",
       "        e = window.event;\n",
       "    if (e.target)\n",
       "        targ = e.target;\n",
       "    else if (e.srcElement)\n",
       "        targ = e.srcElement;\n",
       "    if (targ.nodeType == 3) // defeat Safari bug\n",
       "        targ = targ.parentNode;\n",
       "\n",
       "    // jQuery normalizes the pageX and pageY\n",
       "    // pageX,Y are the mouse positions relative to the document\n",
       "    // offset() returns the position of the element relative to the document\n",
       "    var x = e.pageX - $(targ).offset().left;\n",
       "    var y = e.pageY - $(targ).offset().top;\n",
       "\n",
       "    return {\"x\": x, \"y\": y};\n",
       "};\n",
       "\n",
       "/*\n",
       " * return a copy of an object with only non-object keys\n",
       " * we need this to avoid circular references\n",
       " * http://stackoverflow.com/a/24161582/3208463\n",
       " */\n",
       "function simpleKeys (original) {\n",
       "  return Object.keys(original).reduce(function (obj, key) {\n",
       "    if (typeof original[key] !== 'object')\n",
       "        obj[key] = original[key]\n",
       "    return obj;\n",
       "  }, {});\n",
       "}\n",
       "\n",
       "mpl.figure.prototype.mouse_event = function(event, name) {\n",
       "    var canvas_pos = mpl.findpos(event)\n",
       "\n",
       "    if (name === 'button_press')\n",
       "    {\n",
       "        this.canvas.focus();\n",
       "        this.canvas_div.focus();\n",
       "    }\n",
       "\n",
       "    var x = canvas_pos.x;\n",
       "    var y = canvas_pos.y;\n",
       "\n",
       "    this.send_message(name, {x: x, y: y, button: event.button,\n",
       "                             step: event.step,\n",
       "                             guiEvent: simpleKeys(event)});\n",
       "\n",
       "    /* This prevents the web browser from automatically changing to\n",
       "     * the text insertion cursor when the button is pressed.  We want\n",
       "     * to control all of the cursor setting manually through the\n",
       "     * 'cursor' event from matplotlib */\n",
       "    event.preventDefault();\n",
       "    return false;\n",
       "}\n",
       "\n",
       "mpl.figure.prototype._key_event_extra = function(event, name) {\n",
       "    // Handle any extra behaviour associated with a key event\n",
       "}\n",
       "\n",
       "mpl.figure.prototype.key_event = function(event, name) {\n",
       "\n",
       "    // Prevent repeat events\n",
       "    if (name == 'key_press')\n",
       "    {\n",
       "        if (event.which === this._key)\n",
       "            return;\n",
       "        else\n",
       "            this._key = event.which;\n",
       "    }\n",
       "    if (name == 'key_release')\n",
       "        this._key = null;\n",
       "\n",
       "    var value = '';\n",
       "    if (event.ctrlKey && event.which != 17)\n",
       "        value += \"ctrl+\";\n",
       "    if (event.altKey && event.which != 18)\n",
       "        value += \"alt+\";\n",
       "    if (event.shiftKey && event.which != 16)\n",
       "        value += \"shift+\";\n",
       "\n",
       "    value += 'k';\n",
       "    value += event.which.toString();\n",
       "\n",
       "    this._key_event_extra(event, name);\n",
       "\n",
       "    this.send_message(name, {key: value,\n",
       "                             guiEvent: simpleKeys(event)});\n",
       "    return false;\n",
       "}\n",
       "\n",
       "mpl.figure.prototype.toolbar_button_onclick = function(name) {\n",
       "    if (name == 'download') {\n",
       "        this.handle_save(this, null);\n",
       "    } else {\n",
       "        this.send_message(\"toolbar_button\", {name: name});\n",
       "    }\n",
       "};\n",
       "\n",
       "mpl.figure.prototype.toolbar_button_onmouseover = function(tooltip) {\n",
       "    this.message.textContent = tooltip;\n",
       "};\n",
       "mpl.toolbar_items = [[\"Home\", \"Reset original view\", \"fa fa-home icon-home\", \"home\"], [\"Back\", \"Back to  previous view\", \"fa fa-arrow-left icon-arrow-left\", \"back\"], [\"Forward\", \"Forward to next view\", \"fa fa-arrow-right icon-arrow-right\", \"forward\"], [\"\", \"\", \"\", \"\"], [\"Pan\", \"Pan axes with left mouse, zoom with right\", \"fa fa-arrows icon-move\", \"pan\"], [\"Zoom\", \"Zoom to rectangle\", \"fa fa-square-o icon-check-empty\", \"zoom\"], [\"\", \"\", \"\", \"\"], [\"Download\", \"Download plot\", \"fa fa-floppy-o icon-save\", \"download\"]];\n",
       "\n",
       "mpl.extensions = [\"eps\", \"jpeg\", \"pdf\", \"png\", \"ps\", \"raw\", \"svg\", \"tif\"];\n",
       "\n",
       "mpl.default_extension = \"png\";var comm_websocket_adapter = function(comm) {\n",
       "    // Create a \"websocket\"-like object which calls the given IPython comm\n",
       "    // object with the appropriate methods. Currently this is a non binary\n",
       "    // socket, so there is still some room for performance tuning.\n",
       "    var ws = {};\n",
       "\n",
       "    ws.close = function() {\n",
       "        comm.close()\n",
       "    };\n",
       "    ws.send = function(m) {\n",
       "        //console.log('sending', m);\n",
       "        comm.send(m);\n",
       "    };\n",
       "    // Register the callback with on_msg.\n",
       "    comm.on_msg(function(msg) {\n",
       "        //console.log('receiving', msg['content']['data'], msg);\n",
       "        // Pass the mpl event to the overriden (by mpl) onmessage function.\n",
       "        ws.onmessage(msg['content']['data'])\n",
       "    });\n",
       "    return ws;\n",
       "}\n",
       "\n",
       "mpl.mpl_figure_comm = function(comm, msg) {\n",
       "    // This is the function which gets called when the mpl process\n",
       "    // starts-up an IPython Comm through the \"matplotlib\" channel.\n",
       "\n",
       "    var id = msg.content.data.id;\n",
       "    // Get hold of the div created by the display call when the Comm\n",
       "    // socket was opened in Python.\n",
       "    var element = $(\"#\" + id);\n",
       "    var ws_proxy = comm_websocket_adapter(comm)\n",
       "\n",
       "    function ondownload(figure, format) {\n",
       "        window.open(figure.imageObj.src);\n",
       "    }\n",
       "\n",
       "    var fig = new mpl.figure(id, ws_proxy,\n",
       "                           ondownload,\n",
       "                           element.get(0));\n",
       "\n",
       "    // Call onopen now - mpl needs it, as it is assuming we've passed it a real\n",
       "    // web socket which is closed, not our websocket->open comm proxy.\n",
       "    ws_proxy.onopen();\n",
       "\n",
       "    fig.parent_element = element.get(0);\n",
       "    fig.cell_info = mpl.find_output_cell(\"<div id='\" + id + \"'></div>\");\n",
       "    if (!fig.cell_info) {\n",
       "        console.error(\"Failed to find cell for figure\", id, fig);\n",
       "        return;\n",
       "    }\n",
       "\n",
       "    var output_index = fig.cell_info[2]\n",
       "    var cell = fig.cell_info[0];\n",
       "\n",
       "};\n",
       "\n",
       "mpl.figure.prototype.handle_close = function(fig, msg) {\n",
       "    fig.root.unbind('remove')\n",
       "\n",
       "    // Update the output cell to use the data from the current canvas.\n",
       "    fig.push_to_output();\n",
       "    var dataURL = fig.canvas.toDataURL();\n",
       "    // Re-enable the keyboard manager in IPython - without this line, in FF,\n",
       "    // the notebook keyboard shortcuts fail.\n",
       "    IPython.keyboard_manager.enable()\n",
       "    $(fig.parent_element).html('<img src=\"' + dataURL + '\">');\n",
       "    fig.close_ws(fig, msg);\n",
       "}\n",
       "\n",
       "mpl.figure.prototype.close_ws = function(fig, msg){\n",
       "    fig.send_message('closing', msg);\n",
       "    // fig.ws.close()\n",
       "}\n",
       "\n",
       "mpl.figure.prototype.push_to_output = function(remove_interactive) {\n",
       "    // Turn the data on the canvas into data in the output cell.\n",
       "    var dataURL = this.canvas.toDataURL();\n",
       "    this.cell_info[1]['text/html'] = '<img src=\"' + dataURL + '\">';\n",
       "}\n",
       "\n",
       "mpl.figure.prototype.updated_canvas_event = function() {\n",
       "    // Tell IPython that the notebook contents must change.\n",
       "    IPython.notebook.set_dirty(true);\n",
       "    this.send_message(\"ack\", {});\n",
       "    var fig = this;\n",
       "    // Wait a second, then push the new image to the DOM so\n",
       "    // that it is saved nicely (might be nice to debounce this).\n",
       "    setTimeout(function () { fig.push_to_output() }, 1000);\n",
       "}\n",
       "\n",
       "mpl.figure.prototype._init_toolbar = function() {\n",
       "    var fig = this;\n",
       "\n",
       "    var nav_element = $('<div/>')\n",
       "    nav_element.attr('style', 'width: 100%');\n",
       "    this.root.append(nav_element);\n",
       "\n",
       "    // Define a callback function for later on.\n",
       "    function toolbar_event(event) {\n",
       "        return fig.toolbar_button_onclick(event['data']);\n",
       "    }\n",
       "    function toolbar_mouse_event(event) {\n",
       "        return fig.toolbar_button_onmouseover(event['data']);\n",
       "    }\n",
       "\n",
       "    for(var toolbar_ind in mpl.toolbar_items){\n",
       "        var name = mpl.toolbar_items[toolbar_ind][0];\n",
       "        var tooltip = mpl.toolbar_items[toolbar_ind][1];\n",
       "        var image = mpl.toolbar_items[toolbar_ind][2];\n",
       "        var method_name = mpl.toolbar_items[toolbar_ind][3];\n",
       "\n",
       "        if (!name) { continue; };\n",
       "\n",
       "        var button = $('<button class=\"btn btn-default\" href=\"#\" title=\"' + name + '\"><i class=\"fa ' + image + ' fa-lg\"></i></button>');\n",
       "        button.click(method_name, toolbar_event);\n",
       "        button.mouseover(tooltip, toolbar_mouse_event);\n",
       "        nav_element.append(button);\n",
       "    }\n",
       "\n",
       "    // Add the status bar.\n",
       "    var status_bar = $('<span class=\"mpl-message\" style=\"text-align:right; float: right;\"/>');\n",
       "    nav_element.append(status_bar);\n",
       "    this.message = status_bar[0];\n",
       "\n",
       "    // Add the close button to the window.\n",
       "    var buttongrp = $('<div class=\"btn-group inline pull-right\"></div>');\n",
       "    var button = $('<button class=\"btn btn-mini btn-primary\" href=\"#\" title=\"Stop Interaction\"><i class=\"fa fa-power-off icon-remove icon-large\"></i></button>');\n",
       "    button.click(function (evt) { fig.handle_close(fig, {}); } );\n",
       "    button.mouseover('Stop Interaction', toolbar_mouse_event);\n",
       "    buttongrp.append(button);\n",
       "    var titlebar = this.root.find($('.ui-dialog-titlebar'));\n",
       "    titlebar.prepend(buttongrp);\n",
       "}\n",
       "\n",
       "mpl.figure.prototype._root_extra_style = function(el){\n",
       "    var fig = this\n",
       "    el.on(\"remove\", function(){\n",
       "\tfig.close_ws(fig, {});\n",
       "    });\n",
       "}\n",
       "\n",
       "mpl.figure.prototype._canvas_extra_style = function(el){\n",
       "    // this is important to make the div 'focusable\n",
       "    el.attr('tabindex', 0)\n",
       "    // reach out to IPython and tell the keyboard manager to turn it's self\n",
       "    // off when our div gets focus\n",
       "\n",
       "    // location in version 3\n",
       "    if (IPython.notebook.keyboard_manager) {\n",
       "        IPython.notebook.keyboard_manager.register_events(el);\n",
       "    }\n",
       "    else {\n",
       "        // location in version 2\n",
       "        IPython.keyboard_manager.register_events(el);\n",
       "    }\n",
       "\n",
       "}\n",
       "\n",
       "mpl.figure.prototype._key_event_extra = function(event, name) {\n",
       "    var manager = IPython.notebook.keyboard_manager;\n",
       "    if (!manager)\n",
       "        manager = IPython.keyboard_manager;\n",
       "\n",
       "    // Check for shift+enter\n",
       "    if (event.shiftKey && event.which == 13) {\n",
       "        this.canvas_div.blur();\n",
       "        event.shiftKey = false;\n",
       "        // Send a \"J\" for go to next cell\n",
       "        event.which = 74;\n",
       "        event.keyCode = 74;\n",
       "        manager.command_mode();\n",
       "        manager.handle_keydown(event);\n",
       "    }\n",
       "}\n",
       "\n",
       "mpl.figure.prototype.handle_save = function(fig, msg) {\n",
       "    fig.ondownload(fig, null);\n",
       "}\n",
       "\n",
       "\n",
       "mpl.find_output_cell = function(html_output) {\n",
       "    // Return the cell and output element which can be found *uniquely* in the notebook.\n",
       "    // Note - this is a bit hacky, but it is done because the \"notebook_saving.Notebook\"\n",
       "    // IPython event is triggered only after the cells have been serialised, which for\n",
       "    // our purposes (turning an active figure into a static one), is too late.\n",
       "    var cells = IPython.notebook.get_cells();\n",
       "    var ncells = cells.length;\n",
       "    for (var i=0; i<ncells; i++) {\n",
       "        var cell = cells[i];\n",
       "        if (cell.cell_type === 'code'){\n",
       "            for (var j=0; j<cell.output_area.outputs.length; j++) {\n",
       "                var data = cell.output_area.outputs[j];\n",
       "                if (data.data) {\n",
       "                    // IPython >= 3 moved mimebundle to data attribute of output\n",
       "                    data = data.data;\n",
       "                }\n",
       "                if (data['text/html'] == html_output) {\n",
       "                    return [cell, data, j];\n",
       "                }\n",
       "            }\n",
       "        }\n",
       "    }\n",
       "}\n",
       "\n",
       "// Register the function which deals with the matplotlib target/channel.\n",
       "// The kernel may be null if the page has been refreshed.\n",
       "if (IPython.notebook.kernel != null) {\n",
       "    IPython.notebook.kernel.comm_manager.register_target('matplotlib', mpl.mpl_figure_comm);\n",
       "}\n"
      ],
      "text/plain": [
       "<IPython.core.display.Javascript object>"
      ]
     },
     "metadata": {},
     "output_type": "display_data"
    },
    {
     "data": {
      "text/html": [
       "<div id='911d30b4-fa59-47ae-a5d6-e32a1c02fa06'></div>"
      ],
      "text/plain": [
       "<IPython.core.display.HTML object>"
      ]
     },
     "metadata": {},
     "output_type": "display_data"
    },
    {
     "ename": "NameError",
     "evalue": "name 'gene_sort_fish' is not defined",
     "output_type": "error",
     "traceback": [
      "\u001b[0;31m---------------------------------------------------------------------------\u001b[0m",
      "\u001b[0;31mNameError\u001b[0m                                 Traceback (most recent call last)",
      "\u001b[0;32m<ipython-input-8-6756b82d60d0>\u001b[0m in \u001b[0;36m<module>\u001b[0;34m()\u001b[0m\n\u001b[1;32m      4\u001b[0m \u001b[0marea\u001b[0m \u001b[0;34m=\u001b[0m \u001b[0;34m(\u001b[0m\u001b[0mnp\u001b[0m\u001b[0;34m.\u001b[0m\u001b[0msqrt\u001b[0m\u001b[0;34m(\u001b[0m\u001b[0mds\u001b[0m\u001b[0;34m.\u001b[0m\u001b[0mCellArea\u001b[0m\u001b[0;34m)\u001b[0m\u001b[0;34m*\u001b[0m\u001b[0;36m0.065\u001b[0m\u001b[0;34m)\u001b[0m\u001b[0;34m**\u001b[0m\u001b[0;36m2\u001b[0m\u001b[0;34m\u001b[0m\u001b[0m\n\u001b[1;32m      5\u001b[0m \u001b[0;34m\u001b[0m\u001b[0m\n\u001b[0;32m----> 6\u001b[0;31m \u001b[0;32mfor\u001b[0m \u001b[0mi\u001b[0m\u001b[0;34m,\u001b[0m \u001b[0mgene\u001b[0m \u001b[0;32min\u001b[0m \u001b[0menumerate\u001b[0m\u001b[0;34m(\u001b[0m\u001b[0mgene_sort_fish\u001b[0m\u001b[0;34m)\u001b[0m\u001b[0;34m:\u001b[0m\u001b[0;34m\u001b[0m\u001b[0m\n\u001b[0m\u001b[1;32m      7\u001b[0m     \u001b[0mplt\u001b[0m\u001b[0;34m.\u001b[0m\u001b[0msubplot\u001b[0m\u001b[0;34m(\u001b[0m\u001b[0mgs\u001b[0m\u001b[0;34m[\u001b[0m\u001b[0mi\u001b[0m\u001b[0;34m]\u001b[0m\u001b[0;34m)\u001b[0m\u001b[0;34m\u001b[0m\u001b[0m\n\u001b[1;32m      8\u001b[0m     \u001b[0mcount_area\u001b[0m \u001b[0;34m=\u001b[0m \u001b[0mlist\u001b[0m\u001b[0;34m(\u001b[0m\u001b[0mzip\u001b[0m\u001b[0;34m(\u001b[0m\u001b[0mdf_fish\u001b[0m\u001b[0;34m.\u001b[0m\u001b[0mloc\u001b[0m\u001b[0;34m[\u001b[0m\u001b[0mgene\u001b[0m\u001b[0;34m]\u001b[0m\u001b[0;34m,\u001b[0m \u001b[0marea\u001b[0m\u001b[0;34m)\u001b[0m\u001b[0;34m)\u001b[0m\u001b[0;34m\u001b[0m\u001b[0m\n",
      "\u001b[0;31mNameError\u001b[0m: name 'gene_sort_fish' is not defined"
     ]
    }
   ],
   "source": [
    "plt.figure(figsize=(20,12))\n",
    "gs = plt.GridSpec(5,8)\n",
    "\n",
    "area = (np.sqrt(ds.CellArea)*0.065)**2\n",
    "\n",
    "for i, gene in enumerate(gene_sort_fish):\n",
    "    plt.subplot(gs[i])\n",
    "    count_area = list(zip(df_fish.loc[gene], area))\n",
    "    #Select only cells with count<600 and area<400\n",
    "    count_area = [x for x in count_area if 10<x[0]<600 and x[1]<400]\n",
    "\n",
    "    mol_count = [item[0] for item in count_area]\n",
    "    area_select = [item[1] for item in count_area]\n",
    "\n",
    "    fit = np.polyfit(mol_count, area_select, 1)\n",
    "    fit_fn = np.poly1d(fit)\n",
    "\n",
    "    plt.plot(mol_count, area_select, 'k+', mol_count, fit_fn(mol_count), '--k')\n",
    "    \n",
    "    if i in range(len(gene_sort_fish)-8,len(gene_sort_fish)):\n",
    "        plt.xlabel('Molecule count')\n",
    "    #plt.xlim(xmin=0, xmax=600)\n",
    "    if i%8 ==0:\n",
    "        plt.ylabel('Area um2')\n",
    "    #if i in range(8):\n",
    "    plt.title(gene.split('_')[1])\n",
    "    #plt.ylim(ymin=0, ymax=400)\n",
    "    \n",
    "plt.tight_layout()"
   ]
  },
  {
   "cell_type": "code",
   "execution_count": null,
   "metadata": {
    "ExecuteTime": {
     "end_time": "2017-10-23T15:35:55.093955Z",
     "start_time": "2017-10-23T13:35:53.727Z"
    },
    "collapsed": false,
    "deletable": true,
    "editable": true
   },
   "outputs": [],
   "source": [
    "def loompy2data(filename, cutoff_low, cutoff_high, molecules_low):\n",
    "    \"\"\"\n",
    "    Loom file to Panda's dataframe. Perform size and count selection on cells\n",
    "    Input:\n",
    "    `filename`(str): Name and path tot the Loom file\n",
    "    `cutoff_low`(flt): Minimal cell size (in number of pixels, square um = (np.sqrt(pixels)*0.065)**2\n",
    "    `cutoff_high`(flt): Max cell size (in number of pixels, square um = (np.sqrt(pixels)*0.065)**2\n",
    "    `molecules_low`(int): Minimal number of molecules\n",
    "    Returns:\n",
    "    Panda's dataframe with cells that passed the criteria. df has cell label as column name. \n",
    "    Some gene names are corrected\n",
    "    Metadata is discarded. \n",
    "    \n",
    "    \"\"\"\n",
    "    #Read loom file and import to Pandas df\n",
    "    ds = loompy.connect(filename)\n",
    "    df=pd.DataFrame(data=ds[:,:], columns=ds.col_attrs['CellID'], index=ds.row_attrs['genes']).astype(int)\n",
    "    \n",
    "    #Filter cell size\n",
    "    for i, j in enumerate(ds.col_attrs['CellID']):\n",
    "        if ds.col_attrs['CellArea'][i] < cutoff_low or ds.col_attrs['CellArea'][i] > cutoff_high:\n",
    "            del df[j]\n",
    "    \n",
    "    #Filter total molecule count\n",
    "    for i, j in enumerate(ds.col_attrs['CellID']):\n",
    "        try: #not all 'CellID' are still present\n",
    "            if df[j].sum() < molecules_low:\n",
    "                del df[j]\n",
    "        except Exception:\n",
    "            pass\n",
    "        \n",
    "    #Filter bad hybridiztion4 (out of focus imaging) and repeat Tbr1\n",
    "    bad_data = ['Hybridization4_Cnr1', 'Hybridization4_Plp1', 'Hybridization4_Vtn', 'Hybridization11_Tbr1']\n",
    "    for i in bad_data:\n",
    "        df.drop(i, inplace=True)\n",
    "     \n",
    "    #Change incorrect names Tmem6-->Tmem2 and Kcnip-->Kcnip2\n",
    "    df= df.rename({'Hybridization11_Tmem6': 'Hybridization11_Tmem2', 'Hybridization12_Kcnip': 'Hybridization12_Kcnip2'})\n",
    "    \n",
    "    print('Selected cells with  {}>size<{} and a minimum molecule count of {} molecules'.format(cutoff_low, cutoff_high, molecules_low))\n",
    "    print('Change incorrect names Tmem6-->Tmem2 and Kcnip-->2')\n",
    "    return df\n",
    "\n",
    "    \n",
    "df_fish = loompy2data(file_name,2000, 60000, 20)\n",
    "df_fish.shape"
   ]
  },
  {
   "cell_type": "code",
   "execution_count": null,
   "metadata": {
    "ExecuteTime": {
     "end_time": "2017-10-23T15:35:55.094172Z",
     "start_time": "2017-10-23T13:35:53.734Z"
    },
    "collapsed": true,
    "deletable": true,
    "editable": true
   },
   "outputs": [],
   "source": [
    "excluded_cells = []\n",
    "for i in ds.CellID:\n",
    "    if i not in df_fish.columns:\n",
    "        excluded_cells.append(i)\n",
    "pickle.dump(excluded_cells, open( \"excluded_cells.p\", \"wb\" ))"
   ]
  },
  {
   "cell_type": "code",
   "execution_count": null,
   "metadata": {
    "ExecuteTime": {
     "end_time": "2017-10-23T15:35:55.094372Z",
     "start_time": "2017-10-23T13:35:53.742Z"
    },
    "collapsed": false,
    "deletable": true,
    "editable": true
   },
   "outputs": [],
   "source": [
    "df_fish.head(5)"
   ]
  },
  {
   "cell_type": "code",
   "execution_count": null,
   "metadata": {
    "ExecuteTime": {
     "end_time": "2017-10-23T15:35:55.094588Z",
     "start_time": "2017-10-23T13:35:53.748Z"
    },
    "collapsed": true,
    "deletable": true,
    "editable": true
   },
   "outputs": [],
   "source": [
    "gene_sort = ['Gad2', 'Slc32a1', 'Crhbp', 'Kcnip2', 'Cnr1', 'Vip', 'Cpne5', 'Pthlh', 'Crh',             \n",
    "             'Tbr1', 'Lamp5', 'Rorb', 'Syt6', \n",
    "             'Aldoc', 'Gfap', 'Serpinf1', 'Mfge8', \n",
    "             'Sox10', 'Plp1', 'Pdgfra', 'Bmp4', 'Itpr2', 'Tmem2',  'Ctps',  'Klk6', 'Anln',   \n",
    "             'Mrc1', 'Hexb', \n",
    "             'Ttr', \n",
    "             'Foxj1', \n",
    "             'Vtn', 'Flt1', 'Apln', 'Acta2',  'Lum'] \n",
    "\n",
    "gene_sort_wrong = ['Gad2', 'Slc32a1', 'Crhbp', 'Kcnip', 'Cnr1', 'Vip', 'Cpne5', 'Pthlh', 'Crh', \n",
    "             'Tbr1', 'Lamp5', 'Rorb', 'Syt6', \n",
    "             'Aldoc', 'Gfap', 'Serpinf1', 'Mfge8', \n",
    "             'Sox10', 'Plp1', 'Pdgfra', 'Bmp4', 'Itpr2', 'Tmem6',  'Ctps',  'Klk6', 'Anln',   \n",
    "             'Mrc1', 'Hexb', \n",
    "             'Ttr', \n",
    "             'Foxj1', \n",
    "             'Vtn', 'Flt1', 'Apln', 'Acta2',  'Lum'] \n",
    "\n",
    "\n",
    "gene_sort_fish = ['Hybridization2_Gad2', 'Hybridization12_Slc32a1', 'Hybridization10_Crhbp', 'Hybridization12_Kcnip2', 'Hybridization13_Cnr1', 'Hybridization6_Vip', 'Hybridization5_Cpne5', 'Hybridization8_Pthlh',  'Hybridization10_Crh', \n",
    "'Hybridization1_Tbr1', 'Hybridization9_Lamp5', 'Hybridization7_Rorb', 'Hybridization11_Syt6',\n",
    "'Hybridization1_Aldoc', 'Hybridization2_Gfap', 'Hybridization8_Serpinf1', 'Hybridization3_Mfge8',\n",
    " 'Hybridization7_Sox10', 'Hybridization13_Plp1', 'Hybridization8_Pdgfra', 'Hybridization6_Bmp4','Hybridization6_Itpr2','Hybridization11_Tmem2', 'Hybridization7_Ctps','Hybridization5_Klk6','Hybridization9_Anln',\n",
    " 'Hybridization3_Mrc1','Hybridization3_Hexb', \n",
    " 'Hybridization13_Ttr',\n",
    " 'Hybridization1_Foxj1',\n",
    " 'Hybridization12_Vtn',\n",
    " 'Hybridization2_Flt1',\n",
    " 'Hybridization10_Apln',\n",
    " 'Hybridization5_Acta2',\n",
    " 'Hybridization9_Lum']\n",
    "\n",
    "\n",
    "#Make conversion dictionary with gene names and corresponding HybridizationX_geneY names\n",
    "\n",
    "gene_name_conversion = {}\n",
    "\n",
    "for i in gene_sort:\n",
    "    for j in df_fish.index:\n",
    "        if j.endswith(i):\n",
    "            gene_name_conversion[j] =i\n",
    "            \n",
    "gene_name_conversion_reverse = dict((v,k) for k,v in gene_name_conversion.items())\n",
    "            \n",
    "#There are two mistakes in the gene names, correct for them in the dict\n",
    "#gene_name_conversion['Hybridization11_Tmem6'] = 'Tmem2'\n",
    "#gene_name_conversion['Hybridization12_Kcnip'] = 'Kcnip2'"
   ]
  },
  {
   "cell_type": "markdown",
   "metadata": {
    "deletable": true,
    "editable": true
   },
   "source": [
    "# Cell properties"
   ]
  },
  {
   "cell_type": "code",
   "execution_count": null,
   "metadata": {
    "ExecuteTime": {
     "end_time": "2017-10-23T15:35:55.094791Z",
     "start_time": "2017-10-23T13:35:53.755Z"
    },
    "collapsed": true,
    "deletable": true,
    "editable": true
   },
   "outputs": [],
   "source": [
    "#Open object properties\n",
    "obj_prop = pickle.load(open(\"ObjProp_dict.pkl\", 'rb'))\n",
    "\n",
    "#Load cell ID and XY coordinates into a list\n",
    "coord_list = []\n",
    "for i in obj_prop:\n",
    "    coord_list.append([i, obj_prop[i]['obj_centroid'][0], obj_prop[i]['obj_centroid'][1]])\n",
    "    \n",
    "#Place cell ID and X and Y coordinates into dataframe\n",
    "coord_df = pd.DataFrame(coord_list, columns=['Cell_ID', 'X', 'Y']).set_index('Cell_ID').T\n",
    "coord_df = coord_df.loc[:,df_fish.columns]"
   ]
  },
  {
   "cell_type": "code",
   "execution_count": null,
   "metadata": {
    "ExecuteTime": {
     "end_time": "2017-10-23T15:35:55.095023Z",
     "start_time": "2017-10-23T13:35:53.760Z"
    },
    "collapsed": false,
    "deletable": true,
    "editable": true,
    "scrolled": false
   },
   "outputs": [],
   "source": [
    "def plot_cell_pos(coordinate_df, cell_ids=None, cell_of_interest=None, color='gray', color_highlight1='r', color_highlight2='r', s=5, standalone = True, mode='Highlight'):\n",
    "    \"\"\"\n",
    "    Plot the centroids of all cells in grey. A selection of cells can be made red.\n",
    "    And one cell of interest can be shown larger with a white border around.\n",
    "    Input:\n",
    "    `coordinate_df`(pd df): Pandas df with cells in columns, and 'X' & 'Y' as rows.\n",
    "    `cell_ids`(list): If selection of cells to plot, enter a list of cell ids. Default = None\n",
    "    `color`(str): color of cells, default gray\n",
    "    `s`(float): Size of dots. Default = 5\n",
    "    `stanalone`(bool): If true it creates a figure. If false it can be used as subplot\n",
    "    `mode`(str): if 'highlight' it is possible to highlight a group of cells and/or one cell\n",
    "    `color_highlight1`: color of group of cells. default='r' \n",
    "    `color_highlight2`: color of single cells. default='r'\n",
    "    \n",
    "    \"\"\"\n",
    "    if standalone == True:\n",
    "        plt.figure(figsize=(7,7))\n",
    "        \n",
    "    if mode.lower() == 'tsne':\n",
    "        plt.scatter(coordinate_df.loc['X',:], coordinate_df.loc['Y',:], linewidths=0, c=color, s=s)\n",
    "    \n",
    "    if mode.lower() == 'highlight':\n",
    "        plt.scatter(coordinate_df.loc['X',:], coordinate_df.loc['Y',:], linewidths=0, c=color, s=s)\n",
    "        if cell_ids != None:\n",
    "            plt.scatter(coordinate_df.loc[:,cell_ids].loc['X'], coordinate_df.loc[:,cell_ids].loc['Y'], color=color_highlight1, s=s*2)\n",
    "        if cell_of_interest != None:\n",
    "            plt.scatter(coordinate_df.loc[:,cell_of_interest][0], coordinate_df.loc[:,cell_of_interest][1], color=color_highlight2, s=s*8, lw=2, edgecolor='w')\n",
    "    plt.gca().invert_xaxis()\n",
    "    plt.gca().invert_yaxis()\n",
    "    plt.gca().axis('equal')\n",
    "    plt.xlim([coordinate_df.loc['X'].max(), coordinate_df.loc['X'].min()])\n",
    "    plt.ylim([coordinate_df.loc['Y'].max(), coordinate_df.loc['Y'].min()])\n",
    "    plt.gca().patch.set_facecolor((.9,.9,.9))\n",
    "    \n",
    "plot_cell_pos(coord_df, cell_ids=None, cell_of_interest='7442', s=10, standalone=True, mode='Highlight')"
   ]
  },
  {
   "cell_type": "code",
   "execution_count": null,
   "metadata": {
    "collapsed": true,
    "deletable": true,
    "editable": true
   },
   "outputs": [],
   "source": []
  },
  {
   "cell_type": "markdown",
   "metadata": {
    "deletable": true,
    "editable": true
   },
   "source": [
    "# Gene expression"
   ]
  },
  {
   "cell_type": "markdown",
   "metadata": {
    "deletable": true,
    "editable": true
   },
   "source": [
    "## Normalization of data"
   ]
  },
  {
   "cell_type": "code",
   "execution_count": null,
   "metadata": {
    "ExecuteTime": {
     "end_time": "2017-10-23T15:35:55.095226Z",
     "start_time": "2017-10-23T13:35:53.770Z"
    },
    "code_folding": [
     0
    ],
    "collapsed": true,
    "deletable": true,
    "editable": true
   },
   "outputs": [],
   "source": [
    "#Normalization on unsorted dataset\n",
    "#Transform data\n",
    "X = df_fish.values.astype(np.float64)\n",
    "    #Sqrt normalize\n",
    "X_sqrt = np.sqrt(X)\n",
    "    #Mean normalize\n",
    "X_norm = X.sum(0).mean() * (X/X.sum(0))\n",
    "    #Log transform\n",
    "X_log = np.log2(X_norm+1)\n",
    "    #Build dataframes of normalized and log transformed data\n",
    "df_fish_sqrt = pd.DataFrame(data=X_sqrt, columns=df_fish.columns, index=df_fish.index)\n",
    "df_fish_norm=pd.DataFrame(data=X_norm, columns=df_fish.columns, index=df_fish.index)\n",
    "df_fish_log=pd.DataFrame(data=X_log, columns=df_fish.columns, index=df_fish.index)\n",
    "\n",
    "#Calculate the fold change dataframe\n",
    "df_fish_fc = df_fish.loc[gene_sort_fish,:]\n",
    "mean_expression =  df_fish.loc[gene_sort_fish,:].T.mean()\n",
    "df_fish_fc = df_fish_fc.divide(mean_expression, axis='rows')\n",
    "\n",
    "X_fc = df_fish_fc.values"
   ]
  },
  {
   "cell_type": "code",
   "execution_count": null,
   "metadata": {
    "ExecuteTime": {
     "end_time": "2017-10-23T15:35:55.095434Z",
     "start_time": "2017-10-23T13:35:53.776Z"
    },
    "collapsed": true,
    "deletable": true,
    "editable": true
   },
   "outputs": [],
   "source": [
    "#Same but with sorted gene list df_fish\n",
    "\n",
    "df_fish = df_fish.loc[gene_sort_fish,:]\n",
    "\n",
    "#Transform data\n",
    "X = df_fish.values.astype(np.float64)\n",
    "    #Sqrt normalize\n",
    "X_sqrt = np.sqrt(X)\n",
    "    #Mean normalize\n",
    "X_norm = X.sum(0).mean() * (X/X.sum(0))\n",
    "    #Log transform\n",
    "X_log = np.log2(X_norm+1)\n",
    "\n",
    "    #Build dataframes of normalized and log transformed data\n",
    "df_fish_sqrt = pd.DataFrame(data=X_sqrt, columns=df_fish.columns, index=df_fish.index)\n",
    "df_fish_norm = pd.DataFrame(data=X_norm, columns=df_fish.columns, index=df_fish.index)\n",
    "df_fish_log = pd.DataFrame(data=X_log, columns=df_fish.columns, index=df_fish.index)\n",
    "\n",
    "#Devide by size\n",
    "area_df_fish = np.array([(np.sqrt(obj_prop[c]['obj_area'])*0.065)**2 for c in df_fish.columns])\n",
    "X_size = X/area_df_fish\n",
    "    #Sqrt normalize\n",
    "X_size_sqrt = np.sqrt(X_size)\n",
    "    #Mean normalize\n",
    "X_size_norm = X_size.sum(0).mean() * (X_size/X_size.sum(0))\n",
    "    #Log transform\n",
    "X_size_log = np.log2(X_size_norm+1)\n",
    "\n",
    "    #Build dataframes of normalized and log transformed data\n",
    "df_fish_size_sqrt = pd.DataFrame(data=X_size_sqrt, columns=df_fish.columns, index=df_fish.index)\n",
    "df_fish_size_norm = pd.DataFrame(data=X_size_norm, columns=df_fish.columns, index=df_fish.index)\n",
    "df_fish_size_log = pd.DataFrame(data=X_size_log, columns=df_fish.columns, index=df_fish.index)\n",
    "\n",
    "\n",
    "#Calculate the fold change dataframe\n",
    "df_fish_fc = df_fish.loc[gene_sort_fish,:]\n",
    "mean_expression_for_fc =  df_fish.loc[gene_sort_fish,:].T.mean()\n",
    "df_fish_fc = df_fish_fc.divide(mean_expression_for_fc, axis='rows')\n",
    "\n",
    "X_fc = df_fish_fc.values"
   ]
  },
  {
   "cell_type": "code",
   "execution_count": null,
   "metadata": {
    "ExecuteTime": {
     "end_time": "2017-10-23T15:35:55.095630Z",
     "start_time": "2017-10-23T13:35:53.782Z"
    },
    "collapsed": false,
    "deletable": true,
    "editable": true
   },
   "outputs": [],
   "source": [
    "area_df_fish = np.array([(np.sqrt(obj_prop[c]['obj_area'])*0.065)**2 for c in df_fish.columns])\n",
    "area_df_fish.shape"
   ]
  },
  {
   "cell_type": "markdown",
   "metadata": {
    "deletable": true,
    "editable": true
   },
   "source": [
    "## Add featrues"
   ]
  },
  {
   "cell_type": "markdown",
   "metadata": {
    "deletable": true,
    "editable": true
   },
   "source": [
    "Does not enhance the data so much"
   ]
  },
  {
   "cell_type": "code",
   "execution_count": null,
   "metadata": {
    "ExecuteTime": {
     "end_time": "2017-10-23T15:35:55.095833Z",
     "start_time": "2017-10-23T13:35:53.788Z"
    },
    "collapsed": true,
    "deletable": true,
    "editable": true
   },
   "outputs": [],
   "source": [
    "major_type_markers = ['Hybridization12_Slc32a1',\n",
    "                     'Hybridization1_Tbr1',\n",
    "                      'Hybridization7_Sox10',\n",
    "                      'Hybridization1_Aldoc',\n",
    "                      'Hybridization3_Hexb',\n",
    "                      'Hybridization3_Mrc1',\n",
    "                      'Hybridization1_Foxj1',\n",
    "                      'Hybridization12_Vtn',\n",
    "                      'Hybridization2_Flt1',\n",
    "                      'Hybridization5_Acta2',\n",
    "                      'Hybridization9_Lum']"
   ]
  },
  {
   "cell_type": "code",
   "execution_count": null,
   "metadata": {
    "ExecuteTime": {
     "end_time": "2017-10-23T15:35:55.096072Z",
     "start_time": "2017-10-23T13:35:53.795Z"
    },
    "collapsed": true,
    "deletable": true,
    "editable": true
   },
   "outputs": [],
   "source": [
    "#Using the mean corrected and Log normalized data\n",
    "#Multiply the major markers with all the other genes to enhance the profile.\n",
    "\n",
    "df_fish_addfeature = df_fish_log\n",
    "\n",
    "for i in major_type_markers:\n",
    "    for j in gene_sort_fish:\n",
    "        if i != j: \n",
    "            name_new = i.split('_')[1] + '_' + j.split('_')[1]\n",
    "            data = pd.Series(df_fish_log.loc[i] * df_fish_log.loc[j], name=name_new)\n",
    "            df_fish_addfeature = df_fish_addfeature.append(data)\n"
   ]
  },
  {
   "cell_type": "markdown",
   "metadata": {
    "deletable": true,
    "editable": true
   },
   "source": [
    "## Add location"
   ]
  },
  {
   "cell_type": "code",
   "execution_count": null,
   "metadata": {
    "ExecuteTime": {
     "end_time": "2017-10-23T15:35:55.096357Z",
     "start_time": "2017-10-23T13:35:53.801Z"
    },
    "collapsed": true,
    "deletable": true,
    "editable": true
   },
   "outputs": [],
   "source": [
    "df_fish_location = df_fish_log\n",
    "\n",
    "df_fish_location = df_fish_location.append(coord_df.loc['X']/10000)\n",
    "df_fish_location = df_fish_location.append(coord_df.loc['Y']/10000)"
   ]
  },
  {
   "cell_type": "markdown",
   "metadata": {
    "deletable": true,
    "editable": true
   },
   "source": [
    "## Visualizing gene expression"
   ]
  },
  {
   "cell_type": "code",
   "execution_count": null,
   "metadata": {
    "ExecuteTime": {
     "end_time": "2017-10-23T15:35:55.096588Z",
     "start_time": "2017-10-23T13:35:53.807Z"
    },
    "collapsed": false,
    "deletable": true,
    "editable": true,
    "scrolled": false
   },
   "outputs": [],
   "source": [
    "def plot_cell_expression(cell, dataset='Count', save=False):\n",
    "    \"\"\"\n",
    "    Plot the expression levels of all genes (except round 4 genes).\n",
    "    Possible to select counts, normalized or log-normalized data\n",
    "    Input:\n",
    "    `cell`(str): Cell name, like: '100'\n",
    "    `data_format`(str): Choose the dataset.\n",
    "        'None' will give the count data\n",
    "        'Norm' will give normalized data\n",
    "        'Log' will give log-normalized data\n",
    "    \n",
    "    \"\"\"\n",
    "    try:\n",
    "        df_fish[cell]\n",
    "        \n",
    "        fig, ax = plt.subplots(figsize=[5,2])\n",
    "        if dataset == None or dataset.lower() == 'count':\n",
    "            expression_data = df_fish.loc[gene_sort_fish,:][cell]\n",
    "            mean = True, df_fish.loc[gene_sort_fish,:].T.mean()\n",
    "            y_label = ''\n",
    "        elif dataset.lower() == 'norm':\n",
    "            expression_data = df_fish_norm.loc[gene_sort_fish,:][cell]\n",
    "            mean = True, df_fish_norm.loc[gene_sort_fish,:].T.mean()\n",
    "            y_label = 'Normalized'\n",
    "        elif dataset.lower() == 'log':\n",
    "            expression_data = df_fish_log.loc[gene_sort_fish,:][cell]\n",
    "            mean = True, df_fish_log.loc[gene_sort_fish,:].T.mean()\n",
    "            y_label = 'Log-Normalized'\n",
    "        elif dataset.lower() == 'fc': \n",
    "            expression_data = df_fish.loc[gene_sort_fish,:][cell] / df_fish.loc[gene_sort_fish,:].T.mean()\n",
    "            mean = False, 0.5\n",
    "            y_label = 'Fold Change'\n",
    "        else:\n",
    "            return ('Error incorrect dataset: {}, Choose \"Count\", \"log\" or \"fc\"'.format(dataset))\n",
    "        \n",
    "        #Plot expression data\n",
    "        left_pos = np.arange(len(expression_data))\n",
    "        gene_colors = ['red', 'red', 'red', 'red', 'red', 'red', 'red', 'red', 'red','blue', 'blue', 'blue', 'blue','orange', 'orange', 'orange', 'orange',\n",
    "        'green', 'green', 'green', 'green', 'green', 'green', 'green', 'green', 'green',\n",
    "        'lightblue', 'lightblue', 'darkblue', 'darkred','darkred','red','lightgreen','red','lightblue']\n",
    "        ax.bar(left_pos, list(expression_data), color=gene_colors, alpha=0.5)\n",
    "        \n",
    "        '''\n",
    "        #Plot mean expression level (count/norm/log, not FoldChange)\n",
    "        if mean[0] == True:\n",
    "            for i, m in enumerate(mean[1]):\n",
    "                ax.axhline(m, xmin=i/len(mean[1]), xmax=(i+1)/len(mean[1]), color='grey')\n",
    "        else:\n",
    "            ax.axhline(1, color='grey')\n",
    "'''\n",
    "\n",
    "        labels = [i.split('_')[1] for i in list(expression_data.index)]\n",
    "        ax.set_xticks(left_pos)\n",
    "        ax.set_xticklabels(labels, rotation='vertical', fontsize=8)\n",
    "        ax.set_xlabel\n",
    "        ax.spines['right'].set_visible(False)\n",
    "        ax.spines['top'].set_visible(False)\n",
    "        ax.yaxis.set_ticks_position('left')\n",
    "        ax.xaxis.set_ticks_position('bottom')\n",
    "        ax.set_ylabel('Expression level {}'.format(y_label))\n",
    "        #ax.set_title('Data: {}'.format(dataset))\n",
    "        \n",
    "        plt.tight_layout()\n",
    "        if save == True:\n",
    "            plt.savefig('/home/lars/storage/Documents/Cortex_FISH/cell_expression/{}.png'.format(cell))\n",
    "    \n",
    "        \n",
    "    except KeyError as e:\n",
    "        print('KeyError: Cell {} not in df, maybe cell is removed in quality clean up'.format(e))\n",
    "\n",
    "    \n",
    "\n",
    "\n",
    "plot_cell_expression(df_fish.columns[6], 'count', save=Fasle)"
   ]
  },
  {
   "cell_type": "code",
   "execution_count": null,
   "metadata": {
    "ExecuteTime": {
     "end_time": "2017-10-23T15:35:55.096819Z",
     "start_time": "2017-10-23T13:35:53.815Z"
    },
    "collapsed": false,
    "deletable": true,
    "editable": true
   },
   "outputs": [],
   "source": [
    "def cell_info(cell, dataset='Count', save=False, post_clustering=False):\n",
    "    \"\"\"\n",
    "    Plot expression level, location, size, \n",
    "    \n",
    "    \"\"\"\n",
    "    try:\n",
    "        df_fish[cell]\n",
    "    except KeyError as e:\n",
    "        print('KeyError: Cell {} not in df_fish, maybe cell is removed in quality clean up'.format(e))\n",
    "        return\n",
    "\n",
    "    plt.figure(figsize=(14,5))\n",
    "    ax1 = plt.subplot2grid((2,10), (0,0), rowspan=2, colspan=5)\n",
    "    if dataset.lower() == 'count':\n",
    "        expression_data = df_fish.loc[gene_sort_fish,:][cell]\n",
    "        mean = True, df_fish.loc[gene_sort_fish,:].T.mean()\n",
    "        dataset_label = ''\n",
    "    elif dataset.lower() == 'norm':\n",
    "        expression_data = df_fish_norm.loc[gene_sort_fish,:][cell]\n",
    "        mean = True, df_fish_norm.loc[gene_sort_fish,:].T.mean()\n",
    "        dataset_label = 'Normalized'\n",
    "    elif dataset.lower() == 'log':\n",
    "        expression_data = df_fish_log.loc[gene_sort_fish,:][cell]\n",
    "        mean = True, df_fish_log.loc[gene_sort_fish,:].T.mean()\n",
    "        dataset_label = '(Log Normalized)'\n",
    "    elif dataset.lower() == 'fc': \n",
    "        expression_data = df_fish.loc[gene_sort_fish,:][cell] / df_fish.loc[gene_sort_fish,:].T.mean()\n",
    "        mean = False, 0.5\n",
    "        dataset_label = 'Fold Change'\n",
    "    elif dataset.lower() == 'size':\n",
    "        expression_data = df_fish_size_sqrt.loc[gene_sort_fish,:][cell]\n",
    "        mean = True, df_fish_size_sqrt.loc[gene_sort_fish,:].T.mean()\n",
    "        dataset_label = '(size normalized, sqrt)'\n",
    "    else:\n",
    "        return ('Error incorrect dataset: {}, Choose \"Count\", \"Norm\", \"log\" or \"fc\"'.format(dataset))\n",
    "    \n",
    "    #Plot expression data\n",
    "    left_pos = np.arange(len(expression_data))/ len(expression_data)\n",
    "    gene_colors = ['red', 'red', 'red', 'red', 'red', 'red', 'red', 'red', 'red','blue', 'blue', 'blue', 'blue','orange', 'orange', 'orange', 'orange',\n",
    "    'green', 'green', 'green', 'green', 'green', 'green', 'green', 'green', 'green',\n",
    "    'lightblue', 'lightblue', 'darkblue', 'darkred','darkred','red','lightgreen','red','lightblue']\n",
    "    ax1.bar(left_pos+0.01, list(expression_data), color=gene_colors, alpha=0.5, width=0.025)\n",
    "    \n",
    "    #Plot mean expression level (count/norm/log, not FoldChange)\n",
    "    if mean[0] == True:\n",
    "        for i, m in enumerate(mean[1]):\n",
    "            ax1.axhline(m, xmin=i/len(mean[1])-0.005, xmax=(i+1)/len(mean[1])-0.005, color='grey')\n",
    "    else:\n",
    "        ax1.axhline(1, color='grey')\n",
    "    \n",
    "    ax1.set_xlim([0,1])\n",
    "    \n",
    "    labels = [i.split('_')[1] for i in list(expression_data.index)]\n",
    "    ax1.set_xticks(left_pos+0.01)\n",
    "    ax1.set_xticklabels(labels, rotation='vertical')\n",
    "    ax1.spines['right'].set_visible(False)\n",
    "    ax1.spines['top'].set_visible(False)\n",
    "    ax1.yaxis.set_ticks_position('left')\n",
    "    ax1.xaxis.set_ticks_position('bottom')\n",
    "    ax1.set_ylabel('Expression level ' + dataset_label)\n",
    "    ax1.set_title('Expression Level, Cell: {}'.format(cell))\n",
    "\n",
    "    ax2 = plt.subplot2grid((2,10), (0,5), rowspan=2, colspan=2)\n",
    "    plt.sca(ax2)\n",
    "    plot_cell_pos(coord_df, cell_ids=None, cell_of_interest=cell, s=5, standalone=False)\n",
    "    for tl in ax2.get_xticklabels() + ax2.get_yticklabels():\n",
    "                tl.set_visible(False)\n",
    "    ax2.set_title('Cell Location')\n",
    "\n",
    "    ax3 = plt.subplot2grid((2,10), (0,7), rowspan=1, colspan=2)\n",
    "    ax3.hist((np.sqrt(ds.CellArea)*0.065)**2, bins=100, range=[8,254], color='grey')\n",
    "    plt.xticks(rotation=-45)\n",
    "    cell_size = float((np.sqrt(ds.CellArea[np.where(ds.CellID=='1124')])*0.065)**2)\n",
    "    plt.axvline(cell_size, color='r', linewidth=3)\n",
    "    ax3.set_title('Cell Size  = {} um2'.format(np.round(cell_size)))\n",
    "    ax3.set_xlabel('Square um')\n",
    "\n",
    "    ax4 = plt.subplot2grid((2,10), (1,7), rowspan=1, colspan=2)\n",
    "    ax4.hist(df_fish.sum(axis=0), bins=100, range=[20,2000], color='grey');\n",
    "    plt.axvline(df_fish.loc[:,cell].sum(), color='r', linewidth=3)\n",
    "    ax4.set_title('Total molecule count = {}'.format(df_fish.loc[:,cell].sum()))\n",
    "    ax4.set_xlabel('Molecule count')\n",
    "   \n",
    "    if post_clustering == True:\n",
    "        ax5 = plt.subplot2grid((2,10), (0,9), rowspan=2, colspan=1)\n",
    "        ax5.scatter(tSNE_points[:,0], tSNE_points[:,1], lw=0, s=1, alpha = 1, c ='grey')\n",
    "        ax5.scatter(tSNE_points[df_fish.columns.get_loc(cell),0], tSNE_points[df_fish.columns.get_loc(cell),1], lw=0, s=4, alpha = 1, c ='red')\n",
    "        ax5.set_aspect('equal')\n",
    "        ax5.set_axis_off()\n",
    "        ax5.set_title('Cluster: {}\\n{}'.format(cell_labels[cell], cluster_labels[cell_labels[cell]]))\n",
    "        \n",
    "    plt.tight_layout()\n",
    "    if save == True:\n",
    "        plt.savefig('Cell_{}.png'.format(cell))\n",
    "cell_n = 33\n",
    "cell_info(df_fish.columns[cell_n], 'size', post_clustering=False)\n",
    "\n"
   ]
  },
  {
   "cell_type": "code",
   "execution_count": null,
   "metadata": {
    "ExecuteTime": {
     "end_time": "2017-10-23T15:35:55.097027Z",
     "start_time": "2017-10-23T13:35:53.822Z"
    },
    "collapsed": false,
    "deletable": true,
    "editable": true,
    "scrolled": true
   },
   "outputs": [],
   "source": [
    "def plot_top_expression(gene, top_n, df):\n",
    "    gene = gene_name_conversion_reverse[gene]\n",
    "    top_expression = df.iloc[:, np.argsort(df.loc[gene])[::-1]].iloc[:,:top_n]\n",
    "\n",
    "    expression_mean = top_expression.mean(axis=1)\n",
    "    fig, ax = plt.subplots()\n",
    "    left_pos = np.arange(len(expression_mean))\n",
    "    gene_colors = ['red', 'red', 'red', 'red', 'red', 'red', 'red', 'red', 'red','blue', 'blue', 'blue', 'blue','orange', 'orange', 'orange', 'orange',\n",
    "    'green', 'green', 'green', 'green', 'green', 'green', 'green', 'green', 'green',\n",
    "    'lightblue', 'lightblue', 'darkblue', 'darkred','darkred','red','lightgreen','red','lightblue']\n",
    "    labels = [i.split('_')[1] for i in list(expression_mean.index)]\n",
    "    ax.bar(left_pos, list(expression_mean), color=gene_colors, alpha=0.5)\n",
    "    ax.hlines(1, 0, len(expression_mean))\n",
    "    ax.set_xticks(left_pos+0.4)\n",
    "    ax.set_xticklabels(labels, rotation='vertical')\n",
    "    ax.spines['right'].set_visible(False)\n",
    "    ax.spines['top'].set_visible(False)\n",
    "    ax.yaxis.set_ticks_position('left')\n",
    "    ax.xaxis.set_ticks_position('bottom')\n",
    "    ax.set_title('Mean expression level of top {} {} cells'.format(top_n, gene.split('_')[1]))\n",
    "    ax.set_ylabel('Count or FC')\n",
    "\n",
    "import time\n",
    "for i in gene_sort:\n",
    "    plot_top_expression(i, 100, df_fish_fc)\n"
   ]
  },
  {
   "cell_type": "markdown",
   "metadata": {
    "deletable": true,
    "editable": true
   },
   "source": [
    "### Spatial expression"
   ]
  },
  {
   "cell_type": "code",
   "execution_count": null,
   "metadata": {
    "ExecuteTime": {
     "end_time": "2017-10-23T15:35:55.097232Z",
     "start_time": "2017-10-23T13:35:53.828Z"
    },
    "collapsed": false,
    "deletable": true,
    "editable": true,
    "scrolled": false
   },
   "outputs": [],
   "source": [
    "plt.figure(figsize=(20,12))\n",
    "gs = plt.GridSpec(5,8)\n",
    "\n",
    "for i, gene in enumerate(gene_sort_fish):\n",
    "    plt.subplot(gs[i])\n",
    "    filt = df_fish.index == gene\n",
    "    levels = X_log[filt,:].flat[:]\n",
    "    #levels = X_fc[filt,:].flat[:]\n",
    "    levels = np.clip(levels, np.percentile(levels, 10), np.percentile(levels,90))\n",
    "    selection_df = coord_df.loc[:,df_fish.columns] #the coord_df is not filtered\n",
    "    plt.scatter(selection_df.loc['X'], selection_df.loc['Y'],color=plt.cm.coolwarm(levels/max(levels)), lw=0, alpha=0.4,s=5)\n",
    "    #for label in plt.gca().axes.get_xticklabels():\n",
    "    #    label.set_visible(False)\n",
    "    #for label in plt.gca().axes.get_yticklabels():\n",
    "    #    label.set_visible(False)\n",
    "    plt.gca().set_axis_off()\n",
    "    \n",
    "    plt.gca().invert_xaxis()\n",
    "    plt.gca().invert_yaxis()\n",
    "    plt.gca().axis('equal')\n",
    "    plt.xlim([coord_df.loc['X'].max(), coord_df.loc['X'].min()])\n",
    "    plt.ylim([coord_df.loc['Y'].max(), coord_df.loc['Y'].min()])\n",
    "    plt.title(gene.split('_')[1], color='black', fontsize=16)\n",
    "    #plt.tight_layout()\n",
    "\n",
    "#plt.savefig('spatial_marker_expression.png', dpi=300)"
   ]
  },
  {
   "cell_type": "code",
   "execution_count": null,
   "metadata": {
    "ExecuteTime": {
     "end_time": "2017-10-23T15:35:55.097450Z",
     "start_time": "2017-10-23T13:35:53.833Z"
    },
    "collapsed": false,
    "deletable": true,
    "editable": true,
    "scrolled": true
   },
   "outputs": [],
   "source": [
    "channels_wplaceholder = {'cy3_genes': ['Hybridization1_Foxj1',\n",
    "  'Hybridization2_Gfap',\n",
    "  'Hybridization3_Mfge8',\n",
    "  'Hybridization5_Cpne5',\n",
    "  'Hybridization6_Itpr2',\n",
    "  'Hybridization7_Ctps',\n",
    "  'Hybridization8_Pdgfra',\n",
    "  'Hybridization9_Lamp5',\n",
    "  'Hybridization10_Crh',\n",
    "  'Hybridization11_Syt6',\n",
    "  'Hybridization12_Kcnip2',\n",
    "  'Hybridization13_Cnr1'],\n",
    " 'cy5_genes': ['Hybridization1_Tbr1',\n",
    "  'Hybridization2_Gad2',\n",
    "  'Hybridization3_Mrc1',\n",
    "  'Hybridization5_Acta2',\n",
    "  'Hybridization6_Vip',\n",
    "  'Hybridization7_Sox10',\n",
    "  'Hybridization8_Serpinf1',\n",
    "  'Hybridization9_Anln',\n",
    "  'Hybridization10_Apln',\n",
    "    'Hybridization1_Tbr1',\n",
    "  'Hybridization12_Vtn',\n",
    "  'Hybridization13_Ttr'],\n",
    " 'txred_genes': ['Hybridization1_Aldoc',\n",
    "  'Hybridization2_Flt1',\n",
    "  'Hybridization3_Hexb',\n",
    "  'Hybridization5_Klk6',\n",
    "  'Hybridization6_Bmp4',\n",
    "  'Hybridization7_Rorb',\n",
    "  'Hybridization8_Pthlh',\n",
    "  'Hybridization9_Lum',\n",
    "  'Hybridization10_Crhbp',\n",
    "  'Hybridization11_Tmem2',\n",
    "  'Hybridization12_Slc32a1',\n",
    "  'Hybridization13_Plp1']}\n",
    "\n",
    "plt.figure(figsize=(6,35))\n",
    "gs = plt.GridSpec(12,3)\n",
    "\n",
    "for i in range(len(channels_wplaceholder['cy3_genes'])):\n",
    "    for j in range(3):\n",
    "        pos = i*3 + j\n",
    "        if j == 0:\n",
    "            gene = channels_wplaceholder['cy3_genes'][i]\n",
    "        if j == 1:\n",
    "            gene = channels_wplaceholder['txred_genes'][i]\n",
    "        if j == 2:\n",
    "            gene = channels_wplaceholder['cy5_genes'][i]\n",
    "    \n",
    "        plt.subplot(gs[pos])\n",
    "        filt = df_fish.index == gene\n",
    "        levels = X_log[filt,:].flat[:]\n",
    "        levels = np.clip(levels, np.percentile(levels, 10), np.percentile(levels,90))\n",
    "        selection_df = coord_df.loc[:,df_fish.columns] #the coord_df is not filtered\n",
    "        plt.scatter(selection_df.loc['X'], selection_df.loc['Y'],color=plt.cm.Reds(levels/max(levels)), lw=0, alpha=0.4,s=5)\n",
    "        for label in plt.gca().axes.get_xticklabels():\n",
    "            label.set_visible(False)\n",
    "        for label in plt.gca().axes.get_yticklabels():\n",
    "            label.set_visible(False)\n",
    "\n",
    "        plt.gca().invert_xaxis()\n",
    "        plt.gca().invert_yaxis()\n",
    "        plt.gca().axis('equal')\n",
    "        plt.xlim([coord_df.loc['X'].max(), coord_df.loc['X'].min()])\n",
    "        plt.ylim([coord_df.loc['Y'].max(), coord_df.loc['Y'].min()])\n",
    "        if j == 0:\n",
    "            plt.ylabel('Round {}'.format(i+1))\n",
    "        channel_names = ['Cy3', 'TxRed', 'Cy5']\n",
    "        plt.title(gene.split('_')[1]+ ' {}'.format(channel_names[j]))\n",
    "plt.tight_layout()\n",
    "#plt.savefig('Gene_expression_map_channel_round.png', dpi=300)       \n"
   ]
  },
  {
   "cell_type": "code",
   "execution_count": null,
   "metadata": {
    "ExecuteTime": {
     "end_time": "2017-10-23T15:35:55.097656Z",
     "start_time": "2017-10-23T13:35:53.839Z"
    },
    "collapsed": false,
    "deletable": true,
    "editable": true,
    "scrolled": false
   },
   "outputs": [],
   "source": [
    "gene = gene_sort_fish[gene_sort.index('Plp1')]\n",
    "\n",
    "plt.figure(figsize=(5,6))\n",
    "\n",
    "filt = df_fish.index == gene\n",
    "levels = X_fc[filt,:].flat[:]\n",
    "levels = np.clip(levels, np.percentile(levels, 10), np.percentile(levels,90))\n",
    "selection_df = coord_df.loc[:,df_fish.columns]\n",
    "scat = plt.scatter(selection_df.loc['X'], selection_df.loc['Y'],color=plt.cm.coolwarm(levels/max(levels)), lw=0, alpha=1,s=10)\n",
    "for label in plt.gca().axes.get_xticklabels():\n",
    "    label.set_visible(False)\n",
    "for label in plt.gca().axes.get_yticklabels():\n",
    "    label.set_visible(False)\n",
    "\n",
    "plt.gca().invert_xaxis()\n",
    "plt.gca().invert_yaxis()\n",
    "plt.gca().axis('equal')\n",
    "plt.xlim([coord_df.loc['X'].max(), coord_df.loc['X'].min()])\n",
    "plt.ylim([coord_df.loc['Y'].max(), coord_df.loc['Y'].min()])\n",
    "plt.title(gene.split('_')[1])\n",
    "plt.axis('off')\n",
    "plt.tight_layout()\n",
    "\n",
    "#plt.savefig('Cortex_expression_{}.png'.format(gene), dpi=600)"
   ]
  },
  {
   "cell_type": "markdown",
   "metadata": {
    "deletable": true,
    "editable": true
   },
   "source": [
    "### Gene correlation"
   ]
  },
  {
   "cell_type": "code",
   "execution_count": null,
   "metadata": {
    "ExecuteTime": {
     "end_time": "2017-10-23T15:35:55.097854Z",
     "start_time": "2017-10-23T13:35:53.845Z"
    },
    "collapsed": false,
    "deletable": true,
    "editable": true
   },
   "outputs": [],
   "source": [
    "\n",
    "def correlation_df(df):\n",
    "    fig, ax = plt.subplots(figsize=(8,8))\n",
    "    data = df.T.corr(method='pearson').values\n",
    "    data = data/np.percentile(data, 98, 1)[:,None]\n",
    "    #axHM.pcolor(z,cmap='viridis', vmax=1)\n",
    "    \n",
    "    ax.pcolor(data,cmap='viridis', vmax=1 )\n",
    "\n",
    "    y_pos = np.arange(len(df))\n",
    "    x_pos = np.arange(len(df))\n",
    "    #ax1.set_xlim(0, len(df_count_average.columns))\n",
    "    ax.xaxis.tick_top()\n",
    "    ax.set_xticks(x_pos+0.4)\n",
    "    ax.set_xticklabels(gene_sort, rotation=-90)\n",
    "    ax.set_yticks(y_pos+0.4)\n",
    "    ax.set_yticklabels(gene_sort)\n",
    "    ax.invert_yaxis()\n",
    "    ax.set_aspect('equal')\n",
    "    ax.set_title('')\n",
    "\n",
    "correlation_df(df_fish)"
   ]
  },
  {
   "cell_type": "markdown",
   "metadata": {
    "deletable": true,
    "editable": true
   },
   "source": [
    "## Gene contamination"
   ]
  },
  {
   "cell_type": "code",
   "execution_count": null,
   "metadata": {
    "ExecuteTime": {
     "end_time": "2017-10-23T15:35:55.098050Z",
     "start_time": "2017-10-23T13:35:53.852Z"
    },
    "collapsed": true,
    "deletable": true,
    "editable": true
   },
   "outputs": [],
   "source": [
    "import itertools\n",
    "import math"
   ]
  },
  {
   "cell_type": "code",
   "execution_count": null,
   "metadata": {
    "ExecuteTime": {
     "end_time": "2017-10-23T15:35:55.098253Z",
     "start_time": "2017-10-23T13:35:53.858Z"
    },
    "collapsed": false,
    "deletable": true,
    "editable": true
   },
   "outputs": [],
   "source": [
    "major_type_markers = ['Hybridization12_Slc32a1',\n",
    "                     'Hybridization1_Tbr1',\n",
    "                      'Hybridization7_Sox10',\n",
    "                      'Hybridization1_Aldoc',\n",
    "                      'Hybridization3_Hexb',\n",
    "                      'Hybridization3_Mrc1',\n",
    "                      'Hybridization1_Foxj1',\n",
    "                      'Hybridization12_Vtn',\n",
    "                      'Hybridization2_Flt1',\n",
    "                      'Hybridization5_Acta2',\n",
    "                      'Hybridization9_Lum']\n",
    "\n",
    "combinations = (list(itertools.combinations(major_type_markers, 2)))\n",
    "n_combinations = int(math.factorial(len(major_type_markers)) / (math.factorial(len(major_type_markers)-2)*2))\n",
    "\n",
    "plt.figure(figsize=(20,16))\n",
    "gs = plt.GridSpec(int(np.sqrt(n_combinations)), int(np.sqrt(n_combinations)+1))\n",
    "#gs = plt.GridSpec(7, 8)\n",
    "\n",
    "for i, c in enumerate(combinations):\n",
    "    ax = plt.subplot(gs[i])\n",
    "    ax.scatter(df_fish.loc[c[0]],  df_fish.loc[c[1]], s=0.5, alpha=0.2)\n",
    "    ax.set_aspect('auto')\n",
    "    #ax.set_yticklabels([])\n",
    "    #ax.set_xticklabels([])\n",
    "    ax.set_ylabel(c[0].split('_')[1])\n",
    "    ax.set_xlabel(c[1].split('_')[1])\n",
    "    \n",
    "plt.tight_layout()\n",
    "plt.savefig('Major_marker_comparison.png', dpi=600)"
   ]
  },
  {
   "cell_type": "markdown",
   "metadata": {
    "deletable": true,
    "editable": true
   },
   "source": [
    "# Single cell data & Comparison"
   ]
  },
  {
   "cell_type": "code",
   "execution_count": null,
   "metadata": {
    "ExecuteTime": {
     "end_time": "2017-10-23T15:35:55.098456Z",
     "start_time": "2017-10-23T13:35:53.867Z"
    },
    "collapsed": false,
    "deletable": true,
    "editable": true
   },
   "outputs": [],
   "source": [
    "# Import the Single Cell Cortex data into a data frame (Zeisel 2015)\n",
    "df_sc_cort = pd.read_csv('/home/lars/storage/Documents/Single_Cell/Single_Cell_Cortex_Data/expression_mRNA_17-Aug-2014.txt', sep=\"\\t\", index_col=0, low_memory=False)\n",
    "#used Low_memory=False, because the df is made up of mixed types in the rows. (normaly pandas expects different parameters in the columns)\n",
    "\n",
    "# Remove all the bad cells (Cells with the label '(none)'\n",
    "    #This removes 189 bad cells\n",
    "df_sc_cort = df_sc_cort.loc[:, [i for i in df_sc_cort.columns if df_sc_cort.iloc[8,df_sc_cort.columns.get_loc(i)] != '(none)']].copy()\n",
    "\n",
    "# Put all cell labels in a dictionary\n",
    "sc_cor_cell_label_1 = df_sc_cort.iloc[7,1:].to_dict()\n",
    "sc_cor_cell_label_2 = df_sc_cort.iloc[8,1:].to_dict()\n",
    "\n",
    "# Get rid of the meta data\n",
    "df_sc_cort = df_sc_cort.iloc[10:,1:]\n",
    "\n",
    "#Make a copy with all the genes\n",
    "df_sc_cort_all_genes = df_sc_cort\n",
    "\n",
    "# \n",
    "df_sc_cort = df_sc_cort.loc[gene_sort,:]\n",
    "df_sc_cort = df_sc_cort.astype(np.int64)\n",
    "df_sc_cort"
   ]
  },
  {
   "cell_type": "markdown",
   "metadata": {
    "deletable": true,
    "editable": true
   },
   "source": [
    "### Cortex and Oligo dataset"
   ]
  },
  {
   "cell_type": "code",
   "execution_count": null,
   "metadata": {
    "ExecuteTime": {
     "end_time": "2017-10-23T15:35:55.098654Z",
     "start_time": "2017-10-23T13:35:53.874Z"
    },
    "collapsed": false,
    "deletable": true,
    "editable": true
   },
   "outputs": [],
   "source": [
    "#Load the data set with the cortex and oligo paper cells\n",
    "df_sc_cort_olig = pd.read_pickle('/home/lars/storage/Documents/Single_Cell/Single_Cell_All_2016/df_cortex_olig.pkl')\n",
    "df_sc_cort_olig = df_sc_cort_olig.loc[gene_sort,:]\n",
    "\n",
    "#Load Cell label dictionary\n",
    "sc_cort_olig_label = pickle.load(open('/home/lars/storage/Documents/Single_Cell/Single_Cell_All_2016/label_cortex_olig.pkl', \"rb\" ) )\n",
    "df_sc_cort_olig.head(5)"
   ]
  },
  {
   "cell_type": "code",
   "execution_count": null,
   "metadata": {
    "ExecuteTime": {
     "end_time": "2017-10-23T15:35:55.098847Z",
     "start_time": "2017-10-23T13:35:53.880Z"
    },
    "collapsed": false,
    "deletable": true,
    "editable": true
   },
   "outputs": [],
   "source": [
    "sc_cort_olig_label"
   ]
  },
  {
   "cell_type": "markdown",
   "metadata": {
    "deletable": true,
    "editable": true
   },
   "source": [
    "## average molecule compare"
   ]
  },
  {
   "cell_type": "code",
   "execution_count": null,
   "metadata": {
    "ExecuteTime": {
     "end_time": "2017-10-23T15:35:55.099056Z",
     "start_time": "2017-10-23T13:35:53.887Z"
    },
    "collapsed": true,
    "deletable": true,
    "editable": true
   },
   "outputs": [],
   "source": [
    "difference_sc_fish = np.zeros((len(gene_sort_fish),3))\n",
    "for i, g in enumerate(gene_sort_fish):\n",
    "    difference_sc_fish[i,0] = np.mean(df_fish.loc[g])\n",
    "    difference_sc_fish[i,1] = np.mean(df_sc_cort.loc[g.split('_')[1]])\n",
    "    difference_sc_fish[i,2] = (np.mean(df_fish.loc[g]) / np.mean(df_sc_cort.loc[g.split('_')[1]]))"
   ]
  },
  {
   "cell_type": "code",
   "execution_count": null,
   "metadata": {
    "ExecuteTime": {
     "end_time": "2017-10-23T15:35:55.099262Z",
     "start_time": "2017-10-23T13:35:53.894Z"
    },
    "collapsed": false,
    "deletable": true,
    "editable": true
   },
   "outputs": [],
   "source": [
    "plt.figure(figsize=(9, 5))\n",
    "ax1 = plt.subplot2grid((2,3), (0,0), rowspan=1, colspan=2)\n",
    "x_pos = list(range(difference_sc_fish.shape[0]))\n",
    "ax1.bar(x_pos, difference_sc_fish[:,0], color='b', alpha=0.5, linewidth=0, width=0.7)\n",
    "ax1.bar([x+0.15 for x in x_pos], difference_sc_fish[:,1],  alpha=1, linewidth=0, width=0.7, color=[255/255,128/255,128/255])\n",
    "ax1.set_xticks(np.arange(difference_sc_fish.shape[0])+0.0)\n",
    "ax1.set_xticklabels(gene_sort, rotation='vertical');\n",
    "ax1.set_yscale(\"log\")\n",
    "ax1.set_xlim(-1, len(gene_sort))\n",
    "ax1.set_title('Mean count B:smFISH, R:sc')\n",
    "\n",
    "ax2 = plt.subplot2grid((2,3), (1,0), rowspan=1, colspan=2)\n",
    "ax2.bar(x_pos, difference_sc_fish[:,2], color='grey', alpha=0.5)\n",
    "ax2.set_xticks(np.arange(difference_sc_fish.shape[0])+0.0)\n",
    "ax2.set_xticklabels(gene_sort, rotation='vertical');\n",
    "ax2.set_title('mean fish count / mean sc count')\n",
    "ax2.hlines(np.mean(difference_sc_fish[:,2]), 0, 35)\n",
    "ax2.set_xlim(-1, len(gene_sort))\n",
    "\n",
    "ax3 = plt.subplot2grid((2,3), (0,2), rowspan=2, colspan=1)\n",
    "ax3.bar(1,np.mean(difference_sc_fish[:,2]), yerr = np.std(difference_sc_fish[:,2])/np.sqrt(difference_sc_fish.shape[0]), color='grey', alpha=0.5, ecolor='black')\n",
    "ax3.set_title('Mean count difference, SEM')\n",
    "plt.tight_layout()\n",
    "\n",
    "print('The mean count is on average {} times higher for the smFISH compated to the single cell, with a SEM of {}'.format(np.mean(difference_sc_fish[:,2]), np.std(difference_sc_fish[:,2])/np.sqrt(difference_sc_fish.shape[0])))\n",
    "print('Assumes unbiased cell sampling')"
   ]
  },
  {
   "cell_type": "code",
   "execution_count": null,
   "metadata": {
    "ExecuteTime": {
     "end_time": "2017-10-23T15:35:55.099470Z",
     "start_time": "2017-10-23T13:35:53.901Z"
    },
    "collapsed": false,
    "deletable": true,
    "editable": true
   },
   "outputs": [],
   "source": [
    "fig, ax = plt.subplots(figsize=(4,2))\n",
    "\n",
    "x_pos = np.array(range(difference_sc_fish.shape[0]))\n",
    "ax.bar(x_pos+0.01, difference_sc_fish[:,0], alpha=1, linewidth=0, width=0.65, color=[128/255,128/255, 255/255])\n",
    "ax.bar(x_pos+0.15, difference_sc_fish[:,1],  alpha=1, linewidth=0, width=0.65, color=[255/255,128/255,128/255])\n",
    "ax.set_yscale(\"log\")\n",
    "ax.set_xticks(np.arange(len(gene_sort))+0.0)\n",
    "ax.set_xticklabels(gene_sort, rotation='vertical', fontsize=8)\n",
    "ax.set_xlim(-0.5, len(gene_sort))\n",
    "\n",
    "ax.yaxis.set_major_formatter(FuncFormatter(lambda y,pos: ('{{:.{:1d}f}}'.format(int(np.maximum(-np.log10(y),0)))).format(y)))\n",
    "\n",
    "ax.set_axisbelow(True)\n",
    "ax.yaxis.grid(color='gray', linestyle='solid', alpha=0.3)\n",
    "\n",
    "ax.spines['top'].set_visible(False)\n",
    "ax.spines['right'].set_visible(False)\n",
    "ax.yaxis.set_ticks_position('left')\n",
    "ax.xaxis.set_ticks_position('none')\n",
    "\n",
    "\n",
    "ax.set_title('Mean count B:smFISH, R:sc')\n",
    "plt.tight_layout()\n",
    "\n",
    "plt.savefig('Mean_count_comaprison_sc_fish.png', dpi=300)"
   ]
  },
  {
   "cell_type": "code",
   "execution_count": null,
   "metadata": {
    "ExecuteTime": {
     "end_time": "2017-10-23T15:35:55.099673Z",
     "start_time": "2017-10-23T13:35:53.908Z"
    },
    "collapsed": false,
    "deletable": true,
    "editable": true
   },
   "outputs": [],
   "source": [
    "plt.figure()\n",
    "\n",
    "#plt.scatter(difference_sc_fish[:,0], difference_sc_fish[:,1])\n",
    "plt.ylabel('Mean count scRNA-seq')\n",
    "plt.xlabel('Mean count smFISH')\n",
    "\n",
    "data = difference_sc_fish\n",
    "\n",
    "#Exclude Plp1\n",
    "data = np.delete(data, 18, axis=0 )\n",
    "\n",
    "fit = np.polyfit(data[:,0], data[:,1], 1)\n",
    "fit_fn = np.poly1d(fit)\n",
    "\n",
    "plt.plot(data[:,0], data[:,1], '*', data[:,0], fit_fn(data[:,0]))\n",
    "#plt.yscale('log')\n",
    "#plt.xscale('log')\n",
    "\n",
    "print(fit_fn)\n"
   ]
  },
  {
   "cell_type": "code",
   "execution_count": null,
   "metadata": {
    "ExecuteTime": {
     "end_time": "2017-10-23T15:35:55.099874Z",
     "start_time": "2017-10-23T13:35:53.914Z"
    },
    "collapsed": true,
    "deletable": true,
    "editable": true
   },
   "outputs": [],
   "source": [
    "#Split plot\n",
    "difference_sc_fish = pd.DataFrame(data = np.zeros((len(gene_sort_fish),5)), index=gene_sort_fish, columns=['mean_fish', 'f_std', 'mean_sc','s_std', 'f/s'])\n",
    "#for i, g in enumerate(gene_sort_fish):\n",
    "#    difference_sc_fish[i,0] = np.mean(df_fish.loc[g])\n",
    "#    difference_sc_fish[i,1] = np.mean(df_sc_cort.loc[g.split('_')[1]])\n",
    "#    difference_sc_fish[i,2] = (np.mean(df_fish.loc[g]) / np.mean(df_sc_cort.loc[g.split('_')[1]]))"
   ]
  },
  {
   "cell_type": "code",
   "execution_count": null,
   "metadata": {
    "ExecuteTime": {
     "end_time": "2017-10-23T15:35:55.100071Z",
     "start_time": "2017-10-23T13:35:53.922Z"
    },
    "collapsed": true,
    "deletable": true,
    "editable": true
   },
   "outputs": [],
   "source": [
    "for g in gene_sort_fish:\n",
    "    difference_sc_fish.loc[g] = [np.mean(df_fish.loc[g]), np.std(df_fish.loc[g]), np.mean(df_sc_cort.loc[g.split('_')[1]]), np.std(df_sc_cort.loc[g.split('_')[1]]), (np.mean(df_fish.loc[g]) / np.mean(df_sc_cort.loc[g.split('_')[1]]))]"
   ]
  },
  {
   "cell_type": "code",
   "execution_count": null,
   "metadata": {
    "ExecuteTime": {
     "end_time": "2017-10-23T15:35:55.100291Z",
     "start_time": "2017-10-23T13:35:53.929Z"
    },
    "collapsed": false,
    "deletable": true,
    "editable": true,
    "scrolled": false
   },
   "outputs": [],
   "source": [
    "fish_h =[]\n",
    "sc_h = []\n",
    "for n, i in enumerate(difference_sc_fish.index):\n",
    "    if difference_sc_fish.iloc[n,4] > 1:\n",
    "        fish_h.append(i)\n",
    "    else:\n",
    "        sc_h.append(i)\n",
    "\n",
    "fig= plt.figure (figsize=(8,3))\n",
    "\n",
    "ax1 = plt.subplot2grid((1,5), (0,0), rowspan=1, colspan=4)\n",
    "x_pos = np.array(range(difference_sc_fish.loc[fish_h].shape[0]))\n",
    "ax1.bar(x_pos+0.01, difference_sc_fish.loc[fish_h].iloc[:,0], alpha=1, linewidth=0, width=0.65, color=[255/255,201/255,34/255])\n",
    "ax1.bar(x_pos+0.15, difference_sc_fish.loc[fish_h].iloc[:,2],  alpha=1, linewidth=0, width=0.65, color=[255/255,128/255,128/255])\n",
    "#ax1.set_yscale(\"log\")\n",
    "ax1.set_xticks(np.arange(len(gene_sort))+0.4)\n",
    "genes = []\n",
    "for i in difference_sc_fish.loc[fish_h].index:\n",
    "    genes.append(i.split('_')[1])\n",
    "#[x.split['_'][1] for x in difference_sc_fish.index]\n",
    "ax1.set_xticklabels(genes, rotation='vertical', fontsize=12)\n",
    "ax1.set_xlim(-0.5, len(genes))\n",
    "\n",
    "#ax1.yaxis.set_major_formatter(FuncFormatter(lambda y,pos: ('{{:.{:1d}f}}'.format(int(np.maximum(-np.log10(y),0)))).format(y)))\n",
    "\n",
    "ax1.set_axisbelow(True)\n",
    "ax1.yaxis.grid(color='gray', linestyle='solid', alpha=0.3)\n",
    "\n",
    "ax1.spines['top'].set_visible(False)\n",
    "ax1.spines['right'].set_visible(False)\n",
    "ax1.yaxis.set_ticks_position('left')\n",
    "ax1.xaxis.set_ticks_position('none')\n",
    "ax1.set_ylabel('Molecules')\n",
    "ax1.set_title('Mean count')\n",
    "\n",
    "\n",
    "ax2 = plt.subplot2grid((1,5), (0,4), rowspan=1, colspan=1)\n",
    "x_pos = np.array(range(difference_sc_fish.loc[sc_h].shape[0]))\n",
    "ax2.bar(x_pos+0.01, difference_sc_fish.loc[sc_h].iloc[:,2],  alpha=1, linewidth=0, width=0.65, color=[255/255,128/255,128/255])\n",
    "ax2.bar(x_pos+0.15, difference_sc_fish.loc[sc_h].iloc[:,0], alpha=1, linewidth=0, width=0.65, color=[255/255,201/255,34/255])\n",
    "\n",
    "#ax1.set_yscale(\"log\")\n",
    "ax2.set_xticks(np.arange(len(gene_sort))+0.4)\n",
    "genes = []\n",
    "for i in difference_sc_fish.loc[sc_h].index:\n",
    "    genes.append(i.split('_')[1])\n",
    "#[x.split['_'][1] for x in difference_sc_fish.index]\n",
    "ax2.set_xticklabels(genes, rotation='vertical', fontsize=12)\n",
    "ax2.set_xlim(-0.5, len(genes))\n",
    "\n",
    "#ax1.yaxis.set_major_formatter(FuncFormatter(lambda y,pos: ('{{:.{:1d}f}}'.format(int(np.maximum(-np.log10(y),0)))).format(y)))\n",
    "\n",
    "ax2.set_axisbelow(True)\n",
    "ax2.yaxis.grid(color='gray', linestyle='solid', alpha=0.3)\n",
    "\n",
    "ax2.spines['top'].set_visible(False)\n",
    "ax2.spines['right'].set_visible(False)\n",
    "ax2.yaxis.set_ticks_position('left')\n",
    "ax2.xaxis.set_ticks_position('none')\n",
    "ax2.set_title('Mean count')\n",
    "\n",
    "blue_patch = matplotlib.patches.Patch(color=[255/255,201/255,34/255], label='smFISH')\n",
    "red_patch = matplotlib.patches.Patch(color=[255/255,128/255,128/255], label='Single Cell')\n",
    "plt.sca(ax1)\n",
    "plt.legend(handles=[blue_patch, red_patch], loc=0)\n",
    "\n",
    "plt.tight_layout()\n",
    "\n",
    "plt.savefig('Comparison_smFISh_sc.svg')"
   ]
  },
  {
   "cell_type": "markdown",
   "metadata": {
    "collapsed": true,
    "deletable": true,
    "editable": true
   },
   "source": [
    "### Dot saturation"
   ]
  },
  {
   "cell_type": "code",
   "execution_count": null,
   "metadata": {
    "ExecuteTime": {
     "end_time": "2017-10-23T15:35:55.100486Z",
     "start_time": "2017-10-23T13:35:53.937Z"
    },
    "collapsed": true,
    "deletable": true,
    "editable": true
   },
   "outputs": [],
   "source": [
    "#df count --> count per mean square um"
   ]
  },
  {
   "cell_type": "code",
   "execution_count": null,
   "metadata": {
    "ExecuteTime": {
     "end_time": "2017-10-23T15:35:55.100681Z",
     "start_time": "2017-10-23T13:35:53.944Z"
    },
    "collapsed": true,
    "deletable": true,
    "editable": true
   },
   "outputs": [],
   "source": [
    "#Mean cell size\n",
    "mean_cell_area_px = np.mean(np.array(list(cell_size.values())))\n",
    "mean_cell_area_um2 = (np.sqrt(mean_cell_area_px)*0.065)**2\n",
    "\n",
    "#make a dataframe with the count per average cell area. \n",
    "df_mean_size = df_fish\n",
    "df_mean_size = df_mean_size.divide([cell_size[i] for i in df_fish.columns])\n",
    "df_mean_size = df_mean_size * mean_cell_area_px"
   ]
  },
  {
   "cell_type": "code",
   "execution_count": null,
   "metadata": {
    "ExecuteTime": {
     "end_time": "2017-10-23T15:35:55.100879Z",
     "start_time": "2017-10-23T13:35:53.950Z"
    },
    "collapsed": false,
    "deletable": true,
    "editable": true
   },
   "outputs": [],
   "source": [
    "fig, ax = plt.subplots(figsize = (10, 5))\n",
    "\n",
    "handles=[]\n",
    "for n, i in enumerate(df_mean_size.index):\n",
    "    ax.plot(np.sort(df_mean_size.loc[i,:]), c=gene_color[n])\n",
    "    h = matplotlib.patches.Patch(color=gene_color[n], label=i.split('_')[1])\n",
    "    handles.append(h)\n",
    "ax.set_xlim([5500, df_mean_size.shape[1]])\n",
    "ax.set_ylabel('count / mean_cell_area ({} um2)'.format(round(mean_cell_area_um2, 2)))\n",
    "ax.set_xlabel('cells')\n",
    "ax.set_title('Max count per average cell area')\n",
    "\n",
    "plt.legend(handles=handles, loc=5, fontsize=6, bbox_to_anchor=(1.1, .5))\n",
    "\n",
    "plt.savefig('Max_count_5500.png')   "
   ]
  },
  {
   "cell_type": "code",
   "execution_count": null,
   "metadata": {
    "ExecuteTime": {
     "end_time": "2017-10-23T15:35:55.101074Z",
     "start_time": "2017-10-23T13:35:53.957Z"
    },
    "collapsed": false,
    "deletable": true,
    "editable": true
   },
   "outputs": [],
   "source": [
    "fig, ax = plt.subplots(figsize = (10, 5))\n",
    "\n",
    "\n",
    "ax.plot(np.sort(df_fish.loc['Hybridization9_Lamp5']))"
   ]
  },
  {
   "cell_type": "code",
   "execution_count": null,
   "metadata": {
    "ExecuteTime": {
     "end_time": "2017-10-23T15:35:55.101263Z",
     "start_time": "2017-10-23T13:35:53.964Z"
    },
    "collapsed": false
   },
   "outputs": [],
   "source": [
    "df_fish.max(axis=1)"
   ]
  },
  {
   "cell_type": "code",
   "execution_count": null,
   "metadata": {
    "ExecuteTime": {
     "end_time": "2017-10-23T15:35:55.101451Z",
     "start_time": "2017-10-23T13:35:53.970Z"
    },
    "collapsed": false
   },
   "outputs": [],
   "source": [
    "df_fish.mean(axis=1)"
   ]
  },
  {
   "cell_type": "code",
   "execution_count": null,
   "metadata": {
    "ExecuteTime": {
     "end_time": "2017-10-23T15:35:55.101641Z",
     "start_time": "2017-10-23T13:35:53.979Z"
    },
    "collapsed": false
   },
   "outputs": [],
   "source": [
    "np.median(df_fish.mean(axis=0))"
   ]
  },
  {
   "cell_type": "code",
   "execution_count": null,
   "metadata": {
    "ExecuteTime": {
     "end_time": "2017-10-23T15:35:55.101833Z",
     "start_time": "2017-10-23T13:35:53.987Z"
    },
    "collapsed": false
   },
   "outputs": [],
   "source": [
    "df_sc_cort.mean(axis=1)"
   ]
  },
  {
   "cell_type": "code",
   "execution_count": null,
   "metadata": {
    "ExecuteTime": {
     "end_time": "2017-10-23T15:35:55.102022Z",
     "start_time": "2017-10-23T13:35:53.994Z"
    },
    "collapsed": false
   },
   "outputs": [],
   "source": [
    "np.median(df_sc_cort.mean(axis=0))"
   ]
  },
  {
   "cell_type": "code",
   "execution_count": null,
   "metadata": {
    "ExecuteTime": {
     "end_time": "2017-10-23T15:35:55.102210Z",
     "start_time": "2017-10-23T13:35:54.001Z"
    },
    "collapsed": false
   },
   "outputs": [],
   "source": [
    "np.sum(df_sc_cort.sum(axis=1))/df_sc_cort.shape[1]"
   ]
  },
  {
   "cell_type": "markdown",
   "metadata": {
    "deletable": true,
    "editable": true
   },
   "source": [
    "## Marker selection plot"
   ]
  },
  {
   "cell_type": "code",
   "execution_count": null,
   "metadata": {
    "ExecuteTime": {
     "end_time": "2017-10-23T15:35:55.102405Z",
     "start_time": "2017-10-23T13:35:54.009Z"
    },
    "collapsed": true,
    "deletable": true,
    "editable": true
   },
   "outputs": [],
   "source": [
    "#make list and array of cell type labels\n",
    "sc_CO_labels = []\n",
    "for i in df_sc_cort_olig.columns:\n",
    "    sc_CO_labels.append(sc_cort_olig_label[i])\n",
    "sc_CO_labels_a = np.array(sc_CO_labels)\n",
    "\n",
    "#Make df with count averages per cluster\n",
    "df_count_average_sc = pd.DataFrame(index=df_sc_cort_olig.index, columns=np.unique(sc_CO_labels_a))\n",
    "\n",
    "for l in np.unique(sc_CO_labels_a):\n",
    "    #filt = np.sort(sc_CO_labels) == l\n",
    "    filt = sc_CO_labels_a == l\n",
    "    mean = np.array(df_sc_cort_olig.loc[:,filt].T.mean())\n",
    "    #std = np.array(np.std(df_sort.loc[:,filt], axis=1))\n",
    "    if np.isnan(np.sum(mean)) == False: #In case some clusters do not have cells\n",
    "        df_count_average_sc[l] = mean\n"
   ]
  },
  {
   "cell_type": "code",
   "execution_count": null,
   "metadata": {
    "ExecuteTime": {
     "end_time": "2017-10-23T15:35:55.102609Z",
     "start_time": "2017-10-23T13:35:54.017Z"
    },
    "collapsed": false,
    "deletable": true,
    "editable": true
   },
   "outputs": [],
   "source": [
    "type_sort_sc_cort = ['Int1', 'Int2', 'Int3', 'Int4', 'Int5','Int6', 'Int7', 'Int8', 'Int9','Int10', \n",
    "       'Int11', 'Int12', 'Int13', 'Int14', 'Int15', 'Int16','CA1PyrInt',\n",
    "       'S1PyrL23', 'S1PyrL4', 'S1PyrL5', 'S1PyrL5a', 'S1PyrL6',\n",
    "       'S1PyrL6b', 'SubPyr','S1PyrDL','ClauPyr', 'CA1Pyr1','CA1PyrInt', 'CA2Pyr2',\n",
    "                    'Mgl1', 'Mgl2',\n",
    "                    'Vsmc',\n",
    "                    'Peric',\n",
    "                    'Vend1', 'Vend2',\n",
    "                    'Epend',\n",
    "                    'Astro1', 'Astro2',\n",
    "                    'Choroid',\n",
    "                     'PPR',\n",
    "                    'OPC','COP','NFOL1','NFOL2','MFOL1','MFOL2',\n",
    "                     'MOL1','MOL2', 'MOL3', 'MOL4', 'MOL5', 'MOL6',\n",
    "                    ]\n",
    "\n",
    "type_sort_sc_cort_trimmed = ['Int1', 'Int2', 'Int3', 'Int4', 'Int5','Int6', 'Int7', 'Int8', 'Int9','Int10', \n",
    "       'Int11', 'Int12', 'Int13', 'Int14', 'Int15', 'Int16',\n",
    "       'S1PyrL23', 'S1PyrL4', 'S1PyrL5', 'S1PyrL5a', 'S1PyrL6',\n",
    "       'Astro1', 'Astro2',\n",
    "       'OPC','COP','NFOL1','NFOL2','MFOL1','MFOL2',\n",
    "        'MOL1','MOL2', 'MOL3', 'MOL4', 'MOL5', 'MOL6',                      \n",
    "        'Mgl1', 'Mgl2',                     \n",
    "        'Choroid',   \n",
    "        'Epend',                              \n",
    "        'Peric',\n",
    "        'Vend1', 'Vend2',\n",
    "        'Vsmc',\n",
    "         'PPR']\n",
    "\n",
    "df_count_average_sc = df_count_average_sc.loc[gene_sort, type_sort_sc_cort_trimmed]"
   ]
  },
  {
   "cell_type": "code",
   "execution_count": null,
   "metadata": {
    "ExecuteTime": {
     "end_time": "2017-10-23T15:35:55.102814Z",
     "start_time": "2017-10-23T13:35:54.024Z"
    },
    "collapsed": false,
    "deletable": true,
    "editable": true
   },
   "outputs": [],
   "source": [
    "fig, ax = plt.subplots(figsize=(6,5))\n",
    "z = df_count_average_sc.values\n",
    "z = z/np.percentile(z, 99, 1)[:,None]\n",
    "im  = ax.pcolor(z,cmap='viridis', vmax=1)\n",
    "\n",
    "y_pos = np.arange(len(df_count_average_sc.index))\n",
    "x_pos = np.arange(len(df_count_average_sc.columns))\n",
    "ax.set_xticks(x_pos+0.5)\n",
    "ax.set_xticklabels(df_count_average_sc.columns, rotation='vertical', fontsize=6)\n",
    "ax.set_yticks(y_pos+0.5)\n",
    "ax.set_yticklabels(df_count_average_sc.index, fontsize=6)\n",
    "ax.invert_yaxis()\n",
    "\n",
    "ax.set_aspect('equal')\n",
    "\n",
    "\n",
    "cax = fig.add_axes([.91, 0.13, 0.03, 0.2])\n",
    "colorbar = fig.colorbar(im, cax=cax, ticks=[0,1])\n",
    "colorbar.set_ticklabels(['0', 'max'])\n",
    "\n",
    "\n",
    "#plt.savefig('Marker_selection.svg')\n",
    "\n",
    "#divider = make_axes_locatable(ax)\n",
    "#axLabel = divider.append_axes(\"top\", .5, pad=0, sharex=ax)\n",
    "#axLabel.pcolor()\n",
    "\n",
    "#optimal_sort_labels = np.array(optimal_sort_labels)\n",
    "#axLabel.pcolor(optimal_sort_labels[None,:]/max(optimal_sort_labels), cmap='prism')\n",
    "#axLabel.set_xlim(xmax=len(df.columns))\n",
    "#axLabel.axis('off')"
   ]
  },
  {
   "cell_type": "markdown",
   "metadata": {
    "deletable": true,
    "editable": true
   },
   "source": [
    "## Gini coefficient"
   ]
  },
  {
   "cell_type": "code",
   "execution_count": null,
   "metadata": {
    "ExecuteTime": {
     "end_time": "2017-10-23T15:35:55.103041Z",
     "start_time": "2017-10-23T13:35:54.031Z"
    },
    "collapsed": true,
    "deletable": true,
    "editable": true
   },
   "outputs": [],
   "source": [
    "#Function from:\n",
    "#https://github.com/oliviaguest/gini/blob/master/gini.py\n",
    "def gini(array):\n",
    "    \"\"\"Calculate the Gini coefficient of a numpy array.\"\"\"\n",
    "    # based on bottom eq:\n",
    "    # http://www.statsdirect.com/help/generatedimages/equations/equation154.svg\n",
    "    # from:\n",
    "    # http://www.statsdirect.com/help/default.htm#nonparametric_methods/gini.htm\n",
    "    # All values are treated equally, arrays must be 1d:\n",
    "    array = array.flatten()\n",
    "    if np.amin(array) < 0:\n",
    "        # Values cannot be negative:\n",
    "        array -= np.amin(array)\n",
    "    # Values cannot be 0:\n",
    "    array += 0.0000001\n",
    "    # Values must be sorted:\n",
    "    array = np.sort(array)\n",
    "    # Index per array element:\n",
    "    index = np.arange(1,array.shape[0]+1)\n",
    "    # Number of array elements:\n",
    "    n = array.shape[0]\n",
    "    # Gini coefficient:\n",
    "    return ((np.sum((2 * index - n  - 1) * array)) / (n * np.sum(array)))\n",
    "\n",
    "#One sample has all --> Gini = 1\n",
    "#All samples have the same --> Gini = 0\n",
    "#Uniform random --> Gini ~0.33"
   ]
  },
  {
   "cell_type": "code",
   "execution_count": null,
   "metadata": {
    "ExecuteTime": {
     "end_time": "2017-10-23T15:35:55.103239Z",
     "start_time": "2017-10-23T13:35:54.039Z"
    },
    "collapsed": false,
    "deletable": true,
    "editable": true
   },
   "outputs": [],
   "source": [
    "gini_sc = []\n",
    "for g in gene_sort:\n",
    "    gini_sc.append(gini(df_sc_cort.loc[g].values.astype(np.float64)))\n",
    "    \n",
    "gini_fish = []\n",
    "for g in gene_sort_fish:\n",
    "    gini_fish.append(gini(df_fish.loc[g].values.astype(np.float64)))\n",
    "    \n",
    "print('Average Gini coefficient for Single Cell: {}, SEM {}'.format(np.mean(gini_sc), np.std(gini_sc)/np.sqrt(len(gini_sc))))\n",
    "print('Average Gini coefficient for smFISH: {}, SEM {}'.format(np.mean(gini_fish),  np.std(gini_fish)/np.sqrt(len(gini_fish))))"
   ]
  },
  {
   "cell_type": "code",
   "execution_count": null,
   "metadata": {
    "ExecuteTime": {
     "end_time": "2017-10-23T15:35:55.103435Z",
     "start_time": "2017-10-23T13:35:54.048Z"
    },
    "collapsed": false,
    "deletable": true,
    "editable": true
   },
   "outputs": [],
   "source": [
    "fig, ax = plt.subplots()\n",
    "x_pos = range(len(gini_sc))\n",
    "ax.bar(x_pos, gini_sc, color='r', alpha=0.5)\n",
    "ax.bar(x_pos, gini_fish, color='b', alpha=0.5)\n",
    "ax.set_xticks(np.arange(0, len(gini_sc), 1)+0.4)\n",
    "ax.set_xticklabels(gene_sort, rotation='vertical')\n",
    "ax.set_ylabel('Gini Coefficient')\n",
    "ax.set_title('Red=SC, Blue=FISH')\n",
    "\n",
    "plt.savefig('Gini_FISH_vs_SC.png')"
   ]
  },
  {
   "cell_type": "markdown",
   "metadata": {
    "deletable": true,
    "editable": true
   },
   "source": [
    "Gini could be a good measure to see how uniformly a gene is expressed within a cell type"
   ]
  },
  {
   "cell_type": "markdown",
   "metadata": {
    "deletable": true,
    "editable": true,
    "heading_collapsed": true
   },
   "source": [
    "## Zero and count distribution"
   ]
  },
  {
   "cell_type": "code",
   "execution_count": null,
   "metadata": {
    "ExecuteTime": {
     "end_time": "2017-10-23T15:35:55.103649Z",
     "start_time": "2017-10-23T13:35:54.058Z"
    },
    "collapsed": false,
    "deletable": true,
    "editable": true,
    "hidden": true,
    "scrolled": false
   },
   "outputs": [],
   "source": [
    "#To compare eficiency, take the X positive cells from the single cell, and the X highest expressing genes from the FISH\n",
    "#Look at the ratio difference between the means. and calculate the mean ratio.\n",
    "\n",
    "#Gene expression count distribution, for smFISH data compared to single cell data\n",
    "#Percentage of cells with zero and higher than 10 molecules are given for smFISH data.\n",
    "\n",
    "plt.figure(figsize=(20,12))\n",
    "gs = plt.GridSpec(5,8)\n",
    "\n",
    "#Contruct lists for later plotting\n",
    "zeros = []\n",
    "tens = []\n",
    "\n",
    "#Match the number of cells of the single cell df and smFISH df\n",
    "df_fish_resample = df_fish\n",
    "df_sc_resample = df_sc_cort\n",
    "\n",
    "len_fish = len(df_fish_resample.columns)\n",
    "len_sc = len(df_sc_resample.columns)\n",
    "if len_fish > len_sc:\n",
    "    print('smFISH dataframe has more cells.\\nThis dataframe will be randomly resampled to match the number of cels of the single cell dataframe')\n",
    "    df_fish_resample = df_fish_resample.sample(n=len_sc, axis=1)\n",
    "    x_max = len_sc\n",
    "elif len_sc > len_fish:\n",
    "    print('single cell dataframe has more cells.\\nThis dataframe will be randomly resampled to match the number of cels of the smFISH dataframe')\n",
    "    df_sc_resample = df_sc.sample(n=len_fish, axis=1)\n",
    "    x_max = len_fish\n",
    "    \n",
    "#Plot comparison plot\n",
    "for i in range(len(df_fish_resample.index)):\n",
    "    ax = plt.subplot(gs[i])\n",
    "    \n",
    "    #Plot smFISH data\n",
    "    ax.plot(np.sort(df_fish_resample.iloc[i])[::-1], c='blue', lw=2)\n",
    "    \n",
    "    #Convert Hybridization gene name to single cell gene name\n",
    "    gene_name = gene_name_conversion[df_fish_resample.index[i]]\n",
    "    #Plot single cell data\n",
    "    ax.plot(np.sort(df_sc_resample.loc[gene_name])[::-1], c='red', lw=2)\n",
    "    \n",
    "    #ax.set_yscale(\"log\")\n",
    "    ax.tick_params(axis='y', labelsize=10)\n",
    "    #plt.xscale(\"log\")\n",
    "    ax.tick_params(axis='x', labelsize=5)\n",
    "    ax.set_xlim(0, x_max)\n",
    "    ax.set_ylim(0, 100)\n",
    "    total = len(df_fish_resample.columns)\n",
    "    zerosp = ((total - np.count_nonzero(df_fish_resample.iloc[i])) / total) *100\n",
    "    zeros.append(zerosp)\n",
    "    tensp = (len(np.where(df_fish_resample.iloc[i] > 10)[0]) / total) *100\n",
    "    tens.append(tensp)\n",
    "    annotation = \"smFISH\\nCount=0:   {}%\\nCount>10: {}%\".format(round(zerosp), round(tensp))\n",
    "    ax.text(.9,.9,annotation, horizontalalignment='right',verticalalignment='top',transform = ax.transAxes, color='blue')\n",
    "    #ax.annotate(annotation,xy=(len(df_smFISH.iloc[i]), 150), size=8, color ='blue', zorder=10000) #-5000 for non-log x-scale\n",
    "    ax.set_title(df_fish_resample.index[i], size=8)\n",
    "    \n",
    "ax = plt.subplot(gs[39])\n",
    "ax.violinplot((zeros, tens))\n",
    "ax.tick_params(axis='x', labelsize=10)\n",
    "#ax.set_xticks([1,2], ('=0', '>10'))\n",
    "ax.set_xticklabels(['','=0','', '>10'])\n",
    "ax.tick_params(axis='y', labelsize=10)\n",
    "ax.set_title('Distribution of zero and ten counts', size=8)\n",
    "\n",
    "#plt.savefig('smFISH_count_distribution_log', dpi=300)"
   ]
  },
  {
   "cell_type": "markdown",
   "metadata": {
    "deletable": true,
    "editable": true,
    "heading_collapsed": true
   },
   "source": [
    "## Fit curve on count sort"
   ]
  },
  {
   "cell_type": "code",
   "execution_count": null,
   "metadata": {
    "ExecuteTime": {
     "end_time": "2017-10-23T15:35:55.103844Z",
     "start_time": "2017-10-23T13:35:54.067Z"
    },
    "collapsed": true,
    "deletable": true,
    "editable": true,
    "hidden": true
   },
   "outputs": [],
   "source": [
    "from scipy.optimize import curve_fit\n",
    "from scipy.misc import derivative"
   ]
  },
  {
   "cell_type": "code",
   "execution_count": null,
   "metadata": {
    "ExecuteTime": {
     "end_time": "2017-10-23T15:35:55.104042Z",
     "start_time": "2017-10-23T13:35:54.073Z"
    },
    "collapsed": false,
    "deletable": true,
    "editable": true,
    "hidden": true,
    "scrolled": false
   },
   "outputs": [],
   "source": [
    "#FISH DATA\n",
    "\n",
    "def func_fit(x, a, b, c):\n",
    "    #return a * np.exp(-b * x) + c\n",
    "    #return a* x**2 + b*x +c\n",
    "    return (a / (x + b)) + c #<--- Best fit\n",
    "    #return a * -np.log(x)+b\n",
    "\n",
    "gene = gene_sort_fish[9]\n",
    "\n",
    "\n",
    "plt.figure()\n",
    "ydata = np.sort(df_fish.loc[gene])[::-1]\n",
    "xdata = np.arange(len(np.sort(df_fish.loc[gene])[::-1]))\n",
    "\n",
    "plt.plot(xdata, ydata, 'b-', label='data')\n",
    "\n",
    "popt, pcov = curve_fit(func_fit, xdata, ydata)\n",
    "plt.plot(xdata, func_fit(xdata, *popt), 'r-', label='fit')\n",
    "\n",
    "plt.title(gene)\n",
    "\n",
    "print(popt)\n",
    "print('Formula: ({} / (x + {})) + {}'.format(*popt) )"
   ]
  },
  {
   "cell_type": "code",
   "execution_count": null,
   "metadata": {
    "ExecuteTime": {
     "end_time": "2017-10-23T15:35:55.104241Z",
     "start_time": "2017-10-23T13:35:54.079Z"
    },
    "collapsed": false,
    "deletable": true,
    "editable": true,
    "hidden": true
   },
   "outputs": [],
   "source": [
    "#SINGLE CELL DATA\n",
    "\n",
    "def func_fit(x, a, b, c):\n",
    "    #return a * np.exp(-b * x) + c\n",
    "    #return a* x**2 + b*x +c\n",
    "    return (a / (x + b)) + c #<--- Best fit\n",
    "    #return a * -np.log(x)+b\n",
    "\n",
    "gene = gene_sort[5]\n",
    "\n",
    "\n",
    "plt.figure()\n",
    "ydata = np.sort(df_sc.loc[gene])[::-1]\n",
    "xdata = np.arange(len(np.sort(df_sc.loc[gene])[::-1]))\n",
    "\n",
    "plt.plot(xdata, ydata, 'b-', label='data')\n",
    "\n",
    "popt, pcov = curve_fit(func_fit, xdata, ydata)\n",
    "plt.plot(xdata, func_fit(xdata, *popt), 'r-', label='fit')\n",
    "\n",
    "plt.title(gene)\n",
    "\n",
    "print(popt)\n",
    "print('Formula: ({} / (x + {})) + {}'.format(*popt) )"
   ]
  },
  {
   "cell_type": "code",
   "execution_count": null,
   "metadata": {
    "ExecuteTime": {
     "end_time": "2017-10-23T15:35:55.104436Z",
     "start_time": "2017-10-23T13:35:54.085Z"
    },
    "collapsed": false,
    "deletable": true,
    "editable": true,
    "hidden": true
   },
   "outputs": [],
   "source": [
    "def f(x):\n",
    "    return (5.23190408e+04 / (x + 4.45520934e+02))-7.44022002e+00\n",
    "\n",
    "derivative(f, 1000)\n"
   ]
  },
  {
   "cell_type": "code",
   "execution_count": null,
   "metadata": {
    "ExecuteTime": {
     "end_time": "2017-10-23T15:35:55.104631Z",
     "start_time": "2017-10-23T13:35:54.091Z"
    },
    "collapsed": false,
    "deletable": true,
    "editable": true,
    "hidden": true
   },
   "outputs": [],
   "source": [
    "\n",
    "def f(x):\n",
    "    return (5.23190408e+04 / (x + 4.45520934e+02))-7.44022002e+00\n",
    "\n",
    "plt.figure()\n",
    "x = np.linspace(0, 1000, 1000)\n",
    "plt.plot(x, f(x), 'r-', label='f(x)')"
   ]
  },
  {
   "cell_type": "code",
   "execution_count": null,
   "metadata": {
    "ExecuteTime": {
     "end_time": "2017-10-23T15:35:55.104819Z",
     "start_time": "2017-10-23T13:35:54.100Z"
    },
    "collapsed": false,
    "deletable": true,
    "editable": true,
    "hidden": true
   },
   "outputs": [],
   "source": [
    "len(slice(10, 20, 1), slice(10, 20, 1))"
   ]
  },
  {
   "cell_type": "code",
   "execution_count": null,
   "metadata": {
    "ExecuteTime": {
     "end_time": "2017-10-23T15:35:55.105012Z",
     "start_time": "2017-10-23T13:35:54.107Z"
    },
    "collapsed": false,
    "deletable": true,
    "editable": true,
    "hidden": true
   },
   "outputs": [],
   "source": [
    "import scipy.optimize\n",
    "\n",
    "def f(x):\n",
    "    \n",
    "    return (52319 / (x + 445))-7\n",
    "\n",
    "\n",
    "def fa(x):\n",
    "    return derivative(f, x)\n",
    "#(slice(10, 20, 1), slice(10, 20, 1))\n",
    "rranges = (slice(-4, 4, 0.25), slice(-4, 4, 0.25))\n",
    "q = scipy.optimize.brute(f, rranges )"
   ]
  },
  {
   "cell_type": "code",
   "execution_count": null,
   "metadata": {
    "ExecuteTime": {
     "end_time": "2017-10-23T15:35:55.105204Z",
     "start_time": "2017-10-23T13:35:54.114Z"
    },
    "collapsed": false,
    "deletable": true,
    "editable": true,
    "hidden": true
   },
   "outputs": [],
   "source": [
    "def g(x):\n",
    "    return x**2\n",
    "\n",
    "def f(x):\n",
    "    return (52319 / (x + 445))-7\n",
    "\n",
    "def OA(x):\n",
    "    return np.sqrt(x**2 + (f(x))**2)\n",
    "\n",
    "def OAd(x):\n",
    "    return derivative(OA, x)\n",
    "\n",
    "def fa(x):\n",
    "    return derivative(f, x)\n",
    "\n",
    "scipy.optimize.minimize(OAd, [300,60], bounds=((1,1000),(1,100)), method='TNC')\n"
   ]
  },
  {
   "cell_type": "code",
   "execution_count": null,
   "metadata": {
    "ExecuteTime": {
     "end_time": "2017-10-23T15:35:55.105401Z",
     "start_time": "2017-10-23T13:35:54.121Z"
    },
    "collapsed": false,
    "deletable": true,
    "editable": true,
    "hidden": true,
    "scrolled": true
   },
   "outputs": [],
   "source": [
    "from scipy.optimize import fmin_cobyla\n",
    "\n",
    "P = (0, 0)\n",
    "\n",
    "def f(x):\n",
    "    return (5.23190408e+04 / (x + 4.45520934e+02))-7.44022002e+00\n",
    "\n",
    "def objective(X):\n",
    "    x,y = X\n",
    "    return np.sqrt((x - P[0])**2 + (y - P[1])**2)\n",
    "\n",
    "def c1(X):\n",
    "    x,y = X\n",
    "    return derivative(f, X)\n",
    "\n",
    "X = fmin_cobyla(objective, x0=[60,300], cons=[c1])\n",
    "\n",
    "#print( 'The minimum distance is {0:1.3f}'.format(objective(X)))\n",
    "\n",
    "# Verify the vector to this point is normal to the tangent of the curve\n",
    "# position vector from curve to point\n",
    "v1 = np.array(P) - np.array(X)\n",
    "# position vector\n",
    "v2 = np.array([1, 2.0 * X[0]])\n",
    "print ('dot(v1, v2) = ',np.dot(v1, v2))\n",
    "print(X)"
   ]
  },
  {
   "cell_type": "code",
   "execution_count": null,
   "metadata": {
    "ExecuteTime": {
     "end_time": "2017-10-23T15:35:55.105595Z",
     "start_time": "2017-10-23T13:35:54.128Z"
    },
    "collapsed": false,
    "deletable": true,
    "editable": true,
    "hidden": true,
    "scrolled": false
   },
   "outputs": [],
   "source": [
    "plt.figure()\n",
    "x = np.linspace(0, 1000, 1000)\n",
    "plt.plot(x, f(x), 'r-', label='f(x)')\n",
    "plt.plot(P[0], P[1], 'bo', label='point')\n",
    "plt.plot(X[0], X[1], 'ro', label='dot')\n",
    "plt.plot([P[0], X[0]], [P[1], X[1]], 'b-', label='shortest distance')\n",
    "plt.plot([X[0], X[0] + 1], [X[1], X[1] + 2.0 * X[0]], 'g-', label='tangent')\n",
    "#plt.axis('equal')\n",
    "plt.xlabel('x')\n",
    "plt.ylabel('y')\n",
    "plt.legend(loc='best')\n"
   ]
  },
  {
   "cell_type": "code",
   "execution_count": null,
   "metadata": {
    "ExecuteTime": {
     "end_time": "2017-10-23T15:35:55.105785Z",
     "start_time": "2017-10-23T13:35:54.134Z"
    },
    "collapsed": false,
    "deletable": true,
    "editable": true,
    "hidden": true
   },
   "outputs": [],
   "source": [
    "xx = np.linspace(0, 1000, 1000)\n",
    "plt.figure()\n",
    "plt.plot(xx, func_fit(xx, *popt))\n",
    "plt.xlim([-100, 6])"
   ]
  },
  {
   "cell_type": "markdown",
   "metadata": {
    "deletable": true,
    "editable": true
   },
   "source": [
    "## Fit distribution"
   ]
  },
  {
   "cell_type": "code",
   "execution_count": null,
   "metadata": {
    "ExecuteTime": {
     "end_time": "2017-10-23T15:35:55.105975Z",
     "start_time": "2017-10-23T13:35:54.140Z"
    },
    "collapsed": true,
    "deletable": true,
    "editable": true
   },
   "outputs": [],
   "source": [
    "# Fit normal of negative binominal distributions"
   ]
  },
  {
   "cell_type": "code",
   "execution_count": null,
   "metadata": {
    "collapsed": true,
    "deletable": true,
    "editable": true
   },
   "outputs": [],
   "source": []
  },
  {
   "cell_type": "markdown",
   "metadata": {
    "deletable": true,
    "editable": true
   },
   "source": [
    "## Count distribution & comparison smFISH SC"
   ]
  },
  {
   "cell_type": "code",
   "execution_count": null,
   "metadata": {
    "ExecuteTime": {
     "end_time": "2017-10-23T15:35:55.106179Z",
     "start_time": "2017-10-23T13:35:54.150Z"
    },
    "collapsed": false,
    "deletable": true,
    "editable": true
   },
   "outputs": [],
   "source": [
    "data1 = df_fish.sample(n=len(df_sc_cort.columns), axis=1).iloc[13]\n",
    "data2 = df_sc_cort.iloc[13]\n",
    "\n",
    "f, ax = plt.subplots(figsize=(5, 5))\n",
    "v1 = ax.violinplot(data1, showmeans=False, showextrema=False, showmedians=False)\n",
    "#v1 = ax.violinplot(data1, points=50, positions=np.arange(0, len(data1)), widths=0.85,\n",
    "#               showmeans=False, showextrema=False, showmedians=False)\n",
    "\n",
    "for b in v1['bodies']:\n",
    "    m = np.mean(b.get_paths()[0].vertices[:, 0])\n",
    "    b.get_paths()[0].vertices[:, 0] = np.clip(b.get_paths()[0].vertices[:, 0], -np.inf, m)\n",
    "    b.set_color('r')\n",
    "\n",
    "v2=ax.violinplot(data2, showmeans=False, showextrema=False, showmedians=False)\n",
    "  \n",
    "#v2 = ax.violinplot(data2, points=50, positions=np.arange(0, len(data2)), widths=0.85,\n",
    "#               showmeans=False, showextrema=False, showmedians=False)\n",
    "for b in v2['bodies']:\n",
    "    m = np.mean(b.get_paths()[0].vertices[:, 0])\n",
    "    b.get_paths()[0].vertices[:, 0] = np.clip(b.get_paths()[0].vertices[:, 0], m, np.inf)\n",
    "    b.set_color('b')\n",
    "\n",
    "ax.set_ylim(bottom=-5)"
   ]
  },
  {
   "cell_type": "code",
   "execution_count": null,
   "metadata": {
    "ExecuteTime": {
     "end_time": "2017-10-23T15:35:55.106389Z",
     "start_time": "2017-10-23T13:35:54.159Z"
    },
    "collapsed": false,
    "deletable": true,
    "editable": true,
    "scrolled": false
   },
   "outputs": [],
   "source": [
    "plt.figure(figsize=(20,12))\n",
    "gs = plt.GridSpec(5,8)\n",
    "\n",
    "\n",
    "def dual_violin(i, gene, smFISH_data, sc_data):\n",
    "    ax = plt.subplot(gs[i])\n",
    "    \n",
    "    try:\n",
    "        smFISH_data = smFISH_data.loc[gene]\n",
    "        sc_data = sc_data.loc[gene_name_conversion[gene]]\n",
    "\n",
    "        v1 = ax.violinplot(smFISH_data, showmeans=False, showextrema=False, showmedians=False)\n",
    "        for b in v1['bodies']:\n",
    "            m = np.mean(b.get_paths()[0].vertices[:, 0])\n",
    "            b.get_paths()[0].vertices[:, 0] = np.clip(b.get_paths()[0].vertices[:, 0], -np.inf, m)\n",
    "            b.set_color('b')\n",
    "\n",
    "        v2 = ax.violinplot(sc_data, showmeans=False, showextrema=False, showmedians=False)\n",
    "        for b in v2['bodies']:\n",
    "            m = np.mean(b.get_paths()[0].vertices[:, 0])\n",
    "            b.get_paths()[0].vertices[:, 0] = np.clip(b.get_paths()[0].vertices[:, 0], m, np.inf)\n",
    "            b.set_color('r')\n",
    "    except Exception as e:\n",
    "        print('Not all hybridizations present in dataset. Error: ', e)\n",
    "\n",
    "    ax.set_yscale(\"log\")\n",
    "    ax.spines['top'].set_visible(False)\n",
    "    ax.spines['right'].set_visible(False)\n",
    "    ax.yaxis.set_ticks_position('left')\n",
    "    ax.set_ylim(bottom=0)\n",
    "    ax.tick_params(axis='x', which='both', bottom='off', top='off', labelbottom='off')\n",
    "    ax.set_title(gene, size=12)\n",
    "    ax.set_xlabel('    smFISH | single cell', size=12)\n",
    "    if i%8 == 0:\n",
    "        ax.set_ylabel('count', size=12)\n",
    "    ax.tick_params(axis='y', labelsize=10)\n",
    "    plt.tight_layout()\n",
    "\n",
    "    \n",
    "for i, gene in enumerate(gene_sort_fish):\n",
    "    dual_violin(i, gene, df_fish, df_sc_cort)\n",
    "    \n",
    "#plt.savefig('smFISH_comapre_SingleCell_log.png', dpi=150)"
   ]
  },
  {
   "cell_type": "markdown",
   "metadata": {
    "deletable": true,
    "editable": true
   },
   "source": [
    "## Inter experiment effect"
   ]
  },
  {
   "cell_type": "code",
   "execution_count": null,
   "metadata": {
    "ExecuteTime": {
     "end_time": "2017-10-23T15:35:55.106585Z",
     "start_time": "2017-10-23T13:35:54.167Z"
    },
    "collapsed": false,
    "deletable": true,
    "editable": true
   },
   "outputs": [],
   "source": [
    "def resample_get_mean(df, sample):\n",
    "    df = df\n",
    "    resample_mean = df.sample(n=sample, axis=1).T.mean()\n",
    "    iterations=1000\n",
    "    for i in range(iterations):\n",
    "        resample_mean = resample_mean + df.sample(n=sample, axis=1).T.mean()\n",
    "\n",
    "    return resample_mean/(iterations+1)\n",
    "\n",
    "resample_get_mean(df_fish, 2000)"
   ]
  },
  {
   "cell_type": "markdown",
   "metadata": {
    "deletable": true,
    "editable": true
   },
   "source": [
    "### Channel effect"
   ]
  },
  {
   "cell_type": "code",
   "execution_count": null,
   "metadata": {
    "ExecuteTime": {
     "end_time": "2017-10-23T15:35:55.106792Z",
     "start_time": "2017-10-23T13:35:54.174Z"
    },
    "collapsed": true,
    "deletable": true,
    "editable": true
   },
   "outputs": [],
   "source": [
    "#List of all gene names of smFISH experiment including the hybridization number\n",
    "genes_fish = list(gene_name_conversion.keys())\n",
    "\n",
    "#Genes sorted per channel\n",
    "channels = {\n",
    "'cy3_genes' : ['Hybridization1_Foxj1','Hybridization2_Gfap','Hybridization3_Mfge8','Hybridization5_Cpne5', \n",
    "            'Hybridization6_Itpr2','Hybridization7_Ctps','Hybridization8_Pdgfra','Hybridization9_Lamp5','Hybridization10_Crh',\n",
    "            'Hybridization11_Syt6','Hybridization12_Kcnip2','Hybridization13_Cnr1',],\n",
    "'txred_genes' : ['Hybridization1_Aldoc','Hybridization2_Flt1','Hybridization3_Hexb','Hybridization5_Klk6',\n",
    "              'Hybridization6_Bmp4','Hybridization7_Rorb','Hybridization8_Pthlh','Hybridization9_Lum','Hybridization10_Crhbp',\n",
    "              'Hybridization11_Tmem2','Hybridization12_Slc32a1','Hybridization13_Plp1', ],\n",
    "'cy5_genes' : ['Hybridization1_Tbr1','Hybridization2_Gad2','Hybridization3_Mrc1','Hybridization5_Acta2',\n",
    "            'Hybridization6_Vip','Hybridization7_Sox10','Hybridization8_Serpinf1','Hybridization9_Anln','Hybridization10_Apln',\n",
    "            'Hybridization12_Vtn','Hybridization13_Ttr']\n",
    "}\n",
    "\n",
    "#Removed (round4 and repeat Tbr1):\n",
    "#Cy3: 'Hybridization4_Cnr1',\n",
    "#TxRed: 'Hybridization4_Plp1', \n",
    "#Cy5:'Hybridization4_Vtn', \n",
    "#Cy5: 'Hybridization11_Tbr1'"
   ]
  },
  {
   "cell_type": "code",
   "execution_count": null,
   "metadata": {
    "ExecuteTime": {
     "end_time": "2017-10-23T15:35:55.106992Z",
     "start_time": "2017-10-23T13:35:54.183Z"
    },
    "collapsed": false,
    "deletable": true,
    "editable": true
   },
   "outputs": [],
   "source": [
    "stats.mstats.normaltest(list(hyb_zerosp.values()))"
   ]
  },
  {
   "cell_type": "code",
   "execution_count": null,
   "metadata": {
    "ExecuteTime": {
     "end_time": "2017-10-23T15:35:55.107195Z",
     "start_time": "2017-10-23T13:35:54.189Z"
    },
    "collapsed": false,
    "deletable": true,
    "editable": true
   },
   "outputs": [],
   "source": [
    "#Number of cells with zero count\n",
    "\n",
    "#Create dicrionary with percentage of cells with a zero count for each gene\n",
    "hyb_zerosp = {}\n",
    "total = df_fish.shape[1]\n",
    "for n, i in enumerate(df_fish.index):\n",
    "    hyb_zerosp[i] = ((total - np.count_nonzero(df_fish.iloc[n])) / total) *100\n",
    "\n",
    "fig, ax = plt.subplots()\n",
    "\n",
    "ax.boxplot([[hyb_zerosp[i] for i in channels['cy3_genes']],\n",
    "    [hyb_zerosp[i] for i in channels['txred_genes']],\n",
    "    [hyb_zerosp[i] for i in channels['cy5_genes']]])\n",
    "ax.set_xticklabels(['cy3', 'txred', 'cy5'])\n",
    "ax.set_title('% of cells with count=0')\n",
    "\n",
    "print('CY3 vs TxRed: ' ,stats.mannwhitneyu([hyb_zerosp[i] for i in channels['cy3_genes']], [hyb_zerosp[i] for i in channels['txred_genes']]))\n",
    "print('CY3 vs Cy5:   ' ,stats.mannwhitneyu([hyb_zerosp[i] for i in channels['cy3_genes']], [hyb_zerosp[i] for i in channels['cy5_genes']]))\n",
    "print('TxRed vs Cy5: ' ,stats.mannwhitneyu([hyb_zerosp[i] for i in channels['txred_genes']], [hyb_zerosp[i] for i in channels['cy5_genes']]))\n",
    "print('CY3 vs TxRed: ' ,stats.ttest_ind([hyb_zerosp[i] for i in channels['cy3_genes']], [hyb_zerosp[i] for i in channels['txred_genes']]))\n",
    "print('CY3 vs Cy5:   ' ,stats.ttest_ind([hyb_zerosp[i] for i in channels['cy3_genes']], [hyb_zerosp[i] for i in channels['cy5_genes']]))\n",
    "print('TxRed vs Cy5: ' ,stats.ttest_ind([hyb_zerosp[i] for i in channels['txred_genes']], [hyb_zerosp[i] for i in channels['cy5_genes']]))"
   ]
  },
  {
   "cell_type": "code",
   "execution_count": null,
   "metadata": {
    "ExecuteTime": {
     "end_time": "2017-10-23T15:35:55.107400Z",
     "start_time": "2017-10-23T13:35:54.197Z"
    },
    "collapsed": false,
    "deletable": true,
    "editable": true,
    "scrolled": false
   },
   "outputs": [],
   "source": [
    "#Number of cells with POSITIVE count\n",
    "\n",
    "#Create dicrionary with percentage of cells with a zero count for each gene\n",
    "hyb_positivep = {}\n",
    "total = df_fish.shape[1]\n",
    "for n, i in enumerate(df_fish.index):\n",
    "    hyb_positivep[i] = ((np.count_nonzero(df_fish.iloc[n])) / total) *100\n",
    "\n",
    "fig, ax = plt.subplots()\n",
    "\n",
    "ax.boxplot([[hyb_positivep[i] for i in channels['cy3_genes']],\n",
    "    [hyb_positivep[i] for i in channels['txred_genes']],\n",
    "    [hyb_positivep[i] for i in channels['cy5_genes']]])\n",
    "ax.set_xticklabels(['cy3', 'txred', 'cy5'])\n",
    "ax.set_title('% of cells with POSITIVE count')\n",
    "\n",
    "print('CY3 vs TxRed: ' ,stats.mannwhitneyu([hyb_positivep[i] for i in channels['cy3_genes']], [hyb_positivep[i] for i in channels['txred_genes']]))\n",
    "print('CY3 vs Cy5:   ' ,stats.mannwhitneyu([hyb_positivep[i] for i in channels['cy3_genes']], [hyb_positivep[i] for i in channels['cy5_genes']]))\n",
    "print('TxRed vs Cy5: ' ,stats.mannwhitneyu([hyb_positivep[i] for i in channels['txred_genes']], [hyb_positivep[i] for i in channels['cy5_genes']]))"
   ]
  },
  {
   "cell_type": "markdown",
   "metadata": {
    "deletable": true,
    "editable": true
   },
   "source": [
    "### Round efficiency effect"
   ]
  },
  {
   "cell_type": "code",
   "execution_count": null,
   "metadata": {
    "ExecuteTime": {
     "end_time": "2017-10-23T15:35:55.107593Z",
     "start_time": "2017-10-23T13:35:54.205Z"
    },
    "code_folding": [
     0
    ],
    "collapsed": true,
    "deletable": true,
    "editable": true
   },
   "outputs": [],
   "source": [
    "#List of all gene names of smFISH experiment including the hybridization number\n",
    "genes_fish = list(gene_name_conversion.keys())\n"
   ]
  },
  {
   "cell_type": "code",
   "execution_count": null,
   "metadata": {
    "ExecuteTime": {
     "end_time": "2017-10-23T15:35:55.107792Z",
     "start_time": "2017-10-23T13:35:54.214Z"
    },
    "collapsed": false,
    "deletable": true,
    "editable": true,
    "scrolled": false
   },
   "outputs": [],
   "source": [
    "fig, ax = plt.subplots()\n",
    "\n",
    "number = 26\n",
    "\n",
    "ax.hist(df_fish.loc[genes_fish[number]], bins=df_fish.loc[genes_fish[number]].max())\n",
    "ax.set_title(genes_fish[number])"
   ]
  },
  {
   "cell_type": "markdown",
   "metadata": {
    "deletable": true,
    "editable": true
   },
   "source": [
    "# tSNE"
   ]
  },
  {
   "cell_type": "code",
   "execution_count": null,
   "metadata": {
    "ExecuteTime": {
     "end_time": "2017-10-23T15:35:55.107985Z",
     "start_time": "2017-10-23T13:35:54.221Z"
    },
    "collapsed": false,
    "deletable": true,
    "editable": true
   },
   "outputs": [],
   "source": [
    "pca = PCA()\n",
    "pc = pca.fit_transform(X_log.T)\n",
    "#pc_fc = pca.fit_transform(X_fc.T) #\n",
    "plt.figure()\n",
    "plt.plot(np.cumsum(pca.explained_variance_ratio_))"
   ]
  },
  {
   "cell_type": "code",
   "execution_count": null,
   "metadata": {
    "ExecuteTime": {
     "end_time": "2017-10-23T15:35:55.108180Z",
     "start_time": "2017-10-23T13:35:54.228Z"
    },
    "collapsed": false,
    "deletable": true,
    "editable": true
   },
   "outputs": [],
   "source": [
    "model = TSNE(n_iter=5000, perplexity=50, early_exaggeration=15, )\n",
    "#Transpose the data to work on the cells\n",
    "tSNE_points = model.fit_transform(pc[:,:33])\n",
    "scatter_tSNE(tSNE_points)\n",
    "#pickle.dump(tSNE_points, open( \"temp_tSNE/tSNE_cortexFISH_33pc_perplex50_EarlyEx20.p\", \"wb\" ))"
   ]
  },
  {
   "cell_type": "code",
   "execution_count": null,
   "metadata": {
    "ExecuteTime": {
     "end_time": "2017-10-23T15:35:55.108374Z",
     "start_time": "2017-10-23T13:35:54.234Z"
    },
    "collapsed": true,
    "deletable": true,
    "editable": true
   },
   "outputs": [],
   "source": [
    "model = TSNE(n_iter=5000, perplexity=50, early_exaggeration=20)\n",
    "#Transpose the data to work on the cells\n",
    "tSNE_points15 = model.fit_transform(pc_fc[:,:15])\n",
    "scatter_tSNE(tSNE_points)"
   ]
  },
  {
   "cell_type": "code",
   "execution_count": null,
   "metadata": {
    "ExecuteTime": {
     "end_time": "2017-10-23T15:35:55.108567Z",
     "start_time": "2017-10-23T13:35:54.241Z"
    },
    "collapsed": true,
    "deletable": true,
    "editable": true
   },
   "outputs": [],
   "source": [
    "#Load pre-calcualted point set\n",
    "#tSNE_points = pickle.load(open(\"tSNE_cortexFISH_35pc_perplex50_v2.p\", 'rb'))#Non-clean dataset\n",
    "tSNE_points = pickle.load(open(\"temp_tSNE/tSNE_cortexFISH_33pc_perplex50_EarlyEx15.p\", 'rb'))"
   ]
  },
  {
   "cell_type": "code",
   "execution_count": null,
   "metadata": {
    "ExecuteTime": {
     "end_time": "2017-10-23T15:35:55.108766Z",
     "start_time": "2017-10-23T13:35:54.247Z"
    },
    "collapsed": false,
    "deletable": true,
    "editable": true,
    "scrolled": false
   },
   "outputs": [],
   "source": [
    "def scatter_tSNE(tSNE_data):\n",
    "    \n",
    "    f = plt.figure(figsize=(8, 8))\n",
    "    ax = plt.subplot(aspect='equal')\n",
    "    sc = ax.scatter(tSNE_data[:,0], tSNE_data[:,1], lw=0, s=40, alpha = 0.1, c = 'blue')\n",
    "    plt.xlim(-25, 25)\n",
    "    plt.ylim(-25, 25)\n",
    "    ax.axis('on')\n",
    "    ax.axis('tight')\n",
    "    \n",
    "    return f, ax, sc\n",
    "\n",
    "\n",
    "scatter_tSNE(tSNE_points)"
   ]
  },
  {
   "cell_type": "code",
   "execution_count": null,
   "metadata": {
    "ExecuteTime": {
     "end_time": "2017-10-23T15:35:55.108961Z",
     "start_time": "2017-10-23T13:35:54.252Z"
    },
    "collapsed": false,
    "deletable": true,
    "editable": true
   },
   "outputs": [],
   "source": [
    "f = plt.figure(figsize=(2, 2))\n",
    "ax = plt.subplot(aspect='equal')\n",
    "sc = ax.scatter(tSNE_points[:,0], tSNE_points[:,1], lw=0, s=4, alpha = 0.2, c = [55/250,171/250,200/250])\n",
    "plt.xlim(-25, 25)\n",
    "plt.ylim(-25, 25)\n",
    "ax.axis('off')\n",
    "ax.axis('tight')\n",
    "#plt.savefig('mini_tSNE.png', dpi=300)"
   ]
  },
  {
   "cell_type": "code",
   "execution_count": null,
   "metadata": {
    "ExecuteTime": {
     "end_time": "2017-10-23T15:35:55.109162Z",
     "start_time": "2017-10-23T13:35:54.259Z"
    },
    "collapsed": false,
    "deletable": true,
    "editable": true
   },
   "outputs": [],
   "source": [
    "def  scatter_tSNE_cells_of_intrest(tSNE_data, cells_of_interest):\n",
    "    plt.figure(figsize=(8,8))\n",
    "    plt.subplot(aspect='equal')\n",
    "    plt.scatter(tSNE_data[:,0], tSNE_data[:,1], lw=0, s=40, alpha = 0.1, c = 'grey')\n",
    "    \n",
    "    tSNE_coord_df = pd.DataFrame(data= np.zeros([1,df_fish.shape[1]]), index=['tSNE1'], columns=df_fish.columns)\n",
    "    tSNE_coord_df.loc['tSNE1'] = tSNE_data[:,0]\n",
    "    tSNE_coord_df.loc['tSNE2'] = tSNE_data[:,1]\n",
    "    tSNE_coord_df = tSNE_coord_df.loc[:,cells_of_interest]\n",
    "    plt.scatter(tSNE_coord_df.loc['tSNE1'], tSNE_coord_df.loc['tSNE2'],lw=0, s=40, alpha = 0.3, c = 'red')\n",
    "    \n",
    "    plt.xlim(-12, 12)\n",
    "    plt.ylim(-12, 12)\n",
    "    ax.axis('on')\n",
    "    ax.axis('tight')\n",
    "\n",
    "    \n",
    "def return_top_expression(gene, top_n, df):\n",
    "    gene = gene_name_conversion_reverse[gene]\n",
    "    top_expression = df.iloc[:, np.argsort(df.loc[gene])[::-1]].iloc[:,:top_n]\n",
    "    #mean_expression = df.iloc[:, np.argsort(df.sum())[::-1]].iloc[:,:top_n]\n",
    "    return(top_expression.columns)\n",
    "    #return(mean_expression.columns)\n",
    "\n",
    "#Plot the top n expressing cells \n",
    "scatter_tSNE_cells_of_intrest(tSNE_points, return_top_expression('Foxj1', 100, df_fish) )"
   ]
  },
  {
   "cell_type": "markdown",
   "metadata": {
    "deletable": true,
    "editable": true
   },
   "source": [
    "## tSNE Comparison"
   ]
  },
  {
   "cell_type": "markdown",
   "metadata": {
    "ExecuteTime": {
     "end_time": "2017-09-19T11:42:24.169759Z",
     "start_time": "2017-09-19T11:42:24.165853Z"
    },
    "deletable": true,
    "editable": true
   },
   "source": [
    "### Single Cell all genes"
   ]
  },
  {
   "cell_type": "code",
   "execution_count": null,
   "metadata": {
    "ExecuteTime": {
     "end_time": "2017-10-23T15:35:55.109356Z",
     "start_time": "2017-10-23T13:35:54.267Z"
    },
    "collapsed": false,
    "deletable": true,
    "editable": true
   },
   "outputs": [],
   "source": [
    "#Transform data\n",
    "sc_allg = df_sc_cort_all_genes.values.astype(np.float64)\n",
    "    #normalize\n",
    "sc_allg_norm = sc_allg.sum(0).mean() * (sc_allg/sc_allg.sum(0))\n",
    "    #Log transform\n",
    "sc_allg_log = np.log2(sc_allg_norm+1)\n",
    "sc_allg_log.shape"
   ]
  },
  {
   "cell_type": "code",
   "execution_count": null,
   "metadata": {
    "ExecuteTime": {
     "end_time": "2017-10-23T15:35:55.109550Z",
     "start_time": "2017-10-23T13:35:54.273Z"
    },
    "collapsed": false,
    "deletable": true,
    "editable": true
   },
   "outputs": [],
   "source": [
    "pca_scall = PCA()\n",
    "pc_scall = pca_scall.fit_transform(sc_allg_log.T)\n",
    "#pc_fc = pca.fit_transform(X_fc.T) #\n",
    "plt.figure()\n",
    "plt.plot(np.cumsum(pca_scall.explained_variance_ratio_))"
   ]
  },
  {
   "cell_type": "code",
   "execution_count": null,
   "metadata": {
    "ExecuteTime": {
     "end_time": "2017-10-23T15:35:55.109742Z",
     "start_time": "2017-10-23T13:35:54.278Z"
    },
    "collapsed": false,
    "deletable": true,
    "editable": true,
    "scrolled": false
   },
   "outputs": [],
   "source": [
    "model = TSNE(n_iter=5000, perplexity=50, early_exaggeration=15)\n",
    "#Transpose the data to work on the cells\n",
    "tSNE_points_scall = model.fit_transform(pc_scall[:,:33])\n",
    "scatter_tSNE(tSNE_points_scall)\n",
    "plt.savefig('tSNE_SC_All-genes_33pc.png', dpi=600)\n"
   ]
  },
  {
   "cell_type": "code",
   "execution_count": null,
   "metadata": {
    "ExecuteTime": {
     "end_time": "2017-10-23T15:35:55.109932Z",
     "start_time": "2017-10-23T13:35:54.284Z"
    },
    "collapsed": true
   },
   "outputs": [],
   "source": [
    "pickle.dump(tSNE_points_scall, open( \"temp_tSNE/tSNE_scall-genes_33pc_perplex50_EarlyEx20.p\", \"wb\" ))"
   ]
  },
  {
   "cell_type": "code",
   "execution_count": null,
   "metadata": {
    "ExecuteTime": {
     "end_time": "2017-10-23T15:35:55.110128Z",
     "start_time": "2017-10-23T13:35:54.289Z"
    },
    "collapsed": false,
    "deletable": true,
    "editable": true
   },
   "outputs": [],
   "source": [
    "plt.figure(figsize=(10,10))\n",
    "points = np.zeros((len(df_sc_cort_all_genes.columns),2))\n",
    "for i, n in enumerate(df_sc_cort_all_genes.columns):\n",
    "    points[i,:] = tSNE_points_scall[df_sc_cort_all_genes.columns.get_loc(n),:]\n",
    "print(len(points))\n",
    "\n",
    "#get list of labels\n",
    "sc_cort_labels = [sc_cor_cell_label_2[i] for i in df_sc_cort_all_genes.columns]\n",
    "#Convert labels to integers in dictionary\n",
    "sc_cort_cell_label_2_int = {}\n",
    "for n,  i in enumerate(np.unique(sc_cort_labels)):\n",
    "    sc_cort_cell_label_2_int[i] = n\n",
    "#Convert list of labels to the corresponding integer label\n",
    "sc_cort_labels = np.array([sc_cort_cell_label_2_int[i] for i in sc_cort_labels])\n",
    "\n",
    "\n",
    "\n",
    "plt.scatter(points[:,0], points[:,1],c=plt.cm.prism(sc_cort_labels/max(sc_cort_labels)), lw=0, alpha=1, s=20)\n",
    "plt.title('SC all genes')\n",
    "plt.savefig('tSNE_SC_all-genes_labels.png', dpi=600)"
   ]
  },
  {
   "cell_type": "markdown",
   "metadata": {
    "deletable": true,
    "editable": true
   },
   "source": [
    "### Single Cell 35 genes"
   ]
  },
  {
   "cell_type": "code",
   "execution_count": null,
   "metadata": {
    "ExecuteTime": {
     "end_time": "2017-10-23T15:35:55.110321Z",
     "start_time": "2017-10-23T13:35:54.295Z"
    },
    "collapsed": false,
    "deletable": true,
    "editable": true
   },
   "outputs": [],
   "source": [
    "#Transform data\n",
    "df_sc_cort_clean = df_sc_cort.loc[:, (df_sc_cort!=0).any(axis=0)] #some cells have all zeros\n",
    "sc_35g = df_sc_cort_clean.values.astype(np.float64)\n",
    "    #normalize\n",
    "sc_35g_norm = sc_35g.sum(0).mean() * (sc_35g/sc_35g.sum(0))\n",
    "    #Log transform\n",
    "sc_35g_log = np.log2(sc_35g_norm+1)\n",
    "sc_35g_log.shape"
   ]
  },
  {
   "cell_type": "code",
   "execution_count": null,
   "metadata": {
    "ExecuteTime": {
     "end_time": "2017-10-23T15:35:55.110513Z",
     "start_time": "2017-10-23T13:35:54.301Z"
    },
    "collapsed": false,
    "deletable": true,
    "editable": true
   },
   "outputs": [],
   "source": [
    "pca_sc35 = PCA()\n",
    "pc_sc35 = pca_sc35.fit_transform(sc_35g_log.T)\n",
    "#pc_fc = pca.fit_transform(X_fc.T) #\n",
    "plt.figure()\n",
    "plt.plot(np.cumsum(pca_sc35.explained_variance_ratio_))"
   ]
  },
  {
   "cell_type": "code",
   "execution_count": null,
   "metadata": {
    "ExecuteTime": {
     "end_time": "2017-10-23T15:35:55.110705Z",
     "start_time": "2017-10-23T13:35:54.306Z"
    },
    "collapsed": false,
    "deletable": true,
    "editable": true,
    "scrolled": false
   },
   "outputs": [],
   "source": [
    "model = TSNE(n_iter=5000, perplexity=50, early_exaggeration=15)\n",
    "#Transpose the data to work on the cells\n",
    "tSNE_points_sc35 = model.fit_transform(pc_sc35[:,:33])\n",
    "scatter_tSNE(tSNE_points_sc35)\n",
    "plt.savefig('tSNE_SC_35-genes_33pc.png', dpi=600)"
   ]
  },
  {
   "cell_type": "code",
   "execution_count": null,
   "metadata": {
    "ExecuteTime": {
     "end_time": "2017-10-23T15:35:55.110903Z",
     "start_time": "2017-10-23T13:35:54.313Z"
    },
    "collapsed": true,
    "deletable": true,
    "editable": true
   },
   "outputs": [],
   "source": [
    "pickle.dump(tSNE_points_sc35, open( \"temp_tSNE/tSNE_sc-35-genes_33pc_perplex50_EarlyEx20.p\", \"wb\" ))"
   ]
  },
  {
   "cell_type": "code",
   "execution_count": null,
   "metadata": {
    "ExecuteTime": {
     "end_time": "2017-10-23T15:35:55.111107Z",
     "start_time": "2017-10-23T13:35:54.318Z"
    },
    "collapsed": false,
    "deletable": true,
    "editable": true
   },
   "outputs": [],
   "source": [
    "plt.figure(figsize=(10,10))\n",
    "points = np.zeros((len(df_sc_cort_clean.columns),2))\n",
    "for i, n in enumerate(df_sc_cort_clean.columns):\n",
    "    points[i,:] = tSNE_points_sc35[df_sc_cort_clean.columns.get_loc(n),:]\n",
    "print(len(points))\n",
    "\n",
    "#get list of labels\n",
    "sc_cort_labels = [sc_cor_cell_label_2[i] for i in df_sc_cort_clean.columns]\n",
    "#Convert labels to integers in dictionary\n",
    "sc_cort_cell_label_2_int = {}\n",
    "for n,  i in enumerate(np.unique(sc_cort_labels)):\n",
    "    sc_cort_cell_label_2_int[i] = n\n",
    "#Convert list of labels to the corresponding integer label\n",
    "sc_cort_labels = np.array([sc_cort_cell_label_2_int[i] for i in sc_cort_labels])    \n",
    "\n",
    "plt.scatter(points[:,0], points[:,1],c=plt.cm.prism(sc_cort_labels/max(sc_cort_labels)), lw=0, alpha=1, s=20)\n",
    "plt.title('tSNE SC 35 genes')\n",
    "plt.savefig('tSNE_SC_35-genes_labels.png', dpi=600)"
   ]
  },
  {
   "cell_type": "markdown",
   "metadata": {
    "deletable": true,
    "editable": true
   },
   "source": [
    "## tSNE on size normalized data"
   ]
  },
  {
   "cell_type": "code",
   "execution_count": null,
   "metadata": {
    "ExecuteTime": {
     "end_time": "2017-10-23T15:35:55.111303Z",
     "start_time": "2017-10-23T13:35:54.325Z"
    },
    "collapsed": false,
    "deletable": true,
    "editable": true
   },
   "outputs": [],
   "source": [
    "pca_size = PCA()\n",
    "pc_size = pca_size.fit_transform(X_size_log.T)\n",
    "#pc_fc = pca.fit_transform(X_fc.T) #\n",
    "plt.figure()\n",
    "plt.plot(np.cumsum(pca_size.explained_variance_ratio_))"
   ]
  },
  {
   "cell_type": "code",
   "execution_count": null,
   "metadata": {
    "ExecuteTime": {
     "end_time": "2017-10-23T15:35:55.111493Z",
     "start_time": "2017-10-23T13:35:54.330Z"
    },
    "collapsed": false,
    "deletable": true,
    "editable": true
   },
   "outputs": [],
   "source": [
    "model = TSNE(n_iter=1000, perplexity=50, early_exaggeration=20)\n",
    "#Transpose the data to work on the cells\n",
    "tSNE_points_size = model.fit_transform(pc_size[:,:30])\n",
    "scatter_tSNE(tSNE_points_size)"
   ]
  },
  {
   "cell_type": "code",
   "execution_count": null,
   "metadata": {
    "ExecuteTime": {
     "end_time": "2017-10-23T15:35:55.111683Z",
     "start_time": "2017-10-23T13:35:54.336Z"
    },
    "collapsed": false,
    "deletable": true,
    "editable": true
   },
   "outputs": [],
   "source": [
    "model = TSNE(n_iter=1000, perplexity=40, early_exaggeration=20)\n",
    "#Transpose the data to work on the cells\n",
    "tSNE_points_size2 = model.fit_transform(pc_size[:,:30])\n",
    "scatter_tSNE(tSNE_points_size2)"
   ]
  },
  {
   "cell_type": "code",
   "execution_count": null,
   "metadata": {
    "ExecuteTime": {
     "end_time": "2017-10-23T15:35:55.111878Z",
     "start_time": "2017-10-23T13:35:54.342Z"
    },
    "collapsed": false,
    "deletable": true,
    "editable": true
   },
   "outputs": [],
   "source": [
    "model = TSNE(n_iter=1000, perplexity=60, early_exaggeration=20)\n",
    "#Transpose the data to work on the cells\n",
    "tSNE_points_size2 = model.fit_transform(pc_size[:,:30])\n",
    "scatter_tSNE(tSNE_points_size2)"
   ]
  },
  {
   "cell_type": "code",
   "execution_count": null,
   "metadata": {
    "ExecuteTime": {
     "end_time": "2017-10-23T15:35:55.112074Z",
     "start_time": "2017-10-23T13:35:54.347Z"
    },
    "collapsed": false,
    "deletable": true,
    "editable": true
   },
   "outputs": [],
   "source": [
    "model = TSNE(n_iter=1000, perplexity=50, early_exaggeration=30)\n",
    "#Transpose the data to work on the cells\n",
    "tSNE_points_size3 = model.fit_transform(pc_size[:,:30])\n",
    "scatter_tSNE(tSNE_points_size3)"
   ]
  },
  {
   "cell_type": "code",
   "execution_count": null,
   "metadata": {
    "ExecuteTime": {
     "end_time": "2017-10-23T15:35:55.112264Z",
     "start_time": "2017-10-23T13:35:54.353Z"
    },
    "collapsed": false,
    "deletable": true,
    "editable": true
   },
   "outputs": [],
   "source": [
    "model = TSNE(n_iter=1000, perplexity=50, early_exaggeration=40)\n",
    "#Transpose the data to work on the cells\n",
    "tSNE_points_size4 = model.fit_transform(pc_size[:,:30])\n",
    "scatter_tSNE(tSNE_points_size4)"
   ]
  },
  {
   "cell_type": "code",
   "execution_count": null,
   "metadata": {
    "ExecuteTime": {
     "end_time": "2017-10-23T15:35:55.112454Z",
     "start_time": "2017-10-23T13:35:54.360Z"
    },
    "collapsed": false,
    "deletable": true,
    "editable": true
   },
   "outputs": [],
   "source": [
    "model = TSNE(n_iter=1000, perplexity=50, early_exaggeration=50)\n",
    "#Transpose the data to work on the cells\n",
    "tSNE_points_size4 = model.fit_transform(pc_size[:,:30])\n",
    "scatter_tSNE(tSNE_points_size4)"
   ]
  },
  {
   "cell_type": "markdown",
   "metadata": {
    "deletable": true,
    "editable": true
   },
   "source": [
    "## tSNE Cytograph"
   ]
  },
  {
   "cell_type": "code",
   "execution_count": null,
   "metadata": {
    "ExecuteTime": {
     "end_time": "2017-10-23T15:35:55.112653Z",
     "start_time": "2017-10-23T13:35:54.366Z"
    },
    "collapsed": true,
    "deletable": true,
    "editable": true
   },
   "outputs": [],
   "source": [
    "import cytograph"
   ]
  },
  {
   "cell_type": "code",
   "execution_count": null,
   "metadata": {
    "ExecuteTime": {
     "end_time": "2017-10-23T15:35:55.112979Z",
     "start_time": "2017-10-23T13:35:54.372Z"
    },
    "collapsed": true,
    "deletable": true,
    "editable": true
   },
   "outputs": [],
   "source": [
    "import sys"
   ]
  },
  {
   "cell_type": "code",
   "execution_count": null,
   "metadata": {
    "ExecuteTime": {
     "end_time": "2017-10-23T15:35:55.113182Z",
     "start_time": "2017-10-23T13:35:54.377Z"
    },
    "collapsed": true,
    "deletable": true,
    "editable": true
   },
   "outputs": [],
   "source": [
    "from cytograph import TSNE as cytoTSNE"
   ]
  },
  {
   "cell_type": "code",
   "execution_count": null,
   "metadata": {
    "ExecuteTime": {
     "end_time": "2017-10-23T15:35:55.113373Z",
     "start_time": "2017-10-23T13:35:54.383Z"
    },
    "collapsed": true,
    "deletable": true,
    "editable": true
   },
   "outputs": [],
   "source": [
    "sys.path.insert(0, '/home/lars/programs/cytograph/bhtsne')"
   ]
  },
  {
   "cell_type": "code",
   "execution_count": null,
   "metadata": {
    "ExecuteTime": {
     "end_time": "2017-10-23T15:35:55.113564Z",
     "start_time": "2017-10-23T13:35:54.388Z"
    },
    "collapsed": true,
    "deletable": true,
    "editable": true
   },
   "outputs": [],
   "source": [
    "cytograph.TSNE()"
   ]
  },
  {
   "cell_type": "code",
   "execution_count": null,
   "metadata": {
    "ExecuteTime": {
     "end_time": "2017-10-23T15:35:55.113756Z",
     "start_time": "2017-10-23T13:35:54.394Z"
    },
    "collapsed": false,
    "deletable": true,
    "editable": true
   },
   "outputs": [],
   "source": [
    "model = bhtsne()\n",
    "tSNE_points_cyto = model.layout(pc[:,:33])\n",
    "scatter_tSNE(tSNE_points_cyto)"
   ]
  },
  {
   "cell_type": "code",
   "execution_count": null,
   "metadata": {
    "ExecuteTime": {
     "end_time": "2017-10-23T15:35:55.113950Z",
     "start_time": "2017-10-23T13:35:54.399Z"
    },
    "collapsed": false,
    "deletable": true,
    "editable": true
   },
   "outputs": [],
   "source": [
    "model = cytoTSNE(max_iter=5000, perplexity=50, theta=.75)\n",
    "tSNE_points_cyto = model.layout(pc[:,:33])\n",
    "scatter_tSNE(tSNE_points_cyto)"
   ]
  },
  {
   "cell_type": "code",
   "execution_count": null,
   "metadata": {
    "ExecuteTime": {
     "end_time": "2017-10-23T15:35:55.114141Z",
     "start_time": "2017-10-23T13:35:54.406Z"
    },
    "collapsed": false,
    "deletable": true,
    "editable": true
   },
   "outputs": [],
   "source": [
    "model = cytoTSNE(max_iter=5000, perplexity=30, theta=.75)\n",
    "tSNE_points_cyto = model.layout(pc[:,:33])\n",
    "scatter_tSNE(tSNE_points_cyto)"
   ]
  },
  {
   "cell_type": "code",
   "execution_count": null,
   "metadata": {
    "ExecuteTime": {
     "end_time": "2017-10-23T15:35:55.114331Z",
     "start_time": "2017-10-23T13:35:54.414Z"
    },
    "collapsed": false,
    "deletable": true,
    "editable": true
   },
   "outputs": [],
   "source": [
    "model = cytoTSNE(max_iter=5000, perplexity=70, theta=.75)\n",
    "tSNE_points_cyto = model.layout(pc[:,:33])\n",
    "scatter_tSNE(tSNE_points_cyto)"
   ]
  },
  {
   "cell_type": "code",
   "execution_count": null,
   "metadata": {
    "ExecuteTime": {
     "end_time": "2017-10-23T15:35:55.114531Z",
     "start_time": "2017-10-23T13:35:54.420Z"
    },
    "collapsed": true,
    "deletable": true,
    "editable": true
   },
   "outputs": [],
   "source": [
    "model = TSNE(n_iter=5000, perplexity=50, early_exaggeration=20, )\n",
    "#Transpose the data to work on the cells\n",
    "tSNE_points = model.fit_transform(pc[:,:33])\n",
    "scatter_tSNE(tSNE_points)"
   ]
  },
  {
   "cell_type": "markdown",
   "metadata": {
    "deletable": true,
    "editable": true
   },
   "source": [
    "### tSNE on added feature dataset"
   ]
  },
  {
   "cell_type": "code",
   "execution_count": null,
   "metadata": {
    "ExecuteTime": {
     "end_time": "2017-10-23T15:35:55.114721Z",
     "start_time": "2017-10-23T13:35:54.427Z"
    },
    "collapsed": true,
    "deletable": true,
    "editable": true
   },
   "outputs": [],
   "source": [
    "pca = PCA()\n",
    "pc2 = pca.fit_transform(df_fish_addfeature.T)\n",
    "plt.figure()\n",
    "plt.plot(np.cumsum(pca.explained_variance_ratio_))"
   ]
  },
  {
   "cell_type": "code",
   "execution_count": null,
   "metadata": {
    "ExecuteTime": {
     "end_time": "2017-10-23T15:35:55.114921Z",
     "start_time": "2017-10-23T13:35:54.433Z"
    },
    "collapsed": false,
    "deletable": true,
    "editable": true
   },
   "outputs": [],
   "source": [
    "model = TSNE(n_iter=5000, perplexity=50, early_exaggeration=20, )\n",
    "#Transpose the data to work on the cells\n",
    "tSNE_points_feat = model.fit_transform(pc2[:,:33])\n",
    "scatter_tSNE(tSNE_points_feat)\n",
    "#pickle.dump(tSNE_points, open( \"temp_tSNE/tSNE_cortexFISH_33pc_perplex50_EarlyEx20.p\", \"wb\" ))"
   ]
  },
  {
   "cell_type": "markdown",
   "metadata": {
    "deletable": true,
    "editable": true
   },
   "source": [
    "### tSNE on dataset with locations"
   ]
  },
  {
   "cell_type": "code",
   "execution_count": null,
   "metadata": {
    "ExecuteTime": {
     "end_time": "2017-10-23T15:35:55.115115Z",
     "start_time": "2017-10-23T13:35:54.438Z"
    },
    "collapsed": false,
    "deletable": true,
    "editable": true
   },
   "outputs": [],
   "source": [
    "pca = PCA()\n",
    "pc3 = pca.fit_transform(df_fish_location.T)\n",
    "plt.figure()\n",
    "plt.plot(np.cumsum(pca.explained_variance_ratio_))"
   ]
  },
  {
   "cell_type": "code",
   "execution_count": null,
   "metadata": {
    "ExecuteTime": {
     "end_time": "2017-10-23T15:35:55.115306Z",
     "start_time": "2017-10-23T13:35:54.443Z"
    },
    "collapsed": false,
    "deletable": true,
    "editable": true
   },
   "outputs": [],
   "source": [
    "model = TSNE(n_iter=5000, perplexity=50, early_exaggeration=20, )\n",
    "#Transpose the data to work on the cells\n",
    "tSNE_points_location = model.fit_transform(pc3[:,:33])\n",
    "scatter_tSNE(tSNE_points_location)"
   ]
  },
  {
   "cell_type": "markdown",
   "metadata": {
    "deletable": true,
    "editable": true
   },
   "source": [
    "### Expression on tSNE"
   ]
  },
  {
   "cell_type": "code",
   "execution_count": null,
   "metadata": {
    "ExecuteTime": {
     "end_time": "2017-10-23T15:35:55.115501Z",
     "start_time": "2017-10-23T13:35:54.451Z"
    },
    "collapsed": false,
    "deletable": true,
    "editable": true,
    "scrolled": false
   },
   "outputs": [],
   "source": [
    "#Expression plot on tSNE points\n",
    "plt.figure(figsize=(20,12))\n",
    "gs = plt.GridSpec(5,8)\n",
    "\n",
    "dataset = X_log\n",
    "\n",
    "for i, gene in enumerate(gene_sort_fish):\n",
    "    plt.subplot(gs[i])\n",
    "    filt = df_fish.index == gene\n",
    "    levels = dataset[filt,:].flat[:]\n",
    "    levels = np.clip(levels, np.percentile(levels, 10), np.percentile(levels,90))\n",
    "    plt.scatter(tSNE_points[:,0], tSNE_points[:,1],color=plt.cm.Reds(levels/max(levels)), lw=0, alpha=.5,s=2)\n",
    "    for label in plt.gca().axes.get_xticklabels():\n",
    "        label.set_visible(False)\n",
    "    for label in plt.gca().axes.get_yticklabels():\n",
    "        label.set_visible(False)\n",
    "\n",
    "    plt.title(gene.split('_')[1])\n",
    "    plt.tight_layout()\n",
    "    \n",
    "\n",
    "#plt.savefig('Gene_expression_log.png', dpi=600)"
   ]
  },
  {
   "cell_type": "code",
   "execution_count": null,
   "metadata": {
    "ExecuteTime": {
     "end_time": "2017-10-23T15:35:55.115697Z",
     "start_time": "2017-10-23T13:35:54.459Z"
    },
    "collapsed": false,
    "deletable": true,
    "editable": true,
    "scrolled": false
   },
   "outputs": [],
   "source": [
    "plt.figure(figsize=(5,6))\n",
    "\n",
    "dataset = X_log\n",
    "gene = 'Hybridization13_Plp1'\n",
    "\n",
    "filt = df_fish.index == gene\n",
    "levels = dataset[filt,:].flat[:]\n",
    "levels = np.clip(levels, np.percentile(levels, 10), np.percentile(levels,90))\n",
    "plt.scatter(tSNE_points[:,0], tSNE_points[:,1],color=plt.cm.coolwarm(levels/max(levels)), lw=0, alpha=1,s=10)\n",
    "plt.axis('off')\n",
    "\n",
    "title = gene.split('_')[1]\n",
    "plt.title(title)\n",
    "plt.tight_layout();\n",
    "plt.gca().set_aspect('equal')\n",
    "\n",
    "plt.savefig('tSNE_{}.png'.format(title), dpi=600)"
   ]
  },
  {
   "cell_type": "code",
   "execution_count": null,
   "metadata": {
    "ExecuteTime": {
     "end_time": "2017-10-23T15:35:55.115886Z",
     "start_time": "2017-10-23T13:35:54.465Z"
    },
    "collapsed": false,
    "deletable": true,
    "editable": true
   },
   "outputs": [],
   "source": [
    "filt"
   ]
  },
  {
   "cell_type": "markdown",
   "metadata": {
    "deletable": true,
    "editable": true
   },
   "source": [
    "# Clustering"
   ]
  },
  {
   "cell_type": "code",
   "execution_count": null,
   "metadata": {
    "ExecuteTime": {
     "end_time": "2017-10-23T15:35:55.116081Z",
     "start_time": "2017-10-23T13:35:54.470Z"
    },
    "collapsed": true,
    "deletable": true,
    "editable": true
   },
   "outputs": [],
   "source": [
    "from sklearn.metrics import silhouette_samples, silhouette_score\n",
    "import matplotlib.cm as cm\n",
    "from sklearn.cluster import DBSCAN\n",
    "from sklearn.cluster import MeanShift, estimate_bandwidth, get_bin_seeds\n",
    "from sklearn.cluster import AffinityPropagation\n",
    "from sklearn.cluster import KMeans\n",
    "from sklearn.cluster import AgglomerativeClustering"
   ]
  },
  {
   "cell_type": "markdown",
   "metadata": {
    "deletable": true,
    "editable": true
   },
   "source": [
    "## Cluster number estimation"
   ]
  },
  {
   "cell_type": "markdown",
   "metadata": {
    "deletable": true,
    "editable": true
   },
   "source": [
    "### Elbow method (Kmeans)"
   ]
  },
  {
   "cell_type": "code",
   "execution_count": null,
   "metadata": {
    "ExecuteTime": {
     "end_time": "2017-10-23T15:35:55.116272Z",
     "start_time": "2017-10-23T13:35:54.477Z"
    },
    "collapsed": false,
    "deletable": true,
    "editable": true
   },
   "outputs": [],
   "source": [
    "Ks = range(1, 50)\n",
    "km = [KMeans(n_clusters=i) for i in Ks]\n",
    "score = [km[i].fit(X_log.T).score(X_log.T) for i in range(len(km))]\n",
    "\n",
    "plt.figure()\n",
    "plt.plot(Ks, score)"
   ]
  },
  {
   "cell_type": "markdown",
   "metadata": {
    "deletable": true,
    "editable": true
   },
   "source": [
    "Suggests ~8 clusters"
   ]
  },
  {
   "cell_type": "markdown",
   "metadata": {
    "deletable": true,
    "editable": true
   },
   "source": [
    "### Silhouette plot (kmeans/AggClust)"
   ]
  },
  {
   "cell_type": "code",
   "execution_count": null,
   "metadata": {
    "ExecuteTime": {
     "end_time": "2017-10-23T15:35:55.116494Z",
     "start_time": "2017-10-23T13:35:54.483Z"
    },
    "collapsed": false,
    "deletable": true,
    "editable": true,
    "scrolled": true
   },
   "outputs": [],
   "source": [
    "#Mostly copied from: http://scikit-learn.org/stable/auto_examples/cluster/plot_kmeans_silhouette_analysis.html\n",
    "\n",
    "range_n_clusters = np.arange(2,50,1)\n",
    "#range_n_clusters = [40]\n",
    "\n",
    "data = X_log.T\n",
    "\n",
    "plt.figure(figsize=(18,(10*len(range_n_clusters))))\n",
    "    \n",
    "silhouette_avg_dict = {}\n",
    "    \n",
    "for row, n_clusters in enumerate(range_n_clusters):\n",
    "    ax1 = plt.subplot2grid((len(range_n_clusters), 2), (row,0), rowspan=1, colspan=1)\n",
    "    ax1.set_xlim([-0.1, 1])\n",
    "    ax1.set_ylim([0, len(data) + (n_clusters + 1) * 10])\n",
    "    \n",
    "    #CLUSTERING Kmeans or AgglomerativeClustering\n",
    "    #cluster_algorithm = KMeans(n_clusters=n_clusters)\n",
    "    cluster_algorithm = AgglomerativeClustering(n_clusters=n_clusters)\n",
    "    cluster_labels = cluster_algorithm.fit_predict(data)\n",
    "\n",
    "    silhouette_avg = silhouette_score(data, cluster_labels)\n",
    "    print(\"For n_clusters =\", n_clusters,\n",
    "          \"The average silhouette_score is :\", silhouette_avg)\n",
    "    silhouette_avg_dict[n_clusters] = silhouette_avg\n",
    "    \n",
    "    # Compute the silhouette scores for each sample\n",
    "    sample_silhouette_values = silhouette_samples(data, cluster_labels)\n",
    "    \n",
    "    y_lower = 10\n",
    "    for i in range(n_clusters):\n",
    "        # Aggregate the silhouette scores for samples belonging to\n",
    "        # cluster i, and sort them\n",
    "        ith_cluster_silhouette_values = \\\n",
    "            sample_silhouette_values[cluster_labels == i]\n",
    "  \n",
    "        ith_cluster_silhouette_values.sort()\n",
    "\n",
    "        size_cluster_i = ith_cluster_silhouette_values.shape[0]\n",
    "        y_upper = y_lower + size_cluster_i\n",
    "        \n",
    "        color = cm.spectral(float(i) / n_clusters)\n",
    "        ax1.fill_betweenx(np.arange(y_lower, y_upper),\n",
    "                          0, ith_cluster_silhouette_values,\n",
    "                          facecolor=color, edgecolor=color, alpha=0.7)\n",
    "\n",
    "        # Label the silhouette plots with their cluster numbers at the middle\n",
    "        ax1.text(-0.05, y_lower + 0.5 * size_cluster_i, str(i))\n",
    "\n",
    "        # Compute the new y_lower for next plot\n",
    "        y_lower = y_upper + 10  # 10 for the 0 samples\n",
    "\n",
    "    ax1.set_title(\"The silhouette plot for the {} clusters.\".format(n_clusters))\n",
    "    ax1.set_xlabel(\"The silhouette coefficient values\")\n",
    "    ax1.set_ylabel(\"Cluster label\")\n",
    "\n",
    "    # The vertical line for average silhouette score of all the values\n",
    "    ax1.axvline(x=silhouette_avg, color=\"red\", linestyle=\"--\")\n",
    "\n",
    "    ax1.set_yticks([])  # Clear the yaxis labels / ticks\n",
    "    ax1.set_xticks([-0.1, 0, 0.2, 0.4, 0.6, 0.8, 1])\n",
    "    ax1.set_ylim(top=y_upper)\n",
    "\n",
    "    # 2nd Plot showing the actual clusters formed\n",
    "    ax2 = plt.subplot2grid((len(range_n_clusters), 2), (row,1), rowspan=1, colspan=1)\n",
    "    colors = cm.spectral(cluster_labels.astype(float) / n_clusters)\n",
    "    ax2.scatter(tSNE_points[:, 0], tSNE_points[:, 1], marker='.', s=30, lw=0, alpha=0.7,\n",
    "                c=colors)\n",
    "\n",
    "    ax2.set_title(\"The visualization of the clustered data.\")\n",
    "    ax2.set_xlabel(\"tSNE 1\")\n",
    "    ax2.set_ylabel(\"tSNE 2\")\n",
    "\n",
    "    plt.suptitle((\"Silhouette analysis for AgglomerativeClustering on sample data \"\n",
    "                  \"with n_clusters = %d\" % n_clusters),\n",
    "                 fontsize=14, fontweight='bold')\n",
    "\n",
    "#plt.savefig('Silhouette_analysis_AggClust_25-50clusters.png')\n",
    "    "
   ]
  },
  {
   "cell_type": "markdown",
   "metadata": {
    "deletable": true,
    "editable": true
   },
   "source": [
    "For n_clusters = 2 The average silhouette_score is : 0.154394374405  \n",
    "For n_clusters = 3 The average silhouette_score is : 0.113730662345  \n",
    "For n_clusters = 4 The average silhouette_score is : 0.0884204249791  \n",
    "For n_clusters = 5 The average silhouette_score is : 0.0899432195023  \n",
    "For n_clusters = 6 The average silhouette_score is : 0.0634700436779  \n",
    "For n_clusters = 7 The average silhouette_score is : 0.0699286339542  \n",
    "For n_clusters = 8 The average silhouette_score is : 0.0728726583517  \n",
    "For n_clusters = 9 The average silhouette_score is : 0.0686104075915  \n",
    "For n_clusters = 10 The average silhouette_score is : 0.0682938210793  \n",
    "For n_clusters = 11 The average silhouette_score is : 0.0572151478435  \n",
    "For n_clusters = 12 The average silhouette_score is : 0.0387362936253  \n",
    "For n_clusters = 13 The average silhouette_score is : 0.0400175222328  \n",
    "For n_clusters = 14 The average silhouette_score is : 0.0402744060642  \n",
    "For n_clusters = 15 The average silhouette_score is : 0.0397037932305  \n",
    "For n_clusters = 16 The average silhouette_score is : 0.0407893606547  \n",
    "For n_clusters = 17 The average silhouette_score is : 0.0403650767148  \n",
    "For n_clusters = 18 The average silhouette_score is : 0.0364709446191  \n",
    "For n_clusters = 19 The average silhouette_score is : 0.0375083932611  \n",
    "For n_clusters = 20 The average silhouette_score is : 0.0382517156834  \n",
    "For n_clusters = 21 The average silhouette_score is : 0.0400260783349  \n",
    "For n_clusters = 22 The average silhouette_score is : 0.0366484411559  \n",
    "For n_clusters = 23 The average silhouette_score is : 0.0373432210509  \n",
    "For n_clusters = 24 The average silhouette_score is : 0.0385092916842  \n",
    "For n_clusters = 25 The average silhouette_score is : 0.0317282617718  \n",
    "For n_clusters = 26 The average silhouette_score is : 0.0306447764943  \n",
    "For n_clusters = 27 The average silhouette_score is : 0.0308523232573  \n",
    "For n_clusters = 28 The average silhouette_score is : 0.0309823765791  \n",
    "For n_clusters = 29 The average silhouette_score is : 0.0316622427224  \n",
    "For n_clusters = 30 The average silhouette_score is : 0.0324194059259  \n",
    "For n_clusters = 31 The average silhouette_score is : 0.020692519216  \n",
    "For n_clusters = 32 The average silhouette_score is : 0.0220986579542  \n",
    "For n_clusters = 33 The average silhouette_score is : 0.0232650275977  \n",
    "For n_clusters = 34 The average silhouette_score is : 0.0242911741337  \n",
    "For n_clusters = 35 The average silhouette_score is : 0.0249045083832  \n",
    "For n_clusters = 36 The average silhouette_score is : 0.0252260679185  \n",
    "For n_clusters = 37 The average silhouette_score is : 0.0259400728089  \n",
    "For n_clusters = 38 The average silhouette_score is : 0.0272363844287  \n",
    "For n_clusters = 39 The average silhouette_score is : 0.0277905739646  \n",
    "For n_clusters = 40 The average silhouette_score is : 0.0285407236705  \n",
    "For n_clusters = 41 The average silhouette_score is : 0.0279043373405  \n",
    "For n_clusters = 42 The average silhouette_score is : 0.0282603043511  \n",
    "For n_clusters = 43 The average silhouette_score is : 0.0263960411557  \n",
    "For n_clusters = 44 The average silhouette_score is : 0.025646670401  \n",
    "For n_clusters = 45 The average silhouette_score is : 0.0262094235034  \n",
    "For n_clusters = 46 The average silhouette_score is : 0.0265275599925  \n",
    "For n_clusters = 47 The average silhouette_score is : 0.027168671357  \n",
    "For n_clusters = 48 The average silhouette_score is : 0.0275528168165  \n",
    "For n_clusters = 49 The average silhouette_score is : 0.027425381776  "
   ]
  },
  {
   "cell_type": "code",
   "execution_count": null,
   "metadata": {
    "ExecuteTime": {
     "end_time": "2017-10-23T15:35:55.116687Z",
     "start_time": "2017-10-23T13:35:54.489Z"
    },
    "collapsed": false,
    "deletable": true,
    "editable": true
   },
   "outputs": [],
   "source": [
    "plt.figure()\n",
    "plt.plot(range(2, len(silhouette_avg_dict)+2), list(silhouette_avg_dict.values()))\n",
    "plt.ylabel('Average silhouette width')\n",
    "plt.xlabel('Clusters')"
   ]
  },
  {
   "cell_type": "markdown",
   "metadata": {
    "deletable": true,
    "editable": true
   },
   "source": [
    "### Gap statistics"
   ]
  },
  {
   "cell_type": "code",
   "execution_count": null,
   "metadata": {
    "ExecuteTime": {
     "end_time": "2017-10-23T15:35:55.116895Z",
     "start_time": "2017-10-23T13:35:54.496Z"
    },
    "collapsed": true,
    "deletable": true,
    "editable": true
   },
   "outputs": [],
   "source": [
    "#From here: https://anaconda.org/milesgranger/gap-statistic/notebook\n",
    "\n",
    "def optimalK(data, nrefs=3, maxClusters=15):\n",
    "    \"\"\"\n",
    "    Calculates KMeans optimal K using Gap Statistic from Tibshirani, Walther, Hastie\n",
    "    Params:\n",
    "        data: ndarry of shape (n_samples, n_features)\n",
    "        nrefs: number of sample reference datasets to create\n",
    "        maxClusters: Maximum number of clusters to test for\n",
    "    Returns: (gaps, optimalK)\n",
    "    \"\"\"\n",
    "    gaps = np.zeros((len(range(1, maxClusters)),))\n",
    "    resultsdf = pd.DataFrame({'clusterCount':[], 'gap':[]})\n",
    "    for gap_index, k in enumerate(range(1, maxClusters)):\n",
    "\n",
    "        # Holder for reference dispersion results\n",
    "        refDisps = np.zeros(nrefs)\n",
    "\n",
    "        # For n references, generate random sample and perform kmeans getting resulting dispersion of each loop\n",
    "        for i in range(nrefs):\n",
    "            \n",
    "            # Create new random reference set by shuffeling the data\n",
    "            #randomReference = data #make a copy\n",
    "            #np.random.shuffle(randomReference) #But is does not work\n",
    "            randomReference = np.random.random_sample(size=data.shape) #Original function from Miles Granger\n",
    "            \n",
    "            # Fit to it\n",
    "            km = KMeans(k)\n",
    "            km.fit(randomReference)\n",
    "            #km.fit(randomReference)\n",
    "            \n",
    "            refDisp = km.inertia_\n",
    "            refDisps[i] = refDisp\n",
    "\n",
    "        # Fit cluster to original data and create dispersion\n",
    "        km = KMeans(k)\n",
    "        km.fit(data)\n",
    "        \n",
    "        origDisp = km.inertia_\n",
    "\n",
    "        # Calculate gap statistic\n",
    "        gap = np.log(np.mean(refDisps)) - np.log(origDisp)\n",
    "\n",
    "        # Assign this loop's gap statistic to gaps\n",
    "        gaps[gap_index] = gap\n",
    "        \n",
    "        resultsdf = resultsdf.append({'clusterCount':k, 'gap':gap}, ignore_index=True)\n",
    "\n",
    "    return (gaps.argmax() + 1, resultsdf)  # Plus 1 because index of 0 means 1 cluster is optimal, index 2 = 3 clusters are optimal\n",
    "\n",
    "k, gapdf = optimalK(X_log.T, nrefs=5, maxClusters=70)    "
   ]
  },
  {
   "cell_type": "code",
   "execution_count": null,
   "metadata": {
    "ExecuteTime": {
     "end_time": "2017-10-23T15:35:55.117092Z",
     "start_time": "2017-10-23T13:35:54.503Z"
    },
    "collapsed": false,
    "deletable": true,
    "editable": true
   },
   "outputs": [],
   "source": [
    "plt.figure()\n",
    "plt.plot(gapdf.clusterCount, gapdf.gap, linewidth=3)\n",
    "plt.scatter(gapdf[gapdf.clusterCount == k].clusterCount, gapdf[gapdf.clusterCount == k].gap, s=250, c='r')\n",
    "plt.grid(True)\n",
    "plt.xlabel('Cluster Count')\n",
    "plt.ylabel('Gap Value')\n",
    "plt.title('Gap Values by Cluster Count')\n",
    "#plt.savefig('Gap_statistics_0-70clusters.png')"
   ]
  },
  {
   "cell_type": "markdown",
   "metadata": {
    "deletable": true,
    "editable": true
   },
   "source": [
    "## Other clustering methods"
   ]
  },
  {
   "cell_type": "code",
   "execution_count": null,
   "metadata": {
    "ExecuteTime": {
     "end_time": "2017-10-23T15:35:55.117282Z",
     "start_time": "2017-10-23T13:35:54.512Z"
    },
    "collapsed": false,
    "deletable": true,
    "editable": true
   },
   "outputs": [],
   "source": [
    "#DBscan\n",
    "db = DBSCAN(eps=0.9, min_samples=30, metric='jaccard', algorithm='brute').fit(X_log.T) #correlation\n",
    "#Jaccard eps=0.999, min_samples=6\n",
    "\n",
    "print(db.labels_.shape, len(np.unique(db.labels_)), db.labels_)\n",
    "Counter(db.labels_)"
   ]
  },
  {
   "cell_type": "code",
   "execution_count": null,
   "metadata": {
    "ExecuteTime": {
     "end_time": "2017-10-23T15:35:55.117474Z",
     "start_time": "2017-10-23T13:35:54.522Z"
    },
    "collapsed": false,
    "deletable": true,
    "editable": true
   },
   "outputs": [],
   "source": [
    "#Mean Shift\n",
    "bandwidth = estimate_bandwidth(X_log.T, quantile=0.1, n_samples=50)\n",
    "seeds = get_bin_seeds(X_log.T, bin_size=bandwidth)\n",
    "ms = MeanShift(bandwidth=bandwidth, bin_seeding=True, seeds=seeds)\n",
    "ms.fit(X_log.T)\n",
    "print(ms.labels_.shape, len(np.unique(ms.labels_)),np.unique(ms.labels_), ms.labels_)\n",
    "Counter(ms.labels_)"
   ]
  },
  {
   "cell_type": "code",
   "execution_count": null,
   "metadata": {
    "ExecuteTime": {
     "end_time": "2017-10-23T15:35:55.117664Z",
     "start_time": "2017-10-23T13:35:54.533Z"
    },
    "collapsed": false,
    "deletable": true,
    "editable": true
   },
   "outputs": [],
   "source": [
    "# Affinity Propagation\n",
    "af = AffinityPropagation(damping=0.99, max_iter=200, convergence_iter=15, \n",
    "                         copy=True, preference=.9, affinity='euclidean').fit(X_log.T)\n",
    "print(af.labels_.shape, len(np.unique(af.labels_)),np.unique(af.labels_), af.labels_)"
   ]
  },
  {
   "cell_type": "code",
   "execution_count": null,
   "metadata": {
    "ExecuteTime": {
     "end_time": "2017-10-23T15:35:55.117852Z",
     "start_time": "2017-10-23T13:35:54.545Z"
    },
    "collapsed": false,
    "deletable": true,
    "editable": true
   },
   "outputs": [],
   "source": [
    "# KMeans\n",
    "kmeans30 = KMeans(n_clusters=30, n_init=20, max_iter=600, n_jobs=6)\n",
    "kmeans30.fit(X_log.T)"
   ]
  },
  {
   "cell_type": "markdown",
   "metadata": {
    "deletable": true,
    "editable": true
   },
   "source": [
    "## Hierarchical clustering all cells"
   ]
  },
  {
   "cell_type": "code",
   "execution_count": null,
   "metadata": {
    "ExecuteTime": {
     "end_time": "2017-10-23T15:35:55.118044Z",
     "start_time": "2017-10-23T13:35:54.556Z"
    },
    "collapsed": true,
    "deletable": true,
    "editable": true
   },
   "outputs": [],
   "source": [
    "ac4 = AgglomerativeClustering(n_clusters=4).fit(X_log.T)\n",
    "ac5 = AgglomerativeClustering(n_clusters=5).fit(X_log.T)\n",
    "ac6 = AgglomerativeClustering(n_clusters=6).fit(X_log.T)\n",
    "ac7 = AgglomerativeClustering(n_clusters=7).fit(X_log.T)\n",
    "ac8 = AgglomerativeClustering(n_clusters=8).fit(X_log.T)\n",
    "ac9 = AgglomerativeClustering(n_clusters=9).fit(X_log.T)\n",
    "ac10 = AgglomerativeClustering(n_clusters=10).fit(X_log.T)\n",
    "ac11 = AgglomerativeClustering(n_clusters=11).fit(X_log.T)\n",
    "ac12 = AgglomerativeClustering(n_clusters=12).fit(X_log.T)"
   ]
  },
  {
   "cell_type": "code",
   "execution_count": null,
   "metadata": {
    "ExecuteTime": {
     "end_time": "2017-10-23T15:35:55.118247Z",
     "start_time": "2017-10-23T13:35:54.564Z"
    },
    "collapsed": true,
    "deletable": true,
    "editable": true
   },
   "outputs": [],
   "source": [
    "#Hierarchical\n",
    "#ac20 = AgglomerativeClustering(n_clusters=20).fit(X_log.T)\n",
    "#ac21 = AgglomerativeClustering(n_clusters=21).fit(X_log.T)\n",
    "#ac22 = AgglomerativeClustering(n_clusters=22).fit(X_log.T)\n",
    "#ac23 = AgglomerativeClustering(n_clusters=23).fit(X_log.T)\n",
    "#ac24 = AgglomerativeClustering(n_clusters=24).fit(X_log.T)\n",
    "#ac25 = AgglomerativeClustering(n_clusters=25).fit(X_log.T)\n",
    "#ac26 = AgglomerativeClustering(n_clusters=26).fit(X_log.T)\n",
    "#ac27 = AgglomerativeClustering(n_clusters=27).fit(X_log.T)\n",
    "#ac28 = AgglomerativeClustering(n_clusters=28).fit(X_log.T)\n",
    "#ac29 = AgglomerativeClustering(n_clusters=29).fit(X_log.T)\n",
    "ac30 = AgglomerativeClustering(n_clusters=30).fit(X_log.T)\n",
    "ac31 = AgglomerativeClustering(n_clusters=31).fit(X_log.T)\n",
    "ac32 = AgglomerativeClustering(n_clusters=32).fit(X_log.T)\n",
    "ac33 = AgglomerativeClustering(n_clusters=33).fit(X_log.T)\n",
    "ac34 = AgglomerativeClustering(n_clusters=34).fit(X_log.T)\n",
    "ac35 = AgglomerativeClustering(n_clusters=35).fit(X_log.T)\n",
    "ac36 = AgglomerativeClustering(n_clusters=36).fit(X_log.T)\n",
    "ac37 = AgglomerativeClustering(n_clusters=37).fit(X_log.T)\n",
    "ac38 = AgglomerativeClustering(n_clusters=38).fit(X_log.T)\n",
    "ac39 = AgglomerativeClustering(n_clusters=39).fit(X_log.T)\n",
    "ac40 = AgglomerativeClustering(n_clusters=40).fit(X_log.T)\n",
    "ac41 = AgglomerativeClustering(n_clusters=41).fit(X_log.T)\n",
    "ac42 = AgglomerativeClustering(n_clusters=42).fit(X_log.T)\n",
    "ac43 = AgglomerativeClustering(n_clusters=43).fit(X_log.T)\n",
    "ac44 = AgglomerativeClustering(n_clusters=44).fit(X_log.T)\n",
    "ac45 = AgglomerativeClustering(n_clusters=45).fit(X_log.T)"
   ]
  },
  {
   "cell_type": "markdown",
   "metadata": {
    "deletable": true,
    "editable": true
   },
   "source": [
    "### Clustering all types"
   ]
  },
  {
   "cell_type": "code",
   "execution_count": null,
   "metadata": {
    "ExecuteTime": {
     "end_time": "2017-10-23T15:35:55.118438Z",
     "start_time": "2017-10-23T13:35:54.572Z"
    },
    "collapsed": true,
    "deletable": true,
    "editable": true
   },
   "outputs": [],
   "source": [
    "ac30 = AgglomerativeClustering(n_clusters=30, affinity='euclidean', linkage='ward').fit(X_log.T)"
   ]
  },
  {
   "cell_type": "code",
   "execution_count": null,
   "metadata": {
    "ExecuteTime": {
     "end_time": "2017-10-23T15:35:55.118628Z",
     "start_time": "2017-10-23T13:35:54.579Z"
    },
    "collapsed": true,
    "deletable": true,
    "editable": true
   },
   "outputs": [],
   "source": [
    "ac30_pc33 = AgglomerativeClustering(n_clusters=30).fit(pc[:,:33])\n",
    "ac30_pc20 = AgglomerativeClustering(n_clusters=30).fit(pc[:,:20])"
   ]
  },
  {
   "cell_type": "code",
   "execution_count": null,
   "metadata": {
    "ExecuteTime": {
     "end_time": "2017-10-23T15:35:55.118818Z",
     "start_time": "2017-10-23T13:35:54.585Z"
    },
    "collapsed": true,
    "deletable": true,
    "editable": true
   },
   "outputs": [],
   "source": [
    "#Clustering on fold change data. Work but a third of the cells end up in a cluster of low expressing cells. \n",
    "ac30_fc = AgglomerativeClustering(n_clusters=30).fit(np.array(df_fish_fc.values).T)"
   ]
  },
  {
   "cell_type": "code",
   "execution_count": null,
   "metadata": {
    "ExecuteTime": {
     "end_time": "2017-10-23T15:35:55.119015Z",
     "start_time": "2017-10-23T13:35:54.591Z"
    },
    "collapsed": true,
    "deletable": true,
    "editable": true
   },
   "outputs": [],
   "source": [
    "ac47 = AgglomerativeClustering(n_clusters=47).fit(np.array(df_fish.values).T)"
   ]
  },
  {
   "cell_type": "code",
   "execution_count": null,
   "metadata": {
    "ExecuteTime": {
     "end_time": "2017-10-23T15:35:55.119207Z",
     "start_time": "2017-10-23T13:35:54.599Z"
    },
    "collapsed": true,
    "deletable": true,
    "editable": true
   },
   "outputs": [],
   "source": [
    "#Clustering on the raw count data. Similar results as on the Fold Change data\n",
    "ac30_X = AgglomerativeClustering(n_clusters=30).fit(X.T)\n",
    "ac30_Norm = AgglomerativeClustering(n_clusters=30).fit(X_norm.T)"
   ]
  },
  {
   "cell_type": "code",
   "execution_count": null,
   "metadata": {
    "ExecuteTime": {
     "end_time": "2017-10-23T15:35:55.119401Z",
     "start_time": "2017-10-23T13:35:54.608Z"
    },
    "collapsed": true,
    "deletable": true,
    "editable": true
   },
   "outputs": [],
   "source": [
    "ac30_sqrt = AgglomerativeClustering(n_clusters=30).fit(X_sqrt.T)\n",
    "ac6_sqrt = AgglomerativeClustering(n_clusters=6).fit(X_sqrt.T)"
   ]
  },
  {
   "cell_type": "code",
   "execution_count": null,
   "metadata": {
    "ExecuteTime": {
     "end_time": "2017-10-23T15:35:55.119596Z",
     "start_time": "2017-10-23T13:35:54.618Z"
    },
    "collapsed": true,
    "deletable": true,
    "editable": true
   },
   "outputs": [],
   "source": [
    "#Save model as pickle file\n",
    "pickle.dump(ac30, open('Clustering_model_ac30.pkl', 'wb'))\n",
    "model_pkl.close()"
   ]
  },
  {
   "cell_type": "code",
   "execution_count": null,
   "metadata": {
    "ExecuteTime": {
     "end_time": "2017-10-23T15:35:55.119786Z",
     "start_time": "2017-10-23T13:35:54.628Z"
    },
    "collapsed": false,
    "deletable": true,
    "editable": true
   },
   "outputs": [],
   "source": [
    "#Load model\n",
    "ac30 = pickle.load(open('Clustering_model_ac30.pkl', 'rb'))"
   ]
  },
  {
   "cell_type": "code",
   "execution_count": null,
   "metadata": {
    "ExecuteTime": {
     "end_time": "2017-10-23T15:35:55.119972Z",
     "start_time": "2017-10-23T13:35:54.635Z"
    },
    "collapsed": false,
    "deletable": true,
    "editable": true
   },
   "outputs": [],
   "source": [
    "ac30"
   ]
  },
  {
   "cell_type": "markdown",
   "metadata": {
    "deletable": true,
    "editable": true
   },
   "source": [
    "### Clustering Major - Minor types"
   ]
  },
  {
   "cell_type": "code",
   "execution_count": null,
   "metadata": {
    "ExecuteTime": {
     "end_time": "2017-10-23T15:35:55.120167Z",
     "start_time": "2017-10-23T13:35:54.641Z"
    },
    "collapsed": true,
    "deletable": true,
    "editable": true
   },
   "outputs": [],
   "source": [
    "major_type_markers = ['Hybridization12_Slc32a1',\n",
    "                     'Hybridization1_Tbr1',\n",
    "                      'Hybridization7_Sox10',\n",
    "                      'Hybridization1_Aldoc',\n",
    "                      'Hybridization3_Hexb',\n",
    "                      'Hybridization3_Mrc1',\n",
    "                      'Hybridization1_Foxj1',\n",
    "                      'Hybridization12_Vtn',\n",
    "                      'Hybridization2_Flt1',\n",
    "                      'Hybridization5_Acta2',\n",
    "                      'Hybridization9_Lum']\n",
    "\n",
    "df_fish_log_major = df_fish_log.loc[major_type_markers,:]\n",
    "ac11_major = AgglomerativeClustering(n_clusters=11).fit(df_fish_log_major.T)"
   ]
  },
  {
   "cell_type": "code",
   "execution_count": null,
   "metadata": {
    "ExecuteTime": {
     "end_time": "2017-10-23T15:35:55.120356Z",
     "start_time": "2017-10-23T13:35:54.647Z"
    },
    "collapsed": true,
    "deletable": true,
    "editable": true
   },
   "outputs": [],
   "source": [
    "ac11_all = AgglomerativeClustering(n_clusters=11).fit(df_fish_log.T)"
   ]
  },
  {
   "cell_type": "markdown",
   "metadata": {
    "deletable": true,
    "editable": true
   },
   "source": [
    "Major cell type clustering does not yield the 11 intended clusters. For instance, the oligodendrocytes are split into two clusters"
   ]
  },
  {
   "cell_type": "markdown",
   "metadata": {
    "deletable": true,
    "editable": true
   },
   "source": [
    "### Clustering on added featrues dataset"
   ]
  },
  {
   "cell_type": "code",
   "execution_count": null,
   "metadata": {
    "ExecuteTime": {
     "end_time": "2017-10-23T15:35:55.120543Z",
     "start_time": "2017-10-23T13:35:54.653Z"
    },
    "collapsed": true,
    "deletable": true,
    "editable": true
   },
   "outputs": [],
   "source": [
    "ac_addfeatures = AgglomerativeClustering(n_clusters=35).fit(np.array(df_fish_addfeature.values).T)"
   ]
  },
  {
   "cell_type": "markdown",
   "metadata": {
    "deletable": true,
    "editable": true
   },
   "source": [
    "### Clustering on dataset with XY location"
   ]
  },
  {
   "cell_type": "code",
   "execution_count": null,
   "metadata": {
    "ExecuteTime": {
     "end_time": "2017-10-23T15:35:55.120729Z",
     "start_time": "2017-10-23T13:35:54.659Z"
    },
    "collapsed": true,
    "deletable": true,
    "editable": true
   },
   "outputs": [],
   "source": [
    "ac_location = AgglomerativeClustering(n_clusters=35).fit(np.array(df_fish_location.values).T)"
   ]
  },
  {
   "cell_type": "markdown",
   "metadata": {
    "deletable": true,
    "editable": true
   },
   "source": [
    "### Clustering on size corrected data"
   ]
  },
  {
   "cell_type": "code",
   "execution_count": null,
   "metadata": {
    "ExecuteTime": {
     "end_time": "2017-10-23T15:35:55.120917Z",
     "start_time": "2017-10-23T13:35:54.666Z"
    },
    "collapsed": true,
    "deletable": true,
    "editable": true
   },
   "outputs": [],
   "source": [
    "ac_size = AgglomerativeClustering(n_clusters=50).fit(np.array(df_fish_size_sqrt.values).T)"
   ]
  },
  {
   "cell_type": "markdown",
   "metadata": {
    "deletable": true,
    "editable": true
   },
   "source": [
    "## Two step clustering log data"
   ]
  },
  {
   "cell_type": "code",
   "execution_count": null,
   "metadata": {
    "ExecuteTime": {
     "end_time": "2017-10-23T15:35:55.121111Z",
     "start_time": "2017-10-23T13:35:54.673Z"
    },
    "collapsed": false,
    "deletable": true,
    "editable": true
   },
   "outputs": [],
   "source": [
    "#Major cell types\n",
    "ac6 = AgglomerativeClustering(n_clusters=6).fit(X_log.T)\n",
    "#0: L6, Hippocampus, Bad neurons\n",
    "#1: L4\n",
    "#2: Int\n",
    "#3: Oligo\n",
    "#4: Astocytes, other glia\n",
    "#5: L2/3, L5\n",
    "\n",
    "major_label_cells = gen_labels(df_fish, ac6)[1]"
   ]
  },
  {
   "cell_type": "code",
   "execution_count": 9,
   "metadata": {
    "ExecuteTime": {
     "end_time": "2017-10-23T15:35:55.532432Z",
     "start_time": "2017-10-23T15:35:55.513659Z"
    },
    "collapsed": false,
    "deletable": true,
    "editable": true
   },
   "outputs": [
    {
     "ename": "NameError",
     "evalue": "name 'gen_labels' is not defined",
     "output_type": "error",
     "traceback": [
      "\u001b[0;31m---------------------------------------------------------------------------\u001b[0m",
      "\u001b[0;31mNameError\u001b[0m                                 Traceback (most recent call last)",
      "\u001b[0;32m<ipython-input-9-2012b43f0f1a>\u001b[0m in \u001b[0;36m<module>\u001b[0;34m()\u001b[0m\n\u001b[1;32m      1\u001b[0m \u001b[0;31m#Second step clustering, major 0\u001b[0m\u001b[0;34m\u001b[0m\u001b[0;34m\u001b[0m\u001b[0m\n\u001b[0;32m----> 2\u001b[0;31m \u001b[0mmajor0_label_cells\u001b[0m \u001b[0;34m=\u001b[0m \u001b[0mgen_labels\u001b[0m\u001b[0;34m(\u001b[0m\u001b[0mdf_fish\u001b[0m\u001b[0;34m,\u001b[0m \u001b[0mac6\u001b[0m\u001b[0;34m)\u001b[0m\u001b[0;34m[\u001b[0m\u001b[0;36m1\u001b[0m\u001b[0;34m]\u001b[0m\u001b[0;34m\u001b[0m\u001b[0m\n\u001b[0m\u001b[1;32m      3\u001b[0m \u001b[0mdf_fish_log_major0\u001b[0m \u001b[0;34m=\u001b[0m \u001b[0mdf_fish_log\u001b[0m\u001b[0;34m.\u001b[0m\u001b[0mloc\u001b[0m\u001b[0;34m[\u001b[0m\u001b[0;34m:\u001b[0m\u001b[0;34m,\u001b[0m\u001b[0mmajor0_label_cells\u001b[0m\u001b[0;34m[\u001b[0m\u001b[0;36m0\u001b[0m\u001b[0;34m]\u001b[0m\u001b[0;34m]\u001b[0m\u001b[0;34m\u001b[0m\u001b[0m\n\u001b[1;32m      4\u001b[0m \u001b[0;34m\u001b[0m\u001b[0m\n\u001b[1;32m      5\u001b[0m \u001b[0mac_major0_5\u001b[0m \u001b[0;34m=\u001b[0m \u001b[0mAgglomerativeClustering\u001b[0m\u001b[0;34m(\u001b[0m\u001b[0mn_clusters\u001b[0m\u001b[0;34m=\u001b[0m\u001b[0;36m5\u001b[0m\u001b[0;34m)\u001b[0m\u001b[0;34m.\u001b[0m\u001b[0mfit\u001b[0m\u001b[0;34m(\u001b[0m\u001b[0mdf_fish_log_major0\u001b[0m\u001b[0;34m.\u001b[0m\u001b[0mT\u001b[0m\u001b[0;34m)\u001b[0m\u001b[0;34m\u001b[0m\u001b[0m\n",
      "\u001b[0;31mNameError\u001b[0m: name 'gen_labels' is not defined"
     ]
    }
   ],
   "source": [
    "#Second step clustering, major 0\n",
    "major0_label_cells = gen_labels(df_fish, ac6)[1]\n",
    "df_fish_log_major0 = df_fish_log.loc[:,major0_label_cells[0]]\n",
    "\n",
    "ac_major0_5 = AgglomerativeClustering(n_clusters=5).fit(df_fish_log_major0.T)\n",
    "#0_0: bleached cells\n",
    "#0_1: L6\n",
    "#0_2: L5 (Cnr1, Cpne5)\n",
    "#0_3: Bad cells\n",
    "#0_4: Hippocampal ?Neurons"
   ]
  },
  {
   "cell_type": "code",
   "execution_count": null,
   "metadata": {
    "ExecuteTime": {
     "end_time": "2017-10-23T15:35:55.532853Z",
     "start_time": "2017-10-23T13:35:54.683Z"
    },
    "collapsed": true,
    "deletable": true,
    "editable": true
   },
   "outputs": [],
   "source": [
    "#Second step clustering, major 1\n",
    "major1_label_cells = gen_labels(df_fish, ac6)[1]\n",
    "df_fish_log_major1 = df_fish_log.loc[:,major1_label_cells[1]]\n",
    "\n",
    "#NO FURTHER SPLIT NESSECARY\n",
    "#1: L4\n",
    "\n",
    "#Hack to generate an object with a .labels_ attribute, for downstream handling\n",
    "class ac_major1_1():\n",
    "    pass\n",
    "\n",
    "ac_major1_1.labels_ = np.array([0] * df_fish_log_major1.shape[1])"
   ]
  },
  {
   "cell_type": "code",
   "execution_count": null,
   "metadata": {
    "ExecuteTime": {
     "end_time": "2017-10-23T15:35:55.533175Z",
     "start_time": "2017-10-23T13:35:54.689Z"
    },
    "collapsed": true,
    "deletable": true,
    "editable": true
   },
   "outputs": [],
   "source": [
    "#Second step clustering, major 2\n",
    "df_fish_log_major2 = df_fish_log.loc[:,major_label_cells[2]]\n",
    "\n",
    "ac_major2_10 = AgglomerativeClustering(n_clusters=10).fit(df_fish_log_major2.T)\n",
    "\n",
    "#10 Clusters looks ok but difficult to decide\n",
    "#2_0: int - Crh, Cnr1\n",
    "#2_1: int - Pthlh, Kcnip2\n",
    "#2_2: int - Kcnip2 (Caudoputamen)\n",
    "#2_3: int - Cpne5\n",
    "#2_4: int - Crhbp, Cpne5\n",
    "#2_5: int - Pthlh, Cnr1, Vip, Crh\n",
    "#2_6: int - Crh, Vip\n",
    "#2_7: int - Cnr1\n",
    "#2_8: int - Crhbp\n",
    "#2_9: Oligodendrocytes\n"
   ]
  },
  {
   "cell_type": "code",
   "execution_count": null,
   "metadata": {
    "ExecuteTime": {
     "end_time": "2017-10-23T15:35:55.533486Z",
     "start_time": "2017-10-23T13:35:54.694Z"
    },
    "collapsed": true,
    "deletable": true,
    "editable": true
   },
   "outputs": [],
   "source": [
    "#Second step clustering, major 3\n",
    "df_fish_log_major3 = df_fish_log.loc[:,major_label_cells[3]]\n",
    "\n",
    "ac_major3_5 = AgglomerativeClustering(n_clusters=5).fit(df_fish_log_major3.T)\n",
    "#3_0: Olig - Mature, Anln\n",
    "#3_1: Olig - Intermediate, Cpts\n",
    "#3_2: Olig - COP, Bmp4\n",
    "#3_3: Olig - (unclear)\n",
    "#3_4: Olig - Newly formed, Itpr2, Tmem2"
   ]
  },
  {
   "cell_type": "code",
   "execution_count": null,
   "metadata": {
    "ExecuteTime": {
     "end_time": "2017-10-23T15:35:55.533796Z",
     "start_time": "2017-10-23T13:35:54.700Z"
    },
    "collapsed": true,
    "deletable": true,
    "editable": true
   },
   "outputs": [],
   "source": [
    "#Second step clustering, major 4\n",
    "df_fish_log_major4 = df_fish_log.loc[:,major_label_cells[4]]\n",
    "\n",
    "ac_major4_12 = AgglomerativeClustering(n_clusters=12).fit(df_fish_log_major4.T)\n",
    "\n",
    "#4_0: Endothelial (bad profile)\n",
    "#4_1: Astro 2\n",
    "#4_2: Astro 1\n",
    "#4_3: Choroid plexus? \n",
    "#4_4: Endothelial\n",
    "#4_5: Ependymal\n",
    "#4_6: Endo1 (Artifact, all on right edge)\n",
    "#4_7: Astro 1 (Pia)\n",
    "#4_8: Ependymal (between CC and Hipp)\n",
    "#4_9: OPC\n",
    "#4_10: Astro1 Mfge8+ subset\n",
    "#4_11: VLMC\n",
    "\n"
   ]
  },
  {
   "cell_type": "code",
   "execution_count": null,
   "metadata": {
    "ExecuteTime": {
     "end_time": "2017-10-23T15:35:55.534098Z",
     "start_time": "2017-10-23T13:35:54.707Z"
    },
    "collapsed": true,
    "deletable": true,
    "editable": true
   },
   "outputs": [],
   "source": [
    "#Second step clustering, major 5\n",
    "df_fish_log_major5 = df_fish_log.loc[:,major_label_cells[5]]\n",
    "\n",
    "ac_major5_2 = AgglomerativeClustering(n_clusters=2).fit(df_fish_log_major5.T)\n",
    "\n",
    "#5_0: L2/3\n",
    "#5_1: L5"
   ]
  },
  {
   "cell_type": "code",
   "execution_count": null,
   "metadata": {
    "ExecuteTime": {
     "end_time": "2017-10-23T15:35:55.534434Z",
     "start_time": "2017-10-23T13:35:54.715Z"
    },
    "collapsed": true,
    "deletable": true,
    "editable": true
   },
   "outputs": [],
   "source": [
    "def combine_sub_clusters(list_models, list_dfs):\n",
    "    #Cell labels: Dictionary of each cell with label as key\n",
    "    cell_labels = {}\n",
    "    \n",
    "    n_clusters = 0 \n",
    "    for i, j in zip(list_dfs, list_models):\n",
    "        j = j.labels_ + n_clusters\n",
    "        n_clusters += len(np.unique(j))\n",
    "        cell_labels.update(dict(zip(i.columns, j)))\n",
    "    \n",
    "    #Label cells: dictionary with all labels and a list of cells\n",
    "    label_cells = {}\n",
    "    for l in np.unique(list(cell_labels.values())):\n",
    "        label_cells[l] = []\n",
    "    for i in cell_labels:\n",
    "        label_cells[cell_labels[i]].append(i)\n",
    "\n",
    "    #combine df\n",
    "    df_combined = pd.concat(list_dfs, axis=1)\n",
    "    \n",
    "    cellID = df_combined.columns\n",
    "    \n",
    "    labels =[]\n",
    "    for i in df_combined.columns:\n",
    "        labels.append(cell_labels[i])\n",
    "    labels_a = np.array(labels)\n",
    "        \n",
    "    return cell_labels, label_cells, df_combined, cellID, labels, labels_a\n",
    "\n",
    "#cell_labels, label_cells, combine_df, cellID, labels, labels_a = combine_sub_clusters([ac_major0_5, ac_major1_1, ac_major2_10, ac_major3_5, ac_major4_12, ac_major5_2], \n",
    "#                     [df_fish_log_major0, df_fish_log_major1, df_fish_log_major2, df_fish_log_major3, df_fish_log_major4, df_fish_log_major5])\n",
    "\n",
    "cluster_labels = [\n",
    "'Bleached-cells', 'Pyramidal-L6', 'Pyramidal-L5-1', 'Bad-cells', 'Hippocampal',\n",
    "'Pyramidal-L4',\n",
    "'Int_Crh-Cnr1', 'Int_Pthlh-Kcnip2', 'Int-Kcnip2', 'Int-Cpne5', 'Int-Crhbp-Cpne5', 'Int-Pthlh-Cnr1-Vip-Crh', 'Int-Crh-Vip', 'Int-Cnr1', 'Int-Crhbp', 'Olig-IntCluster',\n",
    "'Olig-Mature', 'Olig-Intermediate', 'Olig-COP', 'Olig-unclear', 'Olig-NF',\n",
    "'Endothelial-bad', 'Astro2-1', 'Astro2-2', 'Coroid-plexus', 'Endothelial', 'Ependymal', 'Endothelial-artefact', 'Astro1-pia', 'Ependymal-ventricle', 'OPC', 'Astro1-Mfge8+', 'VLMC',\n",
    "'Pyramidal-L2/3', 'Pyramidal-L5-2']\n",
    "#Missing: Microglia, Pericytes(vtn)\n",
    "\n",
    "\n",
    "#Sort the clusters manually\n",
    "cluster_sort_labels = ['Int-Crhbp-Cpne5','Int-Crhbp','Int_Pthlh-Kcnip2','Int_Crh-Cnr1','Int-Pthlh-Cnr1-Vip-Crh',\n",
    "                       'Int-Cnr1', 'Int-Crh-Vip','Int-Kcnip2','Int-Cpne5',\n",
    "                'Pyramidal-L2/3','Pyramidal-L4', 'Pyramidal-L5-1', 'Pyramidal-L5-2', 'Pyramidal-L6', 'Hippocampal',\n",
    "                'Astro1-pia', 'Astro1-Mfge8+', 'Astro2-1', 'Astro2-2',\n",
    "                'OPC', 'Olig-COP', 'Olig-NF', 'Olig-Intermediate', 'Olig-Mature', 'Olig-unclear', 'Olig-IntCluster',\n",
    "                'Coroid-plexus',\n",
    "                'Ependymal', 'Ependymal-ventricle',\n",
    "                'Endothelial', 'Endothelial-bad', 'Endothelial-artefact',\n",
    "                'VLMC',\n",
    "                'Bleached-cells',\n",
    "                'Bad-cells',\n",
    "               ]\n",
    "\n",
    "#Get the cluster numbers in order\n",
    "cluster_sort = [cluster_labels.index(x) for x in cluster_sort_labels]\n",
    "\n",
    "#Make dictionary linking cluster number with the name\n",
    "cluster_labels = dict(zip(range(0, len(cluster_labels)), cluster_labels))\n"
   ]
  },
  {
   "cell_type": "code",
   "execution_count": null,
   "metadata": {
    "ExecuteTime": {
     "end_time": "2017-10-23T15:35:55.534738Z",
     "start_time": "2017-10-23T13:35:54.721Z"
    },
    "collapsed": false,
    "deletable": true,
    "editable": true
   },
   "outputs": [],
   "source": [
    "# Looking into the bad cells\n",
    "minor0_5_label_cells = gen_labels(df_fish_log_major0, ac_major0_5)[1]\n",
    "df_bad_cells = df_fish_log.loc[:,minor0_5_label_cells[3]]\n",
    "\n",
    "n_clusters=10\n",
    "cl_bad_cells =  AgglomerativeClustering(n_clusters).fit(df_bad_cells.T)\n",
    "cell_labels, label_cells, cellID, labels, labels_a = gen_labels(df_bad_cells, cl_bad_cells)\n",
    "heat_map(df_bad_cells, labels_a, sort=range(n_clusters))\n",
    "for i in range(n_clusters):\n",
    "    print(cluster_binarity(df_bad_cells, labels_a, i, 2.8, 85)[1])\n",
    "\n"
   ]
  },
  {
   "cell_type": "markdown",
   "metadata": {
    "deletable": true,
    "editable": true
   },
   "source": [
    "## Two step clustering size corected, sqrt data"
   ]
  },
  {
   "cell_type": "code",
   "execution_count": null,
   "metadata": {
    "ExecuteTime": {
     "end_time": "2017-10-23T15:35:55.535063Z",
     "start_time": "2017-10-23T13:35:54.727Z"
    },
    "collapsed": false,
    "deletable": true,
    "editable": true
   },
   "outputs": [],
   "source": [
    "#Major cell types\n",
    "size7 = AgglomerativeClustering(n_clusters=7).fit(X_size_sqrt.T)\n",
    "#0: L6\n",
    "#1: Glia\n",
    "#2: L4\n",
    "#3: Int\n",
    "#4: Olig\n",
    "#5: L2/3\n",
    "#6: Neurons\n",
    "\n",
    "major0_label_size = gen_labels(df_fish_size_sqrt, size7)[1]"
   ]
  },
  {
   "cell_type": "code",
   "execution_count": null,
   "metadata": {
    "ExecuteTime": {
     "end_time": "2017-10-23T15:35:55.535370Z",
     "start_time": "2017-10-23T13:35:54.732Z"
    },
    "collapsed": true,
    "deletable": true,
    "editable": true
   },
   "outputs": [],
   "source": [
    "#Second step clustering, major size 0\n",
    "df_fish_size_major0 = df_fish_size_sqrt.loc[:,major0_label_size[0]]\n",
    "\n",
    "size0_7 = AgglomerativeClustering(n_clusters=7).fit(df_fish_size_major0.T)\n",
    "#0_0: L6\n",
    "#0_1: BQ-Lum\n",
    "#0_2: Claustrum+\n",
    "#0_3: L6-Lamp5+Kcnip+\n",
    "#0_4: Astro-Fimbria\n",
    "#0_5: L6-Lamp5low\n",
    "#0_6: OPC"
   ]
  },
  {
   "cell_type": "code",
   "execution_count": null,
   "metadata": {
    "ExecuteTime": {
     "end_time": "2017-10-23T15:35:55.535676Z",
     "start_time": "2017-10-23T13:35:54.737Z"
    },
    "collapsed": true,
    "deletable": true,
    "editable": true
   },
   "outputs": [],
   "source": [
    "#Second step clustering, major size 1\n",
    "df_fish_size_major1 = df_fish_size_sqrt.loc[:,major0_label_size[1]]\n",
    "\n",
    "size1_11 = AgglomerativeClustering(n_clusters=11).fit(df_fish_size_major1.T)\n",
    "\n",
    "#1_0: Astro1\n",
    "#1_1: VLMC\n",
    "#1_2: Pericytes\n",
    "#1_3: Astro2_1\n",
    "#1_4: Astro-ventricle\n",
    "#1_5: Ependymal-dorals-ventricle\n",
    "#1_6: Ependymal-ventral-Ventricle\n",
    "#1_7: Astro-Gfap+Mfge8+\n",
    "#1_8: Astro2_2\n",
    "#1_9: Edothelial\n",
    "#1_10: Choroid-plexus"
   ]
  },
  {
   "cell_type": "code",
   "execution_count": null,
   "metadata": {
    "ExecuteTime": {
     "end_time": "2017-10-23T15:35:55.535973Z",
     "start_time": "2017-10-23T13:35:54.742Z"
    },
    "collapsed": true,
    "deletable": true,
    "editable": true
   },
   "outputs": [],
   "source": [
    "#Second step clustering, major size 2\n",
    "df_fish_size_major2 = df_fish_size_sqrt.loc[:,major0_label_size[2]]\n",
    "\n",
    "size2_2 = AgglomerativeClustering(n_clusters=2).fit(df_fish_size_major2.T)\n",
    "#2_0: L4\n",
    "#2_1: L4-Lamp5+Kcnip+"
   ]
  },
  {
   "cell_type": "code",
   "execution_count": null,
   "metadata": {
    "ExecuteTime": {
     "end_time": "2017-10-23T15:35:55.536277Z",
     "start_time": "2017-10-23T13:35:54.747Z"
    },
    "collapsed": true,
    "deletable": true,
    "editable": true
   },
   "outputs": [],
   "source": [
    "#Second step clustering, major size 3\n",
    "df_fish_size_major3 = df_fish_size_sqrt.loc[:,major0_label_size[3]]\n",
    "\n",
    "size3_14 = AgglomerativeClustering(n_clusters=14).fit(df_fish_size_major3.T)\n",
    "#3_0: Int-Lamp5\n",
    "#3_1: Int-Cnr1\n",
    "#3_2: Int-Kcnip2-Pthlh\n",
    "#3_3: Int-Crh\n",
    "#3_4: Int-Crhbp-Deep\n",
    "#3_5: Int-Vip-Pthlh\n",
    "#3_6: BQ_3\n",
    "#3_7: Int-Lat-CaudoPutamen\n",
    "#3_8: Int-VIP-Cnr1-Pthlh-Crh\n",
    "#3_9: Int-Crhbp-Cpne5-bleached?\n",
    "#3_10: Int-Cpne5\n",
    "#3_11: Int-Crhbp-Pthlh\n",
    "#3_12: Int-Crhbp-Supperficial\n",
    "#3_13: Int-Med-CaudoPutamen"
   ]
  },
  {
   "cell_type": "code",
   "execution_count": null,
   "metadata": {
    "ExecuteTime": {
     "end_time": "2017-10-23T15:35:55.536574Z",
     "start_time": "2017-10-23T13:35:54.753Z"
    },
    "collapsed": true,
    "deletable": true,
    "editable": true
   },
   "outputs": [],
   "source": [
    "#Second step clustering, major size 4\n",
    "df_fish_size_major4 = df_fish_size_sqrt.loc[:,major0_label_size[4]]\n",
    "\n",
    "size4_5 = AgglomerativeClustering(n_clusters=5).fit(df_fish_size_major4.T)\n",
    "#4_0: Olig-MF\n",
    "#4_1: Olig-Mature\n",
    "#4_2: Olig-Mature-BQ\n",
    "#4_3: Olig-NF\n",
    "#4_4: Olig-COP"
   ]
  },
  {
   "cell_type": "code",
   "execution_count": null,
   "metadata": {
    "ExecuteTime": {
     "end_time": "2017-10-23T15:35:55.536870Z",
     "start_time": "2017-10-23T13:35:54.759Z"
    },
    "collapsed": true,
    "deletable": true,
    "editable": true
   },
   "outputs": [],
   "source": [
    "#Second step clustering, major size 5\n",
    "df_fish_size_major5 = df_fish_size_sqrt.loc[:,major0_label_size[5]]\n",
    "\n",
    "size5_2 = AgglomerativeClustering(n_clusters=2).fit(df_fish_size_major5.T)\n",
    "#5_0: L2/3\n",
    "#5_0: L5"
   ]
  },
  {
   "cell_type": "code",
   "execution_count": null,
   "metadata": {
    "ExecuteTime": {
     "end_time": "2017-10-23T15:35:55.537165Z",
     "start_time": "2017-10-23T13:35:54.764Z"
    },
    "collapsed": true,
    "deletable": true,
    "editable": true
   },
   "outputs": [],
   "source": [
    "#Second step clustering, major size 6\n",
    "df_fish_size_major6 = df_fish_size_sqrt.loc[:,major0_label_size[6]]\n",
    "\n",
    "size6_6 = AgglomerativeClustering(n_clusters=6).fit(df_fish_size_major6.T)\n"
   ]
  },
  {
   "cell_type": "code",
   "execution_count": null,
   "metadata": {
    "ExecuteTime": {
     "end_time": "2017-10-23T15:35:55.537459Z",
     "start_time": "2017-10-23T13:35:54.769Z"
    },
    "collapsed": false,
    "deletable": true,
    "editable": true,
    "scrolled": false
   },
   "outputs": [],
   "source": [
    "\n",
    "df_used = df_fish_size_major4\n",
    "model_used = size4_5\n",
    "\n",
    "cell_labels, label_cells, cellID, labels, labels_a = gen_labels(df_used, model_used)\n",
    "heat_map(df_used, labels_a, sort=list(range(len(np.unique(labels_a)))));"
   ]
  },
  {
   "cell_type": "code",
   "execution_count": null,
   "metadata": {
    "ExecuteTime": {
     "end_time": "2017-10-23T15:35:55.537752Z",
     "start_time": "2017-10-23T13:35:54.774Z"
    },
    "collapsed": false,
    "deletable": true,
    "editable": true,
    "scrolled": false
   },
   "outputs": [],
   "source": [
    "tSNE_and_pos(df_used, labels_a, save=False)\n",
    "for i in np.sort(np.unique(labels_a)):\n",
    "    print(i,Counter(labels_a)[i], [i.split(\"_\")[1] for i in cluster_binarity(df_used, labels_a, i, .25, 70)[1]])"
   ]
  },
  {
   "cell_type": "code",
   "execution_count": null,
   "metadata": {
    "ExecuteTime": {
     "end_time": "2017-10-23T15:35:55.538045Z",
     "start_time": "2017-10-23T13:35:54.779Z"
    },
    "collapsed": false,
    "deletable": true,
    "editable": true,
    "scrolled": false
   },
   "outputs": [],
   "source": [
    "df_sort = sort_df(df_used.loc[:,], labels_a)\n",
    "df_sort_norm = sort_dataset_df(X_norm, df_used, labels_a)\n",
    "df_sort_log = sort_dataset_df(X_log, df_used, labels_a)\n",
    "df_sort_fc = sort_dataset_df(X_fc, df_used, labels_a)\n",
    "df_sort_count = sort_dataset_df(X, df_used, labels_a)\n",
    "cluster_expression(df_sort, 4, 'fc', sort=list(np.sort(np.unique(labels_a))))"
   ]
  },
  {
   "cell_type": "code",
   "execution_count": null,
   "metadata": {
    "ExecuteTime": {
     "end_time": "2017-10-23T15:35:55.538334Z",
     "start_time": "2017-10-23T13:35:54.784Z"
    },
    "collapsed": false,
    "deletable": true,
    "editable": true
   },
   "outputs": [],
   "source": [
    "X"
   ]
  },
  {
   "cell_type": "code",
   "execution_count": null,
   "metadata": {
    "ExecuteTime": {
     "end_time": "2017-10-23T15:35:55.538625Z",
     "start_time": "2017-10-23T13:35:54.789Z"
    },
    "collapsed": false,
    "deletable": true,
    "editable": true
   },
   "outputs": [],
   "source": [
    "cluster_compare(df_sort, 0, 1, dataset='fc')"
   ]
  },
  {
   "cell_type": "code",
   "execution_count": null,
   "metadata": {
    "ExecuteTime": {
     "end_time": "2017-10-23T15:35:55.538952Z",
     "start_time": "2017-10-23T13:35:54.795Z"
    },
    "collapsed": false,
    "deletable": true,
    "editable": true
   },
   "outputs": [],
   "source": [
    "cell_labels, label_cells, combine_df, cellID, labels, labels_a = combine_sub_clusters([size0_7, size1_11, size2_2, size3_14, size4_5, size5_2, size6_6 ], \n",
    "                    [df_fish_size_major0,df_fish_size_major1,df_fish_size_major2,df_fish_size_major3,df_fish_size_major4,df_fish_size_major5,df_fish_size_major6,])\n",
    "\n",
    "cluster_labels = ['L6', 'BQ_0', 'Claustrum+', 'L6-Lamp5+Kcnip+', 'Astro-Fimbria', 'L6-Lamp5low', 'OPC',\n",
    "                   'Astro1', 'VLMC', 'Pericytes', 'Astro2_1', 'Astro-ventricle', 'Ependymal-dorals-ventricle', 'Ependymal-ventral-Ventricle', 'Astro-Gfap+Mfge8+', 'Astro2_2','Edothelial', 'Choroid-plexus',\n",
    "                   'L4',  'L4-Lamp5+Kcnip+',\n",
    "                   'Int-Lamp5', 'Int-Cnr1', 'Int-Kcnip2-Pthlh', 'Int-Crh', 'Int-Crhbp-Deep', 'Int-Vip-Pthlh', 'BQ_2',  'Int-Lat-CaudoPutamen', 'Int-VIP-Cnr1-Pthlh-Crh', 'Int-Crhbp-Cpne5-bleached?', 'Int-Cpne5', 'Int-Crhbp-Pthlh', 'Int-Crhbp-Superficial', 'Int-Med-CaudoPutamen',\n",
    "                   'Olig-MF', 'Olig-Mature', 'Olig-Mature-BQ', 'Olig-NF', 'Olig-COP',\n",
    "                   'L23', 'L5',\n",
    "                   'BQ_4', 'L6_BQ', 'Hippocampus', 'Microglia', 'L5-Aldoc', 'Excitatory-Kcnip2',\n",
    "                    \n",
    "                 ]\n",
    "\n",
    "\n",
    "\n",
    "#Sort the clusters manually\n",
    "cluster_sort_labels = ['Int-Crhbp-Superficial','Int-Crhbp-Deep','Int-Crhbp-Pthlh', 'Int-Crhbp-Cpne5-bleached?', 'Int-Kcnip2-Pthlh','Int-Cnr1','Int-VIP-Cnr1-Pthlh-Crh',\n",
    "                        'Int-Vip-Pthlh', 'Int-Cpne5','Int-Crh','Int-Lat-CaudoPutamen', 'Int-Med-CaudoPutamen','Int-Lamp5',\n",
    "                      'L23', 'L4',  'L4-Lamp5+Kcnip+', 'L5', 'L5-Aldoc', 'L6','L6-Lamp5+Kcnip+', 'L6-Lamp5low', 'L6_BQ', 'Claustrum+', 'Hippocampus', 'Excitatory-Kcnip2',\n",
    "                        'Astro1', 'Astro2_1', 'Astro2_2', 'Astro-Gfap+Mfge8+', 'Astro-Fimbria', 'Astro-ventricle',\n",
    "                        'OPC', 'Olig-COP', 'Olig-NF', 'Olig-MF', 'Olig-Mature', 'Olig-Mature-BQ',\n",
    "                       'Microglia',  \n",
    "                       'Pericytes',\n",
    "                       'Ependymal-dorals-ventricle','Ependymal-ventral-Ventricle', \n",
    "                       'Edothelial',\n",
    "                       'Choroid-plexus',\n",
    "                       'VLMC',\n",
    "                         'BQ_0',  'BQ_2',  'BQ_4']\n",
    "\n",
    "#Get the cluster numbers in order\n",
    "cluster_sort = [cluster_labels.index(x) for x in cluster_sort_labels]\n",
    "\n",
    "#Make dictionary linking cluster number with the name\n",
    "cluster_labels = dict(zip(range(0, len(cluster_labels)), cluster_labels))"
   ]
  },
  {
   "cell_type": "code",
   "execution_count": null,
   "metadata": {
    "ExecuteTime": {
     "end_time": "2017-10-23T15:35:55.539257Z",
     "start_time": "2017-10-23T13:35:54.801Z"
    },
    "collapsed": true,
    "deletable": true,
    "editable": true
   },
   "outputs": [],
   "source": [
    "pickle.dump(label_cells, open( \"label_cells_47.p\", \"wb\" ))\n",
    "pickle.dump(cell_labels, open( \"cell_labels_47.p\", \"wb\" ))"
   ]
  },
  {
   "cell_type": "markdown",
   "metadata": {
    "deletable": true,
    "editable": true
   },
   "source": [
    "## Automatic itterative clustering"
   ]
  },
  {
   "cell_type": "code",
   "execution_count": null,
   "metadata": {
    "ExecuteTime": {
     "end_time": "2017-10-23T15:35:55.539564Z",
     "start_time": "2017-10-23T13:35:54.807Z"
    },
    "collapsed": false
   },
   "outputs": [],
   "source": [
    "def iterative_clustering(df):\n",
    "    #Make the label table\n",
    "    initial_labels = np.array(['L0_C0' for i in range(len(df_fish.columns))]).reshape((1,len(df_fish.columns)))\n",
    "    label_tree = pd.DataFrame(data=initial_labels, columns=df.columns)\n",
    "    \n",
    "    current_level = 0\n",
    "    offset = 0\n",
    "    \n",
    "    #Iterate through the current sub clusters\n",
    "    for superclust in np.unique(label_tree.loc[current_level]):\n",
    "        current_level += 1\n",
    "        print(superclust)\n",
    "        filt = label_tree.loc[current_level] == superclust\n",
    "        df_to_clust = df.loc[:,filt]\n",
    "        \n",
    "        #Split cells into two clusters\n",
    "        split = AgglomerativeClustering(n_clusters=2).fit(df_to_clust.T)\n",
    "        \n",
    "        #Update the label_tree with new temporary labels (Format: Level X _ Cluster Y --> LxCy)\n",
    "        for i, cell in enumerate(df_to_clust.columns):\n",
    "            cluster_id = 'L{}_C{}'.format((current_level), (split.labels_[i]+offset))\n",
    "            label_tree.loc[current_level, cell] = cluster_id\n",
    "        \n",
    "        \n",
    "        \n",
    "    \n",
    "\n",
    "    \n",
    "    return df_temp\n",
    "qqq = iterative_clustering(df_fish)"
   ]
  },
  {
   "cell_type": "code",
   "execution_count": null,
   "metadata": {
    "ExecuteTime": {
     "end_time": "2017-10-23T15:35:55.539855Z",
     "start_time": "2017-10-23T13:35:54.812Z"
    },
    "collapsed": false
   },
   "outputs": [],
   "source": [
    "qqq.shape"
   ]
  },
  {
   "cell_type": "code",
   "execution_count": null,
   "metadata": {
    "ExecuteTime": {
     "end_time": "2017-10-23T15:35:55.540142Z",
     "start_time": "2017-10-23T13:35:54.817Z"
    },
    "collapsed": false
   },
   "outputs": [],
   "source": [
    "np.unique(qqq.loc[0])"
   ]
  },
  {
   "cell_type": "code",
   "execution_count": null,
   "metadata": {
    "ExecuteTime": {
     "end_time": "2017-10-23T15:35:55.540430Z",
     "start_time": "2017-10-23T13:35:54.822Z"
    },
    "collapsed": false
   },
   "outputs": [],
   "source": [
    "df_test = pd.DataFrame(data=np.zeros((1,5)), columns=[0,1,2,3,4,])"
   ]
  },
  {
   "cell_type": "code",
   "execution_count": null,
   "metadata": {
    "ExecuteTime": {
     "end_time": "2017-10-23T15:35:55.540717Z",
     "start_time": "2017-10-23T13:35:54.827Z"
    },
    "collapsed": false
   },
   "outputs": [],
   "source": [
    "df_test"
   ]
  },
  {
   "cell_type": "code",
   "execution_count": null,
   "metadata": {
    "ExecuteTime": {
     "end_time": "2017-10-23T15:35:55.541002Z",
     "start_time": "2017-10-23T13:35:54.832Z"
    },
    "collapsed": true
   },
   "outputs": [],
   "source": [
    "df_test.loc[1,3] = 15"
   ]
  },
  {
   "cell_type": "code",
   "execution_count": null,
   "metadata": {
    "ExecuteTime": {
     "end_time": "2017-10-23T15:35:55.541447Z",
     "start_time": "2017-10-23T13:35:54.839Z"
    },
    "collapsed": false
   },
   "outputs": [],
   "source": [
    "[0,1,25,3,4][2]"
   ]
  },
  {
   "cell_type": "code",
   "execution_count": null,
   "metadata": {
    "collapsed": true
   },
   "outputs": [],
   "source": []
  },
  {
   "cell_type": "code",
   "execution_count": null,
   "metadata": {
    "collapsed": true
   },
   "outputs": [],
   "source": []
  },
  {
   "cell_type": "code",
   "execution_count": null,
   "metadata": {
    "ExecuteTime": {
     "end_time": "2017-10-23T15:35:55.542241Z",
     "start_time": "2017-10-23T13:35:54.849Z"
    },
    "collapsed": true,
    "deletable": true,
    "editable": true
   },
   "outputs": [],
   "source": [
    "df_fish_log_major3[df_fish_log_major3<6] = 0.0000001"
   ]
  },
  {
   "cell_type": "code",
   "execution_count": null,
   "metadata": {
    "ExecuteTime": {
     "end_time": "2017-10-23T15:35:55.542980Z",
     "start_time": "2017-10-23T13:35:54.855Z"
    },
    "collapsed": true,
    "deletable": true,
    "editable": true
   },
   "outputs": [],
   "source": [
    "ac_it_3_1 = AgglomerativeClustering(n_clusters=5).fit(df_fish_log_major3.T)"
   ]
  },
  {
   "cell_type": "code",
   "execution_count": null,
   "metadata": {
    "ExecuteTime": {
     "end_time": "2017-10-23T15:35:55.543665Z",
     "start_time": "2017-10-23T13:35:54.860Z"
    },
    "collapsed": false,
    "deletable": true,
    "editable": true
   },
   "outputs": [],
   "source": [
    "cell_labels, label_cells, cellID, labels, labels_a = gen_labels(df_fish_log_major3, ac_it_3_1)\n",
    "heat_map(df_fish_log_major3, labels_a)"
   ]
  },
  {
   "cell_type": "code",
   "execution_count": null,
   "metadata": {
    "ExecuteTime": {
     "end_time": "2017-10-23T15:35:55.544460Z",
     "start_time": "2017-10-23T13:35:54.864Z"
    },
    "collapsed": false,
    "deletable": true,
    "editable": true,
    "scrolled": false
   },
   "outputs": [],
   "source": [
    "plt.figure(figsize=(16,8))\n",
    "gs = plt.GridSpec(5,8)\n",
    "\n",
    "for i, gene in enumerate(gene_sort_fish):\n",
    "    plt.subplot(gs[i])\n",
    "    plt.hist(df_fish_size_sqrt.loc[gene].values, bins=25 )\n",
    "    plt.ylim([0,500])\n",
    "    plt.xlim([0,1])\n",
    "    plt.title(gene, fontsize=8)\n",
    "    \n",
    "plt.tight_layout()"
   ]
  },
  {
   "cell_type": "code",
   "execution_count": null,
   "metadata": {
    "ExecuteTime": {
     "end_time": "2017-10-23T15:35:55.545184Z",
     "start_time": "2017-10-23T13:35:54.869Z"
    },
    "collapsed": false,
    "deletable": true,
    "editable": true
   },
   "outputs": [],
   "source": [
    "plt.figure()\n",
    "gene= 26\n",
    "plt.hist(df_fish_log.loc[gene_sort_fish[gene]].values, bins=400 )\n",
    "plt.title(gene_sort_fish[gene])\n"
   ]
  },
  {
   "cell_type": "code",
   "execution_count": null,
   "metadata": {
    "ExecuteTime": {
     "end_time": "2017-10-23T15:35:55.545850Z",
     "start_time": "2017-10-23T13:35:54.874Z"
    },
    "collapsed": true,
    "deletable": true,
    "editable": true
   },
   "outputs": [],
   "source": [
    "#Cluster in 2\n",
    "#check binaryzation of markers in clusters\n",
    "#If binary:\n",
    "    #stop\n",
    "#If not:\n",
    "    #repeat"
   ]
  },
  {
   "cell_type": "code",
   "execution_count": null,
   "metadata": {
    "ExecuteTime": {
     "end_time": "2017-10-23T15:35:55.546539Z",
     "start_time": "2017-10-23T13:35:54.881Z"
    },
    "collapsed": false,
    "deletable": true,
    "editable": true
   },
   "outputs": [],
   "source": [
    "pickle.dump(df_fish_size_major4.columns, open('oligodendrocytes.p', \"wb\" ))"
   ]
  },
  {
   "cell_type": "code",
   "execution_count": null,
   "metadata": {
    "ExecuteTime": {
     "end_time": "2017-10-23T15:35:55.547321Z",
     "start_time": "2017-10-23T13:35:54.887Z"
    },
    "collapsed": true,
    "deletable": true,
    "editable": true
   },
   "outputs": [],
   "source": [
    "def cluster_binarity(df, labels, cluster_of_interest, cutoff_expression, cutoff_percentage):\n",
    "    \"\"\"\n",
    "    Calculates the percentage of cells, of a given cluster_of_interest in a df, \n",
    "    that have an expression above the cutoff_expression. It returns a pandas \n",
    "    Series with the percentages and it returns the names of the genes that have\n",
    "    a percentage higher than the cutoff_percentage.\n",
    "    Input:\n",
    "    `df`(pandas dataframe): df of the cells that were clusterd.\n",
    "    `labels`(numpy array): Cluster labels of the clustering, in same order as df.\n",
    "    `cluster_of_interest`(int): Cluster of interest from the labels.\n",
    "    `cutoff_expression`(float): used to make a binarization and is the same for\n",
    "        all genes. Data normalization is very important!\n",
    "    `cutoff_percentage`(float): Percentage of cells that need to be 'positive'\n",
    "        in the cluster. \n",
    "    Returns:\n",
    "    *Pandas series with the percentages for all genes\n",
    "    *List of names of genes with a percentage higher than the cutoff_percentage\n",
    "    \n",
    "    \"\"\"\n",
    "    filt = labels == cluster_of_interest\n",
    "    df = df.loc[:,filt]\n",
    "    \n",
    "    #Calculate percentage of cells that are above the cutoff\n",
    "    positive = (df[df>cutoff_expression].T.count() / df.shape[1]) * 100\n",
    "    positive_genes = [positive.index[i] for i,n in enumerate(positive) if n>cutoff_percentage]\n",
    "    return positive, positive_genes\n",
    "\n",
    "#qq = cluster_binarity(df_fish_log_major3, labels_a, 4, 3, 80)\n",
    "\n",
    "#for i in range(5):\n",
    "#    print(cluster_binarity(df_fish_log_major3, labels_a, i, 3, 80)[1])\n",
    "    \n",
    "#type(qq[0])"
   ]
  },
  {
   "cell_type": "code",
   "execution_count": null,
   "metadata": {
    "ExecuteTime": {
     "end_time": "2017-10-23T15:35:55.548148Z",
     "start_time": "2017-10-23T13:35:54.895Z"
    },
    "collapsed": true,
    "deletable": true,
    "editable": true
   },
   "outputs": [],
   "source": [
    "cl_0 =  AgglomerativeClustering(n_clusters=2).fit(df_fish_log_major3.T)\n",
    "cell_labels, label_cells, cellID, labels, labels_a = gen_labels(df_fish_log_major3, cl_0)\n",
    "heat_map(df_fish_log_major3, labels_a)\n",
    "print(cluster_binarity(df_fish_log_major3, labels_a, 0, 3, 80)[1])\n",
    "print(cluster_binarity(df_fish_log_major3, labels_a, 1, 3, 80)[1])\n",
    "\n",
    "df_0_0 = df_fish_log_major3.loc[:, gen_labels(df_fish_log_major3, cl_0)[1][0]]\n",
    "df_1_1 = df_fish_log_major3.loc[:, gen_labels(df_fish_log_major3, cl_0)[1][1]]"
   ]
  },
  {
   "cell_type": "code",
   "execution_count": null,
   "metadata": {
    "ExecuteTime": {
     "end_time": "2017-10-23T15:35:55.548836Z",
     "start_time": "2017-10-23T13:35:54.901Z"
    },
    "collapsed": false,
    "deletable": true,
    "editable": true
   },
   "outputs": [],
   "source": [
    "cl_0_0 =  AgglomerativeClustering(n_clusters=2).fit(df_0_0.T)\n",
    "cell_labels, label_cells, cellID, labels, labels_a = gen_labels(df_0_0, cl_0_0)\n",
    "heat_map(df_0_0, labels_a)\n",
    "print(cluster_binarity(df_0_0, labels_a, 0, 3, 80)[1])\n",
    "print(cluster_binarity(df_0_0, labels_a, 1, 3, 80)[1])\n",
    "\n",
    "df_0_0_0 = df_fish_log_major3.loc[:, gen_labels(df_0_0, cl_0_0)[1][0]]\n",
    "df_0_0_1 = df_fish_log_major3.loc[:, gen_labels(df_0_0, cl_0_0)[1][1]]"
   ]
  },
  {
   "cell_type": "code",
   "execution_count": null,
   "metadata": {
    "ExecuteTime": {
     "end_time": "2017-10-23T15:35:55.549479Z",
     "start_time": "2017-10-23T13:35:54.906Z"
    },
    "collapsed": false,
    "deletable": true,
    "editable": true
   },
   "outputs": [],
   "source": [
    "cl_0_0_0 =  AgglomerativeClustering(n_clusters=2).fit(df_0_0_0.T)\n",
    "cell_labels, label_cells, cellID, labels, labels_a = gen_labels(df_0_0_0, cl_0_0_0)\n",
    "heat_map(df_0_0_0, labels_a)\n",
    "print(cluster_binarity(df_0_0_0, labels_a, 0, 3, 80)[1])\n",
    "print(cluster_binarity(df_0_0_0, labels_a, 1, 3, 80)[1])\n",
    "\n",
    "df_0_0_0_0 = df_fish_log_major3.loc[:, gen_labels(df_0_0_0, cl_0_0_0)[1][0]]\n",
    "df_0_0_0_1 = df_fish_log_major3.loc[:, gen_labels(df_0_0_0, cl_0_0_0)[1][1]]"
   ]
  },
  {
   "cell_type": "code",
   "execution_count": null,
   "metadata": {
    "ExecuteTime": {
     "end_time": "2017-10-23T15:35:55.550165Z",
     "start_time": "2017-10-23T13:35:54.911Z"
    },
    "collapsed": false,
    "deletable": true,
    "editable": true
   },
   "outputs": [],
   "source": [
    "cl_0_0_0_0 =  AgglomerativeClustering(n_clusters=2).fit(df_0_0_0_0.T)\n",
    "cell_labels, label_cells, cellID, labels, labels_a = gen_labels(df_0_0_0_0, cl_0_0_0_0)\n",
    "heat_map(df_0_0_0_0, labels_a)\n",
    "print(cluster_binarity(df_0_0_0_0, labels_a, 0, 3, 80)[1])\n",
    "print(cluster_binarity(df_0_0_0_0, labels_a, 1, 3, 80)[1])\n",
    "\n",
    "df_0_0_0_0_0 = df_fish_log_major3.loc[:, gen_labels(df_0_0_0_0, cl_0_0_0_0)[1][0]]\n",
    "df_0_0_0_0_1 = df_fish_log_major3.loc[:, gen_labels(df_0_0_0_0, cl_0_0_0_0)[1][1]]"
   ]
  },
  {
   "cell_type": "code",
   "execution_count": null,
   "metadata": {
    "ExecuteTime": {
     "end_time": "2017-10-23T15:35:55.550828Z",
     "start_time": "2017-10-23T13:35:54.916Z"
    },
    "collapsed": false,
    "deletable": true,
    "editable": true
   },
   "outputs": [],
   "source": [
    "#Clustering of the bad cluster. \n",
    "cl_0_0_0_1 =  AgglomerativeClustering(n_clusters=2).fit(df_0_0_0_1.T)\n",
    "cell_labels, label_cells, cellID, labels, labels_a = gen_labels(df_0_0_0_1, cl_0_0_0_1)\n",
    "heat_map(df_0_0_0_1, labels_a)\n",
    "print(cluster_binarity(df_0_0_0_1, labels_a, 0, 3, 80)[1])\n",
    "print(cluster_binarity(df_0_0_0_1, labels_a, 1, 3, 80)[1])\n",
    "\n",
    "df_0_0_0_1_0 = df_fish_log_major3.loc[:, gen_labels(df_0_0_0_1, cl_0_0_0_1)[1][0]]\n",
    "df_0_0_0_1_1 = df_fish_log_major3.loc[:, gen_labels(df_0_0_0_1, cl_0_0_0_1)[1][1]]"
   ]
  },
  {
   "cell_type": "markdown",
   "metadata": {
    "deletable": true,
    "editable": true
   },
   "source": [
    "## Over clustering"
   ]
  },
  {
   "cell_type": "code",
   "execution_count": null,
   "metadata": {
    "ExecuteTime": {
     "end_time": "2017-10-23T15:35:55.551555Z",
     "start_time": "2017-10-23T13:35:54.923Z"
    },
    "collapsed": false,
    "deletable": true,
    "editable": true
   },
   "outputs": [],
   "source": [
    "n_clusters=50\n",
    "cl_over_clustering =  AgglomerativeClustering(n_clusters).fit(df_fish_log.T)\n",
    "cell_labels, label_cells, cellID, labels, labels_a = gen_labels(df_fish_log, cl_over_clustering)\n",
    "heat_map(df_fish_log, labels_a, sort=range(n_clusters))\n",
    "for i in range(n_clusters):\n",
    "    print(i,Counter(labels_a)[i], [i.split(\"_\")[1] for i in cluster_binarity(df_fish_log, labels_a, i, 2.5, 80)[1]])\n"
   ]
  },
  {
   "cell_type": "code",
   "execution_count": null,
   "metadata": {
    "collapsed": true,
    "deletable": true,
    "editable": true
   },
   "outputs": [],
   "source": []
  },
  {
   "cell_type": "code",
   "execution_count": null,
   "metadata": {
    "collapsed": true,
    "deletable": true,
    "editable": true
   },
   "outputs": [],
   "source": []
  },
  {
   "cell_type": "code",
   "execution_count": null,
   "metadata": {
    "collapsed": true,
    "deletable": true,
    "editable": true
   },
   "outputs": [],
   "source": []
  },
  {
   "cell_type": "markdown",
   "metadata": {
    "deletable": true,
    "editable": true,
    "heading_collapsed": true
   },
   "source": [
    "## Machine learning"
   ]
  },
  {
   "cell_type": "code",
   "execution_count": null,
   "metadata": {
    "ExecuteTime": {
     "end_time": "2017-10-23T15:35:55.552232Z",
     "start_time": "2017-10-23T13:35:54.935Z"
    },
    "collapsed": true,
    "deletable": true,
    "editable": true,
    "hidden": true
   },
   "outputs": [],
   "source": [
    "# import model\n",
    "from sklearn.linear_model import LogisticRegressionCV\n",
    "from sklearn.cross_validation import StratifiedShuffleSplit"
   ]
  },
  {
   "cell_type": "code",
   "execution_count": null,
   "metadata": {
    "ExecuteTime": {
     "end_time": "2017-10-23T15:35:55.552911Z",
     "start_time": "2017-10-23T13:35:54.940Z"
    },
    "collapsed": true,
    "deletable": true,
    "editable": true,
    "hidden": true
   },
   "outputs": [],
   "source": [
    "X_sc = df_sc_cort_olig.values.astype(np.float64).T\n",
    "    #Normalize\n",
    "X_sc_norm = X_sc.sum(0).mean() * (X_sc/X_sc.sum(0))\n",
    "    #Log transform\n",
    "X_sc_log = np.log2(X_sc_norm+1)"
   ]
  },
  {
   "cell_type": "code",
   "execution_count": null,
   "metadata": {
    "ExecuteTime": {
     "end_time": "2017-10-23T15:35:55.553535Z",
     "start_time": "2017-10-23T13:35:54.945Z"
    },
    "collapsed": true,
    "deletable": true,
    "editable": true,
    "hidden": true
   },
   "outputs": [],
   "source": [
    "mean_expression_sc =  df_sc_cort_olig.loc[gene_sort,:].T.mean()\n",
    "df_sc_fc = df_sc_cort_olig.divide(mean_expression_sc, axis='rows')\n",
    "X_sc_fc = df_sc_fc.values.astype(np.float64).T"
   ]
  },
  {
   "cell_type": "code",
   "execution_count": null,
   "metadata": {
    "ExecuteTime": {
     "end_time": "2017-10-23T15:35:55.554209Z",
     "start_time": "2017-10-23T13:35:54.950Z"
    },
    "collapsed": true,
    "deletable": true,
    "editable": true,
    "hidden": true
   },
   "outputs": [],
   "source": [
    "classesnames = pd.Series(sc_cell_label)[df_sc_cort_olig.columns].values\n",
    "classes, y = np.unique(classesnames, return_inverse=True)\n",
    "class_labels = dict(zip(range(len(classes)), classes))"
   ]
  },
  {
   "cell_type": "code",
   "execution_count": null,
   "metadata": {
    "ExecuteTime": {
     "end_time": "2017-10-23T15:35:55.554943Z",
     "start_time": "2017-10-23T13:35:54.955Z"
    },
    "collapsed": false,
    "deletable": true,
    "editable": true,
    "hidden": true
   },
   "outputs": [],
   "source": [
    "# instantiate\n",
    "#Optimze parameters (~20min 6cores)\n",
    "logreg = LogisticRegressionCV(cv=StratifiedShuffleSplit(y, test_size=.25, n_iter=30, random_state=24,),\n",
    "                             Cs=np.logspace(0.4, 0.8, 20,base=10), multi_class='multinomial',fit_intercept=False,\n",
    "                             refit=True, solver='newton-cg', n_jobs=6)\n",
    "logreg.fit(X_sc_fc, y)"
   ]
  },
  {
   "cell_type": "markdown",
   "metadata": {
    "deletable": true,
    "editable": true,
    "hidden": true
   },
   "source": [
    "On X_sc_log dataset:\n",
    "logreg.Cs = array([ 2.51188643,  2.6366509 ,  2.76761237,  2.90507865,  3.04937283,\n",
    "        3.20083405,  3.35981829,  3.52669921,  3.70186906,  3.88573952,\n",
    "        4.07874276,  4.2813324 ,  4.49398459,  4.71719914,  4.95150067,\n",
    "        5.19743987,  5.45559478,  5.72657215,  6.01100886,  6.30957344])"
   ]
  },
  {
   "cell_type": "code",
   "execution_count": null,
   "metadata": {
    "ExecuteTime": {
     "end_time": "2017-10-23T15:35:55.555572Z",
     "start_time": "2017-10-23T13:35:54.961Z"
    },
    "collapsed": false,
    "deletable": true,
    "editable": true,
    "hidden": true
   },
   "outputs": [],
   "source": [
    "logreg.Cs"
   ]
  },
  {
   "cell_type": "code",
   "execution_count": null,
   "metadata": {
    "ExecuteTime": {
     "end_time": "2017-10-23T15:35:55.556218Z",
     "start_time": "2017-10-23T13:35:54.966Z"
    },
    "collapsed": true,
    "deletable": true,
    "editable": true,
    "hidden": true
   },
   "outputs": [],
   "source": [
    "#Predict Identitiy \n",
    "y_pred = logreg.predict(X_fc.T)"
   ]
  },
  {
   "cell_type": "code",
   "execution_count": null,
   "metadata": {
    "ExecuteTime": {
     "end_time": "2017-10-23T15:35:55.556878Z",
     "start_time": "2017-10-23T13:35:54.971Z"
    },
    "collapsed": true,
    "deletable": true,
    "editable": true,
    "hidden": true
   },
   "outputs": [],
   "source": [
    "Counter(y_pred)"
   ]
  },
  {
   "cell_type": "code",
   "execution_count": null,
   "metadata": {
    "ExecuteTime": {
     "end_time": "2017-10-23T15:35:55.557543Z",
     "start_time": "2017-10-23T13:35:54.977Z"
    },
    "collapsed": true,
    "deletable": true,
    "editable": true,
    "hidden": true
   },
   "outputs": [],
   "source": [
    "cell_label_pred = dict(zip(df_fish.columns, y_pred))"
   ]
  },
  {
   "cell_type": "markdown",
   "metadata": {
    "deletable": true,
    "editable": true
   },
   "source": [
    "## Cluster visualization"
   ]
  },
  {
   "cell_type": "code",
   "execution_count": null,
   "metadata": {
    "ExecuteTime": {
     "end_time": "2017-10-23T15:35:55.558214Z",
     "start_time": "2017-10-23T13:35:54.984Z"
    },
    "collapsed": false,
    "deletable": true,
    "editable": true
   },
   "outputs": [],
   "source": [
    "tSNE_points"
   ]
  },
  {
   "cell_type": "code",
   "execution_count": null,
   "metadata": {
    "ExecuteTime": {
     "end_time": "2017-10-23T15:35:55.559105Z",
     "start_time": "2017-10-23T13:35:54.989Z"
    },
    "code_folding": [
     1,
     41,
     64,
     89,
     101,
     111
    ],
    "collapsed": false,
    "deletable": true,
    "editable": true,
    "scrolled": false
   },
   "outputs": [],
   "source": [
    "\n",
    "def gen_labels(df, model):\n",
    "    \"\"\"\n",
    "    Generate cell labels from model.\n",
    "    Input:\n",
    "    `df`: Panda's dataframe that has been used for the clustering. (used to get\n",
    "    the names of colums and rows)\n",
    "    `model`(obj): Clustering object\n",
    "    Returns (in this order):\n",
    "    `cell_labels` = Dictionary coupling cellID with cluster label\n",
    "    `label_cells` = Dictionary coupling cluster labels with cellID\n",
    "    `cellID` = List of cellID in same order as labels\n",
    "    `labels` = List of cluster labels in same order as cells\n",
    "    `labels_a` = Same as \"labels\" but in numpy array\n",
    "    \n",
    "    \"\"\"\n",
    "    if str(type(model)).startswith(\"<class 'sklearn.cluster\"):\n",
    "        cell_labels = dict(zip(df.columns, model.labels_))\n",
    "        label_cells = {}\n",
    "        for l in np.unique(model.labels_):\n",
    "            label_cells[l] = []\n",
    "        for i, label in enumerate(model.labels_):\n",
    "            label_cells[label].append(df.columns[i])\n",
    "        cellID = list(df.columns)\n",
    "        labels = list(model.labels_)\n",
    "        labels_a = model.labels_\n",
    "    elif type(model) == np.ndarray:\n",
    "        cell_labels = dict(zip(df.columns, model))\n",
    "        label_cells = {}\n",
    "        for l in np.unique(model):\n",
    "            label_cells[l] = []\n",
    "        for i, label in enumerate(model):\n",
    "            label_cells[label].append(df.columns[i])\n",
    "        cellID = list(df.columns)\n",
    "        labels = list(model)\n",
    "        labels_a = model\n",
    "    else:\n",
    "        print('Error wrong input type')\n",
    "    \n",
    "    return cell_labels, label_cells, cellID, labels, labels_a\n",
    "\n",
    "def sort_df(df, labels_a, row_sort=True, sorted_row_names=gene_sort_fish):\n",
    "    \"\"\"\n",
    "    Sort the dataframe columns based on the cluster labels (additional row sort is optional).\n",
    "    Input:\n",
    "    `df`: Panda's dataframe that has been used for the clustering. (or a df\n",
    "        that has the EXACT same order)\n",
    "    `cluster_model`: Results of the clustering\n",
    "    `row_sort`(bool): If True it will sort the rows of the dataframe, acording to the probided list\n",
    "    `sorted_row_names`(list): List of row names. Default = gene_sort_fish\n",
    "    \n",
    "    \"\"\"\n",
    "    #Sort the dataframe with the new clusters\n",
    "    #df_sort = pd.DataFrame(data=X, columns=df_fish.columns, index=df_fish.index)\n",
    "    df_sort = df\n",
    "    #labels_a = cluster_model.labels_ #Array of cell labels\n",
    "    new_column_order = df_sort.columns[labels_a.argsort()]\n",
    "    if row_sort == True:\n",
    "        df_sort = df_sort.loc[sorted_row_names,new_column_order]\n",
    "    else:\n",
    "        df_sort = df_sort.loc[:,new_column_order]\n",
    "    return df_sort\n",
    "    \n",
    "\n",
    "def sort_dataset_df(data, df, labels_a):# , cluster_model):\n",
    "    \"\"\"\n",
    "    Sort a dataset based on the cluster labels. The data can be a normalized \n",
    "    np array. \n",
    "    Input:\n",
    "    `data`(np array): Any normalized array, in the EXACT same order as the df on\n",
    "        which the clustering algoritm ran.\n",
    "    `df`: Panda's dataframe that has been used for the clustering. (used to get\n",
    "        the names of colums and rows)\n",
    "    Uses df_fish as basis.\n",
    "    #`cluster_model`: Results of the clustering\n",
    "    \n",
    "    \"\"\"    \n",
    "    #Filter the datasetet to use the cells in the df\n",
    "    data_filt = np.zeros((len(df.index), len(df.columns)))\n",
    "    for i, n in enumerate(df.columns):\n",
    "        #Assumes that data and df_fish are in the same format\n",
    "        data_filt[:,i] = data[:,df_fish.columns.get_loc(n)]\n",
    "    \n",
    "    df_sort = pd.DataFrame(data=data_filt, columns=df.columns, index=df.index)\n",
    "    new_column_order = df_sort.columns[labels_a.argsort()]\n",
    "    \n",
    "    df_sort = df_sort.loc[gene_sort_fish,new_column_order]\n",
    "    return df_sort\n",
    "\n",
    "def plot_labels(df, labels_a, standalone=True):\n",
    "    if standalone == True:\n",
    "        plt.figure(figsize=(10,10))\n",
    "    points = np.zeros((len(df.columns),2))\n",
    "    for i, n in enumerate(df.columns):\n",
    "        points[i,:] = tSNE_points[df_fish.columns.get_loc(n),:]\n",
    "    print(len(points))\n",
    "    #plt.scatter(points[:,0], points[:,1],c=plt.cm.jet(labels_a/max(labels_a)), lw=0, alpha=1, s=15)\n",
    "        #Color labels: See below, part 10\n",
    "    plt.scatter(points[:,0], points[:,1],c=label_colors_hex, lw=0, alpha=1, s=15)\n",
    "\n",
    "\n",
    "def plot_cells_pos_labels(labels_a):\n",
    "    \n",
    "    coord_df_sort = sort_df(coord_df.loc[:,cellID], labels_a, row_sort=False)\n",
    "    color_labels_sort =plt.cm.jet(np.sort(labels_a)/max(np.sort(labels_a)))    \n",
    "    #plot_cell_pos(coord_df_sort, cell_ids=None, color=color_labels_sort, s=10, standalone=False, mode='tsne')\n",
    "        #Color labels: See below, part 10\n",
    "    plot_cell_pos(coord_df_sort, cell_ids=None, color=label_colors_hex, s=10, standalone=False, mode='tsne')\n",
    "    \n",
    "    \n",
    "\n",
    "def tSNE_and_pos(df, labels_a, save=False):\n",
    "    \"\"\"\n",
    "    Plot the tSNE and cell positions with the cluster colors\n",
    "    \n",
    "    \"\"\"\n",
    "    fig, axes = plt.subplots(nrows=1, ncols=2, figsize=(14,7))\n",
    "    plt.sca(axes[0])\n",
    "    plot_labels(df, labels_a, standalone=False)\n",
    "    plt.title('tSNE')\n",
    "    plt.axis('off')\n",
    "    plt.sca(axes[1])\n",
    "    plot_cells_pos_labels(labels_a)\n",
    "    plt.title('cell positon')\n",
    "    plt.axis('off')\n",
    "    if save == True:\n",
    "        plt.savefig('Cluster_tSNE_and_Position.png', dpi=600)\n",
    "\n",
    "    #ONE STEP CLUSTERING\n",
    "    \n",
    "    \n",
    "    \n",
    "    \n",
    "    \n",
    "#model = ac_size\n",
    "#df_used = df_fish_size_sqrt\n",
    "#cell_labels, label_cells, cellID, labels, labels_a = gen_labels(df_used, model)\n",
    "\n",
    "    #TWO STEP CLUSTERING\n",
    "#cell_labels, label_cells, df_used, cellID, labels, labels_a = combine_sub_clusters([ac_major0_5, ac_major1_1, ac_major2_10, ac_major3_5, ac_major4_12, ac_major5_2], \n",
    "#                     [df_fish_log_major0, df_fish_log_major1, df_fish_log_major2, df_fish_log_major3, df_fish_log_major4, df_fish_log_major5])\n",
    "\n",
    "    #TWO STEP CLUSTERING 47 types\n",
    "cell_labels, label_cells, df_used, cellID, labels, labels_a = combine_sub_clusters([size0_7, size1_11, size2_2, size3_14, size4_5, size5_2, size6_6 ], \n",
    "                    [df_fish_size_major0,df_fish_size_major1,df_fish_size_major2,df_fish_size_major3,df_fish_size_major4,df_fish_size_major5,df_fish_size_major6,])\n",
    "\n",
    "\n",
    "df_sort = sort_df(df_used.loc[:,], labels_a)\n",
    "#df_sort_count = sort_dataset_df(X, df_used, labels_a)\n",
    "df_sort_norm = sort_dataset_df(X_norm, df_used, labels_a)\n",
    "df_sort_log = sort_dataset_df(X_log, df_used, labels_a)\n",
    "df_sort_fc = sort_dataset_df(X_fc, df_used, labels_a)\n",
    "df_sort_count = sort_dataset_df(X, df_used, labels_a)\n",
    "print('Generated labels, df_sort, df_sort_log, df_sort_fc')\n",
    "    #Make sure you have the right color settings\n",
    "tSNE_and_pos(df_used, labels_a, save=True)\n"
   ]
  },
  {
   "cell_type": "code",
   "execution_count": null,
   "metadata": {
    "ExecuteTime": {
     "end_time": "2017-10-23T15:35:55.559718Z",
     "start_time": "2017-10-23T13:35:54.996Z"
    },
    "collapsed": false,
    "deletable": true,
    "editable": true,
    "scrolled": false
   },
   "outputs": [],
   "source": [
    "plt.figure(figsize=(9,9))\n",
    "coord_df_sort = sort_df(coord_df.loc[:,cellID], labels_a, row_sort=False)\n",
    "plot_cell_pos(coord_df_sort, cell_ids=None, color=label_colors_hex, s=15, standalone=False, mode='tsne')\n",
    "plt.gca().set_axis_off()\n",
    "#plt.savefig('cell_type_position_47.png', dpi=300)"
   ]
  },
  {
   "cell_type": "code",
   "execution_count": null,
   "metadata": {
    "ExecuteTime": {
     "end_time": "2017-10-23T15:35:55.560441Z",
     "start_time": "2017-10-23T13:35:55.003Z"
    },
    "code_folding": [],
    "collapsed": false,
    "deletable": true,
    "editable": true,
    "scrolled": false
   },
   "outputs": [],
   "source": [
    "def plot_cluster_size(labels): \n",
    "    plt.figure()\n",
    "    count = np.array(Counter(labels).most_common())\n",
    "    left = np.arange(count.shape[0])\n",
    "    plt.bar(left, count[:,1])\n",
    "    plt.xticks(left, count[:,0], rotation=90)\n",
    "    plt.xlim(-0.5,len(np.unique(labels)))\n",
    "    plt.title('Sorted Cluster Size')\n",
    "    plt.xlabel('Cluster')\n",
    "    plt.ylabel('Number of cells')\n",
    "\n",
    "plot_cluster_size(labels)"
   ]
  },
  {
   "cell_type": "code",
   "execution_count": null,
   "metadata": {
    "ExecuteTime": {
     "end_time": "2017-10-23T15:35:55.561085Z",
     "start_time": "2017-10-23T13:35:55.009Z"
    },
    "code_folding": [
     0
    ],
    "collapsed": true,
    "deletable": true,
    "editable": true
   },
   "outputs": [],
   "source": [
    "#Backup version heat map\n",
    "data = df_sort #_log\n",
    "save = False\n",
    "\n",
    "\n",
    "fig, axHM = plt.subplots(figsize=(22,10))\n",
    "z = data.values\n",
    "z = z/np.percentile(z, 99, 1)[:,None]\n",
    "axHM.pcolor(z,cmap='viridis', vmax=1)\n",
    "\n",
    "plt.yticks(np.arange(0.5, len(data.index), 1), data.index)\n",
    "plt.gca().invert_yaxis()\n",
    "plt.xlim(xmax=len(data.columns))\n",
    "\n",
    "divider = make_axes_locatable(axHM)\n",
    "axLabel = divider.append_axes(\"top\", .5, pad=0, sharex=axHM)\n",
    "\n",
    "labels_sort = np.sort(labels_a)\n",
    "axLabel.pcolor(labels_sort[None,:]/labels_sort.max(), cmap='jet')\n",
    "axLabel.set_xlim(xmax=len(data.columns))\n",
    "axLabel.axis('off')\n",
    "\n",
    "if save == True:\n",
    "    plt.savefig('/home/lars/storage/Documents/Cortex_FISH/Heatmap_{}clusters_counts.png'.format(len(np.unique(labels_a))), dpi=600)"
   ]
  },
  {
   "cell_type": "code",
   "execution_count": null,
   "metadata": {
    "ExecuteTime": {
     "end_time": "2017-10-23T15:35:55.561767Z",
     "start_time": "2017-10-23T13:35:55.015Z"
    },
    "code_folding": [],
    "collapsed": true,
    "deletable": true,
    "editable": true
   },
   "outputs": [],
   "source": [
    "def mean_expression(df, labels):\n",
    "    \"\"\"\n",
    "    Make dataframe with mean expression\n",
    "    \n",
    "    \"\"\"\n",
    "    #Make df with count averages per cluster\n",
    "    df_count_average = pd.DataFrame(index=df.index, columns=np.sort(np.unique(labels))) #np.unique(labels_a))\n",
    "    for l in np.unique(labels):\n",
    "        filt = np.sort(labels) == l\n",
    "        mean = np.array(df.loc[:,filt].T.mean())\n",
    "        #std = np.array(np.std(df_sort.loc[:,filt], axis=1))\n",
    "        if np.isnan(np.sum(mean)) == False: #In case some clusters do not have cells\n",
    "            df_count_average[l] = mean\n",
    "    return df_count_average\n",
    "\n",
    "#df_count_average = mean_expression(df_sort)"
   ]
  },
  {
   "cell_type": "code",
   "execution_count": null,
   "metadata": {
    "ExecuteTime": {
     "end_time": "2017-10-23T15:35:55.562344Z",
     "start_time": "2017-10-23T13:35:55.021Z"
    },
    "collapsed": false,
    "deletable": true,
    "editable": true
   },
   "outputs": [],
   "source": [
    "np.unique(sc_cort_olig_label_int)"
   ]
  },
  {
   "cell_type": "markdown",
   "metadata": {
    "deletable": true,
    "editable": true
   },
   "source": [
    "# Heat map cells"
   ]
  },
  {
   "cell_type": "code",
   "execution_count": null,
   "metadata": {
    "ExecuteTime": {
     "end_time": "2017-10-23T15:35:55.562990Z",
     "start_time": "2017-10-23T13:35:55.026Z"
    },
    "collapsed": true,
    "deletable": true,
    "editable": true
   },
   "outputs": [],
   "source": [
    "import matplotlib"
   ]
  },
  {
   "cell_type": "code",
   "execution_count": null,
   "metadata": {
    "collapsed": true,
    "deletable": true,
    "editable": true
   },
   "outputs": [],
   "source": []
  },
  {
   "cell_type": "code",
   "execution_count": null,
   "metadata": {
    "ExecuteTime": {
     "end_time": "2017-10-23T15:35:55.563803Z",
     "start_time": "2017-10-23T13:35:55.033Z"
    },
    "code_folding": [
     3
    ],
    "collapsed": false,
    "deletable": true,
    "editable": true,
    "scrolled": false
   },
   "outputs": [],
   "source": [
    "#Choose the count or log-corrected dataset\n",
    "\n",
    "\n",
    "def heat_map(df, labels, sort=None, save=False):\n",
    "    \"\"\"\n",
    "    Plot heat_map of a sorted dataframe\n",
    "    \n",
    "    \"\"\"\n",
    "    #Find the name of the input df, for logging\n",
    "    df_input_name =[x for x in globals() if globals()[x] is df][0]\n",
    "    print('DF used for plot: {}'.format(df_input_name))\n",
    "    \n",
    "    if sort == None:\n",
    "        #Make df with count averages per cluster\n",
    "        df_count_average = mean_expression(df, labels)\n",
    "        #Make optimal sort on average expression of each cluster\n",
    "        #Transpose, otherwise you are doing it on genes instead of clusters\n",
    "        D = pdist(df_count_average.T, 'cityblock') #Working well: 'correlation', 'cityblock', 'seuclidean', 'canberra', 'cosine'\n",
    "        Z = linkage(D, 'ward')\n",
    "        optimal_Z = optimal_leaf_ordering(Z, D)\n",
    "        optimal_o = polo.polo.leaves_list(optimal_Z) \n",
    "        #In case some clusters are missing\n",
    "        optimal_order = []\n",
    "        for i in optimal_o:\n",
    "            optimal_order.append(df_count_average.columns[i])\n",
    "    else:\n",
    "        optimal_order = sort\n",
    "    print('Order of clusters: {}'.format(optimal_order))\n",
    "    \n",
    "    #Sort the cells according to the optimal cluster order\n",
    "    optimal_sort_cells = []\n",
    "    for i in optimal_order:\n",
    "        optimal_sort_cells.extend(label_cells[i])\n",
    "    \n",
    "    \n",
    "    #Create a list of optimal sorted cell labels\n",
    "    optimal_sort_labels = []\n",
    "    for i in optimal_sort_cells:\n",
    "        optimal_sort_labels.append(cell_labels[i])\n",
    "    \n",
    "    fig, axHM = plt.subplots(figsize=(14,6))\n",
    "    #z = df.loc[:,optimal_sort_cells].values\n",
    "    #z = z/np.percentile(z, 99.5, 1)[:,None]\n",
    "    \n",
    "    df_full = df # _fish_log\n",
    "    z = df_full.values\n",
    "    z = z/np.percentile(z, 99, 1)[:,None]\n",
    "    z = pd.DataFrame(z, index=df_full.index, columns=df_full.columns)\n",
    "    z = z.loc[:,optimal_sort_cells].values\n",
    "    print(z.shape)\n",
    "    \n",
    "    im = axHM.pcolor(z, cmap='viridis', vmax=1)\n",
    "\n",
    "    plt.yticks(np.arange(0.5, len(df.index), 1), gene_sort, fontsize=8)\n",
    "    plt.gca().invert_yaxis()\n",
    "    plt.xlim(xmax=len(labels))\n",
    "    print(len(labels))\n",
    "    plt.title(df_input_name)\n",
    "\n",
    "    divider = make_axes_locatable(axHM)\n",
    "    axLabel = divider.append_axes(\"top\", .3, pad=0, sharex=axHM)\n",
    "\n",
    "    optimal_sort_labels = np.array(optimal_sort_labels)\n",
    "    axLabel.pcolor(optimal_sort_labels[None,:]/max(optimal_sort_labels), cmap='prism')\n",
    "        #Colors, see below:\n",
    "    #axLabel.pcolor(label_colors_rgb) #label_colors_hex\n",
    "    \n",
    "    \n",
    "    \n",
    "    axLabel.set_xlim(xmax=len(labels))\n",
    "    axLabel.axis('off')\n",
    "    \n",
    "    cax = fig.add_axes([.91, 0.13, 0.01, 0.22])\n",
    "    colorbar = fig.colorbar(im, cax=cax, ticks=[0,1])\n",
    "    colorbar.set_ticklabels(['0', 'max'])\n",
    "\n",
    "    if save == True:\n",
    "        plt.savefig('/home/lars/storage/Documents/Cortex_FISH/Heatmap_{}clusters_{}.png'.format(len(np.unique(labels_a)), df_input_name), dpi=300)\n",
    "\n",
    "order = [14, 6, 10, 7, 8, 11, 12, 9, 13, 15, \n",
    "33, 34,   5, 2, 1, 4,\n",
    "31, 22,  28,  23,\n",
    "30, 18, 20, 17, 16, 19,\n",
    " 24, 29,26, 25, 27, 21, 32,\n",
    "                     0,3,]\n",
    "\n",
    "\n",
    "heat_map(df_sort, labels_a, sort=cluster_sort, save=True) \n"
   ]
  },
  {
   "cell_type": "code",
   "execution_count": null,
   "metadata": {
    "ExecuteTime": {
     "end_time": "2017-10-23T15:35:55.564402Z",
     "start_time": "2017-10-23T13:35:55.038Z"
    },
    "code_folding": [
     0
    ],
    "collapsed": true,
    "deletable": true,
    "editable": true
   },
   "outputs": [],
   "source": [
    "#Semi binarization backup\n",
    "#Make df with count averages per cluster\n",
    "    df_count_average = pd.DataFrame(index=df.index, columns=np.unique(labels_a))\n",
    "    \n",
    "    #Semi binarize count average (all below mean is set to 0)\n",
    "    df_count_average_bin = df_count_average\n",
    "    \n",
    "    for index in df_count_average_bin.index: \n",
    "        binarized_mean = []\n",
    "        for c in df_count_average_bin.loc[index]:\n",
    "            if c < df_count_average_bin.loc[index].mean():\n",
    "                c = 0\n",
    "            binarized_mean.append(c)\n",
    "        df_count_average_bin.loc[index] = binarized_mean"
   ]
  },
  {
   "cell_type": "code",
   "execution_count": null,
   "metadata": {
    "ExecuteTime": {
     "end_time": "2017-10-23T15:35:55.565316Z",
     "start_time": "2017-10-23T13:35:55.045Z"
    },
    "code_folding": [
     1
    ],
    "collapsed": false,
    "deletable": true,
    "editable": true,
    "scrolled": false
   },
   "outputs": [],
   "source": [
    "#Heat map clusters\n",
    "def cluster_expression(df, cluster_of_interest, dataset='Count', sort=None):\n",
    "    \"\"\"\n",
    "    Plot tSNE colored based on clusters and plot average gene experssion plot.\n",
    "    \n",
    "    \"\"\"\n",
    "    df_part=df\n",
    "    \n",
    "    #Make df with count averages per cluster\n",
    "    df_count_average = pd.DataFrame(index=df.index, columns=np.unique(labels_a))\n",
    "    \n",
    "    for index in df_count_average.index: \n",
    "        mean_exp = []\n",
    "        for c in df_count_average.loc[index]:\n",
    "            if c < df_count_average.loc[index].mean():\n",
    "                c = 0\n",
    "            mean_exp.append(c)\n",
    "        df_count_average.loc[index] = mean_exp\n",
    "\n",
    "\n",
    "    for l in range(len(np.unique(labels_a))):\n",
    "        filt = np.sort(labels) == l\n",
    "        mean = np.array(df.loc[:,filt].T.mean())\n",
    "        #std = np.array(np.std(df_sort.loc[:,filt], axis=1))\n",
    "        df_count_average[l] = mean\n",
    "        \n",
    "    #Make df with count averages per cluster\n",
    "    df_count_average = mean_expression(df, labels_a)\n",
    "    \n",
    "    if sort == None:\n",
    "        #Transpose, otherwise you are doing it on genes instead of clusters\n",
    "        D = pdist(df_count_average.T, 'cityblock') #Working well: 'correlation', 'cityblock', 'seuclidean', 'canberra', 'cosine'\n",
    "        Z = linkage(D, 'ward')\n",
    "        optimal_Z = optimal_leaf_ordering(Z, D)\n",
    "        optimal_o = polo.polo.leaves_list(optimal_Z)    \n",
    "        #In case some clusters are missing\n",
    "        optimal_order = []\n",
    "        for i in optimal_o:\n",
    "            optimal_order.append(df_count_average.columns[i])\n",
    "    else:\n",
    "        optimal_order = sort\n",
    "        \n",
    "    #Plot averages heat map all clusters\n",
    "    plt.figure(figsize=(14,8))\n",
    "    \n",
    "    if sort == None:\n",
    "        ax0 = plt.subplot2grid((4,7), (0,0), rowspan=1, colspan=3)\n",
    "        hierarchy.dendrogram(optimal_Z, truncate_mode='lastp', p=40, show_contracted=True, orientation='top')\n",
    "    \n",
    "    ax1 = plt.subplot2grid((4,7), (1,0), rowspan=3, colspan=3)\n",
    "    #Sort according to the optimal order\n",
    "    z = df_count_average.loc[:,optimal_order].values\n",
    "    z = z/np.percentile(z, 99.5, 1)[:,None]\n",
    "    ax1.pcolor(z)\n",
    "    y_pos = np.arange(len(mean))\n",
    "    x_pos = np.arange(len(df_count_average.columns))\n",
    "    ax1.set_xlim(0, len(df_count_average.columns))\n",
    "    ax1.set_xticks(x_pos+0.0)\n",
    "    ax1.set_xticklabels(optimal_order, rotation=-90, fontsize=8)\n",
    "    ax1.set_yticks(y_pos+0.4)\n",
    "    ax1.set_yticklabels(df.index, fontsize=8)\n",
    "    ax1.invert_yaxis()\n",
    "    \n",
    "    divider = make_axes_locatable(ax1)\n",
    "    axLabel = divider.append_axes(\"top\", .5, pad=0, sharex=ax1)\n",
    "    optimal_order = np.array(optimal_order)\n",
    "    axLabel.pcolor(optimal_order[None,:]/max(optimal_order), cmap='jet')\n",
    "    axLabel.axis('off')\n",
    "\n",
    "    #Cluster expression\n",
    "    ax2 = plt.subplot2grid((4,7), (0,3), rowspan=3, colspan=3)\n",
    "    gene_colors = ['red', 'red', 'red', 'red', 'red', 'red', 'red', 'red', 'red','blue', 'blue', 'blue', 'blue','orange', 'orange', 'orange', 'orange',\n",
    "    'green', 'green', 'green', 'green', 'green', 'green', 'green', 'green', 'green',\n",
    "    'lightblue', 'lightblue', 'darkblue', 'darkred','darkred','red','lightgreen','red','lightblue']\n",
    "    if dataset.lower() == 'log':\n",
    "        df = df_sort_log.loc[:,df.columns]\n",
    "        print('Swiched to using the Log normalized dataset for the expression plot: df_sort_log')\n",
    "        y_label= '(Log-normalized)'\n",
    "    elif dataset.lower() == 'fc':\n",
    "        df = df_sort_fc.loc[:,df.columns]\n",
    "        print('Swiched to using the Fold Change dataset for the expression plot: df_sort_log')\n",
    "        y_label= 'Fold Change'\n",
    "    elif dataset.lower() == 'count':\n",
    "        df = df_sort_count.loc[:,df.columns]\n",
    "        print('Swiched to using the Count dataset for the expression plot: df_sort_count')\n",
    "        y_label= 'Count'\n",
    "    else:\n",
    "        y_label=''\n",
    "        \n",
    "    filt = np.sort(labels) == cluster_of_interest\n",
    "    ax2.bar(y_pos, np.array(df.loc[:,filt].T.mean()), color=gene_colors, alpha=0.5, yerr=np.array(np.std(df.loc[:,filt], axis=1)),error_kw=dict(ecolor='gray'))\n",
    "    if dataset.lower() == 'fc':\n",
    "        ax2.axhline(1, color='gray')\n",
    "    top = ax2.get_ylim()[1]\n",
    "    ax2.set_ylim(0,top)\n",
    "    left_pos = np.arange(df.shape[0])\n",
    "    ax2.set_xticks(left_pos+0.0)\n",
    "    ax2.set_xticklabels(gene_sort, rotation='vertical', fontsize=8)\n",
    "    ax2.set_ylabel('Count {}'.format(y_label))\n",
    "    ax2.set_title('Cluster: {} Number of cells: {}/{}'.format(cluster_of_interest, np.count_nonzero(filt==True), len(filt)))\n",
    "    \n",
    "    \n",
    "    #Cluster location\n",
    "    ax3 = plt.subplot2grid((4,7), (0,6), rowspan=2, colspan=1)\n",
    "    filt = np.sort(labels) == cluster_of_interest\n",
    "    plt.sca(ax3)\n",
    "    plot_cell_pos(coord_df, cell_ids=list(df_sort.columns[filt]), cell_of_interest=None, s=.5, standalone=False)\n",
    "    for tl in ax3.get_xticklabels() + ax3.get_yticklabels():\n",
    "                tl.set_visible(False)\n",
    "    ax3.set_title('Cluster Location')\n",
    "\n",
    "    #Cluster area\n",
    "    ax4 = plt.subplot2grid((4,7), (3,3), rowspan=1, colspan=1)\n",
    "    ax4.hist((np.sqrt(ds.CellArea)*0.065)**2, bins=100, range=[8,254], color='grey',  lw=0)\n",
    "    cluster_cell_size = [cell_size[i] for i in label_cells[cluster_of_interest]]\n",
    "    ax4.hist((np.sqrt(cluster_cell_size)*0.065)**2, bins=100, range=[8,254], color='red', lw=0)\n",
    "    #ax4.hist((np.sqrt(ds.CellArea[np.where(filt)])*0.065)**2, bins=100, range=[8,254], color='red', lw=0) #ds is not sorted so it does not work\n",
    "    plt.xticks(rotation=-45)\n",
    "    ax4.set_title('Cell Size', fontsize=12)\n",
    "    #ax4.set_xlabel('Square um')\n",
    "    ax4.set_ylim([0,50])\n",
    "\n",
    "    #Molecule count\n",
    "    ax5 = plt.subplot2grid((4,7), (3,4), rowspan=1, colspan=1)\n",
    "    ax5.hist(df_fish.sum(axis=0), bins=100, range=[20,600], color='grey', lw=0)\n",
    "    ax5.hist(df_sort_count.loc[:,filt].sum(axis=0), bins=100, range=[20,600], color='red', lw=0)\n",
    "    plt.xticks(rotation=-45)\n",
    "    ax5.set_title('Total molecule count', fontsize=12)\n",
    "    ax5.set_ylim([0,100])\n",
    "    \n",
    "    #tSNE\n",
    "    ax6 = plt.subplot2grid((4,7), (3,5), rowspan=1, colspan=1)\n",
    "    ax6.scatter(tSNE_points[:,0], tSNE_points[:,1], lw=0, s=2, alpha = 0.5, c = 'grey')\n",
    "    points = np.zeros((len(df.columns),2))\n",
    "    for i, n in enumerate(df.columns):\n",
    "        points[i,:] = tSNE_points[df_fish.columns.get_loc(n),:]\n",
    "    print(points.shape)\n",
    "    ax6.scatter(points[np.sort(labels_a) == cluster_of_interest][:,0], points[np.sort(labels_a) == cluster_of_interest][:,1], lw=0, s=3, alpha = 0.5, c = 'r') #input is df_sort so labels should be sorted as well\n",
    "    print(len([labels_a == cluster_of_interest]) )\n",
    "    ax6.set_aspect('equal')\n",
    "    ax6.set_xlim(-12,12)\n",
    "    ax6.set_ylim(-12,12)\n",
    "    ax6.set_xticks([])\n",
    "    ax6.set_yticks([])\n",
    "    ax6.set_title('tSNE position', fontsize=12)\n",
    "    \n",
    "    #plt.subplots_adjust(wspace=0)\n",
    "    plt.tight_layout()\n",
    "\n",
    " #Added the selection of a subset of columns of the count and fc datsets on line 76 and 80   \n",
    "    \n",
    "cluster_expression(df_sort, 7, 'fc', sort=None)#cluster_sort)"
   ]
  },
  {
   "cell_type": "code",
   "execution_count": null,
   "metadata": {
    "ExecuteTime": {
     "end_time": "2017-10-23T15:35:55.565799Z",
     "start_time": "2017-10-23T13:35:55.050Z"
    },
    "collapsed": false,
    "deletable": true,
    "editable": true
   },
   "outputs": [],
   "source": [
    "cluster_labels"
   ]
  },
  {
   "cell_type": "code",
   "execution_count": null,
   "metadata": {
    "ExecuteTime": {
     "end_time": "2017-10-23T15:35:55.566425Z",
     "start_time": "2017-10-23T13:35:55.055Z"
    },
    "collapsed": false,
    "deletable": true,
    "editable": true,
    "scrolled": true
   },
   "outputs": [],
   "source": [
    "for  i in cluster_sort:\n",
    "    cluster_expression(df_sort, i, 'fc', sort=None)\n",
    "    plt.savefig('Clusters/Cluster{}_{}.png'.format(i, cluster_labels[i]))"
   ]
  },
  {
   "cell_type": "code",
   "execution_count": null,
   "metadata": {
    "ExecuteTime": {
     "end_time": "2017-10-23T15:35:55.567143Z",
     "start_time": "2017-10-23T13:35:55.060Z"
    },
    "collapsed": false,
    "deletable": true,
    "editable": true,
    "scrolled": false
   },
   "outputs": [],
   "source": [
    "cluster_of_interest = 43\n",
    "\n",
    "plt.figure(figsize=(8,4))\n",
    "ax0 = plt.subplot2grid((1,5), (0,0), rowspan=1, colspan=3)\n",
    "\n",
    "gene_colors = ['red', 'red', 'red', 'red', 'red', 'red', 'red', 'red', 'red','blue', 'blue', 'blue', 'blue','orange', 'orange', 'orange', 'orange',\n",
    "'green', 'green', 'green', 'green', 'green', 'green', 'green', 'green', 'green',\n",
    "'lightblue', 'lightblue', 'darkblue', 'darkred','darkred','red','lightgreen','red','lightblue']\n",
    "filt = np.sort(labels) == cluster_of_interest\n",
    "ax0.bar(y_pos, np.array(df_sort_fc.loc[:,filt].T.mean()), color=gene_colors, alpha=0.5, yerr=np.array(np.std(df_sort_fc.loc[:,filt], axis=1)),error_kw=dict(ecolor='gray'))\n",
    "#if dataset.lower() == 'fc':\n",
    "ax0.axhline(1, color='gray')\n",
    "top = ax0.get_ylim()[1]\n",
    "ax0.set_ylim(0,top)\n",
    "left_pos = np.arange(df_sort.shape[0])\n",
    "ax0.set_xticks(left_pos+0.0)\n",
    "ax0.set_xticklabels(gene_sort, rotation='vertical', fontsize=8)\n",
    "ax0.set_ylabel('Fold change')\n",
    "ax0.set_title('Cluster: {} Number of cells: {}/{}'.format(cluster_of_interest, np.count_nonzero(filt==True), len(filt)))\n",
    "\n",
    "\n",
    "ax1 = plt.subplot2grid((1,5), (0,3), rowspan=1, colspan=2)\n",
    "plt.sca(ax1)\n",
    "plot_cell_pos(coord_df, cell_ids=list(df_sort.columns[filt]), cell_of_interest=None, s=2, standalone=False)\n",
    "\n",
    "ax1.set_title('Cluster {} Location'.format(cluster_of_interest))\n",
    "plt.gca().set_axis_off()\n",
    "plt.tight_layout()\n",
    "plt.savefig('Cluster_{}_expression_location.png'.format(cluster_of_interest), dpi=500)"
   ]
  },
  {
   "cell_type": "code",
   "execution_count": 10,
   "metadata": {
    "ExecuteTime": {
     "end_time": "2017-10-23T15:35:55.981307Z",
     "start_time": "2017-10-23T15:35:55.646723Z"
    },
    "code_folding": [
     1
    ],
    "collapsed": false,
    "deletable": true,
    "editable": true,
    "scrolled": false
   },
   "outputs": [
    {
     "ename": "NameError",
     "evalue": "name 'df_sort' is not defined",
     "output_type": "error",
     "traceback": [
      "\u001b[0;31m---------------------------------------------------------------------------\u001b[0m",
      "\u001b[0;31mNameError\u001b[0m                                 Traceback (most recent call last)",
      "\u001b[0;32m<ipython-input-10-90e3f50281ea>\u001b[0m in \u001b[0;36m<module>\u001b[0;34m()\u001b[0m\n\u001b[1;32m    124\u001b[0m \u001b[0;34m\u001b[0m\u001b[0m\n\u001b[1;32m    125\u001b[0m \u001b[0;34m\u001b[0m\u001b[0m\n\u001b[0;32m--> 126\u001b[0;31m \u001b[0mcluster_compare\u001b[0m\u001b[0;34m(\u001b[0m\u001b[0mdf_sort\u001b[0m\u001b[0;34m,\u001b[0m \u001b[0;36m7\u001b[0m\u001b[0;34m,\u001b[0m \u001b[0;36m13\u001b[0m\u001b[0;34m,\u001b[0m \u001b[0mdataset\u001b[0m\u001b[0;34m=\u001b[0m\u001b[0;34m'fc'\u001b[0m\u001b[0;34m)\u001b[0m\u001b[0;34m\u001b[0m\u001b[0m\n\u001b[0m",
      "\u001b[0;31mNameError\u001b[0m: name 'df_sort' is not defined"
     ]
    }
   ],
   "source": [
    "\n",
    "def cluster_compare(df, cluster_1, cluster_2, dataset='Count'):\n",
    "    plt.figure(figsize=(12,6))\n",
    "\n",
    "    #cell_labels, label_cells, cellID, labels, labels_a = gen_labels(df, model)\n",
    "        \n",
    "    gene_colors = ['red', 'red', 'red', 'red', 'red', 'red', 'red', 'red', 'red','blue', 'blue', 'blue', 'blue','orange', 'orange', 'orange', 'orange',\n",
    "    'green', 'green', 'green', 'green', 'green', 'green', 'green', 'green', 'green',\n",
    "    'lightblue', 'lightblue', 'darkblue', 'darkred','darkred','red','lightgreen','red','lightblue']\n",
    "    if dataset.lower() == 'log':\n",
    "        df = df_sort_log\n",
    "        print('Swiched to using the Log normalized dataset for the expression plot: df_sort_log')\n",
    "        y_label= '(Log-normalized)'\n",
    "    elif dataset.lower() == 'fc':\n",
    "            df = df_sort_fc\n",
    "            print('Swiched to using the Fold Change dataset for the expression plot: df_sort_log')\n",
    "            y_label= 'Fold Change'\n",
    "    else:\n",
    "        y_label=''\n",
    "    \n",
    "    y_pos = np.arange(len(df.index))\n",
    "    \n",
    "    #Cluster 1\n",
    "    ax1 = plt.subplot2grid((2,6), (0,0), rowspan=1, colspan=3)\n",
    "    filt = np.sort(labels) == cluster_1\n",
    "    n = sum(filt)\n",
    "    ax1.bar(y_pos, np.array(df.loc[:,filt].T.mean()), color=gene_colors, alpha=0.5, yerr=np.array(np.std(df.loc[:,filt], axis=1))/np.sqrt(n),error_kw=dict(ecolor='gray'))\n",
    "    if dataset.lower() == 'fc':\n",
    "        ax1.axhline(1, color='gray')\n",
    "    left_pos = np.arange(df.shape[0])\n",
    "    ax1.set_xlim(-1, df.shape[0])\n",
    "    ax1.set_xticklabels([])\n",
    "    ax1.set_ylabel('Count {}'.format(y_label))\n",
    "    ax1.set_title('Cluster: {} Number of cells: {}/{}'.format(cluster_1, np.count_nonzero(filt==True), len(filt)))\n",
    "    \n",
    "    #Cluster 2\n",
    "    ax2 = plt.subplot2grid((2,6), (1,0), rowspan=1, colspan=3)\n",
    "    filt = np.sort(labels) == cluster_2\n",
    "    n = sum(filt)\n",
    "    ax2.bar(y_pos, np.array(df.loc[:,filt].T.mean()), color=gene_colors, alpha=0.5, yerr=np.array(np.std(df.loc[:,filt], axis=1))/np.sqrt(n),error_kw=dict(ecolor='gray'))\n",
    "    if dataset.lower() == 'fc':\n",
    "        ax2.axhline(1, color='gray')\n",
    "    left_pos = np.arange(df.shape[0])\n",
    "    ax2.set_xticks(left_pos+0.0)\n",
    "    ax2.set_xlim(-1, df.shape[0])\n",
    "    ax2.set_xticklabels(df_sort.index, rotation='vertical')\n",
    "    ax2.set_ylabel('Count {}'.format(y_label))\n",
    "    ax2.set_title('Cluster: {} Number of cells: {}/{}'.format(cluster_2, np.count_nonzero(filt==True), len(filt)))\n",
    "    \n",
    "    #Scale y limit equally\n",
    "    ax1.set_ylim(max([ax1.get_ylim(), ax2.get_ylim()]))\n",
    "    ax2.set_ylim(max([ax1.get_ylim(), ax2.get_ylim()]))\n",
    "    \n",
    "    #Cluster 1 location\n",
    "    ax3 = plt.subplot2grid((2,6), (0,3), rowspan=1, colspan=1)\n",
    "    filt1 = np.sort(labels) == cluster_1\n",
    "    plt.sca(ax3)\n",
    "    plot_cell_pos(coord_df, cell_ids=list(df_sort.columns[filt1]), cell_of_interest=None, s=1, standalone=False)\n",
    "    for tl in ax3.get_xticklabels() + ax3.get_yticklabels():\n",
    "                tl.set_visible(False)\n",
    "    ax3.set_title('Cluster {}'.format(cluster_1))\n",
    "    \n",
    "    #Cluster 2 location\n",
    "    ax4 = plt.subplot2grid((2,6), (0,4), rowspan=1, colspan=1)\n",
    "    filt2 = np.sort(labels) == cluster_2\n",
    "    plt.sca(ax4)\n",
    "    plot_cell_pos(coord_df, cell_ids=list(df_sort.columns[filt2]), cell_of_interest=None, s=1, standalone=False, color_highlight1='b')\n",
    "    for tl in ax4.get_xticklabels() + ax4.get_yticklabels():\n",
    "                tl.set_visible(False)\n",
    "    ax4.set_title('Cluster {}'.format(cluster_2))\n",
    "    \n",
    "    #Clusters location\n",
    "    ax5 = plt.subplot2grid((2,6), (0,5), rowspan=1, colspan=1)\n",
    "    filt = np.sort(labels) == cluster_2\n",
    "    plt.sca(ax5)\n",
    "    plot_cell_pos(coord_df, cell_ids=list(df_sort.columns[filt1]), cell_of_interest=None, s=1, standalone=False)\n",
    "    ax5.scatter(coord_df.loc[:,list(df_sort.columns[filt2])].loc['X'], coord_df.loc[:,list(df_sort.columns[filt2])].loc['Y'], s=1, color='b')\n",
    "    for tl in ax5.get_xticklabels() + ax5.get_yticklabels():\n",
    "                tl.set_visible(False)\n",
    "    ax5.set_title('Red{}, Blue{}'.format(cluster_1,cluster_2))\n",
    "    \n",
    "    #Cluster 1 tSNE\n",
    "    ax6 = plt.subplot2grid((2,6), (1,3), rowspan=1, colspan=1)\n",
    "    ax6.scatter(tSNE_points[:,0], tSNE_points[:,1], lw=0, s=2, alpha = 0.5, c = 'grey')\n",
    "    points = np.zeros((len(df.columns),2))\n",
    "    for i, n in enumerate(df.columns):\n",
    "        points[i,:] = tSNE_points[df_fish.columns.get_loc(n),:]\n",
    "    ax6.scatter(points[labels_a == cluster_1][:,0], points[labels_a == cluster_1][:,1], lw=0, s=3, alpha = 0.5, c = 'r')\n",
    "    ax6.set_aspect('equal')\n",
    "    ax6.set_xlim(-12,12)\n",
    "    ax6.set_ylim(-12,12)\n",
    "    ax6.set_xticks([])\n",
    "    ax6.set_yticks([])\n",
    "    \n",
    "    #Cluster 2 tSNE\n",
    "    ax7 = plt.subplot2grid((2,6), (1,4), rowspan=1, colspan=1)\n",
    "    ax7.scatter(tSNE_points[:,0], tSNE_points[:,1], lw=0, s=2, alpha = 0.5, c = 'grey')\n",
    "    points = np.zeros((len(df.columns),2))\n",
    "    for i, n in enumerate(df.columns):\n",
    "        points[i,:] = tSNE_points[df_fish.columns.get_loc(n),:]\n",
    "    ax7.scatter(points[labels_a == cluster_2][:,0], points[labels_a == cluster_2][:,1], lw=0, s=3, alpha = 0.5, c = 'b')\n",
    "    ax7.set_aspect('equal')\n",
    "    ax7.set_xlim(-12,12)\n",
    "    ax7.set_ylim(-12,12)\n",
    "    ax7.set_xticks([])\n",
    "    ax7.set_yticks([])\n",
    "    \n",
    "    #Clusters tSNE\n",
    "    ax8 = plt.subplot2grid((2,6), (1,5), rowspan=1, colspan=1)\n",
    "    ax8.scatter(tSNE_points[:,0], tSNE_points[:,1], lw=0, s=2, alpha = 0.5, c = 'grey')\n",
    "    points = np.zeros((len(df.columns),2))\n",
    "    for i, n in enumerate(df.columns):\n",
    "        points[i,:] = tSNE_points[df_fish.columns.get_loc(n),:]\n",
    "    ax8.scatter(points[labels_a == cluster_1][:,0], points[labels_a == cluster_1][:,1], lw=0, s=3, alpha = 0.5, c = 'r')\n",
    "    ax8.scatter(points[labels_a == cluster_2][:,0], points[labels_a == cluster_2][:,1], lw=0, s=3, alpha = 0.5, c = 'b')\n",
    "    ax8.set_aspect('equal')\n",
    "    ax8.set_xlim(-12,12)\n",
    "    ax8.set_ylim(-12,12)\n",
    "    ax8.set_xticks([])\n",
    "    ax8.set_yticks([])\n",
    "    \n",
    "    \n",
    "    \n",
    "    \n",
    "    \n",
    "cluster_compare(df_sort, 7, 13, dataset='fc')"
   ]
  },
  {
   "cell_type": "code",
   "execution_count": null,
   "metadata": {
    "ExecuteTime": {
     "end_time": "2017-10-23T15:35:55.981601Z",
     "start_time": "2017-10-23T13:35:55.070Z"
    },
    "collapsed": false,
    "deletable": true,
    "editable": true
   },
   "outputs": [],
   "source": [
    "np.sqrt(47)"
   ]
  },
  {
   "cell_type": "code",
   "execution_count": null,
   "metadata": {
    "ExecuteTime": {
     "end_time": "2017-10-23T15:35:55.981820Z",
     "start_time": "2017-10-23T13:35:55.074Z"
    },
    "collapsed": false,
    "deletable": true,
    "editable": true,
    "scrolled": false
   },
   "outputs": [],
   "source": [
    "def all_clusters():\n",
    "    plt.figure(figsize=(20,10))\n",
    "    gs = plt.GridSpec(7,7)\n",
    "\n",
    "    for i, label in enumerate(cluster_sort):\n",
    "        plt.subplot(gs[i])\n",
    "        filt = np.sort(labels) == label\n",
    "\n",
    "        plot_cell_pos(coord_df, cell_ids=list(df_sort.columns[filt]), cell_of_interest=None, s=1, standalone=False)\n",
    "        plt.title('{} {}'.format(label, cluster_labels[label]))\n",
    "        plt.gca().set_axis_off()\n",
    "        \n",
    "    plt.tight_layout()\n",
    "    #plt.savefig('Cluster_location.png')\n",
    "        \n",
    "all_clusters()"
   ]
  },
  {
   "cell_type": "code",
   "execution_count": null,
   "metadata": {
    "ExecuteTime": {
     "end_time": "2017-10-23T15:35:55.982038Z",
     "start_time": "2017-10-23T13:35:55.081Z"
    },
    "collapsed": false,
    "deletable": true,
    "editable": true,
    "scrolled": false
   },
   "outputs": [],
   "source": [
    "layer4 = [19, 18]\n",
    "layer23 = [39]\n",
    "layer5 = [40,45]\n",
    "layer6 = [0,3,5]\n",
    "\n",
    "\n",
    "fig, ax = plt.subplots(figsize=(6,6))\n",
    "\n",
    "ax.scatter(tSNE_points[:,0], tSNE_points[:,1], lw=0, s=8, alpha = 1, c ='grey' )#[128/255,163/255,250/255]\n",
    "points = np.zeros((len(df_sort.columns),2))\n",
    "for i, n in enumerate(df_sort.columns):\n",
    "    points[i,:] = tSNE_points[df_fish.columns.get_loc(n),:]\n",
    "\n",
    "#ax.scatter(points[np.sort(labels_a) == cluster_of_interest][:,0], points[np.sort(labels_a) == cluster_of_interest][:,1], lw=0, s=10, alpha = 1, c = [180/255,4/255,38/255])\n",
    "#for i in layer23:\n",
    "#    ax.scatter(points[np.sort(labels_a) == i][:,0], points[np.sort(labels_a) == i][:,1], lw=0, s=10, alpha = 1, c = [19/255,216/255,226/255])\n",
    "#for i in layer4:\n",
    "#    ax.scatter(points[np.sort(labels_a) == i][:,0], points[np.sort(labels_a) == i][:,1], lw=0, s=10, alpha = 1, c = [1,0,1])\n",
    "for i in layer5:\n",
    "    ax.scatter(points[np.sort(labels_a) == i][:,0], points[np.sort(labels_a) == i][:,1], lw=0, s=10, alpha = 1, c = 'yellow')\n",
    "#for i in layer6:\n",
    "#    ax.scatter(points[np.sort(labels_a) == i][:,0], points[np.sort(labels_a) == i][:,1], lw=0, s=10, alpha = 1, c = [0,1,0])#[180/255,4/255,38/255])#input is df_sort so labels should be sorted as well\n",
    "ax.set_aspect('equal')\n",
    "ax.set_xlim(-12,12)\n",
    "ax.set_ylim(-12,12)\n",
    "ax.set_axis_off()\n",
    "\n",
    "\n",
    "#ax.set_title('tSNE cluster: {}'.format(cluster_of_interest), fontsize=12)\n",
    "#plt.savefig('Cluster_py5_location_47_clusters.png'.format(cluster_of_interest), dpi=600)"
   ]
  },
  {
   "cell_type": "code",
   "execution_count": null,
   "metadata": {
    "ExecuteTime": {
     "end_time": "2017-10-23T15:35:55.982246Z",
     "start_time": "2017-10-23T13:35:55.086Z"
    },
    "collapsed": false,
    "deletable": true,
    "editable": true
   },
   "outputs": [],
   "source": [
    "#Endothelial clusters 12 and 13 Foxj1 expression\n",
    "stats.ttest_ind(df_sort_count.loc['Hybridization1_Foxj1',np.sort(labels) == 12], df_sort_count.loc['Hybridization1_Foxj1',np.sort(labels) == 13], )"
   ]
  },
  {
   "cell_type": "code",
   "execution_count": null,
   "metadata": {
    "ExecuteTime": {
     "end_time": "2017-10-23T15:35:55.982446Z",
     "start_time": "2017-10-23T13:35:55.091Z"
    },
    "collapsed": false,
    "deletable": true,
    "editable": true
   },
   "outputs": [],
   "source": [
    "df_sort_count.loc['Hybridization7_Rorb',np.sort(labels) == 18]"
   ]
  },
  {
   "cell_type": "code",
   "execution_count": null,
   "metadata": {
    "ExecuteTime": {
     "end_time": "2017-10-23T15:35:55.982651Z",
     "start_time": "2017-10-23T13:35:55.097Z"
    },
    "collapsed": false,
    "deletable": true,
    "editable": true
   },
   "outputs": [],
   "source": [
    "cell_info('7195', post_clustering=True)"
   ]
  },
  {
   "cell_type": "markdown",
   "metadata": {
    "deletable": true,
    "editable": true
   },
   "source": [
    "# Pickle"
   ]
  },
  {
   "cell_type": "code",
   "execution_count": null,
   "metadata": {
    "ExecuteTime": {
     "end_time": "2017-10-23T15:35:55.982857Z",
     "start_time": "2017-10-23T13:35:55.103Z"
    },
    "collapsed": true,
    "deletable": true,
    "editable": true
   },
   "outputs": [],
   "source": [
    "pickle.dump(coord_df, open('coord_df.p', \"wb\" ))\n",
    "pickle.dump(df_fish, open('df_fish.p', \"wb\" ))\n",
    "pickle.dump(df_sort, open('df_sort.p', \"wb\" ))\n",
    "pickle.dump(labels_a, open('labels_a_47.p', \"wb\" ))\n",
    "pickle.dump(label_colors_hex, open('label_colors_hex_47.p', \"wb\" ))\n",
    "pickle.dump(label_cells, open('label_cells_47.p', \"wb\" ))\n",
    "pickle.dump(cell_labels, open('cell_labels_47.p', \"wb\" ))\n",
    "pickle.dump(cluster_labels, open('cluster_labels_47.p', \"wb\"))\n",
    "pickle.dump(df_fish_log, open('df_fish_log.p', \"wb\" ))\n",
    "pickle.dump(df_fish_size_sqrt, open('df_fish_size_sqrt.p', \"wb\" ))\n"
   ]
  },
  {
   "cell_type": "code",
   "execution_count": null,
   "metadata": {
    "ExecuteTime": {
     "end_time": "2017-10-23T15:35:55.983073Z",
     "start_time": "2017-10-23T13:35:55.109Z"
    },
    "collapsed": true,
    "deletable": true,
    "editable": true
   },
   "outputs": [],
   "source": [
    "pickle.dump(cluster_labels, open('cluster_labels_47.p', \"wb\"))"
   ]
  },
  {
   "cell_type": "markdown",
   "metadata": {
    "deletable": true,
    "editable": true
   },
   "source": [
    "# Cluster comparison"
   ]
  },
  {
   "cell_type": "code",
   "execution_count": null,
   "metadata": {
    "ExecuteTime": {
     "end_time": "2017-10-23T15:35:55.983269Z",
     "start_time": "2017-10-23T13:35:55.114Z"
    },
    "collapsed": true,
    "deletable": true,
    "editable": true
   },
   "outputs": [],
   "source": [
    "mean_fish = mean_expression(df_sort_count, labels_a)"
   ]
  },
  {
   "cell_type": "code",
   "execution_count": null,
   "metadata": {
    "ExecuteTime": {
     "end_time": "2017-10-23T15:35:55.983475Z",
     "start_time": "2017-10-23T13:35:55.121Z"
    },
    "code_folding": [
     0
    ],
    "collapsed": true,
    "deletable": true,
    "editable": true
   },
   "outputs": [],
   "source": [
    "#Convert single cell labels from text to a number\n",
    "sc_cluster_labels = {}\n",
    "for n, i in enumerate(np.unique(np.array(list(sc_cort_olig_label.values())))):\n",
    "    sc_cluster_labels[n] = i\n",
    "#sc_cluster_labels[39] = 'Vlmc'\n",
    "#sc_cluster_labels[35] = 'Pvmf'\n",
    "#Reverse the dictionary to match the text with the numbers\n",
    "sc_label_clusters = {v: k for k, v in sc_cluster_labels.items()}\n",
    "#Make a list of the labels for each cell\n",
    "sc_cort_olig_label_int =[]\n",
    "for i in df_sc_cort_olig.columns:\n",
    "    sc_cort_olig_label_int.append(sc_label_clusters[sc_cort_olig_label[i]])"
   ]
  },
  {
   "cell_type": "code",
   "execution_count": null,
   "metadata": {
    "ExecuteTime": {
     "end_time": "2017-10-23T15:35:55.983672Z",
     "start_time": "2017-10-23T13:35:55.126Z"
    },
    "collapsed": true,
    "deletable": true,
    "editable": true
   },
   "outputs": [],
   "source": [
    "#From the marker pannel plot function\n",
    "mean_sc = df_count_average_sc"
   ]
  },
  {
   "cell_type": "code",
   "execution_count": null,
   "metadata": {
    "ExecuteTime": {
     "end_time": "2017-10-23T15:35:55.983869Z",
     "start_time": "2017-10-23T13:35:55.131Z"
    },
    "collapsed": true,
    "deletable": true,
    "editable": true
   },
   "outputs": [],
   "source": [
    "df_type_correlation = pd.DataFrame(data=np.zeros((len(cluster_sort),len(mean_sc.columns))), columns=mean_sc.columns, index=cluster_sort)\n",
    "for i in df_type_correlation.index:\n",
    "    df_type_correlation.loc[i] = [np.corrcoef(mean_fish[i], mean_sc[x])[0,1] for x in df_type_correlation.columns]"
   ]
  },
  {
   "cell_type": "code",
   "execution_count": null,
   "metadata": {
    "ExecuteTime": {
     "end_time": "2017-10-23T15:35:55.984073Z",
     "start_time": "2017-10-23T13:35:55.136Z"
    },
    "collapsed": false,
    "deletable": true,
    "editable": true,
    "scrolled": false
   },
   "outputs": [],
   "source": [
    "fig, ax = plt.subplots(figsize=(6,6))\n",
    "\n",
    "corr_max = np.max(df_type_correlation.max(axis=0))\n",
    "im = ax.pcolor(df_type_correlation, cmap='viridis', vmin=0, vmax=corr_max)\n",
    "\n",
    "y_pos = np.arange(len(df_type_correlation.index))\n",
    "x_pos = np.arange(len(df_type_correlation.columns))\n",
    "ax.set_xticks(x_pos+0.5)\n",
    "ax.set_xticklabels(df_type_correlation.columns, rotation='vertical', fontsize=6)\n",
    "ax.set_yticks(y_pos+0.5)\n",
    "ax.set_yticklabels(df_type_correlation.index, fontsize=6)\n",
    "\n",
    "\n",
    "ax.set_aspect('equal')\n",
    "ax.set_title('Cell type correlation')\n",
    "cax = fig.add_axes([.91, 0.13, 0.03, 0.4])\n",
    "colorbar = fig.colorbar(im, cax=cax, ticks=[0,corr_max], )\n",
    "colorbar.set_ticklabels(['0', 'max'])\n",
    "ax.set_ylim((0,len(df_type_correlation.index)))\n",
    "ax.set_xlim((0,len(df_type_correlation.columns)))\n",
    "ax.invert_yaxis()\n",
    "plt.tight_layout()\n",
    "\n",
    "plt.savefig('Cell_type_correlation.png')"
   ]
  },
  {
   "cell_type": "markdown",
   "metadata": {
    "deletable": true,
    "editable": true
   },
   "source": [
    "# Spatial organization"
   ]
  },
  {
   "cell_type": "code",
   "execution_count": null,
   "metadata": {
    "ExecuteTime": {
     "end_time": "2017-10-23T15:35:55.984269Z",
     "start_time": "2017-10-23T13:35:55.141Z"
    },
    "collapsed": false,
    "deletable": true,
    "editable": true
   },
   "outputs": [],
   "source": [
    "np.array(coord_df.loc[:,label_cells[0]].T)"
   ]
  },
  {
   "cell_type": "markdown",
   "metadata": {
    "deletable": true,
    "editable": true
   },
   "source": [
    "## Cell type regionalization"
   ]
  },
  {
   "cell_type": "markdown",
   "metadata": {
    "deletable": true,
    "editable": true
   },
   "source": [
    "### Ripley's K"
   ]
  },
  {
   "cell_type": "code",
   "execution_count": null,
   "metadata": {
    "ExecuteTime": {
     "end_time": "2017-10-23T15:35:55.984464Z",
     "start_time": "2017-10-23T13:35:55.147Z"
    },
    "collapsed": true,
    "deletable": true,
    "editable": true
   },
   "outputs": [],
   "source": [
    "from astropy.stats import RipleysKEstimator"
   ]
  },
  {
   "cell_type": "code",
   "execution_count": null,
   "metadata": {
    "ExecuteTime": {
     "end_time": "2017-10-23T15:35:55.984664Z",
     "start_time": "2017-10-23T13:35:55.152Z"
    },
    "collapsed": false,
    "deletable": true,
    "editable": true
   },
   "outputs": [],
   "source": [
    "#Choose a range for the radii to use for the Ripley's K\n",
    "radius = 7000\n",
    "plot_cell_pos(coord_df, cell_ids=None, cell_of_interest=None, s=10, standalone=True, mode='Highlight')\n",
    "circle1 = plt.Circle((25000,35000), radius, lw=0, color='red', alpha=0.4)\n",
    "circle2 = plt.Circle((10000,17000), radius, lw=0, color='red', alpha=0.4)\n",
    "ax = plt.gca()\n",
    "ax.add_artist(circle1)\n",
    "ax.add_artist(circle2)\n",
    "ax.set_title('Radius = {}'.format(radius))"
   ]
  },
  {
   "cell_type": "code",
   "execution_count": null,
   "metadata": {
    "ExecuteTime": {
     "end_time": "2017-10-23T15:35:55.984860Z",
     "start_time": "2017-10-23T13:35:55.158Z"
    },
    "collapsed": false,
    "deletable": true,
    "editable": true
   },
   "outputs": [],
   "source": [
    "np.argmin(np.abs(np.linspace(1000,20000, 100) - 3000))"
   ]
  },
  {
   "cell_type": "code",
   "execution_count": null,
   "metadata": {
    "ExecuteTime": {
     "end_time": "2017-10-23T15:35:55.985053Z",
     "start_time": "2017-10-23T13:35:55.162Z"
    },
    "collapsed": false,
    "deletable": true,
    "editable": true
   },
   "outputs": [],
   "source": [
    "np.linspace(1000,20000, 100)"
   ]
  },
  {
   "cell_type": "code",
   "execution_count": null,
   "metadata": {
    "ExecuteTime": {
     "end_time": "2017-10-23T15:35:55.985248Z",
     "start_time": "2017-10-23T13:35:55.167Z"
    },
    "collapsed": true,
    "deletable": true,
    "editable": true
   },
   "outputs": [],
   "source": [
    "###"
   ]
  },
  {
   "cell_type": "code",
   "execution_count": null,
   "metadata": {
    "ExecuteTime": {
     "end_time": "2017-10-23T15:35:55.985451Z",
     "start_time": "2017-10-23T13:35:55.172Z"
    },
    "collapsed": false,
    "deletable": true,
    "editable": true
   },
   "outputs": [],
   "source": [
    "x_min = coord_df.loc['X'].min()\n",
    "x_max = coord_df.loc['X'].max()\n",
    "y_min = coord_df.loc['Y'].min()\n",
    "y_max = coord_df.loc['Y'].max()\n",
    "area = ((x_max-x_min)*(y_max-y_min))\n",
    "Kest = RipleysKEstimator(area, x_max, y_max, x_min, y_min)\n",
    "radii = np.linspace(1000,20000, 100)\n",
    "\n",
    "plt.figure()\n",
    "colors = np.arange(0, 1, 1/len(np.unique(labels_a)))\n",
    "cmap = matplotlib.cm.get_cmap('prism')\n",
    "\n",
    "RK_3000 = []\n",
    "RK_10000 = []\n",
    "for i in np.sort(np.unique(labels_a)):\n",
    "    estimate =  Kest(data=np.array(coord_df.loc[:,label_cells[i]].T), radii=radii, mode='none')\n",
    "    RK_3000.append(estimate[np.argmin(np.abs(radii - 3000))]) #Get the estimate of the radii closest to 3000 and append list\n",
    "    RK_10000.append(estimate[np.argmin(np.abs(radii - 10000))]) #Get the estimate of the radii closest to 10000 and append list\n",
    "    plt.plot(radii, estimate, color=cmap(colors[i]))\n",
    "\n",
    "plt.title(\"Ripley's K for different radii\")\n",
    "plt.xlabel('Radius in pixels')\n",
    "    "
   ]
  },
  {
   "cell_type": "code",
   "execution_count": null,
   "metadata": {
    "ExecuteTime": {
     "end_time": "2017-10-23T15:35:55.985653Z",
     "start_time": "2017-10-23T13:35:55.179Z"
    },
    "collapsed": false,
    "deletable": true,
    "editable": true,
    "scrolled": true
   },
   "outputs": [],
   "source": [
    "plt.figure(figsize=(20,12))\n",
    "n_clusters = len(np.unique(labels_a))\n",
    "gs = plt.GridSpec(5, int(n_clusters/5) + (n_clusters % 5 > 0))\n",
    "\n",
    "for i, c in enumerate(np.argsort(RK_10000)[::-1]):\n",
    "    plt.subplot(gs[i])\n",
    "    filt = np.sort(labels) == c\n",
    "    plot_cell_pos(coord_df, cell_ids=list(df_sort.columns[filt]), cell_of_interest=None, s=1, standalone=False, color_highlight1='r')\n",
    "    ax = plt.gca()\n",
    "    for tl in ax.get_xticklabels() + ax.get_yticklabels():\n",
    "        tl.set_visible(False)\n",
    "    #ax.set_title('Cluster {}'.format(c))\n",
    "    ax.set_title('{}\\n{} {}'.format(\"{:.2e}\".format(RK_10000[c]),c, cluster_labels[c]), fontsize=6)"
   ]
  },
  {
   "cell_type": "code",
   "execution_count": null,
   "metadata": {
    "ExecuteTime": {
     "end_time": "2017-10-23T15:35:55.985864Z",
     "start_time": "2017-10-23T13:35:55.186Z"
    },
    "collapsed": true,
    "deletable": true,
    "editable": true
   },
   "outputs": [],
   "source": [
    "def create_connectivity(mask, kind=\"queen\"):\n",
    "    \"\"\" Create a connectivity matrix of the pixels in a image\n",
    "\n",
    "    Args\n",
    "    ----\n",
    "    mask: np.2darray\n",
    "        Square image of side N\n",
    "    kind: str default 'queen\n",
    "        The kind of connectivity to apply. Can be: rook, bishop, queen (as in chess)\n",
    "\n",
    "    Returns\n",
    "    -------\n",
    "    connectivity_matrix: np.ndarray\n",
    "        A connectivity matrix (N^2, N^2) where N is the side of mask\n",
    "    \"\"\"\n",
    "\n",
    "    ll = mask.shape[0]\n",
    "    ll += 2  # add a 1 pixel margin all around the image to simplify the construction (will be removed as last step)\n",
    "    cstm_connectivity = np.zeros((ll**2, ll**2))  # initialize empty\n",
    "    pixel_ixs = np.arange(ll**2)\n",
    "\n",
    "    # Compute the indexes of the fake edges\n",
    "    real_pixel_bool = np.ones((ll, ll), dtype=bool)\n",
    "    real_pixel_bool[0, :] = False\n",
    "    real_pixel_bool[-1, :] = False\n",
    "    real_pixel_bool[:, 0] = False\n",
    "    real_pixel_bool[:, -1] = False\n",
    "    real_pixel_bool = real_pixel_bool.flat[:]\n",
    "    real_pixel_ixs = pixel_ixs[real_pixel_bool]\n",
    "\n",
    "    # Neighbour rule\n",
    "    if kind == \"rook\":\n",
    "        neig_relative_ix_pos = np.array([+1, -1, -ll, ll])\n",
    "    elif kind == \"bishop\":\n",
    "        neig_relative_ix_pos = np.array([-ll + 1, ll + 1, -ll - 1, ll - 1])\n",
    "    elif kind in [\"queen\", \"king\"]:\n",
    "        neig_relative_ix_pos = np.array([+1, -1, -ll, ll, -ll + 1, ll + 1, -ll - 1, ll - 1])\n",
    "\n",
    "    # Set True at where there is connectivity\n",
    "    cstm_connectivity[real_pixel_ixs[:, None], real_pixel_ixs[:, None] + neig_relative_ix_pos] = True\n",
    "    # Is the same as following but using broadcasting\n",
    "    # for i in real_pixel_ixs:\n",
    "    #     cstm_connectivity[i, neig_relative_ix_pos+i] = True\n",
    "\n",
    "    # Remove connectivity entry corresponding to the dummy 1 pixel edges\n",
    "    cstm_connectivity = cstm_connectivity[real_pixel_ixs[:, None], real_pixel_ixs[None, :]]\n",
    "    \n",
    "    return cstm_connectivity"
   ]
  },
  {
   "cell_type": "code",
   "execution_count": null,
   "metadata": {
    "ExecuteTime": {
     "end_time": "2017-10-23T15:35:55.986061Z",
     "start_time": "2017-10-23T13:35:55.191Z"
    },
    "collapsed": false,
    "deletable": true,
    "editable": true
   },
   "outputs": [],
   "source": [
    "plt.figure()\n",
    "plt.pcolor(create_connectivity(np.array([[1,1,1],[1,0,1],[1,1,1]])))"
   ]
  },
  {
   "cell_type": "code",
   "execution_count": null,
   "metadata": {
    "ExecuteTime": {
     "end_time": "2017-10-23T15:35:55.986257Z",
     "start_time": "2017-10-23T13:35:55.198Z"
    },
    "collapsed": false,
    "deletable": true,
    "editable": true
   },
   "outputs": [],
   "source": [
    "plt.figure()\n",
    "plt.pcolor(create_connectivity(np.array([[1,1,1],[0,0,0],[1,1,1]]).astype(bool)))"
   ]
  },
  {
   "cell_type": "code",
   "execution_count": null,
   "metadata": {
    "ExecuteTime": {
     "end_time": "2017-10-23T15:35:55.986452Z",
     "start_time": "2017-10-23T13:35:55.203Z"
    },
    "collapsed": false,
    "deletable": true,
    "editable": true
   },
   "outputs": [],
   "source": [
    "a = np.array([[1,1,1],[0,0,0],[1,1,1]])\n",
    "af = a.flat[:]"
   ]
  },
  {
   "cell_type": "code",
   "execution_count": null,
   "metadata": {
    "ExecuteTime": {
     "end_time": "2017-10-23T15:35:55.986646Z",
     "start_time": "2017-10-23T13:35:55.208Z"
    },
    "collapsed": false,
    "deletable": true,
    "editable": true
   },
   "outputs": [],
   "source": [
    "a"
   ]
  },
  {
   "cell_type": "code",
   "execution_count": null,
   "metadata": {
    "ExecuteTime": {
     "end_time": "2017-10-23T15:35:55.986841Z",
     "start_time": "2017-10-23T13:35:55.212Z"
    },
    "collapsed": false,
    "deletable": true,
    "editable": true
   },
   "outputs": [],
   "source": [
    "af[None,:]"
   ]
  },
  {
   "cell_type": "code",
   "execution_count": null,
   "metadata": {
    "ExecuteTime": {
     "end_time": "2017-10-23T15:35:55.987040Z",
     "start_time": "2017-10-23T13:35:55.217Z"
    },
    "collapsed": false,
    "deletable": true,
    "editable": true
   },
   "outputs": [],
   "source": [
    "af[:,None]"
   ]
  },
  {
   "cell_type": "code",
   "execution_count": null,
   "metadata": {
    "ExecuteTime": {
     "end_time": "2017-10-23T15:35:55.987231Z",
     "start_time": "2017-10-23T13:35:55.222Z"
    },
    "collapsed": false,
    "deletable": true,
    "editable": true
   },
   "outputs": [],
   "source": [
    "q = create_connectivity(a)"
   ]
  },
  {
   "cell_type": "code",
   "execution_count": null,
   "metadata": {
    "ExecuteTime": {
     "end_time": "2017-10-23T15:35:55.987422Z",
     "start_time": "2017-10-23T13:35:55.226Z"
    },
    "collapsed": false,
    "deletable": true,
    "editable": true
   },
   "outputs": [],
   "source": [
    "(q*af[None,:])*af[:,None]"
   ]
  },
  {
   "cell_type": "markdown",
   "metadata": {
    "deletable": true,
    "editable": true
   },
   "source": [
    "### Tissue regionaliztion (MOVED TO \"CORTEX SPATIAL ANALYSIS.IPYNB\")"
   ]
  },
  {
   "cell_type": "code",
   "execution_count": null,
   "metadata": {
    "ExecuteTime": {
     "end_time": "2017-10-23T15:35:55.987613Z",
     "start_time": "2017-10-23T13:35:55.233Z"
    },
    "collapsed": true,
    "deletable": true,
    "editable": true
   },
   "outputs": [],
   "source": [
    "from sklearn import svm"
   ]
  },
  {
   "cell_type": "code",
   "execution_count": null,
   "metadata": {
    "ExecuteTime": {
     "end_time": "2017-10-23T15:35:55.987806Z",
     "start_time": "2017-10-23T13:35:55.238Z"
    },
    "collapsed": true,
    "deletable": true,
    "editable": true
   },
   "outputs": [],
   "source": [
    "X_loc = coord_df.loc[:,df_sort.columns].values.T\n",
    "y_loc = labels_a"
   ]
  },
  {
   "cell_type": "code",
   "execution_count": null,
   "metadata": {
    "ExecuteTime": {
     "end_time": "2017-10-23T15:35:55.988003Z",
     "start_time": "2017-10-23T13:35:55.243Z"
    },
    "collapsed": false,
    "deletable": true,
    "editable": true
   },
   "outputs": [],
   "source": [
    "[x*10000 for x in [0,1,2,3,0,1,2,3,0,1,2,3,0,1,2,3]]"
   ]
  },
  {
   "cell_type": "code",
   "execution_count": null,
   "metadata": {
    "ExecuteTime": {
     "end_time": "2017-10-23T15:35:55.988194Z",
     "start_time": "2017-10-23T13:35:55.248Z"
    },
    "collapsed": false,
    "deletable": true,
    "editable": true
   },
   "outputs": [],
   "source": [
    "np.random.normal(0, scale=1000)"
   ]
  },
  {
   "cell_type": "code",
   "execution_count": null,
   "metadata": {
    "ExecuteTime": {
     "end_time": "2017-10-23T15:35:55.988394Z",
     "start_time": "2017-10-23T13:35:55.252Z"
    },
    "collapsed": false,
    "deletable": true,
    "editable": true
   },
   "outputs": [],
   "source": [
    "cloud = 200\n",
    "grid_c = np.zeros([16, 2])\n",
    "\n",
    "for i, p in enumerate(grid_c):\n",
    "    x = (int(i/4))*10000\n",
    "    y = [x*10000 for x in [0,1,2,3,0,1,2,3,0,1,2,3,0,1,2,3]]\n",
    "    y = y[i]\n",
    "    grid_c[i] = x,y\n",
    "\n",
    "    \n",
    "grid_p = np.zeros([len(grid_c)*cloud, 2])\n",
    "label_p = []\n",
    "for i, p in enumerate(grid_c):\n",
    "    print(p)\n",
    "    for n in range(cloud):\n",
    "        label_p.append(i)\n",
    "        pos = i*cloud + n\n",
    "        x_shift = np.random.normal(0, scale=1000)\n",
    "        y_shift = np.random.normal(0, scale=1000)\n",
    "        grid_p[pos] = p[0]+x_shift, p[1]+y_shift\n",
    "        \n",
    "def cell_scatter(arr2D, color='blue'):\n",
    "    plt.figure()\n",
    "    for i in range(len(arr2D)):\n",
    "        plt.scatter(arr2D[i][0], arr2D[i][1], c=color)\n",
    "        \n",
    "cell_scatter(grid_p)"
   ]
  },
  {
   "cell_type": "code",
   "execution_count": null,
   "metadata": {
    "ExecuteTime": {
     "end_time": "2017-10-23T15:35:55.988592Z",
     "start_time": "2017-10-23T13:35:55.258Z"
    },
    "collapsed": false,
    "deletable": true,
    "editable": true
   },
   "outputs": [],
   "source": [
    "np.unique(label_p)"
   ]
  },
  {
   "cell_type": "code",
   "execution_count": null,
   "metadata": {
    "ExecuteTime": {
     "end_time": "2017-10-23T15:35:55.988785Z",
     "start_time": "2017-10-23T13:35:55.262Z"
    },
    "collapsed": false,
    "deletable": true,
    "editable": true
   },
   "outputs": [],
   "source": [
    "X_loc.max()"
   ]
  },
  {
   "cell_type": "code",
   "execution_count": null,
   "metadata": {
    "ExecuteTime": {
     "end_time": "2017-10-23T15:35:55.988981Z",
     "start_time": "2017-10-23T13:35:55.269Z"
    },
    "collapsed": true,
    "deletable": true,
    "editable": true
   },
   "outputs": [],
   "source": [
    "model = svm.SVC(C=1000, kernel='rbf', degree=3, gamma=0.00000001, coef0=0.0, shrinking=True, \n",
    "                probability=False, tol=0.001, cache_size=200, class_weight=None, \n",
    "                verbose=False, max_iter=-1, decision_function_shape=None, random_state=None)\n",
    "#clf = model.fit(X_loc, y_loc)\n",
    "clf = model.fit(grid_p, label_p)"
   ]
  },
  {
   "cell_type": "code",
   "execution_count": null,
   "metadata": {
    "ExecuteTime": {
     "end_time": "2017-10-23T15:35:55.989173Z",
     "start_time": "2017-10-23T13:35:55.274Z"
    },
    "collapsed": false,
    "deletable": true,
    "editable": true
   },
   "outputs": [],
   "source": [
    "X_loc.shape"
   ]
  },
  {
   "cell_type": "code",
   "execution_count": null,
   "metadata": {
    "ExecuteTime": {
     "end_time": "2017-10-23T15:35:55.989378Z",
     "start_time": "2017-10-23T13:35:55.279Z"
    },
    "code_folding": [
     0,
     20
    ],
    "collapsed": true,
    "deletable": true,
    "editable": true
   },
   "outputs": [],
   "source": [
    "def make_meshgrid(x, y, h=1000):\n",
    "    \"\"\"Create a mesh of points to plot in\n",
    "\n",
    "    Parameters\n",
    "    ----------\n",
    "    x: data to base x-axis meshgrid on\n",
    "    y: data to base y-axis meshgrid on\n",
    "    h: stepsize for meshgrid, optional\n",
    "\n",
    "    Returns\n",
    "    -------\n",
    "    xx, yy : ndarray\n",
    "    \"\"\"\n",
    "    x_min, x_max = x.min() , x.max()\n",
    "    y_min, y_max = y.min() , y.max() \n",
    "    xx, yy = np.meshgrid(np.arange(x_min, x_max, h),\n",
    "                         np.arange(y_min, y_max, h))\n",
    "    return xx, yy\n",
    "\n",
    "\n",
    "def plot_contours(ax, clf, xx, yy, **params):\n",
    "    \"\"\"Plot the decision boundaries for a classifier.\n",
    "\n",
    "    Parameters\n",
    "    ----------\n",
    "    ax: matplotlib axes object\n",
    "    clf: a classifier\n",
    "    xx: meshgrid ndarray\n",
    "    yy: meshgrid ndarray\n",
    "    params: dictionary of params to pass to contourf, optional\n",
    "    \"\"\"\n",
    "    Z = clf.predict(np.c_[xx.ravel(), yy.ravel()])\n",
    "    Z = Z.reshape(xx.shape)\n",
    "    out = ax.contourf(xx, yy, Z, **params)\n",
    "    return out"
   ]
  },
  {
   "cell_type": "code",
   "execution_count": null,
   "metadata": {
    "ExecuteTime": {
     "end_time": "2017-10-23T15:35:55.989571Z",
     "start_time": "2017-10-23T13:35:55.284Z"
    },
    "collapsed": false,
    "deletable": true,
    "editable": true
   },
   "outputs": [],
   "source": [
    "X0, X1 = X_loc[:, 0], X_loc[:, 1]\n",
    "xx, yy = make_meshgrid(X0, X1, h=1000)"
   ]
  },
  {
   "cell_type": "code",
   "execution_count": null,
   "metadata": {
    "ExecuteTime": {
     "end_time": "2017-10-23T15:35:55.989765Z",
     "start_time": "2017-10-23T13:35:55.289Z"
    },
    "collapsed": false,
    "deletable": true,
    "editable": true
   },
   "outputs": [],
   "source": [
    "X0, X1 = grid_p[:, 0], grid_p[:, 1]\n",
    "xx, yy = make_meshgrid(X0, X1, h=100)"
   ]
  },
  {
   "cell_type": "code",
   "execution_count": null,
   "metadata": {
    "ExecuteTime": {
     "end_time": "2017-10-23T15:35:55.989956Z",
     "start_time": "2017-10-23T13:35:55.294Z"
    },
    "collapsed": true,
    "deletable": true,
    "editable": true
   },
   "outputs": [],
   "source": [
    "Z"
   ]
  },
  {
   "cell_type": "code",
   "execution_count": null,
   "metadata": {
    "ExecuteTime": {
     "end_time": "2017-10-23T15:35:55.990155Z",
     "start_time": "2017-10-23T13:35:55.299Z"
    },
    "collapsed": false,
    "deletable": true,
    "editable": true
   },
   "outputs": [],
   "source": [
    "Z = clf.predict(np.c_[xx.ravel(), yy.ravel()])\n",
    "Z = Z.reshape(xx.shape)\n",
    "fig, ax = plt.subplots(figsize=(5,5))\n",
    "ax.contourf(xx, yy, Z, cmap=plt.cm.RdBu)"
   ]
  },
  {
   "cell_type": "code",
   "execution_count": null,
   "metadata": {
    "ExecuteTime": {
     "end_time": "2017-10-23T15:35:55.990355Z",
     "start_time": "2017-10-23T13:35:55.306Z"
    },
    "collapsed": false,
    "deletable": true,
    "editable": true
   },
   "outputs": [],
   "source": [
    "np.unique(Z)"
   ]
  },
  {
   "cell_type": "code",
   "execution_count": null,
   "metadata": {
    "ExecuteTime": {
     "end_time": "2017-10-23T15:35:55.990544Z",
     "start_time": "2017-10-23T13:35:55.311Z"
    },
    "collapsed": false,
    "deletable": true,
    "editable": true
   },
   "outputs": [],
   "source": [
    "clf.predict([[10000,10000]])"
   ]
  },
  {
   "cell_type": "code",
   "execution_count": null,
   "metadata": {
    "collapsed": true,
    "deletable": true,
    "editable": true
   },
   "outputs": [],
   "source": []
  },
  {
   "cell_type": "code",
   "execution_count": null,
   "metadata": {
    "ExecuteTime": {
     "end_time": "2017-10-23T15:35:55.990738Z",
     "start_time": "2017-10-23T13:35:55.318Z"
    },
    "collapsed": true,
    "deletable": true,
    "editable": true
   },
   "outputs": [],
   "source": [
    "import pysal #Look into regionalization for clustering of areas of the tissue\n",
    "http://pysal.readthedocs.io/en/latest/users/tutorials/region.html"
   ]
  },
  {
   "cell_type": "code",
   "execution_count": null,
   "metadata": {
    "ExecuteTime": {
     "end_time": "2017-10-23T15:35:55.990935Z",
     "start_time": "2017-10-23T13:35:55.324Z"
    },
    "collapsed": true,
    "deletable": true,
    "editable": true
   },
   "outputs": [],
   "source": [
    "import clusterpy # Clustering the areas of the tissue\n",
    "http://www.rise-group.org/risem/clusterpy/index.html"
   ]
  },
  {
   "cell_type": "code",
   "execution_count": null,
   "metadata": {
    "ExecuteTime": {
     "end_time": "2017-10-23T15:35:55.991127Z",
     "start_time": "2017-10-23T13:35:55.330Z"
    },
    "collapsed": true,
    "deletable": true,
    "editable": true
   },
   "outputs": [],
   "source": [
    "pysal."
   ]
  },
  {
   "cell_type": "markdown",
   "metadata": {
    "deletable": true,
    "editable": true
   },
   "source": [
    "# Ordering of leaves"
   ]
  },
  {
   "cell_type": "code",
   "execution_count": null,
   "metadata": {
    "ExecuteTime": {
     "end_time": "2017-10-23T15:35:55.991330Z",
     "start_time": "2017-10-23T13:35:55.336Z"
    },
    "collapsed": true,
    "deletable": true,
    "editable": true
   },
   "outputs": [],
   "source": [
    "#Make df with count averages per cluster\n",
    "df_count_average = pd.DataFrame(index=df_sort.index, columns=np.unique(labels_a))\n",
    "\n",
    "#Semi binarize count average (all below mean is set to 0)\n",
    "df_count_average_bin = df_count_average\n",
    "for index in df_count_average_bin.index: \n",
    "    binarized_mean = []\n",
    "    for c in df_count_average_bin.loc[index]:\n",
    "        if c < df_count_average_bin.loc[index].mean():\n",
    "            c = 0\n",
    "        binarized_mean.append(c)\n",
    "    df_count_average_bin.loc[index] = binarized_mean\n",
    "\n",
    "\n",
    "for l in range(len(np.unique(labels_a))):\n",
    "    filt = np.sort(labels) == l\n",
    "    mean = np.array(df_sort.loc[:,filt].T.mean())\n",
    "    #std = np.array(np.std(df_sort.loc[:,filt], axis=1))\n",
    "    df_count_average[l] = mean\n",
    "\n",
    "#Transpose, otherwise you are doing it on genes instead of clusters\n",
    "D = pdist(df_count_average.T, 'euclidean')\n",
    "#On semi-binarized data # It does not really work\n",
    "#D = pdist(df_count_average_bin.T, 'euclidean')\n",
    "Z = linkage(D, 'ward')\n",
    "\n",
    "optimal_Z = optimal_leaf_ordering(Z, D)"
   ]
  },
  {
   "cell_type": "code",
   "execution_count": null,
   "metadata": {
    "ExecuteTime": {
     "end_time": "2017-10-23T15:35:55.991524Z",
     "start_time": "2017-10-23T13:35:55.342Z"
    },
    "collapsed": false,
    "deletable": true,
    "editable": true
   },
   "outputs": [],
   "source": [
    "polo.polo.leaves_list(optimal_Z)"
   ]
  },
  {
   "cell_type": "code",
   "execution_count": null,
   "metadata": {
    "ExecuteTime": {
     "end_time": "2017-10-23T15:35:55.991721Z",
     "start_time": "2017-10-23T13:35:55.350Z"
    },
    "collapsed": false,
    "deletable": true,
    "editable": true
   },
   "outputs": [],
   "source": [
    "df_count_average.loc[:,list(polo.polo.leaves_list(optimal_Z))].head(5)"
   ]
  },
  {
   "cell_type": "code",
   "execution_count": null,
   "metadata": {
    "ExecuteTime": {
     "end_time": "2017-10-23T15:35:55.991926Z",
     "start_time": "2017-10-23T13:35:55.356Z"
    },
    "collapsed": false,
    "deletable": true,
    "editable": true
   },
   "outputs": [],
   "source": [
    "for index in df_count_average.index: \n",
    "    binarized_mean = []\n",
    "    for c in df_count_average.loc[index]:\n",
    "        if c < df_count_average.loc[index].mean():\n",
    "            c = 0\n",
    "        binarized_mean.append(c)\n",
    "    df_count_average.loc[index] = binarized_mean\n",
    "\n",
    "df_count_average"
   ]
  },
  {
   "cell_type": "code",
   "execution_count": null,
   "metadata": {
    "ExecuteTime": {
     "end_time": "2017-10-23T15:35:55.992122Z",
     "start_time": "2017-10-23T13:35:55.361Z"
    },
    "collapsed": false,
    "deletable": true,
    "editable": true
   },
   "outputs": [],
   "source": [
    "fig, ax = plt.subplots()\n",
    "hierarchy.dendrogram(optimal_Z, truncate_mode='lastp', p=40, show_contracted=True, orientation='top', );"
   ]
  },
  {
   "cell_type": "markdown",
   "metadata": {
    "deletable": true,
    "editable": true
   },
   "source": [
    "# Colors"
   ]
  },
  {
   "cell_type": "code",
   "execution_count": null,
   "metadata": {
    "ExecuteTime": {
     "end_time": "2017-10-23T15:35:55.992336Z",
     "start_time": "2017-10-23T13:35:55.367Z"
    },
    "collapsed": false,
    "deletable": true,
    "editable": true
   },
   "outputs": [],
   "source": [
    "gene_color = [\n",
    "'#850088',\n",
    "'#9d19d4',\n",
    "'#ff50b4',\n",
    "'#ff83f9',\n",
    "'#d270ff',\n",
    "'#d270ff',\n",
    "'#d4abff',\n",
    "'#7b49f7',\n",
    "'#ff8498',\n",
    "'#cdc1ff',\n",
    "'#003d5e',\n",
    "'#003d5e',    \n",
    "'#000070',\n",
    "'#6e83ff',\n",
    "'#01afea',\n",
    "'#d84b00',\n",
    "'#543400',\n",
    "'#ff7043',\n",
    "'#ef9800',\n",
    "'#005227',\n",
    "'#436000',\n",
    "'#436000',\n",
    "'#01d134',\n",
    "'#9aff81',\n",
    "'#95c17d',\n",
    "'#5da600',\n",
    "'#436000',\n",
    "'#ccff21',\n",
    "'#203500',\n",
    "'#e0d674',\n",
    "'#ffe57a',\n",
    "'#00ac72',\n",
    "'#4dffc1',\n",
    "'#01b0af',\n",
    "'#01b0af',\n",
    "'#dd006a',\n",
    "'#bb0020',\n",
    "'#760022',\n",
    "'#94fcd8']\n",
    "\n",
    "gene_color_dict = dict(zip(gene_sort_fish, gene_color))\n",
    "\n",
    "n = len(gene_sort_fish)\n",
    "ncols = 1\n",
    "nrows = n // ncols + 1\n",
    "\n",
    "fig, ax = plt.subplots(figsize=(8, 5))\n",
    "\n",
    "# Get height and width\n",
    "X, Y = fig.get_dpi() * fig.get_size_inches()\n",
    "h = Y / (nrows + 1)\n",
    "w = X / ncols\n",
    "\n",
    "for i, name in enumerate(gene_sort_fish):\n",
    "    col = i % ncols\n",
    "    row = i // ncols\n",
    "    y = Y - (row * h) - h\n",
    "\n",
    "    xi_line = w * (col + 0.05)\n",
    "    xf_line = w * (col + 0.25)\n",
    "    xi_text = w * (col + 0.3)\n",
    "\n",
    "    ax.text(xi_text, y, name, fontsize=(h * 0.6),\n",
    "            horizontalalignment='left',\n",
    "            verticalalignment='center')\n",
    "\n",
    "    ax.hlines(y + h * 0.1, xi_line, xf_line,\n",
    "              color=gene_color_dict[name], linewidth=(h * 0.6))\n",
    "\n",
    "ax.set_xlim(0, X)\n",
    "ax.set_ylim(0, Y)\n",
    "ax.set_axis_off()\n",
    "\n",
    "fig.subplots_adjust(left=0, right=1,\n",
    "                    top=1, bottom=0,\n",
    "                    hspace=0, wspace=0)\n",
    "plt.savefig('Gene_colors.svg')\n",
    "plt.show()"
   ]
  },
  {
   "cell_type": "code",
   "execution_count": null,
   "metadata": {
    "ExecuteTime": {
     "end_time": "2017-10-23T15:35:55.992530Z",
     "start_time": "2017-10-23T13:35:55.373Z"
    },
    "collapsed": false,
    "deletable": true,
    "editable": true
   },
   "outputs": [],
   "source": [
    "cluster_labels"
   ]
  },
  {
   "cell_type": "code",
   "execution_count": null,
   "metadata": {
    "ExecuteTime": {
     "end_time": "2017-10-23T15:35:55.992752Z",
     "start_time": "2017-10-23T13:35:55.379Z"
    },
    "collapsed": true,
    "deletable": true,
    "editable": true
   },
   "outputs": [],
   "source": [
    "type_color = {\n",
    "    0:[8,11,135],\n",
    "    1:[0,192,255],\n",
    "    2:[0,119,0],\n",
    "    3:[0,227,215],\n",
    "    4:[0,141,111],\n",
    "    5:[16,177,186],\n",
    "    6:[255,110,215],\n",
    "    7:[0,73,193],\n",
    "    8:[63,118,241],\n",
    "    9:[250,0,25],\n",
    "    10:[255,99,28],\n",
    "    11:[90,90,90],\n",
    "    12:[0,130,235],\n",
    "    13:[222,1,191],\n",
    "    14:[236,64,242],\n",
    "    15:[129,239,239],\n",
    "    16:[68,133,35],\n",
    "    17:[187,103,194],\n",
    "    18:[0,143,193],\n",
    "    19:[215,160,60],\n",
    "    20:[181,64,242],\n",
    "    21:[46,195,47],\n",
    "    22:[105,222,103],\n",
    "    23:[104,214,150],\n",
    "    24:[95,0,159],\n",
    "    25:[180,141,255],\n",
    "    26:[36,155,104],\n",
    "    27:[99,85,215],\n",
    "    28:[255,254,187],\n",
    "    29:[101,160,0]\n",
    "}\n",
    "\n",
    "\n",
    "type_color_35 = {\n",
    "    0: [192,192,192],\n",
    " 1: [0,79,154],\n",
    " 2: [65,96,208],\n",
    " 3: [105,105,105],\n",
    " 4: [0,160,216],\n",
    " 5: [14,206,255],\n",
    "    6:[103,72,239],\n",
    "7:[230,0,158],\n",
    "8:[39,28,175],\n",
    "9:[242,96,255],\n",
    "10:[107,0,167],\n",
    "11:[210,76,254],\n",
    "12:[166,102,255],\n",
    "13:[151,8,205],\n",
    "14:[193,86,229],\n",
    " 15: [224,173,249],\n",
    " 16: [0,132,3],\n",
    " 17: [0,193,26],\n",
    " 18: [192,225,60],\n",
    " 19: [81,167,29],\n",
    " 20: [117,227,55],\n",
    " 21: [189,0,43],\n",
    " 22: [243,73,0],\n",
    " 23: [255,106,88],\n",
    " 24: [1,161,128],\n",
    " 25: [231,0,1],\n",
    " 26: [255,249,109],\n",
    " 27: [238,144,136],\n",
    " 28: [255,177,0],\n",
    " 29: [255,199,0],\n",
    " 30: [123,255,167],\n",
    " 31: [255,138,53],\n",
    " 32: [218,255,178],\n",
    " 33: [0,86,247],\n",
    " 34: [118,145,255]    }\n",
    "#[0,0,193],\n",
    "type_color_47 = {\n",
    "    0: [0,66,234],\n",
    "    1: [138,138,138],\n",
    "    2: [0,203,251],\n",
    "    3: [0,81,227],\n",
    "    4: [186,61,0],\n",
    "    5: [0,45,237],\n",
    "    6: [168,225,172],\n",
    "    7: [188,93,17],\n",
    "    8: [236,224,138],\n",
    "    9: [222,210,229],\n",
    "    10: [229,105,5],\n",
    "    11: [225,149,55],\n",
    "    12: [255,229,3],\n",
    "    13: [225,201,34],\n",
    "    14: [229,83,11],\n",
    "    15: [225,114,0],\n",
    "    16: [255,0,0],\n",
    "    17: [0,77,100],\n",
    "    18: [0,196,222],\n",
    "    19: [0,222,249],\n",
    "    20: [220,64,161],\n",
    "    21: [203,161,178],\n",
    "    22: [116,56,203],\n",
    "    23: [255,100,122],\n",
    "    24: [165,109,218],\n",
    "    25: [126,67,76],\n",
    "    26: [100,100,100],\n",
    "    27: [204,74,216],\n",
    "    28: [216,111,131],\n",
    "    29: [119,50,144],\n",
    "    30: [194,154,216],\n",
    "    31: [155,47,100],\n",
    "    32: [214,122,192],\n",
    "    33: [114,75,119],\n",
    "    34: [53,206,58],\n",
    "    35: [53,163,58],\n",
    "    36: [53,142,58],\n",
    "    37: [53,235,58],\n",
    "    38: [103,255,104],\n",
    "    39: [0,147,253],\n",
    "    40: [0,99,118],\n",
    "    41: [75,75,75],\n",
    "    42: [0,0,193],\n",
    "    43: [0,30,155],\n",
    "    44: [254,41,90],\n",
    "    45: [0,114,130],\n",
    "    46: [0,21,106]\n",
    "}\n",
    "\n",
    "#pickle.dump(type_color_47, open( \"type_color_47.p\", \"wb\" ))"
   ]
  },
  {
   "cell_type": "code",
   "execution_count": null,
   "metadata": {
    "ExecuteTime": {
     "end_time": "2017-10-23T15:35:55.992955Z",
     "start_time": "2017-10-23T13:35:55.385Z"
    },
    "collapsed": false,
    "deletable": true,
    "editable": true
   },
   "outputs": [],
   "source": [
    "color_dict = type_color_47\n",
    "\n",
    "def rgb_to_hex(red, green, blue):\n",
    "    \"\"\"Return color as #rrggbb for the given color values.\"\"\"\n",
    "    return '#%02x%02x%02x' % (red, green, blue)\n",
    "\n",
    "#Convert the dictionary to HEX\n",
    "type_color_hex = {}\n",
    "for k in color_dict:\n",
    "    type_color_hex[k] = rgb_to_hex(color_dict[k][0], color_dict[k][1], color_dict[k][2])\n",
    "\n",
    "\n",
    "#Make label list with HEX values for all cells\n",
    "label_colors_hex = []\n",
    "label_colors_rgb = []\n",
    "for l in labels:\n",
    "    hex_color = rgb_to_hex(color_dict[l][0], color_dict[l][1], color_dict[l][2])\n",
    "    #label_colors.append(type_color[l])\n",
    "    label_colors_hex.append(hex_color)\n",
    "    label_colors_rgb.append(color_dict[l])\n"
   ]
  },
  {
   "cell_type": "code",
   "execution_count": null,
   "metadata": {
    "ExecuteTime": {
     "end_time": "2017-10-23T15:35:55.993161Z",
     "start_time": "2017-10-23T13:35:55.392Z"
    },
    "collapsed": false,
    "deletable": true,
    "editable": true
   },
   "outputs": [],
   "source": [
    "#Same as for heatmap\n",
    "#type_order = [14, 6, 10, 7, 8, 11, 12, 9, 13, 15, \n",
    "#33, 34,   5, 2, 1, 4,\n",
    "#31, 22,  28,  23,\n",
    "#30, 18, 20, 17, 16, 19,\n",
    "# 24, 29,26, 25, 27, 21, 32,\n",
    "#                     0,3,]\n",
    "\n",
    "n = len(color_dict)\n",
    "ncols = 1\n",
    "nrows = n // ncols + 1\n",
    "\n",
    "fig, ax = plt.subplots(figsize=(8, 5))\n",
    "\n",
    "# Get height and width\n",
    "X, Y = fig.get_dpi() * fig.get_size_inches()\n",
    "h = Y / (nrows + 1)\n",
    "w = X / ncols\n",
    "\n",
    "for i, label in enumerate(cluster_sort):\n",
    "    col = i % ncols\n",
    "    row = i // ncols\n",
    "    y = Y - (row * h) - h\n",
    "\n",
    "    xi_line = w * (col + 0.02)\n",
    "    xf_line = w * (col + 0.25)\n",
    "    xi_text = w * (col + 0.3)\n",
    "\n",
    "    ax.text(xi_text, y, '{} {}'.format(label, cluster_labels[label]), fontsize=(h * 0.7),\n",
    "            horizontalalignment='left',\n",
    "            verticalalignment='center')\n",
    "\n",
    "    ax.hlines(y + h * 0.1, xi_line, xf_line,\n",
    "              color=type_color_hex[label], linewidth=(h * 0.6))\n",
    "\n",
    "ax.set_xlim(0, X)\n",
    "ax.set_ylim(0, Y)\n",
    "ax.set_axis_off()\n",
    "\n",
    "fig.subplots_adjust(left=0, right=1,\n",
    "                    top=1, bottom=0,\n",
    "                    hspace=0, wspace=0)\n",
    "plt.savefig('Type_labels_47clusters.svg')\n",
    "plt.show()"
   ]
  },
  {
   "cell_type": "code",
   "execution_count": null,
   "metadata": {
    "ExecuteTime": {
     "end_time": "2017-10-23T15:35:55.993376Z",
     "start_time": "2017-10-23T13:35:55.398Z"
    },
    "collapsed": false,
    "deletable": true,
    "editable": true
   },
   "outputs": [],
   "source": [
    "# Old 30label version\n",
    "type_names = ['Glut Claustrum', 'Glut L6 Lamp5-', 'Olig Mature 1', 'Glut L4 Lamp5+', 'Ependymal/Plexus', 'Glut CA1', 'GABA Cnr1 Kcnip-low', 'Glut L2/3 Cpne5-',\n",
    "             'Glut L5', 'Endothelial/pericytes', 'Astrocytes', 'Bad cells', 'Glut L2/3 Cpne5+', 'GABA Kcnip Pthlh', 'GABA Crh', 'Glut L4 Lamp5-', \n",
    "             'Olig Mature 2', 'GABA Kcnip', 'Glut L6 Lamp5+', 'Microglia', 'GABA Cnr1 Vip', 'Olig Newly Formed2', 'Olig Committed precursor', 'OPC', \n",
    "             'GABA Lamp5', 'GABA Crhbp', 'Olig Myelin Forming', 'GABA Lamp5 Cnr1', 'VLMC', 'Olig Newly formed1']\n",
    "\n",
    "\n",
    "\n",
    "type_names_sort = ['GABA Crh','GABA Crhbp','GABA Kcnip','GABA Kcnip Pthlh', 'GABA Cnr1 Kcnip-low','GABA Lamp5','GABA Lamp5 Cnr1','GABA Cnr1 Vip', \n",
    "    'Glut L2/3 Cpne5+', 'Glut L2/3 Cpne5-', 'Glut L4 Lamp5+','Glut L4 Lamp5-', 'Glut L5', 'Glut L6 Lamp5+', 'Glut L6 Lamp5-', 'Glut CA1', 'Glut Claustrum',\n",
    "                   'OPC','Olig Committed precursor', 'Olig Newly formed1','Olig Newly Formed2','Olig Myelin Forming','Olig Mature 1','Olig Mature 2',\n",
    "                   'Astrocytes',\n",
    "                   'Ependymal/Plexus', 'Endothelial/pericytes', 'Microglia','VLMC', 'Bad cells']\n",
    "\n",
    "type_names_labels =dict(zip(type_names, list(type_color.keys())))\n",
    "\n",
    "\n",
    "\n",
    "n = len(gene_sort_fish)\n",
    "ncols = 1\n",
    "nrows = n // ncols + 1\n",
    "\n",
    "fig, ax = plt.subplots(figsize=(8*2, 5*2))\n",
    "\n",
    "# Get height and width\n",
    "X, Y = fig.get_dpi() * fig.get_size_inches()\n",
    "h = Y / (nrows + 1)\n",
    "w = X / ncols\n",
    "\n",
    "for i, name in enumerate(type_names_sort):\n",
    "    col = i % ncols\n",
    "    row = i // ncols\n",
    "    y = Y - (row * h) - h\n",
    "\n",
    "    xi_line = w * (col + 0.02)\n",
    "    xf_line = w * (col + 0.25)\n",
    "    xi_text = w * (col + 0.3)\n",
    "\n",
    "    ax.text(xi_text, y, type_names_sort[i], fontsize=(h * 0.8),\n",
    "            horizontalalignment='left',\n",
    "            verticalalignment='center')\n",
    "\n",
    "    ax.hlines(y + h * 0.1, xi_line, xf_line,\n",
    "              color=type_color_hex[type_names_labels[name]], linewidth=(h * 0.6))\n",
    "\n",
    "ax.set_xlim(0, X)\n",
    "ax.set_ylim(0, Y)\n",
    "ax.set_axis_off()\n",
    "\n",
    "fig.subplots_adjust(left=0, right=1,\n",
    "                    top=1, bottom=0,\n",
    "                    hspace=0, wspace=0)\n",
    "#plt.savefig('Type_labels_30clusters.svg')\n",
    "plt.show()\n"
   ]
  },
  {
   "cell_type": "code",
   "execution_count": null,
   "metadata": {
    "ExecuteTime": {
     "end_time": "2017-10-23T15:35:55.993572Z",
     "start_time": "2017-10-23T13:35:55.405Z"
    },
    "collapsed": false,
    "deletable": true,
    "editable": true
   },
   "outputs": [],
   "source": [
    "tSNE_points"
   ]
  },
  {
   "cell_type": "code",
   "execution_count": null,
   "metadata": {
    "ExecuteTime": {
     "end_time": "2017-10-23T15:35:55.993772Z",
     "start_time": "2017-10-23T13:35:55.412Z"
    },
    "collapsed": false,
    "deletable": true,
    "editable": true,
    "scrolled": false
   },
   "outputs": [],
   "source": [
    "fig, ax = plt.subplots(figsize=(10,10))\n",
    "\n",
    "points = np.zeros((len(df_sort.columns),2))\n",
    "for i, n in enumerate(df_sort.columns):\n",
    "    points[i,:] = tSNE_points[df_fish.columns.get_loc(n),:]\n",
    "    \n",
    "\n",
    "\n",
    "ax.scatter(points[:,0], points[:,1],c=label_colors_hex,lw=0, alpha=1, s=25)\n",
    "\n",
    "ax.spines['right'].set_visible(False)\n",
    "ax.spines['top'].set_visible(False)\n",
    "ax.yaxis.set_ticks_position('left')\n",
    "ax.xaxis.set_ticks_position('bottom')\n",
    "\n",
    "#fig.savefig('tSNE_30clusters_colored_600dpi.png', dpi=600)"
   ]
  },
  {
   "cell_type": "markdown",
   "metadata": {
    "deletable": true,
    "editable": true
   },
   "source": [
    "# Size normalization\n",
    "Data normalized by cell area instead of max count"
   ]
  },
  {
   "cell_type": "code",
   "execution_count": null,
   "metadata": {
    "ExecuteTime": {
     "end_time": "2017-10-23T15:35:55.993969Z",
     "start_time": "2017-10-23T13:35:55.419Z"
    },
    "collapsed": true,
    "deletable": true,
    "editable": true
   },
   "outputs": [],
   "source": [
    "#Build cell_area dictionary of all included cells\n",
    "cell_area = {}\n",
    "for i in df_fish.columns:\n",
    "    cell_area[i] = ds.col_attrs['CellArea'][list(ds.col_attrs['CellID']).index(i)]"
   ]
  },
  {
   "cell_type": "code",
   "execution_count": null,
   "metadata": {
    "ExecuteTime": {
     "end_time": "2017-10-23T15:35:55.994166Z",
     "start_time": "2017-10-23T13:35:55.425Z"
    },
    "collapsed": false,
    "deletable": true,
    "editable": true
   },
   "outputs": [],
   "source": [
    "X = df_fish.values.astype(np.float64)\n",
    "#X_norm = X.sum(0).mean() * (X/X.sum(0))\n",
    "X_norm_size = X * (median / np.array(list(cell_area.values())))\n",
    "X_log_size = np.log2(X_norm_size+1)\n",
    "X_log_size"
   ]
  },
  {
   "cell_type": "code",
   "execution_count": null,
   "metadata": {
    "ExecuteTime": {
     "end_time": "2017-10-23T15:35:55.994366Z",
     "start_time": "2017-10-23T13:35:55.430Z"
    },
    "collapsed": true,
    "deletable": true,
    "editable": true
   },
   "outputs": [],
   "source": [
    "ac30_Nsize = AgglomerativeClustering(n_clusters=30).fit(X_log_size.T)\n",
    "#Does not make the clustering better. But size normalization might not be correct"
   ]
  },
  {
   "cell_type": "markdown",
   "metadata": {
    "collapsed": true,
    "deletable": true,
    "editable": true
   },
   "source": [
    "# Violin"
   ]
  },
  {
   "cell_type": "code",
   "execution_count": null,
   "metadata": {
    "ExecuteTime": {
     "end_time": "2017-10-23T15:35:55.994581Z",
     "start_time": "2017-10-23T13:35:55.437Z"
    },
    "collapsed": true,
    "deletable": true,
    "editable": true
   },
   "outputs": [],
   "source": [
    "def LB_violin(data_frame, label,types, probes, save=False):\n",
    "    '''\n",
    "    Function to plot violin plots from single cell gene expression data. \n",
    "    Input: \n",
    "        -Data frame with cells as columns and genes as rows. \n",
    "        -Dictionary coupling cellID with their cell type\n",
    "        -List of types to plot.\n",
    "        -List of genes to plot.\n",
    "        -Set save to True, to save the plot as a .SVG with transparent background.\n",
    "    Author: Lars Borm            \n",
    "    '''\n",
    "    \n",
    "    #nrows = shape(data_frame)[0]\n",
    "    nrows = len(probes)\n",
    "    figsize_x = 0.5 * len(types)\n",
    "    figsize_y = 1 * len(probes)\n",
    "    fig, axes = plt.subplots(nrows=nrows, ncols=1, figsize=(figsize_x, figsize_y), sharex=True)\n",
    "    \n",
    "    #iterate through rows/genes of the data\n",
    "    for n in range(nrows):\n",
    "        #Make list of n lists, where n = number of types\n",
    "        data =[[] for item in types]\n",
    "        \n",
    "        #Fill the lists\n",
    "        gene_name = probes[n]\n",
    "        for cell in data_frame:\n",
    "            cell_type = label[cell]\n",
    "            if (cell_type in types) == True: \n",
    "                data[types.index(cell_type)].append(data_frame.loc[gene_name, cell])\n",
    "        \n",
    "        #Set figure parameters\n",
    "        sns.set_style(\"white\")\n",
    "        sns.violinplot(data=data, palette=\"Set2\", bw=0.2, cut=0, linewidth=1, scale=\"width\", ax = axes[n], spines='left')\n",
    "        sns.despine(top=True, right=True)\n",
    "    \n",
    "    for i, ax in enumerate(axes):\n",
    "\n",
    "        #ax.yaxis.grid(True)\n",
    "        ax.set_ylabel(probes[i], rotation='horizontal', size='large', horizontalalignment = 'right')\n",
    "\n",
    "        #set the limits between zero and the end\n",
    "        start, end = ax.get_ylim()\n",
    "        ax.set_ylim(0, end)\n",
    "        ax.set_yticks(np.arange(end/2,end+1, end/2))\n",
    "        \n",
    "    # add x-tick labels\n",
    "    plt.xticks(rotation=-70, size='large') \n",
    "    plt.setp(axes,xticklabels=types)\n",
    "\n",
    "    if save == True:\n",
    "        name = input('Will save as transparent SVG. Carefull with overwriting.\\nSpecify name: ')\n",
    "        name = name + '.svg'\n",
    "        plt.savefig(name, transparent = True)\n",
    "        \n",
    "    plt.show()"
   ]
  },
  {
   "cell_type": "code",
   "execution_count": null,
   "metadata": {
    "ExecuteTime": {
     "end_time": "2017-10-23T15:35:55.994778Z",
     "start_time": "2017-10-23T13:35:55.443Z"
    },
    "collapsed": false,
    "deletable": true,
    "editable": true
   },
   "outputs": [],
   "source": [
    "list(np.unique(labels))"
   ]
  },
  {
   "cell_type": "code",
   "execution_count": null,
   "metadata": {
    "ExecuteTime": {
     "end_time": "2017-10-23T15:35:55.994981Z",
     "start_time": "2017-10-23T13:35:55.448Z"
    },
    "collapsed": false,
    "deletable": true,
    "editable": true
   },
   "outputs": [],
   "source": [
    "import seaborn as sns\n",
    "LB_violin(df_log, cell_labels, list(np.unique(labels)), gene_sort_fish)"
   ]
  },
  {
   "cell_type": "code",
   "execution_count": null,
   "metadata": {
    "collapsed": true,
    "deletable": true,
    "editable": true
   },
   "outputs": [],
   "source": []
  }
 ],
 "metadata": {
  "kernelspec": {
   "display_name": "Python 3",
   "language": "python",
   "name": "python3"
  },
  "language_info": {
   "codemirror_mode": {
    "name": "ipython",
    "version": 3
   },
   "file_extension": ".py",
   "mimetype": "text/x-python",
   "name": "python",
   "nbconvert_exporter": "python",
   "pygments_lexer": "ipython3",
   "version": "3.5.4"
  },
  "toc": {
   "nav_menu": {
    "height": "512px",
    "width": "252px"
   },
   "number_sections": true,
   "sideBar": true,
   "skip_h1_title": false,
   "toc_cell": false,
   "toc_position": {},
   "toc_section_display": "block",
   "toc_window_display": false
  }
 },
 "nbformat": 4,
 "nbformat_minor": 2
}
