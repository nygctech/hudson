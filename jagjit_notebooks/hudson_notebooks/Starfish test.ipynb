{
 "cells": [
  {
   "cell_type": "code",
   "execution_count": 1,
   "metadata": {},
   "outputs": [
    {
     "ename": "ImportError",
     "evalue": "cannot import name 'register_translation' from 'skimage.feature' (/gpfs/commons/home/jsingh/.conda/envs/spatial/lib/python3.9/site-packages/skimage/feature/__init__.py)",
     "output_type": "error",
     "traceback": [
      "\u001b[0;31m---------------------------------------------------------------------------\u001b[0m",
      "\u001b[0;31mImportError\u001b[0m                               Traceback (most recent call last)",
      "Input \u001b[0;32mIn [1]\u001b[0m, in \u001b[0;36m<cell line: 5>\u001b[0;34m()\u001b[0m\n\u001b[1;32m      3\u001b[0m \u001b[38;5;28;01mimport\u001b[39;00m \u001b[38;5;21;01mnumpy\u001b[39;00m \u001b[38;5;28;01mas\u001b[39;00m \u001b[38;5;21;01mnp\u001b[39;00m\n\u001b[1;32m      4\u001b[0m \u001b[38;5;28;01mfrom\u001b[39;00m \u001b[38;5;21;01mshowit\u001b[39;00m \u001b[38;5;28;01mimport\u001b[39;00m image\n\u001b[0;32m----> 5\u001b[0m \u001b[38;5;28;01mfrom\u001b[39;00m \u001b[38;5;21;01mstarfish\u001b[39;00m\u001b[38;5;21;01m.\u001b[39;00m\u001b[38;5;21;01mimage\u001b[39;00m \u001b[38;5;28;01mimport\u001b[39;00m ApplyTransform, LearnTransform, Filter\n\u001b[1;32m      6\u001b[0m \u001b[38;5;28;01mfrom\u001b[39;00m \u001b[38;5;21;01mstarfish\u001b[39;00m\u001b[38;5;21;01m.\u001b[39;00m\u001b[38;5;21;01mtypes\u001b[39;00m \u001b[38;5;28;01mimport\u001b[39;00m Axes, Levels\n\u001b[1;32m      7\u001b[0m \u001b[38;5;28;01mfrom\u001b[39;00m \u001b[38;5;21;01mstarfish\u001b[39;00m \u001b[38;5;28;01mimport\u001b[39;00m data, FieldOfView\n",
      "File \u001b[0;32m~/.conda/envs/spatial/lib/python3.9/site-packages/starfish/__init__.py:1\u001b[0m, in \u001b[0;36m<module>\u001b[0;34m\u001b[0m\n\u001b[0;32m----> 1\u001b[0m \u001b[38;5;28;01mfrom\u001b[39;00m \u001b[38;5;21;01m.\u001b[39;00m \u001b[38;5;28;01mimport\u001b[39;00m (\n\u001b[1;32m      2\u001b[0m     \u001b[38;5;66;03m# configuration management.\u001b[39;00m\n\u001b[1;32m      3\u001b[0m     config,\n\u001b[1;32m      4\u001b[0m     \u001b[38;5;66;03m# image processing methods and objects.\u001b[39;00m\n\u001b[1;32m      5\u001b[0m     image,\n\u001b[1;32m      6\u001b[0m     \u001b[38;5;66;03m# spot detection and manipulation.\u001b[39;00m\n\u001b[1;32m      7\u001b[0m     spots,\n\u001b[1;32m      8\u001b[0m )\n\u001b[1;32m      9\u001b[0m \u001b[38;5;28;01mfrom\u001b[39;00m \u001b[38;5;21;01m.\u001b[39;00m\u001b[38;5;21;01mcore\u001b[39;00m \u001b[38;5;28;01mimport\u001b[39;00m (\n\u001b[1;32m     10\u001b[0m     is_release_tag \u001b[38;5;28;01mas\u001b[39;00m __is_release_tag__,\n\u001b[1;32m     11\u001b[0m     version \u001b[38;5;28;01mas\u001b[39;00m __version__\n\u001b[1;32m     12\u001b[0m )\n\u001b[1;32m     13\u001b[0m \u001b[38;5;66;03m# display images and spots\u001b[39;00m\n",
      "File \u001b[0;32m~/.conda/envs/spatial/lib/python3.9/site-packages/starfish/image.py:1\u001b[0m, in \u001b[0;36m<module>\u001b[0;34m\u001b[0m\n\u001b[0;32m----> 1\u001b[0m \u001b[38;5;28;01mfrom\u001b[39;00m \u001b[38;5;21;01mstarfish\u001b[39;00m\u001b[38;5;21;01m.\u001b[39;00m\u001b[38;5;21;01mcore\u001b[39;00m\u001b[38;5;21;01m.\u001b[39;00m\u001b[38;5;21;01mimage\u001b[39;00m \u001b[38;5;28;01mimport\u001b[39;00m (  \u001b[38;5;66;03m# noqa: F401\u001b[39;00m\n\u001b[1;32m      2\u001b[0m     ApplyTransform,\n\u001b[1;32m      3\u001b[0m     Filter,\n\u001b[1;32m      4\u001b[0m     LearnTransform,\n\u001b[1;32m      5\u001b[0m     Segment,\n\u001b[1;32m      6\u001b[0m )\n",
      "File \u001b[0;32m~/.conda/envs/spatial/lib/python3.9/site-packages/starfish/core/image/__init__.py:2\u001b[0m, in \u001b[0;36m<module>\u001b[0;34m\u001b[0m\n\u001b[1;32m      1\u001b[0m \u001b[38;5;28;01mfrom\u001b[39;00m \u001b[38;5;21;01m.\u001b[39;00m\u001b[38;5;21;01m_registration\u001b[39;00m \u001b[38;5;28;01mimport\u001b[39;00m ApplyTransform\n\u001b[0;32m----> 2\u001b[0m \u001b[38;5;28;01mfrom\u001b[39;00m \u001b[38;5;21;01m.\u001b[39;00m\u001b[38;5;21;01m_registration\u001b[39;00m \u001b[38;5;28;01mimport\u001b[39;00m LearnTransform\n",
      "File \u001b[0;32m~/.conda/envs/spatial/lib/python3.9/site-packages/starfish/core/image/_registration/LearnTransform/__init__.py:2\u001b[0m, in \u001b[0;36m<module>\u001b[0;34m\u001b[0m\n\u001b[1;32m      1\u001b[0m \u001b[38;5;28;01mfrom\u001b[39;00m \u001b[38;5;21;01m.\u001b[39;00m\u001b[38;5;21;01m_base\u001b[39;00m \u001b[38;5;28;01mimport\u001b[39;00m LearnTransformAlgorithm\n\u001b[0;32m----> 2\u001b[0m \u001b[38;5;28;01mfrom\u001b[39;00m \u001b[38;5;21;01m.\u001b[39;00m\u001b[38;5;21;01mtranslation\u001b[39;00m \u001b[38;5;28;01mimport\u001b[39;00m Translation\n\u001b[1;32m      4\u001b[0m \u001b[38;5;66;03m# autodoc's automodule directive only captures the modules explicitly listed in __all__.\u001b[39;00m\n\u001b[1;32m      5\u001b[0m __all__ \u001b[38;5;241m=\u001b[39m \u001b[38;5;28mlist\u001b[39m(\u001b[38;5;28mset\u001b[39m(\n\u001b[1;32m      6\u001b[0m     implementation_name\n\u001b[1;32m      7\u001b[0m     \u001b[38;5;28;01mfor\u001b[39;00m implementation_name, implementation_cls \u001b[38;5;129;01min\u001b[39;00m \u001b[38;5;28mlocals\u001b[39m()\u001b[38;5;241m.\u001b[39mitems()\n\u001b[1;32m      8\u001b[0m     \u001b[38;5;28;01mif\u001b[39;00m (\u001b[38;5;28misinstance\u001b[39m(implementation_cls, \u001b[38;5;28mtype\u001b[39m)\n\u001b[1;32m      9\u001b[0m         \u001b[38;5;129;01mand\u001b[39;00m \u001b[38;5;28missubclass\u001b[39m(implementation_cls, LearnTransformAlgorithm))\n\u001b[1;32m     10\u001b[0m ))\n",
      "File \u001b[0;32m~/.conda/envs/spatial/lib/python3.9/site-packages/starfish/core/image/_registration/LearnTransform/translation.py:2\u001b[0m, in \u001b[0;36m<module>\u001b[0;34m\u001b[0m\n\u001b[1;32m      1\u001b[0m \u001b[38;5;28;01mimport\u001b[39;00m \u001b[38;5;21;01mnumpy\u001b[39;00m \u001b[38;5;28;01mas\u001b[39;00m \u001b[38;5;21;01mnp\u001b[39;00m\n\u001b[0;32m----> 2\u001b[0m \u001b[38;5;28;01mfrom\u001b[39;00m \u001b[38;5;21;01mskimage\u001b[39;00m\u001b[38;5;21;01m.\u001b[39;00m\u001b[38;5;21;01mfeature\u001b[39;00m \u001b[38;5;28;01mimport\u001b[39;00m register_translation\n\u001b[1;32m      3\u001b[0m \u001b[38;5;28;01mfrom\u001b[39;00m \u001b[38;5;21;01mskimage\u001b[39;00m\u001b[38;5;21;01m.\u001b[39;00m\u001b[38;5;21;01mtransform\u001b[39;00m\u001b[38;5;21;01m.\u001b[39;00m\u001b[38;5;21;01m_geometric\u001b[39;00m \u001b[38;5;28;01mimport\u001b[39;00m SimilarityTransform\n\u001b[1;32m      5\u001b[0m \u001b[38;5;28;01mfrom\u001b[39;00m \u001b[38;5;21;01mstarfish\u001b[39;00m\u001b[38;5;21;01m.\u001b[39;00m\u001b[38;5;21;01mcore\u001b[39;00m\u001b[38;5;21;01m.\u001b[39;00m\u001b[38;5;21;01mimage\u001b[39;00m\u001b[38;5;21;01m.\u001b[39;00m\u001b[38;5;21;01m_registration\u001b[39;00m\u001b[38;5;21;01m.\u001b[39;00m\u001b[38;5;21;01mtransforms_list\u001b[39;00m \u001b[38;5;28;01mimport\u001b[39;00m TransformsList\n",
      "\u001b[0;31mImportError\u001b[0m: cannot import name 'register_translation' from 'skimage.feature' (/gpfs/commons/home/jsingh/.conda/envs/spatial/lib/python3.9/site-packages/skimage/feature/__init__.py)"
     ]
    }
   ],
   "source": [
    "import matplotlib\n",
    "import matplotlib.pyplot as plt\n",
    "import numpy as np\n",
    "from showit import image\n",
    "from starfish.image import ApplyTransform, LearnTransform, Filter\n",
    "from starfish.types import Axes, Levels\n",
    "from starfish import data, FieldOfView"
   ]
  },
  {
   "cell_type": "code",
   "execution_count": 2,
   "metadata": {},
   "outputs": [
    {
     "name": "stdout",
     "output_type": "stream",
     "text": [
      "Collecting showit\n",
      "  Using cached https://files.pythonhosted.org/packages/c6/be/03376c27adb7dc9315752839f602d695a61bf7a5f8ab74eee02667ed965c/showit-1.1.4.tar.gz\n",
      "Requirement already satisfied: numpy in /nfs/sw/anaconda3/anaconda3-10.19/lib/python3.7/site-packages (from showit) (1.17.2)\n",
      "Requirement already satisfied: matplotlib in /nfs/sw/anaconda3/anaconda3-10.19/lib/python3.7/site-packages (from showit) (3.1.3)\n",
      "Requirement already satisfied: cycler>=0.10 in /nfs/sw/anaconda3/anaconda3-10.19/lib/python3.7/site-packages (from matplotlib->showit) (0.10.0)\n",
      "Requirement already satisfied: pyparsing!=2.0.4,!=2.1.2,!=2.1.6,>=2.0.1 in /nfs/sw/anaconda3/anaconda3-10.19/lib/python3.7/site-packages (from matplotlib->showit) (2.4.2)\n",
      "Requirement already satisfied: kiwisolver>=1.0.1 in /nfs/sw/anaconda3/anaconda3-10.19/lib/python3.7/site-packages (from matplotlib->showit) (1.1.0)\n",
      "Requirement already satisfied: python-dateutil>=2.1 in /nfs/sw/anaconda3/anaconda3-10.19/lib/python3.7/site-packages (from matplotlib->showit) (2.8.0)\n",
      "Requirement already satisfied: six in /nfs/sw/anaconda3/anaconda3-10.19/lib/python3.7/site-packages (from cycler>=0.10->matplotlib->showit) (1.12.0)\n",
      "Requirement already satisfied: setuptools in /nfs/sw/anaconda3/anaconda3-10.19/lib/python3.7/site-packages (from kiwisolver>=1.0.1->matplotlib->showit) (41.4.0)\n",
      "Building wheels for collected packages: showit\n",
      "  Building wheel for showit (setup.py) ... \u001b[?25ldone\n",
      "\u001b[?25h  Created wheel for showit: filename=showit-1.1.4-cp37-none-any.whl size=3640 sha256=1cb70298ec79d884f4df5088a5f933dc3f41d0e93b9edbbe225265e102aa426a\n",
      "  Stored in directory: /gpfs/commons/home/jsingh/.cache/pip/wheels/c9/60/f6/132ceb04843c22c202133ae966fc8fc1b7950aac6372e65d30\n",
      "Successfully built showit\n",
      "Installing collected packages: showit\n",
      "\u001b[31mERROR: Could not install packages due to an EnvironmentError: [Errno 30] Read-only file system: '/nfs/sw/anaconda3/anaconda3-10.19/lib/python3.7/site-packages/showit'\n",
      "\u001b[0m\n"
     ]
    }
   ],
   "source": [
    "matplotlib.rcParams[\"figure.dpi\"] = 150\n",
    "\n",
    "experiment = data.ISS()\n",
    "fov = experiment.fov()\n",
    "\n",
    "imgs = fov.get_image(FieldOfView.PRIMARY_IMAGES) # primary images\n",
    "dots = fov.get_image(\"dots\") # reference round for image registration\n",
    "nuclei = fov.get_image(\"nuclei\") # nuclei`\n",
    "\n",
    "# filter raw data\n",
    "masking_radius = 15\n",
    "filt = Filter.WhiteTophat(masking_radius, is_volume=False)\n",
    "filt.run(imgs, in_place=True)\n",
    "filt.run(dots, in_place=True)\n",
    "filt.run(nuclei, in_place=True)\n",
    "\n",
    "# register primary images to reference round\n",
    "learn_translation = LearnTransform.Translation(reference_stack=dots, axes=Axes.ROUND, upsampling=1000)\n",
    "transforms_list = learn_translation.run(imgs.reduce({Axes.CH, Axes.ZPLANE}, func=\"max\"))\n",
    "warp = ApplyTransform.Warp()\n",
    "warp.run(imgs, transforms_list=transforms_list, in_place=True)"
   ]
  },
  {
   "cell_type": "code",
   "execution_count": null,
   "metadata": {},
   "outputs": [],
   "source": []
  }
 ],
 "metadata": {
  "kernelspec": {
   "display_name": "spatial",
   "language": "python",
   "name": "spatial"
  },
  "language_info": {
   "codemirror_mode": {
    "name": "ipython",
    "version": 3
   },
   "file_extension": ".py",
   "mimetype": "text/x-python",
   "name": "python",
   "nbconvert_exporter": "python",
   "pygments_lexer": "ipython3",
   "version": "3.9.12"
  }
 },
 "nbformat": 4,
 "nbformat_minor": 2
}
