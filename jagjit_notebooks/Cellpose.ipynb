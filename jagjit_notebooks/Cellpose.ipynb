{
 "cells": [
  {
   "cell_type": "code",
   "execution_count": 7,
   "metadata": {},
   "outputs": [],
   "source": [
    "import zarr\n",
    "import numpy as np\n",
    "#Loading Required Libraries \n",
    "import anndata\n",
    "import scipy as sp\n",
    "#import geopandas\n",
    "import dask \n",
    "from dask.distributed import Client\n",
    "import xarray as xr\n",
    "import pyseq\n",
    "import skimage\n",
    "from pyseq import image_analysis as ia\n",
    "import torch\n",
    "import pickle"
   ]
  },
  {
   "cell_type": "code",
   "execution_count": 8,
   "metadata": {},
   "outputs": [
    {
     "name": "stdout",
     "output_type": "stream",
     "text": [
      "ImageAnalysis::Opened m387ntga2 \n"
     ]
    },
    {
     "name": "stderr",
     "output_type": "stream",
     "text": [
      "/gpfs/commons/home/jsingh/PySeq2500/pyseq/image_analysis.py:955: RuntimeWarning: Failed to open Zarr store with consolidated metadata, falling back to try reading non-consolidated metadata. This is typically much slower for opening a dataset. To silence this warning, consider:\n",
      "1. Consolidating metadata in this existing store with zarr.consolidate_metadata().\n",
      "2. Explicitly setting consolidated=False, to avoid trying to read consolidate metadata, or\n",
      "3. Explicitly setting consolidated=True, to raise an error in this case instead of falling back to try reading non-consolidated metadata.\n",
      "  im = xr.open_zarr(fn).to_array()\n"
     ]
    }
   ],
   "source": [
    "labels = skimage.io.imread('/gpfs/commons/groups/nygcfaculty/PySeq/20210428_mouse_genotype_2/segmented_sections/m387ntga2_labels.tiff')\n",
    "im = ia.get_HiSeqImages(image_path = 'zarrs/m387ntga2.zarr')"
   ]
  },
  {
   "cell_type": "code",
   "execution_count": 9,
   "metadata": {},
   "outputs": [],
   "source": [
    "#format = one_z_plane_obj_step_channel_cycle\n",
    "array_object_list = []\n",
    "name_list = []\n",
    "for i in im.im['channel'].values:\n",
    "    for j in im.im['cycle'].values:\n",
    "        #for k #in im.im['obj_step'].values[1]:\n",
    "            k = 8028\n",
    "            nme = \"one_z_plane_\"+str(i)+\"_\"+str(j)+\"_\"+str(k)\n",
    "            name_list.append(nme)\n",
    "            nme = im.im.sel(obj_step = k, cycle=j, channel = i)\n",
    "            array_object_list.append(nme)"
   ]
  },
  {
   "cell_type": "code",
   "execution_count": 10,
   "metadata": {},
   "outputs": [],
   "source": [
    "#plane_mean_dict = {}\n",
    "#ar = array_object_list[0].values\n",
    "#tr = torch.from_numpy(ar)\n",
    "#lab = torch.from_numpy(labels)"
   ]
  },
  {
   "cell_type": "code",
   "execution_count": 5,
   "metadata": {},
   "outputs": [],
   "source": [
    "mx = labels.max()"
   ]
  },
  {
   "cell_type": "code",
   "execution_count": 6,
   "metadata": {},
   "outputs": [],
   "source": [
    "def get_mean_intensity(pl):\n",
    "    result_ar = np.zeros(mx)\n",
    "    tr = torch.from_numpy(pl)\n",
    "    for r in range(15):\n",
    "        result_ar[r] = (tr[lab == r+1]).float().mean()\n",
    "    return result_ar"
   ]
  },
  {
   "cell_type": "code",
   "execution_count": 15,
   "metadata": {},
   "outputs": [
    {
     "name": "stdout",
     "output_type": "stream",
     "text": [
      "0 one_z_plane_558_1_8028\n",
      "1 one_z_plane_558_2_8028\n",
      "2 one_z_plane_558_3_8028\n",
      "3 one_z_plane_558_4_8028\n",
      "4 one_z_plane_610_1_8028\n"
     ]
    },
    {
     "ename": "KeyboardInterrupt",
     "evalue": "",
     "output_type": "error",
     "traceback": [
      "\u001b[0;31m---------------------------------------------------------------------------\u001b[0m",
      "\u001b[0;31mKeyboardInterrupt\u001b[0m                         Traceback (most recent call last)",
      "Input \u001b[0;32mIn [15]\u001b[0m, in \u001b[0;36m<cell line: 3>\u001b[0;34m()\u001b[0m\n\u001b[1;32m      4\u001b[0m \u001b[38;5;28mprint\u001b[39m(i,nm)\n\u001b[1;32m      5\u001b[0m pl \u001b[38;5;241m=\u001b[39m array_object_list[i]\u001b[38;5;241m.\u001b[39mvalues\n\u001b[0;32m----> 6\u001b[0m mean_int \u001b[38;5;241m=\u001b[39m \u001b[43mget_mean_intensity\u001b[49m\u001b[43m(\u001b[49m\u001b[43mpl\u001b[49m\u001b[43m)\u001b[49m\n\u001b[1;32m      7\u001b[0m plane_mean_dict\u001b[38;5;241m.\u001b[39mupdate({nm:mean_int})\n\u001b[1;32m      8\u001b[0m \u001b[38;5;28;01mwith\u001b[39;00m \u001b[38;5;28mopen\u001b[39m(\u001b[38;5;124m'\u001b[39m\u001b[38;5;124msaved_dictionary.pkl\u001b[39m\u001b[38;5;124m'\u001b[39m, \u001b[38;5;124m'\u001b[39m\u001b[38;5;124mwb\u001b[39m\u001b[38;5;124m'\u001b[39m) \u001b[38;5;28;01mas\u001b[39;00m f:\n",
      "Input \u001b[0;32mIn [14]\u001b[0m, in \u001b[0;36mget_mean_intensity\u001b[0;34m(pl)\u001b[0m\n\u001b[1;32m      3\u001b[0m tr \u001b[38;5;241m=\u001b[39m torch\u001b[38;5;241m.\u001b[39mfrom_numpy(pl)\n\u001b[1;32m      4\u001b[0m \u001b[38;5;28;01mfor\u001b[39;00m r \u001b[38;5;129;01min\u001b[39;00m \u001b[38;5;28mrange\u001b[39m(\u001b[38;5;241m15\u001b[39m):\n\u001b[0;32m----> 5\u001b[0m     result_ar[r] \u001b[38;5;241m=\u001b[39m (\u001b[43mtr\u001b[49m\u001b[43m[\u001b[49m\u001b[43mlab\u001b[49m\u001b[43m \u001b[49m\u001b[38;5;241;43m==\u001b[39;49m\u001b[43m \u001b[49m\u001b[43mr\u001b[49m\u001b[38;5;241;43m+\u001b[39;49m\u001b[38;5;241;43m1\u001b[39;49m\u001b[43m]\u001b[49m)\u001b[38;5;241m.\u001b[39mfloat()\u001b[38;5;241m.\u001b[39mmean()\n\u001b[1;32m      6\u001b[0m \u001b[38;5;28;01mreturn\u001b[39;00m result_ar\n",
      "\u001b[0;31mKeyboardInterrupt\u001b[0m: "
     ]
    }
   ],
   "source": [
    "lab = torch.from_numpy(labels)\n",
    "plane_mean_dict = {}\n",
    "for i,nm in zip(range(len(array_object_list)),name_list):\n",
    "    print(i,nm)\n",
    "    pl = array_object_list[i].values\n",
    "    mean_int = get_mean_intensity(pl)\n",
    "    plane_mean_dict.update({nm:mean_int})\n",
    "    with open('saved_dictionary.pkl', 'wb') as f:\n",
    "        pickle.dump(plane_mean_dict, f)\n",
    "        \n",
    "\n",
    "\n",
    "    \n",
    "    \n",
    "    \n",
    "    "
   ]
  },
  {
   "cell_type": "code",
   "execution_count": 2,
   "metadata": {},
   "outputs": [],
   "source": [
    "import pickle"
   ]
  },
  {
   "cell_type": "code",
   "execution_count": 14,
   "metadata": {},
   "outputs": [],
   "source": [
    "with open('mean_intensities.pkl', 'rb') as f:\n",
    "    loaded_dict = pickle.load(f)"
   ]
  },
  {
   "cell_type": "code",
   "execution_count": 15,
   "metadata": {},
   "outputs": [
    {
     "data": {
      "text/plain": [
       "dict_keys(['one_z_plane_558_1_8028', 'one_z_plane_558_2_8028', 'one_z_plane_558_3_8028', 'one_z_plane_558_4_8028', 'one_z_plane_610_1_8028', 'one_z_plane_610_2_8028', 'one_z_plane_610_3_8028', 'one_z_plane_610_4_8028', 'one_z_plane_687_1_8028', 'one_z_plane_687_2_8028', 'one_z_plane_687_3_8028', 'one_z_plane_687_4_8028', 'one_z_plane_740_1_8028', 'one_z_plane_740_2_8028', 'one_z_plane_740_3_8028', 'one_z_plane_740_4_8028'])"
      ]
     },
     "execution_count": 15,
     "metadata": {},
     "output_type": "execute_result"
    }
   ],
   "source": [
    " loaded_dict.keys()"
   ]
  },
  {
   "cell_type": "code",
   "execution_count": 16,
   "metadata": {},
   "outputs": [
    {
     "data": {
      "text/plain": [
       "['one_z_plane_558_1_8028',\n",
       " 'one_z_plane_558_2_8028',\n",
       " 'one_z_plane_558_3_8028',\n",
       " 'one_z_plane_558_4_8028',\n",
       " 'one_z_plane_610_1_8028',\n",
       " 'one_z_plane_610_2_8028',\n",
       " 'one_z_plane_610_3_8028',\n",
       " 'one_z_plane_610_4_8028',\n",
       " 'one_z_plane_687_1_8028',\n",
       " 'one_z_plane_687_2_8028',\n",
       " 'one_z_plane_687_3_8028',\n",
       " 'one_z_plane_687_4_8028',\n",
       " 'one_z_plane_740_1_8028',\n",
       " 'one_z_plane_740_2_8028',\n",
       " 'one_z_plane_740_3_8028',\n",
       " 'one_z_plane_740_4_8028']"
      ]
     },
     "execution_count": 16,
     "metadata": {},
     "output_type": "execute_result"
    }
   ],
   "source": [
    "name_list "
   ]
  },
  {
   "cell_type": "code",
   "execution_count": 21,
   "metadata": {},
   "outputs": [
    {
     "data": {
      "text/plain": [
       "<torch.cuda.device at 0x7f4f7a9965e0>"
      ]
     },
     "execution_count": 21,
     "metadata": {},
     "output_type": "execute_result"
    }
   ],
   "source": [
    "torch.cuda.device(0)"
   ]
  },
  {
   "cell_type": "code",
   "execution_count": 32,
   "metadata": {},
   "outputs": [],
   "source": [
    "lr = torch.from_numpy(np.asarray(list(range(10))))"
   ]
  },
  {
   "cell_type": "code",
   "execution_count": 34,
   "metadata": {},
   "outputs": [
    {
     "data": {
      "text/plain": [
       "tensor([[116, 113, 113,  ..., 116, 113, 116],\n",
       "        [112, 114, 110,  ..., 116, 113, 114],\n",
       "        [110, 113, 112,  ..., 113, 110, 115],\n",
       "        ...,\n",
       "        [109, 114, 113,  ..., 110, 111, 114],\n",
       "        [113, 111, 113,  ..., 110, 112, 114],\n",
       "        [111, 112, 112,  ..., 112, 109, 111]], dtype=torch.int16)"
      ]
     },
     "execution_count": 34,
     "metadata": {},
     "output_type": "execute_result"
    }
   ],
   "source": [
    "torch.index_select(tr, 1, lr)"
   ]
  },
  {
   "cell_type": "code",
   "execution_count": 60,
   "metadata": {},
   "outputs": [],
   "source": [
    "from numba import njit"
   ]
  },
  {
   "cell_type": "code",
   "execution_count": 79,
   "metadata": {},
   "outputs": [],
   "source": [
    "def get_mean_intensity(r):\n",
    "    result_ar[r] = (tr[lab == r+1]).numpy().mean()\n",
    "    return result_ar"
   ]
  },
  {
   "cell_type": "code",
   "execution_count": 72,
   "metadata": {},
   "outputs": [
    {
     "name": "stdout",
     "output_type": "stream",
     "text": [
      "CPU times: user 1min 3s, sys: 4.98 s, total: 1min 8s\n",
      "Wall time: 3.42 s\n"
     ]
    }
   ],
   "source": [
    "%%time\n",
    "v = get_mean_intensity()"
   ]
  },
  {
   "cell_type": "code",
   "execution_count": 88,
   "metadata": {},
   "outputs": [
    {
     "ename": "TypeError",
     "evalue": "index_select() received an invalid combination of arguments - got (numpy.ndarray, int, list), but expected one of:\n * (Tensor input, int dim, Tensor index, *, Tensor out)\n * (Tensor input, name dim, Tensor index, *, Tensor out)\n",
     "output_type": "error",
     "traceback": [
      "\u001b[0;31m---------------------------------------------------------------------------\u001b[0m",
      "\u001b[0;31mTypeError\u001b[0m                                 Traceback (most recent call last)",
      "Input \u001b[0;32mIn [88]\u001b[0m, in \u001b[0;36m<cell line: 1>\u001b[0;34m()\u001b[0m\n\u001b[0;32m----> 1\u001b[0m \u001b[43mtorch\u001b[49m\u001b[38;5;241;43m.\u001b[39;49m\u001b[43mindex_select\u001b[49m\u001b[43m(\u001b[49m\u001b[43mar\u001b[49m\u001b[43m,\u001b[49m\u001b[43m \u001b[49m\u001b[38;5;241;43m0\u001b[39;49m\u001b[43m,\u001b[49m\u001b[43m \u001b[49m\u001b[43m[\u001b[49m\u001b[43mlr\u001b[49m\u001b[43m \u001b[49m\u001b[38;5;241;43m==\u001b[39;49m\u001b[43m \u001b[49m\u001b[38;5;241;43m1\u001b[39;49m\u001b[43m]\u001b[49m\u001b[43m)\u001b[49m\n",
      "\u001b[0;31mTypeError\u001b[0m: index_select() received an invalid combination of arguments - got (numpy.ndarray, int, list), but expected one of:\n * (Tensor input, int dim, Tensor index, *, Tensor out)\n * (Tensor input, name dim, Tensor index, *, Tensor out)\n"
     ]
    }
   ],
   "source": [
    "torch.index_select(ar, 0, lr == 1)"
   ]
  },
  {
   "cell_type": "code",
   "execution_count": 89,
   "metadata": {},
   "outputs": [
    {
     "data": {
      "text/plain": [
       "array([[116, 113, 113, ..., 121, 115, 117],\n",
       "       [112, 114, 110, ..., 116, 115, 118],\n",
       "       [110, 113, 112, ..., 118, 115, 116],\n",
       "       ...,\n",
       "       [109, 114, 113, ..., 111, 113, 111],\n",
       "       [113, 111, 113, ..., 112, 115, 111],\n",
       "       [111, 112, 112, ..., 115, 116, 111]], dtype=int16)"
      ]
     },
     "execution_count": 89,
     "metadata": {},
     "output_type": "execute_result"
    }
   ],
   "source": [
    "ar"
   ]
  },
  {
   "cell_type": "code",
   "execution_count": null,
   "metadata": {},
   "outputs": [],
   "source": []
  }
 ],
 "metadata": {
  "kernelspec": {
   "display_name": "spatial",
   "language": "python",
   "name": "spatial"
  },
  "language_info": {
   "codemirror_mode": {
    "name": "ipython",
    "version": 3
   },
   "file_extension": ".py",
   "mimetype": "text/x-python",
   "name": "python",
   "nbconvert_exporter": "python",
   "pygments_lexer": "ipython3",
   "version": "3.9.12"
  }
 },
 "nbformat": 4,
 "nbformat_minor": 2
}
